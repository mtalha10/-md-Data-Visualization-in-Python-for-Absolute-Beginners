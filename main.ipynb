{
 "cells": [
  {
   "cell_type": "markdown",
   "id": "fecc7c0b-787b-49af-844b-cdf2bf397a8b",
   "metadata": {
    "tags": []
   },
   "source": [
    "## Data Visualization in Python for Absolute Beginners"
   ]
  },
  {
   "cell_type": "markdown",
   "id": "ff4a6960-9214-4246-bd81-946121b2bbb9",
   "metadata": {
    "tags": []
   },
   "source": [
    "### Basic Charts"
   ]
  },
  {
   "cell_type": "markdown",
   "id": "fcc30a88-0343-4092-b710-07d1db18da2e",
   "metadata": {
    "jp-MarkdownHeadingCollapsed": true,
    "tags": []
   },
   "source": [
    "#### Histograms\n",
    "\n",
    "For the first few examples, we will use some data on the top 50 bestselling novels on Amazon. Let's start with a histogram. Histograms are used to visualize the distribution of a continuous variable.\n",
    "\n",
    "In our case, we will visualize the distribution of prices of bestselling books from 2021.\n",
    "\n",
    "We will first define the data we want to plot as a list. Lists are a Python data type that store multiple elements and are enclosed in square brackets ([)."
   ]
  },
  {
   "cell_type": "code",
   "id": "6c66ae97-c120-4768-ab0a-701dac9d32b7",
   "metadata": {
    "jp-MarkdownHeadingCollapsed": true,
    "tags": [],
    "ExecuteTime": {
     "end_time": "2024-11-25T17:14:58.166437Z",
     "start_time": "2024-11-25T17:14:58.155490Z"
    }
   },
   "source": [
    "# Specify the data\n",
    "prices_2021 = [7.48, 12.52, 17.78, 11.98, 7.49, 5.36, 6.99, 13.58, 14.34, 8.99, 6.62, 12.01, 18.0, 15.98, 10.62, 6.0, 10.58, 6.99, 4.31, 4.14, 10.26, 4.07, 14.4, 8.48, 8.49, 14.16, 26.0, 15.49, 4.79, 9.59, 11.6, 7.57, 13.99, 11.4, 10.35, 7.74, 13.79, 9.58, 13.09, 13.29, 19.42, 9.42, 10.34, 17.99, 14.8, 5.06, 8.55, 8.37, 14.89, 5.98]\n",
    "\n",
    "# Preview the list\n",
    "print(prices_2021)"
   ],
   "outputs": [
    {
     "name": "stdout",
     "output_type": "stream",
     "text": [
      "[7.48, 12.52, 17.78, 11.98, 7.49, 5.36, 6.99, 13.58, 14.34, 8.99, 6.62, 12.01, 18.0, 15.98, 10.62, 6.0, 10.58, 6.99, 4.31, 4.14, 10.26, 4.07, 14.4, 8.48, 8.49, 14.16, 26.0, 15.49, 4.79, 9.59, 11.6, 7.57, 13.99, 11.4, 10.35, 7.74, 13.79, 9.58, 13.09, 13.29, 19.42, 9.42, 10.34, 17.99, 14.8, 5.06, 8.55, 8.37, 14.89, 5.98]\n"
     ]
    }
   ],
   "execution_count": 29
  },
  {
   "cell_type": "markdown",
   "id": "063aec82-264c-48be-b1e6-e69549938d80",
   "metadata": {},
   "source": [
    "We then import plotly.express and initialize a figure object fig and use the histogram() function to specify the data we want on the x-axis.\n",
    "\n",
    "Lastly, we use the .show() method to generate the plot!"
   ]
  },
  {
   "cell_type": "code",
   "id": "7fa77d7a-26cb-4b7e-b72e-e1c98330d617",
   "metadata": {
    "ExecuteTime": {
     "end_time": "2024-11-25T17:14:58.261046Z",
     "start_time": "2024-11-25T17:14:58.194253Z"
    }
   },
   "source": [
    "# Preview the list\n",
    "print(prices_2021)\n",
    "\n",
    "# import plotly express\n",
    "import plotly.express as px\n",
    "\n",
    "# initialize a histogram\n",
    "fig = px.histogram(x=prices_2021)\n",
    "\n",
    "# show the plot\n",
    "fig.show()"
   ],
   "outputs": [
    {
     "name": "stdout",
     "output_type": "stream",
     "text": [
      "[7.48, 12.52, 17.78, 11.98, 7.49, 5.36, 6.99, 13.58, 14.34, 8.99, 6.62, 12.01, 18.0, 15.98, 10.62, 6.0, 10.58, 6.99, 4.31, 4.14, 10.26, 4.07, 14.4, 8.48, 8.49, 14.16, 26.0, 15.49, 4.79, 9.59, 11.6, 7.57, 13.99, 11.4, 10.35, 7.74, 13.79, 9.58, 13.09, 13.29, 19.42, 9.42, 10.34, 17.99, 14.8, 5.06, 8.55, 8.37, 14.89, 5.98]\n"
     ]
    },
    {
     "data": {
      "application/vnd.plotly.v1+json": {
       "data": [
        {
         "alignmentgroup": "True",
         "bingroup": "x",
         "hovertemplate": "x=%{x}<br>count=%{y}<extra></extra>",
         "legendgroup": "",
         "marker": {
          "color": "#636efa",
          "pattern": {
           "shape": ""
          }
         },
         "name": "",
         "offsetgroup": "",
         "orientation": "v",
         "showlegend": false,
         "x": [
          7.48,
          12.52,
          17.78,
          11.98,
          7.49,
          5.36,
          6.99,
          13.58,
          14.34,
          8.99,
          6.62,
          12.01,
          18.0,
          15.98,
          10.62,
          6.0,
          10.58,
          6.99,
          4.31,
          4.14,
          10.26,
          4.07,
          14.4,
          8.48,
          8.49,
          14.16,
          26.0,
          15.49,
          4.79,
          9.59,
          11.6,
          7.57,
          13.99,
          11.4,
          10.35,
          7.74,
          13.79,
          9.58,
          13.09,
          13.29,
          19.42,
          9.42,
          10.34,
          17.99,
          14.8,
          5.06,
          8.55,
          8.37,
          14.89,
          5.98
         ],
         "xaxis": "x",
         "yaxis": "y",
         "type": "histogram"
        }
       ],
       "layout": {
        "template": {
         "data": {
          "histogram2dcontour": [
           {
            "type": "histogram2dcontour",
            "colorbar": {
             "outlinewidth": 0,
             "ticks": ""
            },
            "colorscale": [
             [
              0.0,
              "#0d0887"
             ],
             [
              0.1111111111111111,
              "#46039f"
             ],
             [
              0.2222222222222222,
              "#7201a8"
             ],
             [
              0.3333333333333333,
              "#9c179e"
             ],
             [
              0.4444444444444444,
              "#bd3786"
             ],
             [
              0.5555555555555556,
              "#d8576b"
             ],
             [
              0.6666666666666666,
              "#ed7953"
             ],
             [
              0.7777777777777778,
              "#fb9f3a"
             ],
             [
              0.8888888888888888,
              "#fdca26"
             ],
             [
              1.0,
              "#f0f921"
             ]
            ]
           }
          ],
          "choropleth": [
           {
            "type": "choropleth",
            "colorbar": {
             "outlinewidth": 0,
             "ticks": ""
            }
           }
          ],
          "histogram2d": [
           {
            "type": "histogram2d",
            "colorbar": {
             "outlinewidth": 0,
             "ticks": ""
            },
            "colorscale": [
             [
              0.0,
              "#0d0887"
             ],
             [
              0.1111111111111111,
              "#46039f"
             ],
             [
              0.2222222222222222,
              "#7201a8"
             ],
             [
              0.3333333333333333,
              "#9c179e"
             ],
             [
              0.4444444444444444,
              "#bd3786"
             ],
             [
              0.5555555555555556,
              "#d8576b"
             ],
             [
              0.6666666666666666,
              "#ed7953"
             ],
             [
              0.7777777777777778,
              "#fb9f3a"
             ],
             [
              0.8888888888888888,
              "#fdca26"
             ],
             [
              1.0,
              "#f0f921"
             ]
            ]
           }
          ],
          "heatmap": [
           {
            "type": "heatmap",
            "colorbar": {
             "outlinewidth": 0,
             "ticks": ""
            },
            "colorscale": [
             [
              0.0,
              "#0d0887"
             ],
             [
              0.1111111111111111,
              "#46039f"
             ],
             [
              0.2222222222222222,
              "#7201a8"
             ],
             [
              0.3333333333333333,
              "#9c179e"
             ],
             [
              0.4444444444444444,
              "#bd3786"
             ],
             [
              0.5555555555555556,
              "#d8576b"
             ],
             [
              0.6666666666666666,
              "#ed7953"
             ],
             [
              0.7777777777777778,
              "#fb9f3a"
             ],
             [
              0.8888888888888888,
              "#fdca26"
             ],
             [
              1.0,
              "#f0f921"
             ]
            ]
           }
          ],
          "heatmapgl": [
           {
            "type": "heatmapgl",
            "colorbar": {
             "outlinewidth": 0,
             "ticks": ""
            },
            "colorscale": [
             [
              0.0,
              "#0d0887"
             ],
             [
              0.1111111111111111,
              "#46039f"
             ],
             [
              0.2222222222222222,
              "#7201a8"
             ],
             [
              0.3333333333333333,
              "#9c179e"
             ],
             [
              0.4444444444444444,
              "#bd3786"
             ],
             [
              0.5555555555555556,
              "#d8576b"
             ],
             [
              0.6666666666666666,
              "#ed7953"
             ],
             [
              0.7777777777777778,
              "#fb9f3a"
             ],
             [
              0.8888888888888888,
              "#fdca26"
             ],
             [
              1.0,
              "#f0f921"
             ]
            ]
           }
          ],
          "contourcarpet": [
           {
            "type": "contourcarpet",
            "colorbar": {
             "outlinewidth": 0,
             "ticks": ""
            }
           }
          ],
          "contour": [
           {
            "type": "contour",
            "colorbar": {
             "outlinewidth": 0,
             "ticks": ""
            },
            "colorscale": [
             [
              0.0,
              "#0d0887"
             ],
             [
              0.1111111111111111,
              "#46039f"
             ],
             [
              0.2222222222222222,
              "#7201a8"
             ],
             [
              0.3333333333333333,
              "#9c179e"
             ],
             [
              0.4444444444444444,
              "#bd3786"
             ],
             [
              0.5555555555555556,
              "#d8576b"
             ],
             [
              0.6666666666666666,
              "#ed7953"
             ],
             [
              0.7777777777777778,
              "#fb9f3a"
             ],
             [
              0.8888888888888888,
              "#fdca26"
             ],
             [
              1.0,
              "#f0f921"
             ]
            ]
           }
          ],
          "surface": [
           {
            "type": "surface",
            "colorbar": {
             "outlinewidth": 0,
             "ticks": ""
            },
            "colorscale": [
             [
              0.0,
              "#0d0887"
             ],
             [
              0.1111111111111111,
              "#46039f"
             ],
             [
              0.2222222222222222,
              "#7201a8"
             ],
             [
              0.3333333333333333,
              "#9c179e"
             ],
             [
              0.4444444444444444,
              "#bd3786"
             ],
             [
              0.5555555555555556,
              "#d8576b"
             ],
             [
              0.6666666666666666,
              "#ed7953"
             ],
             [
              0.7777777777777778,
              "#fb9f3a"
             ],
             [
              0.8888888888888888,
              "#fdca26"
             ],
             [
              1.0,
              "#f0f921"
             ]
            ]
           }
          ],
          "mesh3d": [
           {
            "type": "mesh3d",
            "colorbar": {
             "outlinewidth": 0,
             "ticks": ""
            }
           }
          ],
          "scatter": [
           {
            "marker": {
             "line": {
              "color": "#283442"
             }
            },
            "type": "scatter"
           }
          ],
          "parcoords": [
           {
            "type": "parcoords",
            "line": {
             "colorbar": {
              "outlinewidth": 0,
              "ticks": ""
             }
            }
           }
          ],
          "scatterpolargl": [
           {
            "type": "scatterpolargl",
            "marker": {
             "colorbar": {
              "outlinewidth": 0,
              "ticks": ""
             }
            }
           }
          ],
          "bar": [
           {
            "error_x": {
             "color": "#f2f5fa"
            },
            "error_y": {
             "color": "#f2f5fa"
            },
            "marker": {
             "line": {
              "color": "rgb(17,17,17)",
              "width": 0.5
             },
             "pattern": {
              "fillmode": "overlay",
              "size": 10,
              "solidity": 0.2
             }
            },
            "type": "bar"
           }
          ],
          "scattergeo": [
           {
            "type": "scattergeo",
            "marker": {
             "colorbar": {
              "outlinewidth": 0,
              "ticks": ""
             }
            }
           }
          ],
          "scatterpolar": [
           {
            "type": "scatterpolar",
            "marker": {
             "colorbar": {
              "outlinewidth": 0,
              "ticks": ""
             }
            }
           }
          ],
          "histogram": [
           {
            "marker": {
             "pattern": {
              "fillmode": "overlay",
              "size": 10,
              "solidity": 0.2
             }
            },
            "type": "histogram"
           }
          ],
          "scattergl": [
           {
            "marker": {
             "line": {
              "color": "#283442"
             }
            },
            "type": "scattergl"
           }
          ],
          "scatter3d": [
           {
            "type": "scatter3d",
            "line": {
             "colorbar": {
              "outlinewidth": 0,
              "ticks": ""
             }
            },
            "marker": {
             "colorbar": {
              "outlinewidth": 0,
              "ticks": ""
             }
            }
           }
          ],
          "scattermapbox": [
           {
            "type": "scattermapbox",
            "marker": {
             "colorbar": {
              "outlinewidth": 0,
              "ticks": ""
             }
            }
           }
          ],
          "scatterternary": [
           {
            "type": "scatterternary",
            "marker": {
             "colorbar": {
              "outlinewidth": 0,
              "ticks": ""
             }
            }
           }
          ],
          "scattercarpet": [
           {
            "type": "scattercarpet",
            "marker": {
             "colorbar": {
              "outlinewidth": 0,
              "ticks": ""
             }
            }
           }
          ],
          "carpet": [
           {
            "aaxis": {
             "endlinecolor": "#A2B1C6",
             "gridcolor": "#506784",
             "linecolor": "#506784",
             "minorgridcolor": "#506784",
             "startlinecolor": "#A2B1C6"
            },
            "baxis": {
             "endlinecolor": "#A2B1C6",
             "gridcolor": "#506784",
             "linecolor": "#506784",
             "minorgridcolor": "#506784",
             "startlinecolor": "#A2B1C6"
            },
            "type": "carpet"
           }
          ],
          "table": [
           {
            "cells": {
             "fill": {
              "color": "#506784"
             },
             "line": {
              "color": "rgb(17,17,17)"
             }
            },
            "header": {
             "fill": {
              "color": "#2a3f5f"
             },
             "line": {
              "color": "rgb(17,17,17)"
             }
            },
            "type": "table"
           }
          ],
          "barpolar": [
           {
            "marker": {
             "line": {
              "color": "rgb(17,17,17)",
              "width": 0.5
             },
             "pattern": {
              "fillmode": "overlay",
              "size": 10,
              "solidity": 0.2
             }
            },
            "type": "barpolar"
           }
          ],
          "pie": [
           {
            "automargin": true,
            "type": "pie"
           }
          ]
         },
         "layout": {
          "autotypenumbers": "strict",
          "colorway": [
           "#636efa",
           "#EF553B",
           "#00cc96",
           "#ab63fa",
           "#FFA15A",
           "#19d3f3",
           "#FF6692",
           "#B6E880",
           "#FF97FF",
           "#FECB52"
          ],
          "font": {
           "color": "#f2f5fa"
          },
          "hovermode": "closest",
          "hoverlabel": {
           "align": "left"
          },
          "paper_bgcolor": "rgb(17,17,17)",
          "plot_bgcolor": "rgb(17,17,17)",
          "polar": {
           "bgcolor": "rgb(17,17,17)",
           "angularaxis": {
            "gridcolor": "#506784",
            "linecolor": "#506784",
            "ticks": ""
           },
           "radialaxis": {
            "gridcolor": "#506784",
            "linecolor": "#506784",
            "ticks": ""
           }
          },
          "ternary": {
           "bgcolor": "rgb(17,17,17)",
           "aaxis": {
            "gridcolor": "#506784",
            "linecolor": "#506784",
            "ticks": ""
           },
           "baxis": {
            "gridcolor": "#506784",
            "linecolor": "#506784",
            "ticks": ""
           },
           "caxis": {
            "gridcolor": "#506784",
            "linecolor": "#506784",
            "ticks": ""
           }
          },
          "coloraxis": {
           "colorbar": {
            "outlinewidth": 0,
            "ticks": ""
           }
          },
          "colorscale": {
           "sequential": [
            [
             0.0,
             "#0d0887"
            ],
            [
             0.1111111111111111,
             "#46039f"
            ],
            [
             0.2222222222222222,
             "#7201a8"
            ],
            [
             0.3333333333333333,
             "#9c179e"
            ],
            [
             0.4444444444444444,
             "#bd3786"
            ],
            [
             0.5555555555555556,
             "#d8576b"
            ],
            [
             0.6666666666666666,
             "#ed7953"
            ],
            [
             0.7777777777777778,
             "#fb9f3a"
            ],
            [
             0.8888888888888888,
             "#fdca26"
            ],
            [
             1.0,
             "#f0f921"
            ]
           ],
           "sequentialminus": [
            [
             0.0,
             "#0d0887"
            ],
            [
             0.1111111111111111,
             "#46039f"
            ],
            [
             0.2222222222222222,
             "#7201a8"
            ],
            [
             0.3333333333333333,
             "#9c179e"
            ],
            [
             0.4444444444444444,
             "#bd3786"
            ],
            [
             0.5555555555555556,
             "#d8576b"
            ],
            [
             0.6666666666666666,
             "#ed7953"
            ],
            [
             0.7777777777777778,
             "#fb9f3a"
            ],
            [
             0.8888888888888888,
             "#fdca26"
            ],
            [
             1.0,
             "#f0f921"
            ]
           ],
           "diverging": [
            [
             0,
             "#8e0152"
            ],
            [
             0.1,
             "#c51b7d"
            ],
            [
             0.2,
             "#de77ae"
            ],
            [
             0.3,
             "#f1b6da"
            ],
            [
             0.4,
             "#fde0ef"
            ],
            [
             0.5,
             "#f7f7f7"
            ],
            [
             0.6,
             "#e6f5d0"
            ],
            [
             0.7,
             "#b8e186"
            ],
            [
             0.8,
             "#7fbc41"
            ],
            [
             0.9,
             "#4d9221"
            ],
            [
             1,
             "#276419"
            ]
           ]
          },
          "xaxis": {
           "gridcolor": "#283442",
           "linecolor": "#506784",
           "ticks": "",
           "title": {
            "standoff": 15
           },
           "zerolinecolor": "#283442",
           "automargin": true,
           "zerolinewidth": 2
          },
          "yaxis": {
           "gridcolor": "#283442",
           "linecolor": "#506784",
           "ticks": "",
           "title": {
            "standoff": 15
           },
           "zerolinecolor": "#283442",
           "automargin": true,
           "zerolinewidth": 2
          },
          "scene": {
           "xaxis": {
            "backgroundcolor": "rgb(17,17,17)",
            "gridcolor": "#506784",
            "linecolor": "#506784",
            "showbackground": true,
            "ticks": "",
            "zerolinecolor": "#C8D4E3",
            "gridwidth": 2
           },
           "yaxis": {
            "backgroundcolor": "rgb(17,17,17)",
            "gridcolor": "#506784",
            "linecolor": "#506784",
            "showbackground": true,
            "ticks": "",
            "zerolinecolor": "#C8D4E3",
            "gridwidth": 2
           },
           "zaxis": {
            "backgroundcolor": "rgb(17,17,17)",
            "gridcolor": "#506784",
            "linecolor": "#506784",
            "showbackground": true,
            "ticks": "",
            "zerolinecolor": "#C8D4E3",
            "gridwidth": 2
           }
          },
          "shapedefaults": {
           "line": {
            "color": "#f2f5fa"
           }
          },
          "annotationdefaults": {
           "arrowcolor": "#f2f5fa",
           "arrowhead": 0,
           "arrowwidth": 1
          },
          "geo": {
           "bgcolor": "rgb(17,17,17)",
           "landcolor": "rgb(17,17,17)",
           "subunitcolor": "#506784",
           "showland": true,
           "showlakes": true,
           "lakecolor": "rgb(17,17,17)"
          },
          "title": {
           "x": 0.05
          },
          "updatemenudefaults": {
           "bgcolor": "#506784",
           "borderwidth": 0
          },
          "sliderdefaults": {
           "bgcolor": "#C8D4E3",
           "borderwidth": 1,
           "bordercolor": "rgb(17,17,17)",
           "tickwidth": 0
          },
          "mapbox": {
           "style": "dark"
          }
         }
        },
        "xaxis": {
         "anchor": "y",
         "domain": [
          0.0,
          1.0
         ],
         "title": {
          "text": "x"
         }
        },
        "yaxis": {
         "anchor": "x",
         "domain": [
          0.0,
          1.0
         ],
         "title": {
          "text": "count"
         }
        },
        "legend": {
         "tracegroupgap": 0
        },
        "margin": {
         "t": 60
        },
        "barmode": "relative"
       },
       "config": {
        "plotlyServerURL": "https://plot.ly"
       }
      },
      "text/html": [
       "<div>                            <div id=\"282bf3c3-c84e-49b9-9da1-2c2f46cf0f73\" class=\"plotly-graph-div\" style=\"height:525px; width:100%;\"></div>            <script type=\"text/javascript\">                require([\"plotly\"], function(Plotly) {                    window.PLOTLYENV=window.PLOTLYENV || {};                                    if (document.getElementById(\"282bf3c3-c84e-49b9-9da1-2c2f46cf0f73\")) {                    Plotly.newPlot(                        \"282bf3c3-c84e-49b9-9da1-2c2f46cf0f73\",                        [{\"alignmentgroup\":\"True\",\"bingroup\":\"x\",\"hovertemplate\":\"x=%{x}\\u003cbr\\u003ecount=%{y}\\u003cextra\\u003e\\u003c\\u002fextra\\u003e\",\"legendgroup\":\"\",\"marker\":{\"color\":\"#636efa\",\"pattern\":{\"shape\":\"\"}},\"name\":\"\",\"offsetgroup\":\"\",\"orientation\":\"v\",\"showlegend\":false,\"x\":[7.48,12.52,17.78,11.98,7.49,5.36,6.99,13.58,14.34,8.99,6.62,12.01,18.0,15.98,10.62,6.0,10.58,6.99,4.31,4.14,10.26,4.07,14.4,8.48,8.49,14.16,26.0,15.49,4.79,9.59,11.6,7.57,13.99,11.4,10.35,7.74,13.79,9.58,13.09,13.29,19.42,9.42,10.34,17.99,14.8,5.06,8.55,8.37,14.89,5.98],\"xaxis\":\"x\",\"yaxis\":\"y\",\"type\":\"histogram\"}],                        {\"template\":{\"data\":{\"histogram2dcontour\":[{\"type\":\"histogram2dcontour\",\"colorbar\":{\"outlinewidth\":0,\"ticks\":\"\"},\"colorscale\":[[0.0,\"#0d0887\"],[0.1111111111111111,\"#46039f\"],[0.2222222222222222,\"#7201a8\"],[0.3333333333333333,\"#9c179e\"],[0.4444444444444444,\"#bd3786\"],[0.5555555555555556,\"#d8576b\"],[0.6666666666666666,\"#ed7953\"],[0.7777777777777778,\"#fb9f3a\"],[0.8888888888888888,\"#fdca26\"],[1.0,\"#f0f921\"]]}],\"choropleth\":[{\"type\":\"choropleth\",\"colorbar\":{\"outlinewidth\":0,\"ticks\":\"\"}}],\"histogram2d\":[{\"type\":\"histogram2d\",\"colorbar\":{\"outlinewidth\":0,\"ticks\":\"\"},\"colorscale\":[[0.0,\"#0d0887\"],[0.1111111111111111,\"#46039f\"],[0.2222222222222222,\"#7201a8\"],[0.3333333333333333,\"#9c179e\"],[0.4444444444444444,\"#bd3786\"],[0.5555555555555556,\"#d8576b\"],[0.6666666666666666,\"#ed7953\"],[0.7777777777777778,\"#fb9f3a\"],[0.8888888888888888,\"#fdca26\"],[1.0,\"#f0f921\"]]}],\"heatmap\":[{\"type\":\"heatmap\",\"colorbar\":{\"outlinewidth\":0,\"ticks\":\"\"},\"colorscale\":[[0.0,\"#0d0887\"],[0.1111111111111111,\"#46039f\"],[0.2222222222222222,\"#7201a8\"],[0.3333333333333333,\"#9c179e\"],[0.4444444444444444,\"#bd3786\"],[0.5555555555555556,\"#d8576b\"],[0.6666666666666666,\"#ed7953\"],[0.7777777777777778,\"#fb9f3a\"],[0.8888888888888888,\"#fdca26\"],[1.0,\"#f0f921\"]]}],\"heatmapgl\":[{\"type\":\"heatmapgl\",\"colorbar\":{\"outlinewidth\":0,\"ticks\":\"\"},\"colorscale\":[[0.0,\"#0d0887\"],[0.1111111111111111,\"#46039f\"],[0.2222222222222222,\"#7201a8\"],[0.3333333333333333,\"#9c179e\"],[0.4444444444444444,\"#bd3786\"],[0.5555555555555556,\"#d8576b\"],[0.6666666666666666,\"#ed7953\"],[0.7777777777777778,\"#fb9f3a\"],[0.8888888888888888,\"#fdca26\"],[1.0,\"#f0f921\"]]}],\"contourcarpet\":[{\"type\":\"contourcarpet\",\"colorbar\":{\"outlinewidth\":0,\"ticks\":\"\"}}],\"contour\":[{\"type\":\"contour\",\"colorbar\":{\"outlinewidth\":0,\"ticks\":\"\"},\"colorscale\":[[0.0,\"#0d0887\"],[0.1111111111111111,\"#46039f\"],[0.2222222222222222,\"#7201a8\"],[0.3333333333333333,\"#9c179e\"],[0.4444444444444444,\"#bd3786\"],[0.5555555555555556,\"#d8576b\"],[0.6666666666666666,\"#ed7953\"],[0.7777777777777778,\"#fb9f3a\"],[0.8888888888888888,\"#fdca26\"],[1.0,\"#f0f921\"]]}],\"surface\":[{\"type\":\"surface\",\"colorbar\":{\"outlinewidth\":0,\"ticks\":\"\"},\"colorscale\":[[0.0,\"#0d0887\"],[0.1111111111111111,\"#46039f\"],[0.2222222222222222,\"#7201a8\"],[0.3333333333333333,\"#9c179e\"],[0.4444444444444444,\"#bd3786\"],[0.5555555555555556,\"#d8576b\"],[0.6666666666666666,\"#ed7953\"],[0.7777777777777778,\"#fb9f3a\"],[0.8888888888888888,\"#fdca26\"],[1.0,\"#f0f921\"]]}],\"mesh3d\":[{\"type\":\"mesh3d\",\"colorbar\":{\"outlinewidth\":0,\"ticks\":\"\"}}],\"scatter\":[{\"marker\":{\"line\":{\"color\":\"#283442\"}},\"type\":\"scatter\"}],\"parcoords\":[{\"type\":\"parcoords\",\"line\":{\"colorbar\":{\"outlinewidth\":0,\"ticks\":\"\"}}}],\"scatterpolargl\":[{\"type\":\"scatterpolargl\",\"marker\":{\"colorbar\":{\"outlinewidth\":0,\"ticks\":\"\"}}}],\"bar\":[{\"error_x\":{\"color\":\"#f2f5fa\"},\"error_y\":{\"color\":\"#f2f5fa\"},\"marker\":{\"line\":{\"color\":\"rgb(17,17,17)\",\"width\":0.5},\"pattern\":{\"fillmode\":\"overlay\",\"size\":10,\"solidity\":0.2}},\"type\":\"bar\"}],\"scattergeo\":[{\"type\":\"scattergeo\",\"marker\":{\"colorbar\":{\"outlinewidth\":0,\"ticks\":\"\"}}}],\"scatterpolar\":[{\"type\":\"scatterpolar\",\"marker\":{\"colorbar\":{\"outlinewidth\":0,\"ticks\":\"\"}}}],\"histogram\":[{\"marker\":{\"pattern\":{\"fillmode\":\"overlay\",\"size\":10,\"solidity\":0.2}},\"type\":\"histogram\"}],\"scattergl\":[{\"marker\":{\"line\":{\"color\":\"#283442\"}},\"type\":\"scattergl\"}],\"scatter3d\":[{\"type\":\"scatter3d\",\"line\":{\"colorbar\":{\"outlinewidth\":0,\"ticks\":\"\"}},\"marker\":{\"colorbar\":{\"outlinewidth\":0,\"ticks\":\"\"}}}],\"scattermapbox\":[{\"type\":\"scattermapbox\",\"marker\":{\"colorbar\":{\"outlinewidth\":0,\"ticks\":\"\"}}}],\"scatterternary\":[{\"type\":\"scatterternary\",\"marker\":{\"colorbar\":{\"outlinewidth\":0,\"ticks\":\"\"}}}],\"scattercarpet\":[{\"type\":\"scattercarpet\",\"marker\":{\"colorbar\":{\"outlinewidth\":0,\"ticks\":\"\"}}}],\"carpet\":[{\"aaxis\":{\"endlinecolor\":\"#A2B1C6\",\"gridcolor\":\"#506784\",\"linecolor\":\"#506784\",\"minorgridcolor\":\"#506784\",\"startlinecolor\":\"#A2B1C6\"},\"baxis\":{\"endlinecolor\":\"#A2B1C6\",\"gridcolor\":\"#506784\",\"linecolor\":\"#506784\",\"minorgridcolor\":\"#506784\",\"startlinecolor\":\"#A2B1C6\"},\"type\":\"carpet\"}],\"table\":[{\"cells\":{\"fill\":{\"color\":\"#506784\"},\"line\":{\"color\":\"rgb(17,17,17)\"}},\"header\":{\"fill\":{\"color\":\"#2a3f5f\"},\"line\":{\"color\":\"rgb(17,17,17)\"}},\"type\":\"table\"}],\"barpolar\":[{\"marker\":{\"line\":{\"color\":\"rgb(17,17,17)\",\"width\":0.5},\"pattern\":{\"fillmode\":\"overlay\",\"size\":10,\"solidity\":0.2}},\"type\":\"barpolar\"}],\"pie\":[{\"automargin\":true,\"type\":\"pie\"}]},\"layout\":{\"autotypenumbers\":\"strict\",\"colorway\":[\"#636efa\",\"#EF553B\",\"#00cc96\",\"#ab63fa\",\"#FFA15A\",\"#19d3f3\",\"#FF6692\",\"#B6E880\",\"#FF97FF\",\"#FECB52\"],\"font\":{\"color\":\"#f2f5fa\"},\"hovermode\":\"closest\",\"hoverlabel\":{\"align\":\"left\"},\"paper_bgcolor\":\"rgb(17,17,17)\",\"plot_bgcolor\":\"rgb(17,17,17)\",\"polar\":{\"bgcolor\":\"rgb(17,17,17)\",\"angularaxis\":{\"gridcolor\":\"#506784\",\"linecolor\":\"#506784\",\"ticks\":\"\"},\"radialaxis\":{\"gridcolor\":\"#506784\",\"linecolor\":\"#506784\",\"ticks\":\"\"}},\"ternary\":{\"bgcolor\":\"rgb(17,17,17)\",\"aaxis\":{\"gridcolor\":\"#506784\",\"linecolor\":\"#506784\",\"ticks\":\"\"},\"baxis\":{\"gridcolor\":\"#506784\",\"linecolor\":\"#506784\",\"ticks\":\"\"},\"caxis\":{\"gridcolor\":\"#506784\",\"linecolor\":\"#506784\",\"ticks\":\"\"}},\"coloraxis\":{\"colorbar\":{\"outlinewidth\":0,\"ticks\":\"\"}},\"colorscale\":{\"sequential\":[[0.0,\"#0d0887\"],[0.1111111111111111,\"#46039f\"],[0.2222222222222222,\"#7201a8\"],[0.3333333333333333,\"#9c179e\"],[0.4444444444444444,\"#bd3786\"],[0.5555555555555556,\"#d8576b\"],[0.6666666666666666,\"#ed7953\"],[0.7777777777777778,\"#fb9f3a\"],[0.8888888888888888,\"#fdca26\"],[1.0,\"#f0f921\"]],\"sequentialminus\":[[0.0,\"#0d0887\"],[0.1111111111111111,\"#46039f\"],[0.2222222222222222,\"#7201a8\"],[0.3333333333333333,\"#9c179e\"],[0.4444444444444444,\"#bd3786\"],[0.5555555555555556,\"#d8576b\"],[0.6666666666666666,\"#ed7953\"],[0.7777777777777778,\"#fb9f3a\"],[0.8888888888888888,\"#fdca26\"],[1.0,\"#f0f921\"]],\"diverging\":[[0,\"#8e0152\"],[0.1,\"#c51b7d\"],[0.2,\"#de77ae\"],[0.3,\"#f1b6da\"],[0.4,\"#fde0ef\"],[0.5,\"#f7f7f7\"],[0.6,\"#e6f5d0\"],[0.7,\"#b8e186\"],[0.8,\"#7fbc41\"],[0.9,\"#4d9221\"],[1,\"#276419\"]]},\"xaxis\":{\"gridcolor\":\"#283442\",\"linecolor\":\"#506784\",\"ticks\":\"\",\"title\":{\"standoff\":15},\"zerolinecolor\":\"#283442\",\"automargin\":true,\"zerolinewidth\":2},\"yaxis\":{\"gridcolor\":\"#283442\",\"linecolor\":\"#506784\",\"ticks\":\"\",\"title\":{\"standoff\":15},\"zerolinecolor\":\"#283442\",\"automargin\":true,\"zerolinewidth\":2},\"scene\":{\"xaxis\":{\"backgroundcolor\":\"rgb(17,17,17)\",\"gridcolor\":\"#506784\",\"linecolor\":\"#506784\",\"showbackground\":true,\"ticks\":\"\",\"zerolinecolor\":\"#C8D4E3\",\"gridwidth\":2},\"yaxis\":{\"backgroundcolor\":\"rgb(17,17,17)\",\"gridcolor\":\"#506784\",\"linecolor\":\"#506784\",\"showbackground\":true,\"ticks\":\"\",\"zerolinecolor\":\"#C8D4E3\",\"gridwidth\":2},\"zaxis\":{\"backgroundcolor\":\"rgb(17,17,17)\",\"gridcolor\":\"#506784\",\"linecolor\":\"#506784\",\"showbackground\":true,\"ticks\":\"\",\"zerolinecolor\":\"#C8D4E3\",\"gridwidth\":2}},\"shapedefaults\":{\"line\":{\"color\":\"#f2f5fa\"}},\"annotationdefaults\":{\"arrowcolor\":\"#f2f5fa\",\"arrowhead\":0,\"arrowwidth\":1},\"geo\":{\"bgcolor\":\"rgb(17,17,17)\",\"landcolor\":\"rgb(17,17,17)\",\"subunitcolor\":\"#506784\",\"showland\":true,\"showlakes\":true,\"lakecolor\":\"rgb(17,17,17)\"},\"title\":{\"x\":0.05},\"updatemenudefaults\":{\"bgcolor\":\"#506784\",\"borderwidth\":0},\"sliderdefaults\":{\"bgcolor\":\"#C8D4E3\",\"borderwidth\":1,\"bordercolor\":\"rgb(17,17,17)\",\"tickwidth\":0},\"mapbox\":{\"style\":\"dark\"}}},\"xaxis\":{\"anchor\":\"y\",\"domain\":[0.0,1.0],\"title\":{\"text\":\"x\"}},\"yaxis\":{\"anchor\":\"x\",\"domain\":[0.0,1.0],\"title\":{\"text\":\"count\"}},\"legend\":{\"tracegroupgap\":0},\"margin\":{\"t\":60},\"barmode\":\"relative\"},                        {\"responsive\": true}                    ).then(function(){\n",
       "                            \n",
       "var gd = document.getElementById('282bf3c3-c84e-49b9-9da1-2c2f46cf0f73');\n",
       "var x = new MutationObserver(function (mutations, observer) {{\n",
       "        var display = window.getComputedStyle(gd).display;\n",
       "        if (!display || display === 'none') {{\n",
       "            console.log([gd, 'removed!']);\n",
       "            Plotly.purge(gd);\n",
       "            observer.disconnect();\n",
       "        }}\n",
       "}});\n",
       "\n",
       "// Listen for the removal of the full notebook cells\n",
       "var notebookContainer = gd.closest('#notebook-container');\n",
       "if (notebookContainer) {{\n",
       "    x.observe(notebookContainer, {childList: true});\n",
       "}}\n",
       "\n",
       "// Listen for the clearing of the current output cell\n",
       "var outputEl = gd.closest('.output');\n",
       "if (outputEl) {{\n",
       "    x.observe(outputEl, {childList: true});\n",
       "}}\n",
       "\n",
       "                        })                };                });            </script>        </div>"
      ]
     },
     "metadata": {},
     "output_type": "display_data"
    }
   ],
   "execution_count": 30
  },
  {
   "cell_type": "markdown",
   "id": "fb558343-9032-4e0f-a7a9-c9a1e2a03068",
   "metadata": {
    "jp-MarkdownHeadingCollapsed": true,
    "tags": []
   },
   "source": [
    "#### Bar chart\n",
    "\n",
    "Next, we will cover a [bar chart](https://plotly.com/python/bar-charts/)! Bar charts are a great way to plot counts or percentages of a categorical variable.\n",
    "\n",
    "For our bar chart, we will plot the average price by genre."
   ]
  },
  {
   "cell_type": "code",
   "id": "8353dd36-f661-4299-9c25-c0890ee388ff",
   "metadata": {
    "ExecuteTime": {
     "end_time": "2024-11-25T17:14:58.300180Z",
     "start_time": "2024-11-25T17:14:58.294247Z"
    }
   },
   "source": [
    "# Specify the data\n",
    "genres = [\"Fiction\", \"Non Fiction\"]\n",
    "average_prices = [10.6, 14.5]\n",
    "\n",
    "# Preview the first list\n",
    "print(average_prices)"
   ],
   "outputs": [
    {
     "name": "stdout",
     "output_type": "stream",
     "text": [
      "[10.6, 14.5]\n"
     ]
    }
   ],
   "execution_count": 31
  },
  {
   "cell_type": "code",
   "id": "71a886bd-c1bb-4d12-9923-f8886c2473a9",
   "metadata": {
    "ExecuteTime": {
     "end_time": "2024-11-25T17:14:58.396745Z",
     "start_time": "2024-11-25T17:14:58.333611Z"
    }
   },
   "source": [
    "fig = px.bar(x = average_prices, y = genres)\n",
    "\n",
    "fig.show()"
   ],
   "outputs": [
    {
     "data": {
      "application/vnd.plotly.v1+json": {
       "data": [
        {
         "alignmentgroup": "True",
         "hovertemplate": "x=%{x}<br>y=%{y}<extra></extra>",
         "legendgroup": "",
         "marker": {
          "color": "#636efa",
          "pattern": {
           "shape": ""
          }
         },
         "name": "",
         "offsetgroup": "",
         "orientation": "h",
         "showlegend": false,
         "textposition": "auto",
         "x": [
          10.6,
          14.5
         ],
         "xaxis": "x",
         "y": [
          "Fiction",
          "Non Fiction"
         ],
         "yaxis": "y",
         "type": "bar"
        }
       ],
       "layout": {
        "template": {
         "data": {
          "histogram2dcontour": [
           {
            "type": "histogram2dcontour",
            "colorbar": {
             "outlinewidth": 0,
             "ticks": ""
            },
            "colorscale": [
             [
              0.0,
              "#0d0887"
             ],
             [
              0.1111111111111111,
              "#46039f"
             ],
             [
              0.2222222222222222,
              "#7201a8"
             ],
             [
              0.3333333333333333,
              "#9c179e"
             ],
             [
              0.4444444444444444,
              "#bd3786"
             ],
             [
              0.5555555555555556,
              "#d8576b"
             ],
             [
              0.6666666666666666,
              "#ed7953"
             ],
             [
              0.7777777777777778,
              "#fb9f3a"
             ],
             [
              0.8888888888888888,
              "#fdca26"
             ],
             [
              1.0,
              "#f0f921"
             ]
            ]
           }
          ],
          "choropleth": [
           {
            "type": "choropleth",
            "colorbar": {
             "outlinewidth": 0,
             "ticks": ""
            }
           }
          ],
          "histogram2d": [
           {
            "type": "histogram2d",
            "colorbar": {
             "outlinewidth": 0,
             "ticks": ""
            },
            "colorscale": [
             [
              0.0,
              "#0d0887"
             ],
             [
              0.1111111111111111,
              "#46039f"
             ],
             [
              0.2222222222222222,
              "#7201a8"
             ],
             [
              0.3333333333333333,
              "#9c179e"
             ],
             [
              0.4444444444444444,
              "#bd3786"
             ],
             [
              0.5555555555555556,
              "#d8576b"
             ],
             [
              0.6666666666666666,
              "#ed7953"
             ],
             [
              0.7777777777777778,
              "#fb9f3a"
             ],
             [
              0.8888888888888888,
              "#fdca26"
             ],
             [
              1.0,
              "#f0f921"
             ]
            ]
           }
          ],
          "heatmap": [
           {
            "type": "heatmap",
            "colorbar": {
             "outlinewidth": 0,
             "ticks": ""
            },
            "colorscale": [
             [
              0.0,
              "#0d0887"
             ],
             [
              0.1111111111111111,
              "#46039f"
             ],
             [
              0.2222222222222222,
              "#7201a8"
             ],
             [
              0.3333333333333333,
              "#9c179e"
             ],
             [
              0.4444444444444444,
              "#bd3786"
             ],
             [
              0.5555555555555556,
              "#d8576b"
             ],
             [
              0.6666666666666666,
              "#ed7953"
             ],
             [
              0.7777777777777778,
              "#fb9f3a"
             ],
             [
              0.8888888888888888,
              "#fdca26"
             ],
             [
              1.0,
              "#f0f921"
             ]
            ]
           }
          ],
          "heatmapgl": [
           {
            "type": "heatmapgl",
            "colorbar": {
             "outlinewidth": 0,
             "ticks": ""
            },
            "colorscale": [
             [
              0.0,
              "#0d0887"
             ],
             [
              0.1111111111111111,
              "#46039f"
             ],
             [
              0.2222222222222222,
              "#7201a8"
             ],
             [
              0.3333333333333333,
              "#9c179e"
             ],
             [
              0.4444444444444444,
              "#bd3786"
             ],
             [
              0.5555555555555556,
              "#d8576b"
             ],
             [
              0.6666666666666666,
              "#ed7953"
             ],
             [
              0.7777777777777778,
              "#fb9f3a"
             ],
             [
              0.8888888888888888,
              "#fdca26"
             ],
             [
              1.0,
              "#f0f921"
             ]
            ]
           }
          ],
          "contourcarpet": [
           {
            "type": "contourcarpet",
            "colorbar": {
             "outlinewidth": 0,
             "ticks": ""
            }
           }
          ],
          "contour": [
           {
            "type": "contour",
            "colorbar": {
             "outlinewidth": 0,
             "ticks": ""
            },
            "colorscale": [
             [
              0.0,
              "#0d0887"
             ],
             [
              0.1111111111111111,
              "#46039f"
             ],
             [
              0.2222222222222222,
              "#7201a8"
             ],
             [
              0.3333333333333333,
              "#9c179e"
             ],
             [
              0.4444444444444444,
              "#bd3786"
             ],
             [
              0.5555555555555556,
              "#d8576b"
             ],
             [
              0.6666666666666666,
              "#ed7953"
             ],
             [
              0.7777777777777778,
              "#fb9f3a"
             ],
             [
              0.8888888888888888,
              "#fdca26"
             ],
             [
              1.0,
              "#f0f921"
             ]
            ]
           }
          ],
          "surface": [
           {
            "type": "surface",
            "colorbar": {
             "outlinewidth": 0,
             "ticks": ""
            },
            "colorscale": [
             [
              0.0,
              "#0d0887"
             ],
             [
              0.1111111111111111,
              "#46039f"
             ],
             [
              0.2222222222222222,
              "#7201a8"
             ],
             [
              0.3333333333333333,
              "#9c179e"
             ],
             [
              0.4444444444444444,
              "#bd3786"
             ],
             [
              0.5555555555555556,
              "#d8576b"
             ],
             [
              0.6666666666666666,
              "#ed7953"
             ],
             [
              0.7777777777777778,
              "#fb9f3a"
             ],
             [
              0.8888888888888888,
              "#fdca26"
             ],
             [
              1.0,
              "#f0f921"
             ]
            ]
           }
          ],
          "mesh3d": [
           {
            "type": "mesh3d",
            "colorbar": {
             "outlinewidth": 0,
             "ticks": ""
            }
           }
          ],
          "scatter": [
           {
            "marker": {
             "line": {
              "color": "#283442"
             }
            },
            "type": "scatter"
           }
          ],
          "parcoords": [
           {
            "type": "parcoords",
            "line": {
             "colorbar": {
              "outlinewidth": 0,
              "ticks": ""
             }
            }
           }
          ],
          "scatterpolargl": [
           {
            "type": "scatterpolargl",
            "marker": {
             "colorbar": {
              "outlinewidth": 0,
              "ticks": ""
             }
            }
           }
          ],
          "bar": [
           {
            "error_x": {
             "color": "#f2f5fa"
            },
            "error_y": {
             "color": "#f2f5fa"
            },
            "marker": {
             "line": {
              "color": "rgb(17,17,17)",
              "width": 0.5
             },
             "pattern": {
              "fillmode": "overlay",
              "size": 10,
              "solidity": 0.2
             }
            },
            "type": "bar"
           }
          ],
          "scattergeo": [
           {
            "type": "scattergeo",
            "marker": {
             "colorbar": {
              "outlinewidth": 0,
              "ticks": ""
             }
            }
           }
          ],
          "scatterpolar": [
           {
            "type": "scatterpolar",
            "marker": {
             "colorbar": {
              "outlinewidth": 0,
              "ticks": ""
             }
            }
           }
          ],
          "histogram": [
           {
            "marker": {
             "pattern": {
              "fillmode": "overlay",
              "size": 10,
              "solidity": 0.2
             }
            },
            "type": "histogram"
           }
          ],
          "scattergl": [
           {
            "marker": {
             "line": {
              "color": "#283442"
             }
            },
            "type": "scattergl"
           }
          ],
          "scatter3d": [
           {
            "type": "scatter3d",
            "line": {
             "colorbar": {
              "outlinewidth": 0,
              "ticks": ""
             }
            },
            "marker": {
             "colorbar": {
              "outlinewidth": 0,
              "ticks": ""
             }
            }
           }
          ],
          "scattermapbox": [
           {
            "type": "scattermapbox",
            "marker": {
             "colorbar": {
              "outlinewidth": 0,
              "ticks": ""
             }
            }
           }
          ],
          "scatterternary": [
           {
            "type": "scatterternary",
            "marker": {
             "colorbar": {
              "outlinewidth": 0,
              "ticks": ""
             }
            }
           }
          ],
          "scattercarpet": [
           {
            "type": "scattercarpet",
            "marker": {
             "colorbar": {
              "outlinewidth": 0,
              "ticks": ""
             }
            }
           }
          ],
          "carpet": [
           {
            "aaxis": {
             "endlinecolor": "#A2B1C6",
             "gridcolor": "#506784",
             "linecolor": "#506784",
             "minorgridcolor": "#506784",
             "startlinecolor": "#A2B1C6"
            },
            "baxis": {
             "endlinecolor": "#A2B1C6",
             "gridcolor": "#506784",
             "linecolor": "#506784",
             "minorgridcolor": "#506784",
             "startlinecolor": "#A2B1C6"
            },
            "type": "carpet"
           }
          ],
          "table": [
           {
            "cells": {
             "fill": {
              "color": "#506784"
             },
             "line": {
              "color": "rgb(17,17,17)"
             }
            },
            "header": {
             "fill": {
              "color": "#2a3f5f"
             },
             "line": {
              "color": "rgb(17,17,17)"
             }
            },
            "type": "table"
           }
          ],
          "barpolar": [
           {
            "marker": {
             "line": {
              "color": "rgb(17,17,17)",
              "width": 0.5
             },
             "pattern": {
              "fillmode": "overlay",
              "size": 10,
              "solidity": 0.2
             }
            },
            "type": "barpolar"
           }
          ],
          "pie": [
           {
            "automargin": true,
            "type": "pie"
           }
          ]
         },
         "layout": {
          "autotypenumbers": "strict",
          "colorway": [
           "#636efa",
           "#EF553B",
           "#00cc96",
           "#ab63fa",
           "#FFA15A",
           "#19d3f3",
           "#FF6692",
           "#B6E880",
           "#FF97FF",
           "#FECB52"
          ],
          "font": {
           "color": "#f2f5fa"
          },
          "hovermode": "closest",
          "hoverlabel": {
           "align": "left"
          },
          "paper_bgcolor": "rgb(17,17,17)",
          "plot_bgcolor": "rgb(17,17,17)",
          "polar": {
           "bgcolor": "rgb(17,17,17)",
           "angularaxis": {
            "gridcolor": "#506784",
            "linecolor": "#506784",
            "ticks": ""
           },
           "radialaxis": {
            "gridcolor": "#506784",
            "linecolor": "#506784",
            "ticks": ""
           }
          },
          "ternary": {
           "bgcolor": "rgb(17,17,17)",
           "aaxis": {
            "gridcolor": "#506784",
            "linecolor": "#506784",
            "ticks": ""
           },
           "baxis": {
            "gridcolor": "#506784",
            "linecolor": "#506784",
            "ticks": ""
           },
           "caxis": {
            "gridcolor": "#506784",
            "linecolor": "#506784",
            "ticks": ""
           }
          },
          "coloraxis": {
           "colorbar": {
            "outlinewidth": 0,
            "ticks": ""
           }
          },
          "colorscale": {
           "sequential": [
            [
             0.0,
             "#0d0887"
            ],
            [
             0.1111111111111111,
             "#46039f"
            ],
            [
             0.2222222222222222,
             "#7201a8"
            ],
            [
             0.3333333333333333,
             "#9c179e"
            ],
            [
             0.4444444444444444,
             "#bd3786"
            ],
            [
             0.5555555555555556,
             "#d8576b"
            ],
            [
             0.6666666666666666,
             "#ed7953"
            ],
            [
             0.7777777777777778,
             "#fb9f3a"
            ],
            [
             0.8888888888888888,
             "#fdca26"
            ],
            [
             1.0,
             "#f0f921"
            ]
           ],
           "sequentialminus": [
            [
             0.0,
             "#0d0887"
            ],
            [
             0.1111111111111111,
             "#46039f"
            ],
            [
             0.2222222222222222,
             "#7201a8"
            ],
            [
             0.3333333333333333,
             "#9c179e"
            ],
            [
             0.4444444444444444,
             "#bd3786"
            ],
            [
             0.5555555555555556,
             "#d8576b"
            ],
            [
             0.6666666666666666,
             "#ed7953"
            ],
            [
             0.7777777777777778,
             "#fb9f3a"
            ],
            [
             0.8888888888888888,
             "#fdca26"
            ],
            [
             1.0,
             "#f0f921"
            ]
           ],
           "diverging": [
            [
             0,
             "#8e0152"
            ],
            [
             0.1,
             "#c51b7d"
            ],
            [
             0.2,
             "#de77ae"
            ],
            [
             0.3,
             "#f1b6da"
            ],
            [
             0.4,
             "#fde0ef"
            ],
            [
             0.5,
             "#f7f7f7"
            ],
            [
             0.6,
             "#e6f5d0"
            ],
            [
             0.7,
             "#b8e186"
            ],
            [
             0.8,
             "#7fbc41"
            ],
            [
             0.9,
             "#4d9221"
            ],
            [
             1,
             "#276419"
            ]
           ]
          },
          "xaxis": {
           "gridcolor": "#283442",
           "linecolor": "#506784",
           "ticks": "",
           "title": {
            "standoff": 15
           },
           "zerolinecolor": "#283442",
           "automargin": true,
           "zerolinewidth": 2
          },
          "yaxis": {
           "gridcolor": "#283442",
           "linecolor": "#506784",
           "ticks": "",
           "title": {
            "standoff": 15
           },
           "zerolinecolor": "#283442",
           "automargin": true,
           "zerolinewidth": 2
          },
          "scene": {
           "xaxis": {
            "backgroundcolor": "rgb(17,17,17)",
            "gridcolor": "#506784",
            "linecolor": "#506784",
            "showbackground": true,
            "ticks": "",
            "zerolinecolor": "#C8D4E3",
            "gridwidth": 2
           },
           "yaxis": {
            "backgroundcolor": "rgb(17,17,17)",
            "gridcolor": "#506784",
            "linecolor": "#506784",
            "showbackground": true,
            "ticks": "",
            "zerolinecolor": "#C8D4E3",
            "gridwidth": 2
           },
           "zaxis": {
            "backgroundcolor": "rgb(17,17,17)",
            "gridcolor": "#506784",
            "linecolor": "#506784",
            "showbackground": true,
            "ticks": "",
            "zerolinecolor": "#C8D4E3",
            "gridwidth": 2
           }
          },
          "shapedefaults": {
           "line": {
            "color": "#f2f5fa"
           }
          },
          "annotationdefaults": {
           "arrowcolor": "#f2f5fa",
           "arrowhead": 0,
           "arrowwidth": 1
          },
          "geo": {
           "bgcolor": "rgb(17,17,17)",
           "landcolor": "rgb(17,17,17)",
           "subunitcolor": "#506784",
           "showland": true,
           "showlakes": true,
           "lakecolor": "rgb(17,17,17)"
          },
          "title": {
           "x": 0.05
          },
          "updatemenudefaults": {
           "bgcolor": "#506784",
           "borderwidth": 0
          },
          "sliderdefaults": {
           "bgcolor": "#C8D4E3",
           "borderwidth": 1,
           "bordercolor": "rgb(17,17,17)",
           "tickwidth": 0
          },
          "mapbox": {
           "style": "dark"
          }
         }
        },
        "xaxis": {
         "anchor": "y",
         "domain": [
          0.0,
          1.0
         ],
         "title": {
          "text": "x"
         }
        },
        "yaxis": {
         "anchor": "x",
         "domain": [
          0.0,
          1.0
         ],
         "title": {
          "text": "y"
         }
        },
        "legend": {
         "tracegroupgap": 0
        },
        "margin": {
         "t": 60
        },
        "barmode": "relative"
       },
       "config": {
        "plotlyServerURL": "https://plot.ly"
       }
      },
      "text/html": [
       "<div>                            <div id=\"fdf76bf9-13e4-44f1-8b7d-75b07ea2ae75\" class=\"plotly-graph-div\" style=\"height:525px; width:100%;\"></div>            <script type=\"text/javascript\">                require([\"plotly\"], function(Plotly) {                    window.PLOTLYENV=window.PLOTLYENV || {};                                    if (document.getElementById(\"fdf76bf9-13e4-44f1-8b7d-75b07ea2ae75\")) {                    Plotly.newPlot(                        \"fdf76bf9-13e4-44f1-8b7d-75b07ea2ae75\",                        [{\"alignmentgroup\":\"True\",\"hovertemplate\":\"x=%{x}\\u003cbr\\u003ey=%{y}\\u003cextra\\u003e\\u003c\\u002fextra\\u003e\",\"legendgroup\":\"\",\"marker\":{\"color\":\"#636efa\",\"pattern\":{\"shape\":\"\"}},\"name\":\"\",\"offsetgroup\":\"\",\"orientation\":\"h\",\"showlegend\":false,\"textposition\":\"auto\",\"x\":[10.6,14.5],\"xaxis\":\"x\",\"y\":[\"Fiction\",\"Non Fiction\"],\"yaxis\":\"y\",\"type\":\"bar\"}],                        {\"template\":{\"data\":{\"histogram2dcontour\":[{\"type\":\"histogram2dcontour\",\"colorbar\":{\"outlinewidth\":0,\"ticks\":\"\"},\"colorscale\":[[0.0,\"#0d0887\"],[0.1111111111111111,\"#46039f\"],[0.2222222222222222,\"#7201a8\"],[0.3333333333333333,\"#9c179e\"],[0.4444444444444444,\"#bd3786\"],[0.5555555555555556,\"#d8576b\"],[0.6666666666666666,\"#ed7953\"],[0.7777777777777778,\"#fb9f3a\"],[0.8888888888888888,\"#fdca26\"],[1.0,\"#f0f921\"]]}],\"choropleth\":[{\"type\":\"choropleth\",\"colorbar\":{\"outlinewidth\":0,\"ticks\":\"\"}}],\"histogram2d\":[{\"type\":\"histogram2d\",\"colorbar\":{\"outlinewidth\":0,\"ticks\":\"\"},\"colorscale\":[[0.0,\"#0d0887\"],[0.1111111111111111,\"#46039f\"],[0.2222222222222222,\"#7201a8\"],[0.3333333333333333,\"#9c179e\"],[0.4444444444444444,\"#bd3786\"],[0.5555555555555556,\"#d8576b\"],[0.6666666666666666,\"#ed7953\"],[0.7777777777777778,\"#fb9f3a\"],[0.8888888888888888,\"#fdca26\"],[1.0,\"#f0f921\"]]}],\"heatmap\":[{\"type\":\"heatmap\",\"colorbar\":{\"outlinewidth\":0,\"ticks\":\"\"},\"colorscale\":[[0.0,\"#0d0887\"],[0.1111111111111111,\"#46039f\"],[0.2222222222222222,\"#7201a8\"],[0.3333333333333333,\"#9c179e\"],[0.4444444444444444,\"#bd3786\"],[0.5555555555555556,\"#d8576b\"],[0.6666666666666666,\"#ed7953\"],[0.7777777777777778,\"#fb9f3a\"],[0.8888888888888888,\"#fdca26\"],[1.0,\"#f0f921\"]]}],\"heatmapgl\":[{\"type\":\"heatmapgl\",\"colorbar\":{\"outlinewidth\":0,\"ticks\":\"\"},\"colorscale\":[[0.0,\"#0d0887\"],[0.1111111111111111,\"#46039f\"],[0.2222222222222222,\"#7201a8\"],[0.3333333333333333,\"#9c179e\"],[0.4444444444444444,\"#bd3786\"],[0.5555555555555556,\"#d8576b\"],[0.6666666666666666,\"#ed7953\"],[0.7777777777777778,\"#fb9f3a\"],[0.8888888888888888,\"#fdca26\"],[1.0,\"#f0f921\"]]}],\"contourcarpet\":[{\"type\":\"contourcarpet\",\"colorbar\":{\"outlinewidth\":0,\"ticks\":\"\"}}],\"contour\":[{\"type\":\"contour\",\"colorbar\":{\"outlinewidth\":0,\"ticks\":\"\"},\"colorscale\":[[0.0,\"#0d0887\"],[0.1111111111111111,\"#46039f\"],[0.2222222222222222,\"#7201a8\"],[0.3333333333333333,\"#9c179e\"],[0.4444444444444444,\"#bd3786\"],[0.5555555555555556,\"#d8576b\"],[0.6666666666666666,\"#ed7953\"],[0.7777777777777778,\"#fb9f3a\"],[0.8888888888888888,\"#fdca26\"],[1.0,\"#f0f921\"]]}],\"surface\":[{\"type\":\"surface\",\"colorbar\":{\"outlinewidth\":0,\"ticks\":\"\"},\"colorscale\":[[0.0,\"#0d0887\"],[0.1111111111111111,\"#46039f\"],[0.2222222222222222,\"#7201a8\"],[0.3333333333333333,\"#9c179e\"],[0.4444444444444444,\"#bd3786\"],[0.5555555555555556,\"#d8576b\"],[0.6666666666666666,\"#ed7953\"],[0.7777777777777778,\"#fb9f3a\"],[0.8888888888888888,\"#fdca26\"],[1.0,\"#f0f921\"]]}],\"mesh3d\":[{\"type\":\"mesh3d\",\"colorbar\":{\"outlinewidth\":0,\"ticks\":\"\"}}],\"scatter\":[{\"marker\":{\"line\":{\"color\":\"#283442\"}},\"type\":\"scatter\"}],\"parcoords\":[{\"type\":\"parcoords\",\"line\":{\"colorbar\":{\"outlinewidth\":0,\"ticks\":\"\"}}}],\"scatterpolargl\":[{\"type\":\"scatterpolargl\",\"marker\":{\"colorbar\":{\"outlinewidth\":0,\"ticks\":\"\"}}}],\"bar\":[{\"error_x\":{\"color\":\"#f2f5fa\"},\"error_y\":{\"color\":\"#f2f5fa\"},\"marker\":{\"line\":{\"color\":\"rgb(17,17,17)\",\"width\":0.5},\"pattern\":{\"fillmode\":\"overlay\",\"size\":10,\"solidity\":0.2}},\"type\":\"bar\"}],\"scattergeo\":[{\"type\":\"scattergeo\",\"marker\":{\"colorbar\":{\"outlinewidth\":0,\"ticks\":\"\"}}}],\"scatterpolar\":[{\"type\":\"scatterpolar\",\"marker\":{\"colorbar\":{\"outlinewidth\":0,\"ticks\":\"\"}}}],\"histogram\":[{\"marker\":{\"pattern\":{\"fillmode\":\"overlay\",\"size\":10,\"solidity\":0.2}},\"type\":\"histogram\"}],\"scattergl\":[{\"marker\":{\"line\":{\"color\":\"#283442\"}},\"type\":\"scattergl\"}],\"scatter3d\":[{\"type\":\"scatter3d\",\"line\":{\"colorbar\":{\"outlinewidth\":0,\"ticks\":\"\"}},\"marker\":{\"colorbar\":{\"outlinewidth\":0,\"ticks\":\"\"}}}],\"scattermapbox\":[{\"type\":\"scattermapbox\",\"marker\":{\"colorbar\":{\"outlinewidth\":0,\"ticks\":\"\"}}}],\"scatterternary\":[{\"type\":\"scatterternary\",\"marker\":{\"colorbar\":{\"outlinewidth\":0,\"ticks\":\"\"}}}],\"scattercarpet\":[{\"type\":\"scattercarpet\",\"marker\":{\"colorbar\":{\"outlinewidth\":0,\"ticks\":\"\"}}}],\"carpet\":[{\"aaxis\":{\"endlinecolor\":\"#A2B1C6\",\"gridcolor\":\"#506784\",\"linecolor\":\"#506784\",\"minorgridcolor\":\"#506784\",\"startlinecolor\":\"#A2B1C6\"},\"baxis\":{\"endlinecolor\":\"#A2B1C6\",\"gridcolor\":\"#506784\",\"linecolor\":\"#506784\",\"minorgridcolor\":\"#506784\",\"startlinecolor\":\"#A2B1C6\"},\"type\":\"carpet\"}],\"table\":[{\"cells\":{\"fill\":{\"color\":\"#506784\"},\"line\":{\"color\":\"rgb(17,17,17)\"}},\"header\":{\"fill\":{\"color\":\"#2a3f5f\"},\"line\":{\"color\":\"rgb(17,17,17)\"}},\"type\":\"table\"}],\"barpolar\":[{\"marker\":{\"line\":{\"color\":\"rgb(17,17,17)\",\"width\":0.5},\"pattern\":{\"fillmode\":\"overlay\",\"size\":10,\"solidity\":0.2}},\"type\":\"barpolar\"}],\"pie\":[{\"automargin\":true,\"type\":\"pie\"}]},\"layout\":{\"autotypenumbers\":\"strict\",\"colorway\":[\"#636efa\",\"#EF553B\",\"#00cc96\",\"#ab63fa\",\"#FFA15A\",\"#19d3f3\",\"#FF6692\",\"#B6E880\",\"#FF97FF\",\"#FECB52\"],\"font\":{\"color\":\"#f2f5fa\"},\"hovermode\":\"closest\",\"hoverlabel\":{\"align\":\"left\"},\"paper_bgcolor\":\"rgb(17,17,17)\",\"plot_bgcolor\":\"rgb(17,17,17)\",\"polar\":{\"bgcolor\":\"rgb(17,17,17)\",\"angularaxis\":{\"gridcolor\":\"#506784\",\"linecolor\":\"#506784\",\"ticks\":\"\"},\"radialaxis\":{\"gridcolor\":\"#506784\",\"linecolor\":\"#506784\",\"ticks\":\"\"}},\"ternary\":{\"bgcolor\":\"rgb(17,17,17)\",\"aaxis\":{\"gridcolor\":\"#506784\",\"linecolor\":\"#506784\",\"ticks\":\"\"},\"baxis\":{\"gridcolor\":\"#506784\",\"linecolor\":\"#506784\",\"ticks\":\"\"},\"caxis\":{\"gridcolor\":\"#506784\",\"linecolor\":\"#506784\",\"ticks\":\"\"}},\"coloraxis\":{\"colorbar\":{\"outlinewidth\":0,\"ticks\":\"\"}},\"colorscale\":{\"sequential\":[[0.0,\"#0d0887\"],[0.1111111111111111,\"#46039f\"],[0.2222222222222222,\"#7201a8\"],[0.3333333333333333,\"#9c179e\"],[0.4444444444444444,\"#bd3786\"],[0.5555555555555556,\"#d8576b\"],[0.6666666666666666,\"#ed7953\"],[0.7777777777777778,\"#fb9f3a\"],[0.8888888888888888,\"#fdca26\"],[1.0,\"#f0f921\"]],\"sequentialminus\":[[0.0,\"#0d0887\"],[0.1111111111111111,\"#46039f\"],[0.2222222222222222,\"#7201a8\"],[0.3333333333333333,\"#9c179e\"],[0.4444444444444444,\"#bd3786\"],[0.5555555555555556,\"#d8576b\"],[0.6666666666666666,\"#ed7953\"],[0.7777777777777778,\"#fb9f3a\"],[0.8888888888888888,\"#fdca26\"],[1.0,\"#f0f921\"]],\"diverging\":[[0,\"#8e0152\"],[0.1,\"#c51b7d\"],[0.2,\"#de77ae\"],[0.3,\"#f1b6da\"],[0.4,\"#fde0ef\"],[0.5,\"#f7f7f7\"],[0.6,\"#e6f5d0\"],[0.7,\"#b8e186\"],[0.8,\"#7fbc41\"],[0.9,\"#4d9221\"],[1,\"#276419\"]]},\"xaxis\":{\"gridcolor\":\"#283442\",\"linecolor\":\"#506784\",\"ticks\":\"\",\"title\":{\"standoff\":15},\"zerolinecolor\":\"#283442\",\"automargin\":true,\"zerolinewidth\":2},\"yaxis\":{\"gridcolor\":\"#283442\",\"linecolor\":\"#506784\",\"ticks\":\"\",\"title\":{\"standoff\":15},\"zerolinecolor\":\"#283442\",\"automargin\":true,\"zerolinewidth\":2},\"scene\":{\"xaxis\":{\"backgroundcolor\":\"rgb(17,17,17)\",\"gridcolor\":\"#506784\",\"linecolor\":\"#506784\",\"showbackground\":true,\"ticks\":\"\",\"zerolinecolor\":\"#C8D4E3\",\"gridwidth\":2},\"yaxis\":{\"backgroundcolor\":\"rgb(17,17,17)\",\"gridcolor\":\"#506784\",\"linecolor\":\"#506784\",\"showbackground\":true,\"ticks\":\"\",\"zerolinecolor\":\"#C8D4E3\",\"gridwidth\":2},\"zaxis\":{\"backgroundcolor\":\"rgb(17,17,17)\",\"gridcolor\":\"#506784\",\"linecolor\":\"#506784\",\"showbackground\":true,\"ticks\":\"\",\"zerolinecolor\":\"#C8D4E3\",\"gridwidth\":2}},\"shapedefaults\":{\"line\":{\"color\":\"#f2f5fa\"}},\"annotationdefaults\":{\"arrowcolor\":\"#f2f5fa\",\"arrowhead\":0,\"arrowwidth\":1},\"geo\":{\"bgcolor\":\"rgb(17,17,17)\",\"landcolor\":\"rgb(17,17,17)\",\"subunitcolor\":\"#506784\",\"showland\":true,\"showlakes\":true,\"lakecolor\":\"rgb(17,17,17)\"},\"title\":{\"x\":0.05},\"updatemenudefaults\":{\"bgcolor\":\"#506784\",\"borderwidth\":0},\"sliderdefaults\":{\"bgcolor\":\"#C8D4E3\",\"borderwidth\":1,\"bordercolor\":\"rgb(17,17,17)\",\"tickwidth\":0},\"mapbox\":{\"style\":\"dark\"}}},\"xaxis\":{\"anchor\":\"y\",\"domain\":[0.0,1.0],\"title\":{\"text\":\"x\"}},\"yaxis\":{\"anchor\":\"x\",\"domain\":[0.0,1.0],\"title\":{\"text\":\"y\"}},\"legend\":{\"tracegroupgap\":0},\"margin\":{\"t\":60},\"barmode\":\"relative\"},                        {\"responsive\": true}                    ).then(function(){\n",
       "                            \n",
       "var gd = document.getElementById('fdf76bf9-13e4-44f1-8b7d-75b07ea2ae75');\n",
       "var x = new MutationObserver(function (mutations, observer) {{\n",
       "        var display = window.getComputedStyle(gd).display;\n",
       "        if (!display || display === 'none') {{\n",
       "            console.log([gd, 'removed!']);\n",
       "            Plotly.purge(gd);\n",
       "            observer.disconnect();\n",
       "        }}\n",
       "}});\n",
       "\n",
       "// Listen for the removal of the full notebook cells\n",
       "var notebookContainer = gd.closest('#notebook-container');\n",
       "if (notebookContainer) {{\n",
       "    x.observe(notebookContainer, {childList: true});\n",
       "}}\n",
       "\n",
       "// Listen for the clearing of the current output cell\n",
       "var outputEl = gd.closest('.output');\n",
       "if (outputEl) {{\n",
       "    x.observe(outputEl, {childList: true});\n",
       "}}\n",
       "\n",
       "                        })                };                });            </script>        </div>"
      ]
     },
     "metadata": {},
     "output_type": "display_data"
    }
   ],
   "execution_count": 32
  },
  {
   "cell_type": "markdown",
   "id": "69c3a586-9eb4-4ac9-8a8a-f92f1cbabbc0",
   "metadata": {
    "jp-MarkdownHeadingCollapsed": true,
    "tags": []
   },
   "source": [
    "\n",
    "#### Line charts\n",
    "\n",
    "Line charts are typically used to show how a variable (or variables) changes over time. With Plotly Express, it is incredibly easy to create a [line chart](https://plotly.com/python/line-charts/).\n",
    "\n",
    "Let's plot the total number of reviews for each year."
   ]
  },
  {
   "cell_type": "code",
   "id": "22cda2a1-92ad-408d-93a5-95bd8f70a933",
   "metadata": {
    "ExecuteTime": {
     "end_time": "2024-11-25T17:14:58.493630Z",
     "start_time": "2024-11-25T17:14:58.433526Z"
    }
   },
   "source": [
    "# Specify the data\n",
    "years = [2009, 2010, 2011, 2012, 2013, 2014, 2015, 2016, 2017, 2018, 2019, 2020, 2021]\n",
    "total_reviews = [235506, 273981, 405041, 654546, 654907, 792997, 711669, 709800, 644420, 696521, 794917, 1790733, 2818117]\n",
    "\n",
    "# Initialize a line plot\n",
    "fig = px.line(y = years, x = total_reviews)\n",
    "\n",
    "fig.update_layout()\n",
    "\n",
    "fig.show()"
   ],
   "outputs": [
    {
     "data": {
      "application/vnd.plotly.v1+json": {
       "data": [
        {
         "hovertemplate": "x=%{x}<br>y=%{y}<extra></extra>",
         "legendgroup": "",
         "line": {
          "color": "#636efa",
          "dash": "solid"
         },
         "marker": {
          "symbol": "circle"
         },
         "mode": "lines",
         "name": "",
         "orientation": "v",
         "showlegend": false,
         "x": [
          235506,
          273981,
          405041,
          654546,
          654907,
          792997,
          711669,
          709800,
          644420,
          696521,
          794917,
          1790733,
          2818117
         ],
         "xaxis": "x",
         "y": [
          2009,
          2010,
          2011,
          2012,
          2013,
          2014,
          2015,
          2016,
          2017,
          2018,
          2019,
          2020,
          2021
         ],
         "yaxis": "y",
         "type": "scatter"
        }
       ],
       "layout": {
        "template": {
         "data": {
          "histogram2dcontour": [
           {
            "type": "histogram2dcontour",
            "colorbar": {
             "outlinewidth": 0,
             "ticks": ""
            },
            "colorscale": [
             [
              0.0,
              "#0d0887"
             ],
             [
              0.1111111111111111,
              "#46039f"
             ],
             [
              0.2222222222222222,
              "#7201a8"
             ],
             [
              0.3333333333333333,
              "#9c179e"
             ],
             [
              0.4444444444444444,
              "#bd3786"
             ],
             [
              0.5555555555555556,
              "#d8576b"
             ],
             [
              0.6666666666666666,
              "#ed7953"
             ],
             [
              0.7777777777777778,
              "#fb9f3a"
             ],
             [
              0.8888888888888888,
              "#fdca26"
             ],
             [
              1.0,
              "#f0f921"
             ]
            ]
           }
          ],
          "choropleth": [
           {
            "type": "choropleth",
            "colorbar": {
             "outlinewidth": 0,
             "ticks": ""
            }
           }
          ],
          "histogram2d": [
           {
            "type": "histogram2d",
            "colorbar": {
             "outlinewidth": 0,
             "ticks": ""
            },
            "colorscale": [
             [
              0.0,
              "#0d0887"
             ],
             [
              0.1111111111111111,
              "#46039f"
             ],
             [
              0.2222222222222222,
              "#7201a8"
             ],
             [
              0.3333333333333333,
              "#9c179e"
             ],
             [
              0.4444444444444444,
              "#bd3786"
             ],
             [
              0.5555555555555556,
              "#d8576b"
             ],
             [
              0.6666666666666666,
              "#ed7953"
             ],
             [
              0.7777777777777778,
              "#fb9f3a"
             ],
             [
              0.8888888888888888,
              "#fdca26"
             ],
             [
              1.0,
              "#f0f921"
             ]
            ]
           }
          ],
          "heatmap": [
           {
            "type": "heatmap",
            "colorbar": {
             "outlinewidth": 0,
             "ticks": ""
            },
            "colorscale": [
             [
              0.0,
              "#0d0887"
             ],
             [
              0.1111111111111111,
              "#46039f"
             ],
             [
              0.2222222222222222,
              "#7201a8"
             ],
             [
              0.3333333333333333,
              "#9c179e"
             ],
             [
              0.4444444444444444,
              "#bd3786"
             ],
             [
              0.5555555555555556,
              "#d8576b"
             ],
             [
              0.6666666666666666,
              "#ed7953"
             ],
             [
              0.7777777777777778,
              "#fb9f3a"
             ],
             [
              0.8888888888888888,
              "#fdca26"
             ],
             [
              1.0,
              "#f0f921"
             ]
            ]
           }
          ],
          "heatmapgl": [
           {
            "type": "heatmapgl",
            "colorbar": {
             "outlinewidth": 0,
             "ticks": ""
            },
            "colorscale": [
             [
              0.0,
              "#0d0887"
             ],
             [
              0.1111111111111111,
              "#46039f"
             ],
             [
              0.2222222222222222,
              "#7201a8"
             ],
             [
              0.3333333333333333,
              "#9c179e"
             ],
             [
              0.4444444444444444,
              "#bd3786"
             ],
             [
              0.5555555555555556,
              "#d8576b"
             ],
             [
              0.6666666666666666,
              "#ed7953"
             ],
             [
              0.7777777777777778,
              "#fb9f3a"
             ],
             [
              0.8888888888888888,
              "#fdca26"
             ],
             [
              1.0,
              "#f0f921"
             ]
            ]
           }
          ],
          "contourcarpet": [
           {
            "type": "contourcarpet",
            "colorbar": {
             "outlinewidth": 0,
             "ticks": ""
            }
           }
          ],
          "contour": [
           {
            "type": "contour",
            "colorbar": {
             "outlinewidth": 0,
             "ticks": ""
            },
            "colorscale": [
             [
              0.0,
              "#0d0887"
             ],
             [
              0.1111111111111111,
              "#46039f"
             ],
             [
              0.2222222222222222,
              "#7201a8"
             ],
             [
              0.3333333333333333,
              "#9c179e"
             ],
             [
              0.4444444444444444,
              "#bd3786"
             ],
             [
              0.5555555555555556,
              "#d8576b"
             ],
             [
              0.6666666666666666,
              "#ed7953"
             ],
             [
              0.7777777777777778,
              "#fb9f3a"
             ],
             [
              0.8888888888888888,
              "#fdca26"
             ],
             [
              1.0,
              "#f0f921"
             ]
            ]
           }
          ],
          "surface": [
           {
            "type": "surface",
            "colorbar": {
             "outlinewidth": 0,
             "ticks": ""
            },
            "colorscale": [
             [
              0.0,
              "#0d0887"
             ],
             [
              0.1111111111111111,
              "#46039f"
             ],
             [
              0.2222222222222222,
              "#7201a8"
             ],
             [
              0.3333333333333333,
              "#9c179e"
             ],
             [
              0.4444444444444444,
              "#bd3786"
             ],
             [
              0.5555555555555556,
              "#d8576b"
             ],
             [
              0.6666666666666666,
              "#ed7953"
             ],
             [
              0.7777777777777778,
              "#fb9f3a"
             ],
             [
              0.8888888888888888,
              "#fdca26"
             ],
             [
              1.0,
              "#f0f921"
             ]
            ]
           }
          ],
          "mesh3d": [
           {
            "type": "mesh3d",
            "colorbar": {
             "outlinewidth": 0,
             "ticks": ""
            }
           }
          ],
          "scatter": [
           {
            "marker": {
             "line": {
              "color": "#283442"
             }
            },
            "type": "scatter"
           }
          ],
          "parcoords": [
           {
            "type": "parcoords",
            "line": {
             "colorbar": {
              "outlinewidth": 0,
              "ticks": ""
             }
            }
           }
          ],
          "scatterpolargl": [
           {
            "type": "scatterpolargl",
            "marker": {
             "colorbar": {
              "outlinewidth": 0,
              "ticks": ""
             }
            }
           }
          ],
          "bar": [
           {
            "error_x": {
             "color": "#f2f5fa"
            },
            "error_y": {
             "color": "#f2f5fa"
            },
            "marker": {
             "line": {
              "color": "rgb(17,17,17)",
              "width": 0.5
             },
             "pattern": {
              "fillmode": "overlay",
              "size": 10,
              "solidity": 0.2
             }
            },
            "type": "bar"
           }
          ],
          "scattergeo": [
           {
            "type": "scattergeo",
            "marker": {
             "colorbar": {
              "outlinewidth": 0,
              "ticks": ""
             }
            }
           }
          ],
          "scatterpolar": [
           {
            "type": "scatterpolar",
            "marker": {
             "colorbar": {
              "outlinewidth": 0,
              "ticks": ""
             }
            }
           }
          ],
          "histogram": [
           {
            "marker": {
             "pattern": {
              "fillmode": "overlay",
              "size": 10,
              "solidity": 0.2
             }
            },
            "type": "histogram"
           }
          ],
          "scattergl": [
           {
            "marker": {
             "line": {
              "color": "#283442"
             }
            },
            "type": "scattergl"
           }
          ],
          "scatter3d": [
           {
            "type": "scatter3d",
            "line": {
             "colorbar": {
              "outlinewidth": 0,
              "ticks": ""
             }
            },
            "marker": {
             "colorbar": {
              "outlinewidth": 0,
              "ticks": ""
             }
            }
           }
          ],
          "scattermapbox": [
           {
            "type": "scattermapbox",
            "marker": {
             "colorbar": {
              "outlinewidth": 0,
              "ticks": ""
             }
            }
           }
          ],
          "scatterternary": [
           {
            "type": "scatterternary",
            "marker": {
             "colorbar": {
              "outlinewidth": 0,
              "ticks": ""
             }
            }
           }
          ],
          "scattercarpet": [
           {
            "type": "scattercarpet",
            "marker": {
             "colorbar": {
              "outlinewidth": 0,
              "ticks": ""
             }
            }
           }
          ],
          "carpet": [
           {
            "aaxis": {
             "endlinecolor": "#A2B1C6",
             "gridcolor": "#506784",
             "linecolor": "#506784",
             "minorgridcolor": "#506784",
             "startlinecolor": "#A2B1C6"
            },
            "baxis": {
             "endlinecolor": "#A2B1C6",
             "gridcolor": "#506784",
             "linecolor": "#506784",
             "minorgridcolor": "#506784",
             "startlinecolor": "#A2B1C6"
            },
            "type": "carpet"
           }
          ],
          "table": [
           {
            "cells": {
             "fill": {
              "color": "#506784"
             },
             "line": {
              "color": "rgb(17,17,17)"
             }
            },
            "header": {
             "fill": {
              "color": "#2a3f5f"
             },
             "line": {
              "color": "rgb(17,17,17)"
             }
            },
            "type": "table"
           }
          ],
          "barpolar": [
           {
            "marker": {
             "line": {
              "color": "rgb(17,17,17)",
              "width": 0.5
             },
             "pattern": {
              "fillmode": "overlay",
              "size": 10,
              "solidity": 0.2
             }
            },
            "type": "barpolar"
           }
          ],
          "pie": [
           {
            "automargin": true,
            "type": "pie"
           }
          ]
         },
         "layout": {
          "autotypenumbers": "strict",
          "colorway": [
           "#636efa",
           "#EF553B",
           "#00cc96",
           "#ab63fa",
           "#FFA15A",
           "#19d3f3",
           "#FF6692",
           "#B6E880",
           "#FF97FF",
           "#FECB52"
          ],
          "font": {
           "color": "#f2f5fa"
          },
          "hovermode": "closest",
          "hoverlabel": {
           "align": "left"
          },
          "paper_bgcolor": "rgb(17,17,17)",
          "plot_bgcolor": "rgb(17,17,17)",
          "polar": {
           "bgcolor": "rgb(17,17,17)",
           "angularaxis": {
            "gridcolor": "#506784",
            "linecolor": "#506784",
            "ticks": ""
           },
           "radialaxis": {
            "gridcolor": "#506784",
            "linecolor": "#506784",
            "ticks": ""
           }
          },
          "ternary": {
           "bgcolor": "rgb(17,17,17)",
           "aaxis": {
            "gridcolor": "#506784",
            "linecolor": "#506784",
            "ticks": ""
           },
           "baxis": {
            "gridcolor": "#506784",
            "linecolor": "#506784",
            "ticks": ""
           },
           "caxis": {
            "gridcolor": "#506784",
            "linecolor": "#506784",
            "ticks": ""
           }
          },
          "coloraxis": {
           "colorbar": {
            "outlinewidth": 0,
            "ticks": ""
           }
          },
          "colorscale": {
           "sequential": [
            [
             0.0,
             "#0d0887"
            ],
            [
             0.1111111111111111,
             "#46039f"
            ],
            [
             0.2222222222222222,
             "#7201a8"
            ],
            [
             0.3333333333333333,
             "#9c179e"
            ],
            [
             0.4444444444444444,
             "#bd3786"
            ],
            [
             0.5555555555555556,
             "#d8576b"
            ],
            [
             0.6666666666666666,
             "#ed7953"
            ],
            [
             0.7777777777777778,
             "#fb9f3a"
            ],
            [
             0.8888888888888888,
             "#fdca26"
            ],
            [
             1.0,
             "#f0f921"
            ]
           ],
           "sequentialminus": [
            [
             0.0,
             "#0d0887"
            ],
            [
             0.1111111111111111,
             "#46039f"
            ],
            [
             0.2222222222222222,
             "#7201a8"
            ],
            [
             0.3333333333333333,
             "#9c179e"
            ],
            [
             0.4444444444444444,
             "#bd3786"
            ],
            [
             0.5555555555555556,
             "#d8576b"
            ],
            [
             0.6666666666666666,
             "#ed7953"
            ],
            [
             0.7777777777777778,
             "#fb9f3a"
            ],
            [
             0.8888888888888888,
             "#fdca26"
            ],
            [
             1.0,
             "#f0f921"
            ]
           ],
           "diverging": [
            [
             0,
             "#8e0152"
            ],
            [
             0.1,
             "#c51b7d"
            ],
            [
             0.2,
             "#de77ae"
            ],
            [
             0.3,
             "#f1b6da"
            ],
            [
             0.4,
             "#fde0ef"
            ],
            [
             0.5,
             "#f7f7f7"
            ],
            [
             0.6,
             "#e6f5d0"
            ],
            [
             0.7,
             "#b8e186"
            ],
            [
             0.8,
             "#7fbc41"
            ],
            [
             0.9,
             "#4d9221"
            ],
            [
             1,
             "#276419"
            ]
           ]
          },
          "xaxis": {
           "gridcolor": "#283442",
           "linecolor": "#506784",
           "ticks": "",
           "title": {
            "standoff": 15
           },
           "zerolinecolor": "#283442",
           "automargin": true,
           "zerolinewidth": 2
          },
          "yaxis": {
           "gridcolor": "#283442",
           "linecolor": "#506784",
           "ticks": "",
           "title": {
            "standoff": 15
           },
           "zerolinecolor": "#283442",
           "automargin": true,
           "zerolinewidth": 2
          },
          "scene": {
           "xaxis": {
            "backgroundcolor": "rgb(17,17,17)",
            "gridcolor": "#506784",
            "linecolor": "#506784",
            "showbackground": true,
            "ticks": "",
            "zerolinecolor": "#C8D4E3",
            "gridwidth": 2
           },
           "yaxis": {
            "backgroundcolor": "rgb(17,17,17)",
            "gridcolor": "#506784",
            "linecolor": "#506784",
            "showbackground": true,
            "ticks": "",
            "zerolinecolor": "#C8D4E3",
            "gridwidth": 2
           },
           "zaxis": {
            "backgroundcolor": "rgb(17,17,17)",
            "gridcolor": "#506784",
            "linecolor": "#506784",
            "showbackground": true,
            "ticks": "",
            "zerolinecolor": "#C8D4E3",
            "gridwidth": 2
           }
          },
          "shapedefaults": {
           "line": {
            "color": "#f2f5fa"
           }
          },
          "annotationdefaults": {
           "arrowcolor": "#f2f5fa",
           "arrowhead": 0,
           "arrowwidth": 1
          },
          "geo": {
           "bgcolor": "rgb(17,17,17)",
           "landcolor": "rgb(17,17,17)",
           "subunitcolor": "#506784",
           "showland": true,
           "showlakes": true,
           "lakecolor": "rgb(17,17,17)"
          },
          "title": {
           "x": 0.05
          },
          "updatemenudefaults": {
           "bgcolor": "#506784",
           "borderwidth": 0
          },
          "sliderdefaults": {
           "bgcolor": "#C8D4E3",
           "borderwidth": 1,
           "bordercolor": "rgb(17,17,17)",
           "tickwidth": 0
          },
          "mapbox": {
           "style": "dark"
          }
         }
        },
        "xaxis": {
         "anchor": "y",
         "domain": [
          0.0,
          1.0
         ],
         "title": {
          "text": "x"
         }
        },
        "yaxis": {
         "anchor": "x",
         "domain": [
          0.0,
          1.0
         ],
         "title": {
          "text": "y"
         }
        },
        "legend": {
         "tracegroupgap": 0
        },
        "margin": {
         "t": 60
        }
       },
       "config": {
        "plotlyServerURL": "https://plot.ly"
       }
      },
      "text/html": [
       "<div>                            <div id=\"ebb761e1-4b24-481c-b6da-d853b8977ae5\" class=\"plotly-graph-div\" style=\"height:525px; width:100%;\"></div>            <script type=\"text/javascript\">                require([\"plotly\"], function(Plotly) {                    window.PLOTLYENV=window.PLOTLYENV || {};                                    if (document.getElementById(\"ebb761e1-4b24-481c-b6da-d853b8977ae5\")) {                    Plotly.newPlot(                        \"ebb761e1-4b24-481c-b6da-d853b8977ae5\",                        [{\"hovertemplate\":\"x=%{x}\\u003cbr\\u003ey=%{y}\\u003cextra\\u003e\\u003c\\u002fextra\\u003e\",\"legendgroup\":\"\",\"line\":{\"color\":\"#636efa\",\"dash\":\"solid\"},\"marker\":{\"symbol\":\"circle\"},\"mode\":\"lines\",\"name\":\"\",\"orientation\":\"v\",\"showlegend\":false,\"x\":[235506,273981,405041,654546,654907,792997,711669,709800,644420,696521,794917,1790733,2818117],\"xaxis\":\"x\",\"y\":[2009,2010,2011,2012,2013,2014,2015,2016,2017,2018,2019,2020,2021],\"yaxis\":\"y\",\"type\":\"scatter\"}],                        {\"template\":{\"data\":{\"histogram2dcontour\":[{\"type\":\"histogram2dcontour\",\"colorbar\":{\"outlinewidth\":0,\"ticks\":\"\"},\"colorscale\":[[0.0,\"#0d0887\"],[0.1111111111111111,\"#46039f\"],[0.2222222222222222,\"#7201a8\"],[0.3333333333333333,\"#9c179e\"],[0.4444444444444444,\"#bd3786\"],[0.5555555555555556,\"#d8576b\"],[0.6666666666666666,\"#ed7953\"],[0.7777777777777778,\"#fb9f3a\"],[0.8888888888888888,\"#fdca26\"],[1.0,\"#f0f921\"]]}],\"choropleth\":[{\"type\":\"choropleth\",\"colorbar\":{\"outlinewidth\":0,\"ticks\":\"\"}}],\"histogram2d\":[{\"type\":\"histogram2d\",\"colorbar\":{\"outlinewidth\":0,\"ticks\":\"\"},\"colorscale\":[[0.0,\"#0d0887\"],[0.1111111111111111,\"#46039f\"],[0.2222222222222222,\"#7201a8\"],[0.3333333333333333,\"#9c179e\"],[0.4444444444444444,\"#bd3786\"],[0.5555555555555556,\"#d8576b\"],[0.6666666666666666,\"#ed7953\"],[0.7777777777777778,\"#fb9f3a\"],[0.8888888888888888,\"#fdca26\"],[1.0,\"#f0f921\"]]}],\"heatmap\":[{\"type\":\"heatmap\",\"colorbar\":{\"outlinewidth\":0,\"ticks\":\"\"},\"colorscale\":[[0.0,\"#0d0887\"],[0.1111111111111111,\"#46039f\"],[0.2222222222222222,\"#7201a8\"],[0.3333333333333333,\"#9c179e\"],[0.4444444444444444,\"#bd3786\"],[0.5555555555555556,\"#d8576b\"],[0.6666666666666666,\"#ed7953\"],[0.7777777777777778,\"#fb9f3a\"],[0.8888888888888888,\"#fdca26\"],[1.0,\"#f0f921\"]]}],\"heatmapgl\":[{\"type\":\"heatmapgl\",\"colorbar\":{\"outlinewidth\":0,\"ticks\":\"\"},\"colorscale\":[[0.0,\"#0d0887\"],[0.1111111111111111,\"#46039f\"],[0.2222222222222222,\"#7201a8\"],[0.3333333333333333,\"#9c179e\"],[0.4444444444444444,\"#bd3786\"],[0.5555555555555556,\"#d8576b\"],[0.6666666666666666,\"#ed7953\"],[0.7777777777777778,\"#fb9f3a\"],[0.8888888888888888,\"#fdca26\"],[1.0,\"#f0f921\"]]}],\"contourcarpet\":[{\"type\":\"contourcarpet\",\"colorbar\":{\"outlinewidth\":0,\"ticks\":\"\"}}],\"contour\":[{\"type\":\"contour\",\"colorbar\":{\"outlinewidth\":0,\"ticks\":\"\"},\"colorscale\":[[0.0,\"#0d0887\"],[0.1111111111111111,\"#46039f\"],[0.2222222222222222,\"#7201a8\"],[0.3333333333333333,\"#9c179e\"],[0.4444444444444444,\"#bd3786\"],[0.5555555555555556,\"#d8576b\"],[0.6666666666666666,\"#ed7953\"],[0.7777777777777778,\"#fb9f3a\"],[0.8888888888888888,\"#fdca26\"],[1.0,\"#f0f921\"]]}],\"surface\":[{\"type\":\"surface\",\"colorbar\":{\"outlinewidth\":0,\"ticks\":\"\"},\"colorscale\":[[0.0,\"#0d0887\"],[0.1111111111111111,\"#46039f\"],[0.2222222222222222,\"#7201a8\"],[0.3333333333333333,\"#9c179e\"],[0.4444444444444444,\"#bd3786\"],[0.5555555555555556,\"#d8576b\"],[0.6666666666666666,\"#ed7953\"],[0.7777777777777778,\"#fb9f3a\"],[0.8888888888888888,\"#fdca26\"],[1.0,\"#f0f921\"]]}],\"mesh3d\":[{\"type\":\"mesh3d\",\"colorbar\":{\"outlinewidth\":0,\"ticks\":\"\"}}],\"scatter\":[{\"marker\":{\"line\":{\"color\":\"#283442\"}},\"type\":\"scatter\"}],\"parcoords\":[{\"type\":\"parcoords\",\"line\":{\"colorbar\":{\"outlinewidth\":0,\"ticks\":\"\"}}}],\"scatterpolargl\":[{\"type\":\"scatterpolargl\",\"marker\":{\"colorbar\":{\"outlinewidth\":0,\"ticks\":\"\"}}}],\"bar\":[{\"error_x\":{\"color\":\"#f2f5fa\"},\"error_y\":{\"color\":\"#f2f5fa\"},\"marker\":{\"line\":{\"color\":\"rgb(17,17,17)\",\"width\":0.5},\"pattern\":{\"fillmode\":\"overlay\",\"size\":10,\"solidity\":0.2}},\"type\":\"bar\"}],\"scattergeo\":[{\"type\":\"scattergeo\",\"marker\":{\"colorbar\":{\"outlinewidth\":0,\"ticks\":\"\"}}}],\"scatterpolar\":[{\"type\":\"scatterpolar\",\"marker\":{\"colorbar\":{\"outlinewidth\":0,\"ticks\":\"\"}}}],\"histogram\":[{\"marker\":{\"pattern\":{\"fillmode\":\"overlay\",\"size\":10,\"solidity\":0.2}},\"type\":\"histogram\"}],\"scattergl\":[{\"marker\":{\"line\":{\"color\":\"#283442\"}},\"type\":\"scattergl\"}],\"scatter3d\":[{\"type\":\"scatter3d\",\"line\":{\"colorbar\":{\"outlinewidth\":0,\"ticks\":\"\"}},\"marker\":{\"colorbar\":{\"outlinewidth\":0,\"ticks\":\"\"}}}],\"scattermapbox\":[{\"type\":\"scattermapbox\",\"marker\":{\"colorbar\":{\"outlinewidth\":0,\"ticks\":\"\"}}}],\"scatterternary\":[{\"type\":\"scatterternary\",\"marker\":{\"colorbar\":{\"outlinewidth\":0,\"ticks\":\"\"}}}],\"scattercarpet\":[{\"type\":\"scattercarpet\",\"marker\":{\"colorbar\":{\"outlinewidth\":0,\"ticks\":\"\"}}}],\"carpet\":[{\"aaxis\":{\"endlinecolor\":\"#A2B1C6\",\"gridcolor\":\"#506784\",\"linecolor\":\"#506784\",\"minorgridcolor\":\"#506784\",\"startlinecolor\":\"#A2B1C6\"},\"baxis\":{\"endlinecolor\":\"#A2B1C6\",\"gridcolor\":\"#506784\",\"linecolor\":\"#506784\",\"minorgridcolor\":\"#506784\",\"startlinecolor\":\"#A2B1C6\"},\"type\":\"carpet\"}],\"table\":[{\"cells\":{\"fill\":{\"color\":\"#506784\"},\"line\":{\"color\":\"rgb(17,17,17)\"}},\"header\":{\"fill\":{\"color\":\"#2a3f5f\"},\"line\":{\"color\":\"rgb(17,17,17)\"}},\"type\":\"table\"}],\"barpolar\":[{\"marker\":{\"line\":{\"color\":\"rgb(17,17,17)\",\"width\":0.5},\"pattern\":{\"fillmode\":\"overlay\",\"size\":10,\"solidity\":0.2}},\"type\":\"barpolar\"}],\"pie\":[{\"automargin\":true,\"type\":\"pie\"}]},\"layout\":{\"autotypenumbers\":\"strict\",\"colorway\":[\"#636efa\",\"#EF553B\",\"#00cc96\",\"#ab63fa\",\"#FFA15A\",\"#19d3f3\",\"#FF6692\",\"#B6E880\",\"#FF97FF\",\"#FECB52\"],\"font\":{\"color\":\"#f2f5fa\"},\"hovermode\":\"closest\",\"hoverlabel\":{\"align\":\"left\"},\"paper_bgcolor\":\"rgb(17,17,17)\",\"plot_bgcolor\":\"rgb(17,17,17)\",\"polar\":{\"bgcolor\":\"rgb(17,17,17)\",\"angularaxis\":{\"gridcolor\":\"#506784\",\"linecolor\":\"#506784\",\"ticks\":\"\"},\"radialaxis\":{\"gridcolor\":\"#506784\",\"linecolor\":\"#506784\",\"ticks\":\"\"}},\"ternary\":{\"bgcolor\":\"rgb(17,17,17)\",\"aaxis\":{\"gridcolor\":\"#506784\",\"linecolor\":\"#506784\",\"ticks\":\"\"},\"baxis\":{\"gridcolor\":\"#506784\",\"linecolor\":\"#506784\",\"ticks\":\"\"},\"caxis\":{\"gridcolor\":\"#506784\",\"linecolor\":\"#506784\",\"ticks\":\"\"}},\"coloraxis\":{\"colorbar\":{\"outlinewidth\":0,\"ticks\":\"\"}},\"colorscale\":{\"sequential\":[[0.0,\"#0d0887\"],[0.1111111111111111,\"#46039f\"],[0.2222222222222222,\"#7201a8\"],[0.3333333333333333,\"#9c179e\"],[0.4444444444444444,\"#bd3786\"],[0.5555555555555556,\"#d8576b\"],[0.6666666666666666,\"#ed7953\"],[0.7777777777777778,\"#fb9f3a\"],[0.8888888888888888,\"#fdca26\"],[1.0,\"#f0f921\"]],\"sequentialminus\":[[0.0,\"#0d0887\"],[0.1111111111111111,\"#46039f\"],[0.2222222222222222,\"#7201a8\"],[0.3333333333333333,\"#9c179e\"],[0.4444444444444444,\"#bd3786\"],[0.5555555555555556,\"#d8576b\"],[0.6666666666666666,\"#ed7953\"],[0.7777777777777778,\"#fb9f3a\"],[0.8888888888888888,\"#fdca26\"],[1.0,\"#f0f921\"]],\"diverging\":[[0,\"#8e0152\"],[0.1,\"#c51b7d\"],[0.2,\"#de77ae\"],[0.3,\"#f1b6da\"],[0.4,\"#fde0ef\"],[0.5,\"#f7f7f7\"],[0.6,\"#e6f5d0\"],[0.7,\"#b8e186\"],[0.8,\"#7fbc41\"],[0.9,\"#4d9221\"],[1,\"#276419\"]]},\"xaxis\":{\"gridcolor\":\"#283442\",\"linecolor\":\"#506784\",\"ticks\":\"\",\"title\":{\"standoff\":15},\"zerolinecolor\":\"#283442\",\"automargin\":true,\"zerolinewidth\":2},\"yaxis\":{\"gridcolor\":\"#283442\",\"linecolor\":\"#506784\",\"ticks\":\"\",\"title\":{\"standoff\":15},\"zerolinecolor\":\"#283442\",\"automargin\":true,\"zerolinewidth\":2},\"scene\":{\"xaxis\":{\"backgroundcolor\":\"rgb(17,17,17)\",\"gridcolor\":\"#506784\",\"linecolor\":\"#506784\",\"showbackground\":true,\"ticks\":\"\",\"zerolinecolor\":\"#C8D4E3\",\"gridwidth\":2},\"yaxis\":{\"backgroundcolor\":\"rgb(17,17,17)\",\"gridcolor\":\"#506784\",\"linecolor\":\"#506784\",\"showbackground\":true,\"ticks\":\"\",\"zerolinecolor\":\"#C8D4E3\",\"gridwidth\":2},\"zaxis\":{\"backgroundcolor\":\"rgb(17,17,17)\",\"gridcolor\":\"#506784\",\"linecolor\":\"#506784\",\"showbackground\":true,\"ticks\":\"\",\"zerolinecolor\":\"#C8D4E3\",\"gridwidth\":2}},\"shapedefaults\":{\"line\":{\"color\":\"#f2f5fa\"}},\"annotationdefaults\":{\"arrowcolor\":\"#f2f5fa\",\"arrowhead\":0,\"arrowwidth\":1},\"geo\":{\"bgcolor\":\"rgb(17,17,17)\",\"landcolor\":\"rgb(17,17,17)\",\"subunitcolor\":\"#506784\",\"showland\":true,\"showlakes\":true,\"lakecolor\":\"rgb(17,17,17)\"},\"title\":{\"x\":0.05},\"updatemenudefaults\":{\"bgcolor\":\"#506784\",\"borderwidth\":0},\"sliderdefaults\":{\"bgcolor\":\"#C8D4E3\",\"borderwidth\":1,\"bordercolor\":\"rgb(17,17,17)\",\"tickwidth\":0},\"mapbox\":{\"style\":\"dark\"}}},\"xaxis\":{\"anchor\":\"y\",\"domain\":[0.0,1.0],\"title\":{\"text\":\"x\"}},\"yaxis\":{\"anchor\":\"x\",\"domain\":[0.0,1.0],\"title\":{\"text\":\"y\"}},\"legend\":{\"tracegroupgap\":0},\"margin\":{\"t\":60}},                        {\"responsive\": true}                    ).then(function(){\n",
       "                            \n",
       "var gd = document.getElementById('ebb761e1-4b24-481c-b6da-d853b8977ae5');\n",
       "var x = new MutationObserver(function (mutations, observer) {{\n",
       "        var display = window.getComputedStyle(gd).display;\n",
       "        if (!display || display === 'none') {{\n",
       "            console.log([gd, 'removed!']);\n",
       "            Plotly.purge(gd);\n",
       "            observer.disconnect();\n",
       "        }}\n",
       "}});\n",
       "\n",
       "// Listen for the removal of the full notebook cells\n",
       "var notebookContainer = gd.closest('#notebook-container');\n",
       "if (notebookContainer) {{\n",
       "    x.observe(notebookContainer, {childList: true});\n",
       "}}\n",
       "\n",
       "// Listen for the clearing of the current output cell\n",
       "var outputEl = gd.closest('.output');\n",
       "if (outputEl) {{\n",
       "    x.observe(outputEl, {childList: true});\n",
       "}}\n",
       "\n",
       "                        })                };                });            </script>        </div>"
      ]
     },
     "metadata": {},
     "output_type": "display_data"
    }
   ],
   "execution_count": 33
  },
  {
   "cell_type": "markdown",
   "id": "e701856b-85eb-4b99-b262-0f48bbc6665d",
   "metadata": {
    "tags": []
   },
   "source": [
    "#### Scatter plots\n",
    "Scatter plots are similar to line plots and serve as a great way to visualize the relationship between two continuous variables that are not necessarily connected.\n",
    "\n",
    "Creating a [scatter plot with Plotly](https://plotly.com/python/line-and-scatter/) with Plotly is just as easy as creating a line chart.\n",
    "\n",
    "We will use a pandas DataFrame instead of Python lists to make things easier. A DataFrame is a data structure composed of labelled columns and rows, much like a spreadsheet."
   ]
  },
  {
   "cell_type": "code",
   "id": "c25940c8-5e93-449e-bab7-0d8607514e4a",
   "metadata": {
    "ExecuteTime": {
     "end_time": "2024-11-25T17:14:58.565665Z",
     "start_time": "2024-11-25T17:14:58.532888Z"
    }
   },
   "source": [
    "import pandas as pd\n",
    "\n",
    "books = pd.read_csv(\"amazon.csv\")\n",
    "\n",
    "books"
   ],
   "outputs": [
    {
     "data": {
      "text/plain": [
       "                                                  Name              Author  \\\n",
       "0                        10-Day Green Smoothie Cleanse            JJ Smith   \n",
       "1                                    11/22/63: A Novel        Stephen King   \n",
       "2              12 Rules for Life: An Antidote to Chaos  Jordan B. Peterson   \n",
       "3                                                 1984       George Orwell   \n",
       "4                               1984 (Signet Classics)       George Orwell   \n",
       "..                                                 ...                 ...   \n",
       "645       Wrecking Ball (Diary of a Wimpy Kid Book 14)         Jeff Kinney   \n",
       "646  You Are a Badass: How to Stop Doubting Your Gr...         Jen Sincero   \n",
       "647  You Are a Badass: How to Stop Doubting Your Gr...         Jen Sincero   \n",
       "648  You Are a Badass: How to Stop Doubting Your Gr...         Jen Sincero   \n",
       "649  You Are a Badass: How to Stop Doubting Your Gr...         Jen Sincero   \n",
       "\n",
       "     User Rating  Reviews  Price Price_r  Year        Genre  \n",
       "0            4.7  17350.0   8.00      $8  2016  Non Fiction  \n",
       "1            4.6   2052.0  22.00     $22  2011      Fiction  \n",
       "2            4.7  18979.0  15.00     $15  2018  Non Fiction  \n",
       "3            4.7  70425.0   7.48      $8  2021      Fiction  \n",
       "4            4.7  21424.0   6.00      $6  2017      Fiction  \n",
       "..           ...      ...    ...     ...   ...          ...  \n",
       "645          4.9   9413.0   8.00      $8  2019      Fiction  \n",
       "646          4.7  14331.0   8.00      $8  2016  Non Fiction  \n",
       "647          4.7  14331.0   8.00      $8  2017  Non Fiction  \n",
       "648          4.7  14331.0   8.00      $8  2018  Non Fiction  \n",
       "649          4.7  14331.0   8.00      $8  2019  Non Fiction  \n",
       "\n",
       "[650 rows x 8 columns]"
      ],
      "text/html": [
       "<div>\n",
       "<style scoped>\n",
       "    .dataframe tbody tr th:only-of-type {\n",
       "        vertical-align: middle;\n",
       "    }\n",
       "\n",
       "    .dataframe tbody tr th {\n",
       "        vertical-align: top;\n",
       "    }\n",
       "\n",
       "    .dataframe thead th {\n",
       "        text-align: right;\n",
       "    }\n",
       "</style>\n",
       "<table border=\"1\" class=\"dataframe\">\n",
       "  <thead>\n",
       "    <tr style=\"text-align: right;\">\n",
       "      <th></th>\n",
       "      <th>Name</th>\n",
       "      <th>Author</th>\n",
       "      <th>User Rating</th>\n",
       "      <th>Reviews</th>\n",
       "      <th>Price</th>\n",
       "      <th>Price_r</th>\n",
       "      <th>Year</th>\n",
       "      <th>Genre</th>\n",
       "    </tr>\n",
       "  </thead>\n",
       "  <tbody>\n",
       "    <tr>\n",
       "      <th>0</th>\n",
       "      <td>10-Day Green Smoothie Cleanse</td>\n",
       "      <td>JJ Smith</td>\n",
       "      <td>4.7</td>\n",
       "      <td>17350.0</td>\n",
       "      <td>8.00</td>\n",
       "      <td>$8</td>\n",
       "      <td>2016</td>\n",
       "      <td>Non Fiction</td>\n",
       "    </tr>\n",
       "    <tr>\n",
       "      <th>1</th>\n",
       "      <td>11/22/63: A Novel</td>\n",
       "      <td>Stephen King</td>\n",
       "      <td>4.6</td>\n",
       "      <td>2052.0</td>\n",
       "      <td>22.00</td>\n",
       "      <td>$22</td>\n",
       "      <td>2011</td>\n",
       "      <td>Fiction</td>\n",
       "    </tr>\n",
       "    <tr>\n",
       "      <th>2</th>\n",
       "      <td>12 Rules for Life: An Antidote to Chaos</td>\n",
       "      <td>Jordan B. Peterson</td>\n",
       "      <td>4.7</td>\n",
       "      <td>18979.0</td>\n",
       "      <td>15.00</td>\n",
       "      <td>$15</td>\n",
       "      <td>2018</td>\n",
       "      <td>Non Fiction</td>\n",
       "    </tr>\n",
       "    <tr>\n",
       "      <th>3</th>\n",
       "      <td>1984</td>\n",
       "      <td>George Orwell</td>\n",
       "      <td>4.7</td>\n",
       "      <td>70425.0</td>\n",
       "      <td>7.48</td>\n",
       "      <td>$8</td>\n",
       "      <td>2021</td>\n",
       "      <td>Fiction</td>\n",
       "    </tr>\n",
       "    <tr>\n",
       "      <th>4</th>\n",
       "      <td>1984 (Signet Classics)</td>\n",
       "      <td>George Orwell</td>\n",
       "      <td>4.7</td>\n",
       "      <td>21424.0</td>\n",
       "      <td>6.00</td>\n",
       "      <td>$6</td>\n",
       "      <td>2017</td>\n",
       "      <td>Fiction</td>\n",
       "    </tr>\n",
       "    <tr>\n",
       "      <th>...</th>\n",
       "      <td>...</td>\n",
       "      <td>...</td>\n",
       "      <td>...</td>\n",
       "      <td>...</td>\n",
       "      <td>...</td>\n",
       "      <td>...</td>\n",
       "      <td>...</td>\n",
       "      <td>...</td>\n",
       "    </tr>\n",
       "    <tr>\n",
       "      <th>645</th>\n",
       "      <td>Wrecking Ball (Diary of a Wimpy Kid Book 14)</td>\n",
       "      <td>Jeff Kinney</td>\n",
       "      <td>4.9</td>\n",
       "      <td>9413.0</td>\n",
       "      <td>8.00</td>\n",
       "      <td>$8</td>\n",
       "      <td>2019</td>\n",
       "      <td>Fiction</td>\n",
       "    </tr>\n",
       "    <tr>\n",
       "      <th>646</th>\n",
       "      <td>You Are a Badass: How to Stop Doubting Your Gr...</td>\n",
       "      <td>Jen Sincero</td>\n",
       "      <td>4.7</td>\n",
       "      <td>14331.0</td>\n",
       "      <td>8.00</td>\n",
       "      <td>$8</td>\n",
       "      <td>2016</td>\n",
       "      <td>Non Fiction</td>\n",
       "    </tr>\n",
       "    <tr>\n",
       "      <th>647</th>\n",
       "      <td>You Are a Badass: How to Stop Doubting Your Gr...</td>\n",
       "      <td>Jen Sincero</td>\n",
       "      <td>4.7</td>\n",
       "      <td>14331.0</td>\n",
       "      <td>8.00</td>\n",
       "      <td>$8</td>\n",
       "      <td>2017</td>\n",
       "      <td>Non Fiction</td>\n",
       "    </tr>\n",
       "    <tr>\n",
       "      <th>648</th>\n",
       "      <td>You Are a Badass: How to Stop Doubting Your Gr...</td>\n",
       "      <td>Jen Sincero</td>\n",
       "      <td>4.7</td>\n",
       "      <td>14331.0</td>\n",
       "      <td>8.00</td>\n",
       "      <td>$8</td>\n",
       "      <td>2018</td>\n",
       "      <td>Non Fiction</td>\n",
       "    </tr>\n",
       "    <tr>\n",
       "      <th>649</th>\n",
       "      <td>You Are a Badass: How to Stop Doubting Your Gr...</td>\n",
       "      <td>Jen Sincero</td>\n",
       "      <td>4.7</td>\n",
       "      <td>14331.0</td>\n",
       "      <td>8.00</td>\n",
       "      <td>$8</td>\n",
       "      <td>2019</td>\n",
       "      <td>Non Fiction</td>\n",
       "    </tr>\n",
       "  </tbody>\n",
       "</table>\n",
       "<p>650 rows × 8 columns</p>\n",
       "</div>"
      ]
     },
     "execution_count": 34,
     "metadata": {},
     "output_type": "execute_result"
    }
   ],
   "execution_count": 34
  },
  {
   "cell_type": "code",
   "id": "6c499ba9-72ec-41b8-88f7-a37e560cfc89",
   "metadata": {
    "ExecuteTime": {
     "end_time": "2024-11-25T17:14:58.729454Z",
     "start_time": "2024-11-25T17:14:58.662470Z"
    }
   },
   "source": [
    "fig = px.scatter(books, x = \"Price\", y = \"Reviews\", opacity = 0.5)\n",
    "\n",
    "fig.show()"
   ],
   "outputs": [
    {
     "data": {
      "application/vnd.plotly.v1+json": {
       "data": [
        {
         "hovertemplate": "Price=%{x}<br>Reviews=%{y}<extra></extra>",
         "legendgroup": "",
         "marker": {
          "color": "#636efa",
          "opacity": 0.5,
          "symbol": "circle"
         },
         "mode": "markers",
         "name": "",
         "orientation": "v",
         "showlegend": false,
         "x": [
          8.0,
          22.0,
          15.0,
          7.48,
          6.0,
          12.0,
          11.0,
          30.0,
          15.0,
          3.0,
          8.0,
          8.0,
          2.0,
          23.0,
          32.0,
          5.0,
          17.0,
          4.0,
          6.0,
          6.0,
          8.0,
          13.0,
          14.0,
          14.0,
          13.0,
          17.0,
          12.52,
          9.0,
          13.0,
          5.0,
          9.0,
          17.78,
          12.0,
          11.98,
          14.0,
          5.0,
          11.0,
          24.0,
          21.0,
          11.0,
          11.0,
          10.0,
          15.0,
          13.0,
          13.0,
          7.49,
          18.0,
          13.0,
          8.0,
          5.0,
          5.0,
          5.0,
          5.36,
          8.0,
          6.99,
          0.0,
          13.58,
          4.0,
          18.0,
          28.0,
          19.0,
          14.34,
          11.0,
          11.0,
          11.0,
          4.0,
          16.0,
          14.0,
          14.0,
          14.0,
          8.0,
          4.0,
          5.0,
          8.99,
          11.0,
          11.0,
          10.0,
          13.0,
          4.0,
          8.0,
          4.0,
          5.0,
          5.0,
          5.0,
          5.0,
          17.0,
          15.0,
          105.0,
          105.0,
          0.0,
          15.0,
          22.0,
          5.0,
          15.0,
          15.0,
          6.0,
          6.0,
          13.0,
          12.0,
          6.0,
          8.0,
          4.0,
          4.0,
          8.0,
          8.0,
          6.0,
          6.0,
          6.62,
          20.0,
          5.0,
          16.0,
          12.01,
          1.0,
          14.0,
          9.0,
          9.0,
          7.0,
          18.0,
          15.0,
          15.0,
          11.0,
          9.0,
          8.0,
          8.0,
          15.0,
          2.0,
          7.0,
          11.0,
          14.0,
          14.0,
          32.0,
          6.0,
          4.0,
          4.0,
          4.0,
          4.0,
          4.0,
          9.0,
          0.0,
          9.0,
          5.0,
          5.0,
          5.0,
          20.0,
          16.0,
          14.0,
          4.0,
          4.0,
          4.0,
          4.0,
          4.0,
          6.0,
          12.0,
          12.0,
          12.0,
          11.0,
          19.0,
          18.0,
          9.0,
          6.0,
          10.0,
          10.0,
          9.0,
          6.0,
          14.0,
          14.0,
          14.0,
          14.0,
          5.0,
          5.0,
          5.0,
          7.0,
          7.0,
          10.0,
          18.0,
          15.98,
          14.0,
          10.62,
          7.0,
          54.0,
          11.0,
          30.0,
          12.0,
          18.0,
          30.0,
          22.0,
          9.0,
          52.0,
          4.0,
          10.0,
          10.0,
          14.0,
          14.0,
          22.0,
          13.0,
          6.0,
          6.0,
          5.0,
          11.0,
          11.0,
          11.0,
          11.0,
          11.0,
          10.58,
          16.0,
          5.0,
          15.0,
          15.0,
          17.0,
          17.0,
          7.0,
          9.0,
          6.99,
          1.0,
          4.31,
          7.0,
          4.0,
          4.0,
          4.0,
          4.14,
          9.0,
          21.0,
          14.0,
          20.0,
          13.0,
          13.0,
          10.26,
          12.0,
          8.0,
          8.0,
          8.0,
          8.0,
          8.0,
          8.0,
          0.0,
          12.0,
          17.0,
          12.0,
          25.0,
          10.0,
          10.0,
          6.0,
          5.0,
          6.0,
          8.0,
          4.0,
          4.0,
          4.0,
          13.0,
          4.0,
          4.0,
          4.0,
          4.0,
          4.0,
          13.0,
          21.0,
          6.0,
          15.0,
          18.0,
          10.0,
          0.0,
          12.0,
          10.0,
          15.0,
          7.0,
          13.0,
          5.0,
          5.0,
          17.0,
          16.0,
          20.0,
          11.0,
          27.0,
          13.0,
          8.0,
          8.0,
          8.0,
          6.0,
          10.0,
          10.0,
          10.0,
          8.0,
          8.0,
          8.0,
          21.0,
          15.0,
          4.07,
          14.4,
          16.0,
          11.0,
          10.0,
          9.0,
          14.0,
          22.0,
          8.0,
          8.0,
          8.0,
          8.0,
          8.0,
          8.0,
          8.0,
          8.0,
          8.48,
          7.0,
          12.0,
          13.0,
          13.0,
          9.0,
          13.0,
          11.0,
          20.0,
          20.0,
          5.0,
          5.0,
          9.0,
          6.0,
          8.49,
          2.0,
          14.16,
          27.0,
          27.0,
          27.0,
          9.0,
          10.0,
          10.0,
          10.0,
          26.0,
          46.0,
          46.0,
          46.0,
          46.0,
          46.0,
          46.0,
          46.0,
          46.0,
          46.0,
          46.0,
          4.0,
          20.0,
          7.0,
          9.0,
          9.0,
          15.0,
          12.0,
          12.0,
          15.49,
          12.0,
          12.0,
          20.0,
          20.0,
          10.0,
          8.0,
          4.79,
          6.0,
          6.0,
          9.0,
          9.59,
          11.0,
          16.0,
          6.0,
          25.0,
          17.0,
          20.0,
          20.0,
          6.0,
          17.0,
          17.0,
          17.0,
          17.0,
          17.0,
          17.0,
          17.0,
          17.0,
          17.0,
          18.0,
          13.0,
          18.0,
          20.0,
          20.0,
          22.0,
          21.0,
          11.6,
          28.0,
          28.0,
          28.0,
          28.0,
          28.0,
          8.0,
          8.0,
          8.0,
          8.0,
          8.0,
          8.0,
          7.57,
          12.0,
          24.0,
          24.0,
          24.0,
          24.0,
          16.0,
          16.0,
          16.0,
          39.0,
          13.99,
          9.0,
          10.0,
          10.0,
          14.0,
          9.0,
          17.0,
          11.0,
          14.0,
          12.0,
          8.0,
          11.4,
          53.0,
          6.0,
          6.0,
          8.0,
          8.0,
          15.0,
          10.35,
          12.0,
          12.0,
          12.0,
          21.0,
          6.0,
          6.0,
          13.0,
          0.0,
          11.0,
          9.0,
          9.0,
          9.0,
          7.0,
          15.0,
          11.0,
          13.0,
          13.0,
          7.0,
          13.0,
          6.0,
          6.0,
          6.0,
          6.0,
          6.0,
          9.0,
          6.0,
          7.74,
          6.0,
          6.0,
          6.0,
          6.0,
          6.0,
          6.0,
          13.79,
          0.0,
          18.0,
          7.0,
          14.0,
          14.0,
          9.0,
          16.0,
          2.0,
          2.0,
          5.0,
          5.0,
          20.0,
          20.0,
          7.0,
          7.0,
          7.0,
          14.0,
          10.0,
          7.0,
          13.0,
          11.0,
          6.0,
          6.0,
          8.0,
          7.0,
          9.58,
          14.0,
          14.0,
          8.0,
          8.0,
          30.0,
          30.0,
          13.0,
          9.0,
          9.0,
          7.0,
          7.0,
          9.0,
          7.0,
          7.0,
          13.09,
          20.0,
          13.0,
          13.0,
          11.0,
          11.0,
          11.0,
          11.0,
          18.0,
          14.0,
          19.0,
          13.0,
          5.0,
          10.0,
          9.0,
          8.0,
          8.0,
          13.29,
          12.0,
          11.0,
          11.0,
          40.0,
          40.0,
          40.0,
          40.0,
          40.0,
          36.0,
          16.0,
          17.0,
          14.0,
          21.0,
          18.0,
          17.0,
          5.0,
          5.0,
          21.0,
          18.0,
          18.0,
          19.42,
          12.0,
          14.0,
          12.0,
          12.0,
          9.42,
          8.0,
          8.0,
          0.0,
          14.0,
          15.0,
          10.0,
          10.34,
          19.0,
          17.99,
          15.0,
          15.0,
          15.0,
          14.8,
          9.0,
          7.0,
          10.0,
          6.0,
          9.0,
          10.0,
          82.0,
          12.0,
          10.0,
          16.0,
          5.0,
          5.0,
          5.0,
          5.0,
          5.0,
          5.0,
          5.0,
          7.0,
          5.06,
          16.0,
          16.0,
          16.0,
          10.0,
          10.0,
          10.0,
          10.0,
          8.55,
          4.0,
          4.0,
          5.0,
          16.0,
          8.37,
          15.0,
          19.0,
          19.0,
          9.0,
          23.0,
          11.0,
          11.0,
          23.0,
          23.0,
          23.0,
          23.0,
          12.0,
          0.0,
          0.0,
          0.0,
          0.0,
          7.0,
          17.0,
          21.0,
          21.0,
          15.0,
          9.0,
          5.0,
          16.0,
          16.0,
          16.0,
          13.0,
          16.0,
          20.0,
          11.0,
          4.0,
          9.0,
          15.0,
          14.89,
          7.0,
          42.0,
          12.0,
          5.98,
          18.0,
          17.0,
          14.0,
          13.0,
          13.0,
          9.0,
          6.0,
          6.0,
          14.0,
          15.0,
          9.0,
          13.0,
          10.0,
          12.0,
          18.0,
          15.0,
          11.0,
          9.0,
          9.0,
          9.0,
          9.0,
          9.0,
          8.0,
          8.0,
          8.0,
          8.0,
          8.0
         ],
         "xaxis": "x",
         "y": [
          17350.0,
          2052.0,
          18979.0,
          70425.0,
          21424.0,
          7665.0,
          12643.0,
          19735.0,
          19699.0,
          5983.0,
          23848.0,
          23848.0,
          460.0,
          83212.0,
          4149.0,
          5153.0,
          5013.0,
          2313.0,
          2925.0,
          2951.0,
          2426.0,
          9198.0,
          36348.0,
          36348.0,
          6310.0,
          41716.0,
          33712.0,
          15921.0,
          12159.0,
          798.0,
          9374.0,
          13893.0,
          29634.0,
          104159.0,
          491.0,
          5360.0,
          1909.0,
          1296.0,
          615.0,
          61133.0,
          61133.0,
          99498.0,
          11113.0,
          10070.0,
          10070.0,
          19470.0,
          3729.0,
          9769.0,
          471.0,
          14344.0,
          14344.0,
          25321.0,
          45919.0,
          26423.0,
          75520.0,
          4505.0,
          4153.0,
          10369.0,
          16244.0,
          2884.0,
          21967.0,
          40535.0,
          22614.0,
          22614.0,
          22614.0,
          20705.0,
          4761.0,
          1542.0,
          1542.0,
          1542.0,
          6143.0,
          4022.0,
          3871.0,
          35003.0,
          4866.0,
          4866.0,
          1329.0,
          4642.0,
          1541.0,
          1924.0,
          2094.0,
          10922.0,
          10922.0,
          10922.0,
          10922.0,
          2137.0,
          1651.0,
          6679.0,
          6679.0,
          6812.0,
          3837.0,
          6540.0,
          7955.0,
          27098.0,
          27098.0,
          17684.0,
          37.0,
          15845.0,
          3181.0,
          5062.0,
          4786.0,
          7235.0,
          7235.0,
          12619.0,
          9089.0,
          31045.0,
          5470.0,
          22196.0,
          5118.0,
          2134.0,
          2525.0,
          63421.0,
          720.0,
          956.0,
          6346.0,
          6346.0,
          5505.0,
          5505.0,
          28729.0,
          28729.0,
          45351.0,
          5413.0,
          10721.0,
          10721.0,
          4370.0,
          6042.0,
          23631.0,
          20262.0,
          47265.0,
          47265.0,
          13964.0,
          13677.0,
          17323.0,
          17323.0,
          17323.0,
          17323.0,
          17323.0,
          1555.0,
          3642.0,
          1215.0,
          5594.0,
          5594.0,
          5594.0,
          408.0,
          4799.0,
          12879.0,
          14038.0,
          14038.0,
          14038.0,
          14038.0,
          14038.0,
          23356.0,
          7660.0,
          22288.0,
          22288.0,
          1365.0,
          14982.0,
          52777.0,
          9568.0,
          1636.0,
          57271.0,
          57271.0,
          57271.0,
          10141.0,
          3457.0,
          3457.0,
          3457.0,
          3457.0,
          8837.0,
          8837.0,
          8837.0,
          7038.0,
          7038.0,
          5972.0,
          26740.0,
          58357.0,
          25624.0,
          22383.0,
          5476.0,
          5867.0,
          4148.0,
          19622.0,
          23973.0,
          7758.0,
          3146.0,
          10052.0,
          3564.0,
          13471.0,
          1930.0,
          15779.0,
          15779.0,
          15526.0,
          15526.0,
          3776.0,
          19555.0,
          17538.0,
          29121.0,
          19988.0,
          25001.0,
          25001.0,
          25001.0,
          25001.0,
          25001.0,
          70752.0,
          5272.0,
          14128.0,
          3490.0,
          3490.0,
          2812.0,
          4896.0,
          9737.0,
          20485.0,
          31640.0,
          24356.0,
          58200.0,
          1320.0,
          16643.0,
          16643.0,
          39063.0,
          68304.0,
          7153.0,
          4571.0,
          29651.0,
          5299.0,
          7396.0,
          7396.0,
          141748.0,
          7062.0,
          19576.0,
          19576.0,
          19576.0,
          19576.0,
          19576.0,
          19576.0,
          978.0,
          4748.0,
          8393.0,
          11391.0,
          8634.0,
          9342.0,
          9342.0,
          10927.0,
          5235.0,
          8916.0,
          2507.0,
          3673.0,
          3673.0,
          3673.0,
          11881.0,
          6990.0,
          6990.0,
          6990.0,
          6990.0,
          6990.0,
          6132.0,
          3014.0,
          7550.0,
          3828.0,
          2752.0,
          1467.0,
          1884.0,
          25706.0,
          43514.0,
          20153.0,
          8491.0,
          1649.0,
          18613.0,
          18613.0,
          16515.0,
          9867.0,
          1386.0,
          10199.0,
          2926.0,
          64215.0,
          17739.0,
          17739.0,
          17739.0,
          3113.0,
          5542.0,
          5542.0,
          5542.0,
          26741.0,
          26741.0,
          26741.0,
          11769.0,
          45694.0,
          75486.0,
          60070.0,
          5347.0,
          7866.0,
          5680.0,
          5178.0,
          8093.0,
          3192.0,
          21834.0,
          21834.0,
          21834.0,
          21834.0,
          21834.0,
          21834.0,
          21834.0,
          21834.0,
          41796.0,
          6169.0,
          4519.0,
          3163.0,
          3163.0,
          1831.0,
          18904.0,
          21930.0,
          10426.0,
          10426.0,
          10820.0,
          10820.0,
          12643.0,
          12852.0,
          21271.0,
          548.0,
          20037.0,
          16990.0,
          16990.0,
          16990.0,
          3503.0,
          26462.0,
          13616.0,
          13616.0,
          27726.0,
          8580.0,
          8580.0,
          8580.0,
          8580.0,
          8580.0,
          8580.0,
          8580.0,
          8580.0,
          8580.0,
          8580.0,
          4757.0,
          10009.0,
          10009.0,
          1985.0,
          1985.0,
          27788.0,
          22536.0,
          22536.0,
          90390.0,
          7150.0,
          3836.0,
          7802.0,
          7802.0,
          3619.0,
          45485.0,
          65184.0,
          23047.0,
          23047.0,
          9366.0,
          15104.0,
          1265.0,
          3923.0,
          2272.0,
          973.0,
          220.0,
          7827.0,
          7827.0,
          9382.0,
          5069.0,
          5069.0,
          5069.0,
          5069.0,
          5069.0,
          5069.0,
          5069.0,
          5069.0,
          5069.0,
          1583.0,
          1907.0,
          23114.0,
          637.0,
          637.0,
          2314.0,
          4587.0,
          49270.0,
          3477.0,
          3477.0,
          3477.0,
          3477.0,
          3477.0,
          25554.0,
          25554.0,
          25554.0,
          25554.0,
          25554.0,
          44174.0,
          68263.0,
          1680.0,
          9325.0,
          9325.0,
          9325.0,
          9325.0,
          4725.0,
          4725.0,
          4725.0,
          35799.0,
          91743.0,
          2580.0,
          11813.0,
          11813.0,
          37173.0,
          11668.0,
          3536.0,
          6600.0,
          1789.0,
          12361.0,
          24327.0,
          53535.0,
          858.0,
          23148.0,
          23148.0,
          8081.0,
          8081.0,
          53549.0,
          106658.0,
          23358.0,
          23358.0,
          9372.0,
          4633.0,
          13061.0,
          13061.0,
          3523.0,
          2774.0,
          440.0,
          8922.0,
          8922.0,
          8922.0,
          26047.0,
          2023.0,
          1859.0,
          50482.0,
          50482.0,
          50482.0,
          50482.0,
          3207.0,
          3207.0,
          3207.0,
          3207.0,
          3207.0,
          803.0,
          45368.0,
          48326.0,
          23308.0,
          23308.0,
          23308.0,
          23308.0,
          23308.0,
          23308.0,
          117146.0,
          5836.0,
          79446.0,
          79446.0,
          7747.0,
          7747.0,
          7251.0,
          7251.0,
          10559.0,
          10559.0,
          5249.0,
          5249.0,
          33844.0,
          33844.0,
          11616.0,
          11616.0,
          11616.0,
          13609.0,
          8587.0,
          29442.0,
          11098.0,
          9947.0,
          13871.0,
          13871.0,
          13871.0,
          13871.0,
          15399.0,
          6982.0,
          32122.0,
          32122.0,
          32122.0,
          16949.0,
          16949.0,
          9289.0,
          9289.0,
          9289.0,
          7368.0,
          7368.0,
          4028.0,
          4628.0,
          4628.0,
          107449.0,
          5396.0,
          4247.0,
          4247.0,
          22641.0,
          22641.0,
          22641.0,
          22641.0,
          6222.0,
          4506.0,
          8747.0,
          1655.0,
          7861.0,
          6247.0,
          39459.0,
          10101.0,
          5898.0,
          193482.0,
          2744.0,
          49288.0,
          49288.0,
          1201.0,
          1201.0,
          1201.0,
          1201.0,
          1201.0,
          807.0,
          3759.0,
          2663.0,
          3428.0,
          2876.0,
          3601.0,
          7058.0,
          9784.0,
          9784.0,
          10795.0,
          10191.0,
          14493.0,
          20153.0,
          2186.0,
          1204.0,
          44608.0,
          2091.0,
          111053.0,
          19720.0,
          19720.0,
          2122.0,
          27536.0,
          61060.0,
          4290.0,
          51448.0,
          15424.0,
          25554.0,
          26490.0,
          26490.0,
          26490.0,
          77899.0,
          5487.0,
          6377.0,
          1463.0,
          3759.0,
          3503.0,
          11550.0,
          3801.0,
          3796.0,
          9030.0,
          42235.0,
          19546.0,
          19546.0,
          19546.0,
          19546.0,
          19546.0,
          19546.0,
          19546.0,
          35965.0,
          52375.0,
          7508.0,
          7508.0,
          7508.0,
          8842.0,
          8842.0,
          8842.0,
          8842.0,
          24189.0,
          30183.0,
          30183.0,
          51255.0,
          6169.0,
          31272.0,
          7034.0,
          11034.0,
          11034.0,
          7932.0,
          1904.0,
          3319.0,
          3319.0,
          11128.0,
          11128.0,
          11128.0,
          11128.0,
          5977.0,
          26234.0,
          26234.0,
          26234.0,
          26234.0,
          26234.0,
          94196.0,
          4360.0,
          2282.0,
          438.0,
          11676.0,
          2586.0,
          29673.0,
          29673.0,
          29673.0,
          29673.0,
          29673.0,
          6740.0,
          5956.0,
          6108.0,
          4585.0,
          41567.0,
          53024.0,
          25510.0,
          3829.0,
          8958.0,
          41127.0,
          5492.0,
          9292.0,
          1873.0,
          14705.0,
          8170.0,
          3341.0,
          7497.0,
          7497.0,
          13779.0,
          87841.0,
          120727.0,
          9967.0,
          31125.0,
          6669.0,
          17044.0,
          10760.0,
          1302.0,
          21625.0,
          21625.0,
          21625.0,
          21625.0,
          21625.0,
          9413.0,
          14331.0,
          14331.0,
          14331.0,
          14331.0
         ],
         "yaxis": "y",
         "type": "scatter"
        }
       ],
       "layout": {
        "template": {
         "data": {
          "histogram2dcontour": [
           {
            "type": "histogram2dcontour",
            "colorbar": {
             "outlinewidth": 0,
             "ticks": ""
            },
            "colorscale": [
             [
              0.0,
              "#0d0887"
             ],
             [
              0.1111111111111111,
              "#46039f"
             ],
             [
              0.2222222222222222,
              "#7201a8"
             ],
             [
              0.3333333333333333,
              "#9c179e"
             ],
             [
              0.4444444444444444,
              "#bd3786"
             ],
             [
              0.5555555555555556,
              "#d8576b"
             ],
             [
              0.6666666666666666,
              "#ed7953"
             ],
             [
              0.7777777777777778,
              "#fb9f3a"
             ],
             [
              0.8888888888888888,
              "#fdca26"
             ],
             [
              1.0,
              "#f0f921"
             ]
            ]
           }
          ],
          "choropleth": [
           {
            "type": "choropleth",
            "colorbar": {
             "outlinewidth": 0,
             "ticks": ""
            }
           }
          ],
          "histogram2d": [
           {
            "type": "histogram2d",
            "colorbar": {
             "outlinewidth": 0,
             "ticks": ""
            },
            "colorscale": [
             [
              0.0,
              "#0d0887"
             ],
             [
              0.1111111111111111,
              "#46039f"
             ],
             [
              0.2222222222222222,
              "#7201a8"
             ],
             [
              0.3333333333333333,
              "#9c179e"
             ],
             [
              0.4444444444444444,
              "#bd3786"
             ],
             [
              0.5555555555555556,
              "#d8576b"
             ],
             [
              0.6666666666666666,
              "#ed7953"
             ],
             [
              0.7777777777777778,
              "#fb9f3a"
             ],
             [
              0.8888888888888888,
              "#fdca26"
             ],
             [
              1.0,
              "#f0f921"
             ]
            ]
           }
          ],
          "heatmap": [
           {
            "type": "heatmap",
            "colorbar": {
             "outlinewidth": 0,
             "ticks": ""
            },
            "colorscale": [
             [
              0.0,
              "#0d0887"
             ],
             [
              0.1111111111111111,
              "#46039f"
             ],
             [
              0.2222222222222222,
              "#7201a8"
             ],
             [
              0.3333333333333333,
              "#9c179e"
             ],
             [
              0.4444444444444444,
              "#bd3786"
             ],
             [
              0.5555555555555556,
              "#d8576b"
             ],
             [
              0.6666666666666666,
              "#ed7953"
             ],
             [
              0.7777777777777778,
              "#fb9f3a"
             ],
             [
              0.8888888888888888,
              "#fdca26"
             ],
             [
              1.0,
              "#f0f921"
             ]
            ]
           }
          ],
          "heatmapgl": [
           {
            "type": "heatmapgl",
            "colorbar": {
             "outlinewidth": 0,
             "ticks": ""
            },
            "colorscale": [
             [
              0.0,
              "#0d0887"
             ],
             [
              0.1111111111111111,
              "#46039f"
             ],
             [
              0.2222222222222222,
              "#7201a8"
             ],
             [
              0.3333333333333333,
              "#9c179e"
             ],
             [
              0.4444444444444444,
              "#bd3786"
             ],
             [
              0.5555555555555556,
              "#d8576b"
             ],
             [
              0.6666666666666666,
              "#ed7953"
             ],
             [
              0.7777777777777778,
              "#fb9f3a"
             ],
             [
              0.8888888888888888,
              "#fdca26"
             ],
             [
              1.0,
              "#f0f921"
             ]
            ]
           }
          ],
          "contourcarpet": [
           {
            "type": "contourcarpet",
            "colorbar": {
             "outlinewidth": 0,
             "ticks": ""
            }
           }
          ],
          "contour": [
           {
            "type": "contour",
            "colorbar": {
             "outlinewidth": 0,
             "ticks": ""
            },
            "colorscale": [
             [
              0.0,
              "#0d0887"
             ],
             [
              0.1111111111111111,
              "#46039f"
             ],
             [
              0.2222222222222222,
              "#7201a8"
             ],
             [
              0.3333333333333333,
              "#9c179e"
             ],
             [
              0.4444444444444444,
              "#bd3786"
             ],
             [
              0.5555555555555556,
              "#d8576b"
             ],
             [
              0.6666666666666666,
              "#ed7953"
             ],
             [
              0.7777777777777778,
              "#fb9f3a"
             ],
             [
              0.8888888888888888,
              "#fdca26"
             ],
             [
              1.0,
              "#f0f921"
             ]
            ]
           }
          ],
          "surface": [
           {
            "type": "surface",
            "colorbar": {
             "outlinewidth": 0,
             "ticks": ""
            },
            "colorscale": [
             [
              0.0,
              "#0d0887"
             ],
             [
              0.1111111111111111,
              "#46039f"
             ],
             [
              0.2222222222222222,
              "#7201a8"
             ],
             [
              0.3333333333333333,
              "#9c179e"
             ],
             [
              0.4444444444444444,
              "#bd3786"
             ],
             [
              0.5555555555555556,
              "#d8576b"
             ],
             [
              0.6666666666666666,
              "#ed7953"
             ],
             [
              0.7777777777777778,
              "#fb9f3a"
             ],
             [
              0.8888888888888888,
              "#fdca26"
             ],
             [
              1.0,
              "#f0f921"
             ]
            ]
           }
          ],
          "mesh3d": [
           {
            "type": "mesh3d",
            "colorbar": {
             "outlinewidth": 0,
             "ticks": ""
            }
           }
          ],
          "scatter": [
           {
            "marker": {
             "line": {
              "color": "#283442"
             }
            },
            "type": "scatter"
           }
          ],
          "parcoords": [
           {
            "type": "parcoords",
            "line": {
             "colorbar": {
              "outlinewidth": 0,
              "ticks": ""
             }
            }
           }
          ],
          "scatterpolargl": [
           {
            "type": "scatterpolargl",
            "marker": {
             "colorbar": {
              "outlinewidth": 0,
              "ticks": ""
             }
            }
           }
          ],
          "bar": [
           {
            "error_x": {
             "color": "#f2f5fa"
            },
            "error_y": {
             "color": "#f2f5fa"
            },
            "marker": {
             "line": {
              "color": "rgb(17,17,17)",
              "width": 0.5
             },
             "pattern": {
              "fillmode": "overlay",
              "size": 10,
              "solidity": 0.2
             }
            },
            "type": "bar"
           }
          ],
          "scattergeo": [
           {
            "type": "scattergeo",
            "marker": {
             "colorbar": {
              "outlinewidth": 0,
              "ticks": ""
             }
            }
           }
          ],
          "scatterpolar": [
           {
            "type": "scatterpolar",
            "marker": {
             "colorbar": {
              "outlinewidth": 0,
              "ticks": ""
             }
            }
           }
          ],
          "histogram": [
           {
            "marker": {
             "pattern": {
              "fillmode": "overlay",
              "size": 10,
              "solidity": 0.2
             }
            },
            "type": "histogram"
           }
          ],
          "scattergl": [
           {
            "marker": {
             "line": {
              "color": "#283442"
             }
            },
            "type": "scattergl"
           }
          ],
          "scatter3d": [
           {
            "type": "scatter3d",
            "line": {
             "colorbar": {
              "outlinewidth": 0,
              "ticks": ""
             }
            },
            "marker": {
             "colorbar": {
              "outlinewidth": 0,
              "ticks": ""
             }
            }
           }
          ],
          "scattermapbox": [
           {
            "type": "scattermapbox",
            "marker": {
             "colorbar": {
              "outlinewidth": 0,
              "ticks": ""
             }
            }
           }
          ],
          "scatterternary": [
           {
            "type": "scatterternary",
            "marker": {
             "colorbar": {
              "outlinewidth": 0,
              "ticks": ""
             }
            }
           }
          ],
          "scattercarpet": [
           {
            "type": "scattercarpet",
            "marker": {
             "colorbar": {
              "outlinewidth": 0,
              "ticks": ""
             }
            }
           }
          ],
          "carpet": [
           {
            "aaxis": {
             "endlinecolor": "#A2B1C6",
             "gridcolor": "#506784",
             "linecolor": "#506784",
             "minorgridcolor": "#506784",
             "startlinecolor": "#A2B1C6"
            },
            "baxis": {
             "endlinecolor": "#A2B1C6",
             "gridcolor": "#506784",
             "linecolor": "#506784",
             "minorgridcolor": "#506784",
             "startlinecolor": "#A2B1C6"
            },
            "type": "carpet"
           }
          ],
          "table": [
           {
            "cells": {
             "fill": {
              "color": "#506784"
             },
             "line": {
              "color": "rgb(17,17,17)"
             }
            },
            "header": {
             "fill": {
              "color": "#2a3f5f"
             },
             "line": {
              "color": "rgb(17,17,17)"
             }
            },
            "type": "table"
           }
          ],
          "barpolar": [
           {
            "marker": {
             "line": {
              "color": "rgb(17,17,17)",
              "width": 0.5
             },
             "pattern": {
              "fillmode": "overlay",
              "size": 10,
              "solidity": 0.2
             }
            },
            "type": "barpolar"
           }
          ],
          "pie": [
           {
            "automargin": true,
            "type": "pie"
           }
          ]
         },
         "layout": {
          "autotypenumbers": "strict",
          "colorway": [
           "#636efa",
           "#EF553B",
           "#00cc96",
           "#ab63fa",
           "#FFA15A",
           "#19d3f3",
           "#FF6692",
           "#B6E880",
           "#FF97FF",
           "#FECB52"
          ],
          "font": {
           "color": "#f2f5fa"
          },
          "hovermode": "closest",
          "hoverlabel": {
           "align": "left"
          },
          "paper_bgcolor": "rgb(17,17,17)",
          "plot_bgcolor": "rgb(17,17,17)",
          "polar": {
           "bgcolor": "rgb(17,17,17)",
           "angularaxis": {
            "gridcolor": "#506784",
            "linecolor": "#506784",
            "ticks": ""
           },
           "radialaxis": {
            "gridcolor": "#506784",
            "linecolor": "#506784",
            "ticks": ""
           }
          },
          "ternary": {
           "bgcolor": "rgb(17,17,17)",
           "aaxis": {
            "gridcolor": "#506784",
            "linecolor": "#506784",
            "ticks": ""
           },
           "baxis": {
            "gridcolor": "#506784",
            "linecolor": "#506784",
            "ticks": ""
           },
           "caxis": {
            "gridcolor": "#506784",
            "linecolor": "#506784",
            "ticks": ""
           }
          },
          "coloraxis": {
           "colorbar": {
            "outlinewidth": 0,
            "ticks": ""
           }
          },
          "colorscale": {
           "sequential": [
            [
             0.0,
             "#0d0887"
            ],
            [
             0.1111111111111111,
             "#46039f"
            ],
            [
             0.2222222222222222,
             "#7201a8"
            ],
            [
             0.3333333333333333,
             "#9c179e"
            ],
            [
             0.4444444444444444,
             "#bd3786"
            ],
            [
             0.5555555555555556,
             "#d8576b"
            ],
            [
             0.6666666666666666,
             "#ed7953"
            ],
            [
             0.7777777777777778,
             "#fb9f3a"
            ],
            [
             0.8888888888888888,
             "#fdca26"
            ],
            [
             1.0,
             "#f0f921"
            ]
           ],
           "sequentialminus": [
            [
             0.0,
             "#0d0887"
            ],
            [
             0.1111111111111111,
             "#46039f"
            ],
            [
             0.2222222222222222,
             "#7201a8"
            ],
            [
             0.3333333333333333,
             "#9c179e"
            ],
            [
             0.4444444444444444,
             "#bd3786"
            ],
            [
             0.5555555555555556,
             "#d8576b"
            ],
            [
             0.6666666666666666,
             "#ed7953"
            ],
            [
             0.7777777777777778,
             "#fb9f3a"
            ],
            [
             0.8888888888888888,
             "#fdca26"
            ],
            [
             1.0,
             "#f0f921"
            ]
           ],
           "diverging": [
            [
             0,
             "#8e0152"
            ],
            [
             0.1,
             "#c51b7d"
            ],
            [
             0.2,
             "#de77ae"
            ],
            [
             0.3,
             "#f1b6da"
            ],
            [
             0.4,
             "#fde0ef"
            ],
            [
             0.5,
             "#f7f7f7"
            ],
            [
             0.6,
             "#e6f5d0"
            ],
            [
             0.7,
             "#b8e186"
            ],
            [
             0.8,
             "#7fbc41"
            ],
            [
             0.9,
             "#4d9221"
            ],
            [
             1,
             "#276419"
            ]
           ]
          },
          "xaxis": {
           "gridcolor": "#283442",
           "linecolor": "#506784",
           "ticks": "",
           "title": {
            "standoff": 15
           },
           "zerolinecolor": "#283442",
           "automargin": true,
           "zerolinewidth": 2
          },
          "yaxis": {
           "gridcolor": "#283442",
           "linecolor": "#506784",
           "ticks": "",
           "title": {
            "standoff": 15
           },
           "zerolinecolor": "#283442",
           "automargin": true,
           "zerolinewidth": 2
          },
          "scene": {
           "xaxis": {
            "backgroundcolor": "rgb(17,17,17)",
            "gridcolor": "#506784",
            "linecolor": "#506784",
            "showbackground": true,
            "ticks": "",
            "zerolinecolor": "#C8D4E3",
            "gridwidth": 2
           },
           "yaxis": {
            "backgroundcolor": "rgb(17,17,17)",
            "gridcolor": "#506784",
            "linecolor": "#506784",
            "showbackground": true,
            "ticks": "",
            "zerolinecolor": "#C8D4E3",
            "gridwidth": 2
           },
           "zaxis": {
            "backgroundcolor": "rgb(17,17,17)",
            "gridcolor": "#506784",
            "linecolor": "#506784",
            "showbackground": true,
            "ticks": "",
            "zerolinecolor": "#C8D4E3",
            "gridwidth": 2
           }
          },
          "shapedefaults": {
           "line": {
            "color": "#f2f5fa"
           }
          },
          "annotationdefaults": {
           "arrowcolor": "#f2f5fa",
           "arrowhead": 0,
           "arrowwidth": 1
          },
          "geo": {
           "bgcolor": "rgb(17,17,17)",
           "landcolor": "rgb(17,17,17)",
           "subunitcolor": "#506784",
           "showland": true,
           "showlakes": true,
           "lakecolor": "rgb(17,17,17)"
          },
          "title": {
           "x": 0.05
          },
          "updatemenudefaults": {
           "bgcolor": "#506784",
           "borderwidth": 0
          },
          "sliderdefaults": {
           "bgcolor": "#C8D4E3",
           "borderwidth": 1,
           "bordercolor": "rgb(17,17,17)",
           "tickwidth": 0
          },
          "mapbox": {
           "style": "dark"
          }
         }
        },
        "xaxis": {
         "anchor": "y",
         "domain": [
          0.0,
          1.0
         ],
         "title": {
          "text": "Price"
         }
        },
        "yaxis": {
         "anchor": "x",
         "domain": [
          0.0,
          1.0
         ],
         "title": {
          "text": "Reviews"
         }
        },
        "legend": {
         "tracegroupgap": 0
        },
        "margin": {
         "t": 60
        }
       },
       "config": {
        "plotlyServerURL": "https://plot.ly"
       }
      },
      "text/html": [
       "<div>                            <div id=\"2f8ea197-e5cf-4736-b167-6a518ab18bbd\" class=\"plotly-graph-div\" style=\"height:525px; width:100%;\"></div>            <script type=\"text/javascript\">                require([\"plotly\"], function(Plotly) {                    window.PLOTLYENV=window.PLOTLYENV || {};                                    if (document.getElementById(\"2f8ea197-e5cf-4736-b167-6a518ab18bbd\")) {                    Plotly.newPlot(                        \"2f8ea197-e5cf-4736-b167-6a518ab18bbd\",                        [{\"hovertemplate\":\"Price=%{x}\\u003cbr\\u003eReviews=%{y}\\u003cextra\\u003e\\u003c\\u002fextra\\u003e\",\"legendgroup\":\"\",\"marker\":{\"color\":\"#636efa\",\"opacity\":0.5,\"symbol\":\"circle\"},\"mode\":\"markers\",\"name\":\"\",\"orientation\":\"v\",\"showlegend\":false,\"x\":[8.0,22.0,15.0,7.48,6.0,12.0,11.0,30.0,15.0,3.0,8.0,8.0,2.0,23.0,32.0,5.0,17.0,4.0,6.0,6.0,8.0,13.0,14.0,14.0,13.0,17.0,12.52,9.0,13.0,5.0,9.0,17.78,12.0,11.98,14.0,5.0,11.0,24.0,21.0,11.0,11.0,10.0,15.0,13.0,13.0,7.49,18.0,13.0,8.0,5.0,5.0,5.0,5.36,8.0,6.99,0.0,13.58,4.0,18.0,28.0,19.0,14.34,11.0,11.0,11.0,4.0,16.0,14.0,14.0,14.0,8.0,4.0,5.0,8.99,11.0,11.0,10.0,13.0,4.0,8.0,4.0,5.0,5.0,5.0,5.0,17.0,15.0,105.0,105.0,0.0,15.0,22.0,5.0,15.0,15.0,6.0,6.0,13.0,12.0,6.0,8.0,4.0,4.0,8.0,8.0,6.0,6.0,6.62,20.0,5.0,16.0,12.01,1.0,14.0,9.0,9.0,7.0,18.0,15.0,15.0,11.0,9.0,8.0,8.0,15.0,2.0,7.0,11.0,14.0,14.0,32.0,6.0,4.0,4.0,4.0,4.0,4.0,9.0,0.0,9.0,5.0,5.0,5.0,20.0,16.0,14.0,4.0,4.0,4.0,4.0,4.0,6.0,12.0,12.0,12.0,11.0,19.0,18.0,9.0,6.0,10.0,10.0,9.0,6.0,14.0,14.0,14.0,14.0,5.0,5.0,5.0,7.0,7.0,10.0,18.0,15.98,14.0,10.62,7.0,54.0,11.0,30.0,12.0,18.0,30.0,22.0,9.0,52.0,4.0,10.0,10.0,14.0,14.0,22.0,13.0,6.0,6.0,5.0,11.0,11.0,11.0,11.0,11.0,10.58,16.0,5.0,15.0,15.0,17.0,17.0,7.0,9.0,6.99,1.0,4.31,7.0,4.0,4.0,4.0,4.14,9.0,21.0,14.0,20.0,13.0,13.0,10.26,12.0,8.0,8.0,8.0,8.0,8.0,8.0,0.0,12.0,17.0,12.0,25.0,10.0,10.0,6.0,5.0,6.0,8.0,4.0,4.0,4.0,13.0,4.0,4.0,4.0,4.0,4.0,13.0,21.0,6.0,15.0,18.0,10.0,0.0,12.0,10.0,15.0,7.0,13.0,5.0,5.0,17.0,16.0,20.0,11.0,27.0,13.0,8.0,8.0,8.0,6.0,10.0,10.0,10.0,8.0,8.0,8.0,21.0,15.0,4.07,14.4,16.0,11.0,10.0,9.0,14.0,22.0,8.0,8.0,8.0,8.0,8.0,8.0,8.0,8.0,8.48,7.0,12.0,13.0,13.0,9.0,13.0,11.0,20.0,20.0,5.0,5.0,9.0,6.0,8.49,2.0,14.16,27.0,27.0,27.0,9.0,10.0,10.0,10.0,26.0,46.0,46.0,46.0,46.0,46.0,46.0,46.0,46.0,46.0,46.0,4.0,20.0,7.0,9.0,9.0,15.0,12.0,12.0,15.49,12.0,12.0,20.0,20.0,10.0,8.0,4.79,6.0,6.0,9.0,9.59,11.0,16.0,6.0,25.0,17.0,20.0,20.0,6.0,17.0,17.0,17.0,17.0,17.0,17.0,17.0,17.0,17.0,18.0,13.0,18.0,20.0,20.0,22.0,21.0,11.6,28.0,28.0,28.0,28.0,28.0,8.0,8.0,8.0,8.0,8.0,8.0,7.57,12.0,24.0,24.0,24.0,24.0,16.0,16.0,16.0,39.0,13.99,9.0,10.0,10.0,14.0,9.0,17.0,11.0,14.0,12.0,8.0,11.4,53.0,6.0,6.0,8.0,8.0,15.0,10.35,12.0,12.0,12.0,21.0,6.0,6.0,13.0,0.0,11.0,9.0,9.0,9.0,7.0,15.0,11.0,13.0,13.0,7.0,13.0,6.0,6.0,6.0,6.0,6.0,9.0,6.0,7.74,6.0,6.0,6.0,6.0,6.0,6.0,13.79,0.0,18.0,7.0,14.0,14.0,9.0,16.0,2.0,2.0,5.0,5.0,20.0,20.0,7.0,7.0,7.0,14.0,10.0,7.0,13.0,11.0,6.0,6.0,8.0,7.0,9.58,14.0,14.0,8.0,8.0,30.0,30.0,13.0,9.0,9.0,7.0,7.0,9.0,7.0,7.0,13.09,20.0,13.0,13.0,11.0,11.0,11.0,11.0,18.0,14.0,19.0,13.0,5.0,10.0,9.0,8.0,8.0,13.29,12.0,11.0,11.0,40.0,40.0,40.0,40.0,40.0,36.0,16.0,17.0,14.0,21.0,18.0,17.0,5.0,5.0,21.0,18.0,18.0,19.42,12.0,14.0,12.0,12.0,9.42,8.0,8.0,0.0,14.0,15.0,10.0,10.34,19.0,17.99,15.0,15.0,15.0,14.8,9.0,7.0,10.0,6.0,9.0,10.0,82.0,12.0,10.0,16.0,5.0,5.0,5.0,5.0,5.0,5.0,5.0,7.0,5.06,16.0,16.0,16.0,10.0,10.0,10.0,10.0,8.55,4.0,4.0,5.0,16.0,8.37,15.0,19.0,19.0,9.0,23.0,11.0,11.0,23.0,23.0,23.0,23.0,12.0,0.0,0.0,0.0,0.0,7.0,17.0,21.0,21.0,15.0,9.0,5.0,16.0,16.0,16.0,13.0,16.0,20.0,11.0,4.0,9.0,15.0,14.89,7.0,42.0,12.0,5.98,18.0,17.0,14.0,13.0,13.0,9.0,6.0,6.0,14.0,15.0,9.0,13.0,10.0,12.0,18.0,15.0,11.0,9.0,9.0,9.0,9.0,9.0,8.0,8.0,8.0,8.0,8.0],\"xaxis\":\"x\",\"y\":[17350.0,2052.0,18979.0,70425.0,21424.0,7665.0,12643.0,19735.0,19699.0,5983.0,23848.0,23848.0,460.0,83212.0,4149.0,5153.0,5013.0,2313.0,2925.0,2951.0,2426.0,9198.0,36348.0,36348.0,6310.0,41716.0,33712.0,15921.0,12159.0,798.0,9374.0,13893.0,29634.0,104159.0,491.0,5360.0,1909.0,1296.0,615.0,61133.0,61133.0,99498.0,11113.0,10070.0,10070.0,19470.0,3729.0,9769.0,471.0,14344.0,14344.0,25321.0,45919.0,26423.0,75520.0,4505.0,4153.0,10369.0,16244.0,2884.0,21967.0,40535.0,22614.0,22614.0,22614.0,20705.0,4761.0,1542.0,1542.0,1542.0,6143.0,4022.0,3871.0,35003.0,4866.0,4866.0,1329.0,4642.0,1541.0,1924.0,2094.0,10922.0,10922.0,10922.0,10922.0,2137.0,1651.0,6679.0,6679.0,6812.0,3837.0,6540.0,7955.0,27098.0,27098.0,17684.0,37.0,15845.0,3181.0,5062.0,4786.0,7235.0,7235.0,12619.0,9089.0,31045.0,5470.0,22196.0,5118.0,2134.0,2525.0,63421.0,720.0,956.0,6346.0,6346.0,5505.0,5505.0,28729.0,28729.0,45351.0,5413.0,10721.0,10721.0,4370.0,6042.0,23631.0,20262.0,47265.0,47265.0,13964.0,13677.0,17323.0,17323.0,17323.0,17323.0,17323.0,1555.0,3642.0,1215.0,5594.0,5594.0,5594.0,408.0,4799.0,12879.0,14038.0,14038.0,14038.0,14038.0,14038.0,23356.0,7660.0,22288.0,22288.0,1365.0,14982.0,52777.0,9568.0,1636.0,57271.0,57271.0,57271.0,10141.0,3457.0,3457.0,3457.0,3457.0,8837.0,8837.0,8837.0,7038.0,7038.0,5972.0,26740.0,58357.0,25624.0,22383.0,5476.0,5867.0,4148.0,19622.0,23973.0,7758.0,3146.0,10052.0,3564.0,13471.0,1930.0,15779.0,15779.0,15526.0,15526.0,3776.0,19555.0,17538.0,29121.0,19988.0,25001.0,25001.0,25001.0,25001.0,25001.0,70752.0,5272.0,14128.0,3490.0,3490.0,2812.0,4896.0,9737.0,20485.0,31640.0,24356.0,58200.0,1320.0,16643.0,16643.0,39063.0,68304.0,7153.0,4571.0,29651.0,5299.0,7396.0,7396.0,141748.0,7062.0,19576.0,19576.0,19576.0,19576.0,19576.0,19576.0,978.0,4748.0,8393.0,11391.0,8634.0,9342.0,9342.0,10927.0,5235.0,8916.0,2507.0,3673.0,3673.0,3673.0,11881.0,6990.0,6990.0,6990.0,6990.0,6990.0,6132.0,3014.0,7550.0,3828.0,2752.0,1467.0,1884.0,25706.0,43514.0,20153.0,8491.0,1649.0,18613.0,18613.0,16515.0,9867.0,1386.0,10199.0,2926.0,64215.0,17739.0,17739.0,17739.0,3113.0,5542.0,5542.0,5542.0,26741.0,26741.0,26741.0,11769.0,45694.0,75486.0,60070.0,5347.0,7866.0,5680.0,5178.0,8093.0,3192.0,21834.0,21834.0,21834.0,21834.0,21834.0,21834.0,21834.0,21834.0,41796.0,6169.0,4519.0,3163.0,3163.0,1831.0,18904.0,21930.0,10426.0,10426.0,10820.0,10820.0,12643.0,12852.0,21271.0,548.0,20037.0,16990.0,16990.0,16990.0,3503.0,26462.0,13616.0,13616.0,27726.0,8580.0,8580.0,8580.0,8580.0,8580.0,8580.0,8580.0,8580.0,8580.0,8580.0,4757.0,10009.0,10009.0,1985.0,1985.0,27788.0,22536.0,22536.0,90390.0,7150.0,3836.0,7802.0,7802.0,3619.0,45485.0,65184.0,23047.0,23047.0,9366.0,15104.0,1265.0,3923.0,2272.0,973.0,220.0,7827.0,7827.0,9382.0,5069.0,5069.0,5069.0,5069.0,5069.0,5069.0,5069.0,5069.0,5069.0,1583.0,1907.0,23114.0,637.0,637.0,2314.0,4587.0,49270.0,3477.0,3477.0,3477.0,3477.0,3477.0,25554.0,25554.0,25554.0,25554.0,25554.0,44174.0,68263.0,1680.0,9325.0,9325.0,9325.0,9325.0,4725.0,4725.0,4725.0,35799.0,91743.0,2580.0,11813.0,11813.0,37173.0,11668.0,3536.0,6600.0,1789.0,12361.0,24327.0,53535.0,858.0,23148.0,23148.0,8081.0,8081.0,53549.0,106658.0,23358.0,23358.0,9372.0,4633.0,13061.0,13061.0,3523.0,2774.0,440.0,8922.0,8922.0,8922.0,26047.0,2023.0,1859.0,50482.0,50482.0,50482.0,50482.0,3207.0,3207.0,3207.0,3207.0,3207.0,803.0,45368.0,48326.0,23308.0,23308.0,23308.0,23308.0,23308.0,23308.0,117146.0,5836.0,79446.0,79446.0,7747.0,7747.0,7251.0,7251.0,10559.0,10559.0,5249.0,5249.0,33844.0,33844.0,11616.0,11616.0,11616.0,13609.0,8587.0,29442.0,11098.0,9947.0,13871.0,13871.0,13871.0,13871.0,15399.0,6982.0,32122.0,32122.0,32122.0,16949.0,16949.0,9289.0,9289.0,9289.0,7368.0,7368.0,4028.0,4628.0,4628.0,107449.0,5396.0,4247.0,4247.0,22641.0,22641.0,22641.0,22641.0,6222.0,4506.0,8747.0,1655.0,7861.0,6247.0,39459.0,10101.0,5898.0,193482.0,2744.0,49288.0,49288.0,1201.0,1201.0,1201.0,1201.0,1201.0,807.0,3759.0,2663.0,3428.0,2876.0,3601.0,7058.0,9784.0,9784.0,10795.0,10191.0,14493.0,20153.0,2186.0,1204.0,44608.0,2091.0,111053.0,19720.0,19720.0,2122.0,27536.0,61060.0,4290.0,51448.0,15424.0,25554.0,26490.0,26490.0,26490.0,77899.0,5487.0,6377.0,1463.0,3759.0,3503.0,11550.0,3801.0,3796.0,9030.0,42235.0,19546.0,19546.0,19546.0,19546.0,19546.0,19546.0,19546.0,35965.0,52375.0,7508.0,7508.0,7508.0,8842.0,8842.0,8842.0,8842.0,24189.0,30183.0,30183.0,51255.0,6169.0,31272.0,7034.0,11034.0,11034.0,7932.0,1904.0,3319.0,3319.0,11128.0,11128.0,11128.0,11128.0,5977.0,26234.0,26234.0,26234.0,26234.0,26234.0,94196.0,4360.0,2282.0,438.0,11676.0,2586.0,29673.0,29673.0,29673.0,29673.0,29673.0,6740.0,5956.0,6108.0,4585.0,41567.0,53024.0,25510.0,3829.0,8958.0,41127.0,5492.0,9292.0,1873.0,14705.0,8170.0,3341.0,7497.0,7497.0,13779.0,87841.0,120727.0,9967.0,31125.0,6669.0,17044.0,10760.0,1302.0,21625.0,21625.0,21625.0,21625.0,21625.0,9413.0,14331.0,14331.0,14331.0,14331.0],\"yaxis\":\"y\",\"type\":\"scatter\"}],                        {\"template\":{\"data\":{\"histogram2dcontour\":[{\"type\":\"histogram2dcontour\",\"colorbar\":{\"outlinewidth\":0,\"ticks\":\"\"},\"colorscale\":[[0.0,\"#0d0887\"],[0.1111111111111111,\"#46039f\"],[0.2222222222222222,\"#7201a8\"],[0.3333333333333333,\"#9c179e\"],[0.4444444444444444,\"#bd3786\"],[0.5555555555555556,\"#d8576b\"],[0.6666666666666666,\"#ed7953\"],[0.7777777777777778,\"#fb9f3a\"],[0.8888888888888888,\"#fdca26\"],[1.0,\"#f0f921\"]]}],\"choropleth\":[{\"type\":\"choropleth\",\"colorbar\":{\"outlinewidth\":0,\"ticks\":\"\"}}],\"histogram2d\":[{\"type\":\"histogram2d\",\"colorbar\":{\"outlinewidth\":0,\"ticks\":\"\"},\"colorscale\":[[0.0,\"#0d0887\"],[0.1111111111111111,\"#46039f\"],[0.2222222222222222,\"#7201a8\"],[0.3333333333333333,\"#9c179e\"],[0.4444444444444444,\"#bd3786\"],[0.5555555555555556,\"#d8576b\"],[0.6666666666666666,\"#ed7953\"],[0.7777777777777778,\"#fb9f3a\"],[0.8888888888888888,\"#fdca26\"],[1.0,\"#f0f921\"]]}],\"heatmap\":[{\"type\":\"heatmap\",\"colorbar\":{\"outlinewidth\":0,\"ticks\":\"\"},\"colorscale\":[[0.0,\"#0d0887\"],[0.1111111111111111,\"#46039f\"],[0.2222222222222222,\"#7201a8\"],[0.3333333333333333,\"#9c179e\"],[0.4444444444444444,\"#bd3786\"],[0.5555555555555556,\"#d8576b\"],[0.6666666666666666,\"#ed7953\"],[0.7777777777777778,\"#fb9f3a\"],[0.8888888888888888,\"#fdca26\"],[1.0,\"#f0f921\"]]}],\"heatmapgl\":[{\"type\":\"heatmapgl\",\"colorbar\":{\"outlinewidth\":0,\"ticks\":\"\"},\"colorscale\":[[0.0,\"#0d0887\"],[0.1111111111111111,\"#46039f\"],[0.2222222222222222,\"#7201a8\"],[0.3333333333333333,\"#9c179e\"],[0.4444444444444444,\"#bd3786\"],[0.5555555555555556,\"#d8576b\"],[0.6666666666666666,\"#ed7953\"],[0.7777777777777778,\"#fb9f3a\"],[0.8888888888888888,\"#fdca26\"],[1.0,\"#f0f921\"]]}],\"contourcarpet\":[{\"type\":\"contourcarpet\",\"colorbar\":{\"outlinewidth\":0,\"ticks\":\"\"}}],\"contour\":[{\"type\":\"contour\",\"colorbar\":{\"outlinewidth\":0,\"ticks\":\"\"},\"colorscale\":[[0.0,\"#0d0887\"],[0.1111111111111111,\"#46039f\"],[0.2222222222222222,\"#7201a8\"],[0.3333333333333333,\"#9c179e\"],[0.4444444444444444,\"#bd3786\"],[0.5555555555555556,\"#d8576b\"],[0.6666666666666666,\"#ed7953\"],[0.7777777777777778,\"#fb9f3a\"],[0.8888888888888888,\"#fdca26\"],[1.0,\"#f0f921\"]]}],\"surface\":[{\"type\":\"surface\",\"colorbar\":{\"outlinewidth\":0,\"ticks\":\"\"},\"colorscale\":[[0.0,\"#0d0887\"],[0.1111111111111111,\"#46039f\"],[0.2222222222222222,\"#7201a8\"],[0.3333333333333333,\"#9c179e\"],[0.4444444444444444,\"#bd3786\"],[0.5555555555555556,\"#d8576b\"],[0.6666666666666666,\"#ed7953\"],[0.7777777777777778,\"#fb9f3a\"],[0.8888888888888888,\"#fdca26\"],[1.0,\"#f0f921\"]]}],\"mesh3d\":[{\"type\":\"mesh3d\",\"colorbar\":{\"outlinewidth\":0,\"ticks\":\"\"}}],\"scatter\":[{\"marker\":{\"line\":{\"color\":\"#283442\"}},\"type\":\"scatter\"}],\"parcoords\":[{\"type\":\"parcoords\",\"line\":{\"colorbar\":{\"outlinewidth\":0,\"ticks\":\"\"}}}],\"scatterpolargl\":[{\"type\":\"scatterpolargl\",\"marker\":{\"colorbar\":{\"outlinewidth\":0,\"ticks\":\"\"}}}],\"bar\":[{\"error_x\":{\"color\":\"#f2f5fa\"},\"error_y\":{\"color\":\"#f2f5fa\"},\"marker\":{\"line\":{\"color\":\"rgb(17,17,17)\",\"width\":0.5},\"pattern\":{\"fillmode\":\"overlay\",\"size\":10,\"solidity\":0.2}},\"type\":\"bar\"}],\"scattergeo\":[{\"type\":\"scattergeo\",\"marker\":{\"colorbar\":{\"outlinewidth\":0,\"ticks\":\"\"}}}],\"scatterpolar\":[{\"type\":\"scatterpolar\",\"marker\":{\"colorbar\":{\"outlinewidth\":0,\"ticks\":\"\"}}}],\"histogram\":[{\"marker\":{\"pattern\":{\"fillmode\":\"overlay\",\"size\":10,\"solidity\":0.2}},\"type\":\"histogram\"}],\"scattergl\":[{\"marker\":{\"line\":{\"color\":\"#283442\"}},\"type\":\"scattergl\"}],\"scatter3d\":[{\"type\":\"scatter3d\",\"line\":{\"colorbar\":{\"outlinewidth\":0,\"ticks\":\"\"}},\"marker\":{\"colorbar\":{\"outlinewidth\":0,\"ticks\":\"\"}}}],\"scattermapbox\":[{\"type\":\"scattermapbox\",\"marker\":{\"colorbar\":{\"outlinewidth\":0,\"ticks\":\"\"}}}],\"scatterternary\":[{\"type\":\"scatterternary\",\"marker\":{\"colorbar\":{\"outlinewidth\":0,\"ticks\":\"\"}}}],\"scattercarpet\":[{\"type\":\"scattercarpet\",\"marker\":{\"colorbar\":{\"outlinewidth\":0,\"ticks\":\"\"}}}],\"carpet\":[{\"aaxis\":{\"endlinecolor\":\"#A2B1C6\",\"gridcolor\":\"#506784\",\"linecolor\":\"#506784\",\"minorgridcolor\":\"#506784\",\"startlinecolor\":\"#A2B1C6\"},\"baxis\":{\"endlinecolor\":\"#A2B1C6\",\"gridcolor\":\"#506784\",\"linecolor\":\"#506784\",\"minorgridcolor\":\"#506784\",\"startlinecolor\":\"#A2B1C6\"},\"type\":\"carpet\"}],\"table\":[{\"cells\":{\"fill\":{\"color\":\"#506784\"},\"line\":{\"color\":\"rgb(17,17,17)\"}},\"header\":{\"fill\":{\"color\":\"#2a3f5f\"},\"line\":{\"color\":\"rgb(17,17,17)\"}},\"type\":\"table\"}],\"barpolar\":[{\"marker\":{\"line\":{\"color\":\"rgb(17,17,17)\",\"width\":0.5},\"pattern\":{\"fillmode\":\"overlay\",\"size\":10,\"solidity\":0.2}},\"type\":\"barpolar\"}],\"pie\":[{\"automargin\":true,\"type\":\"pie\"}]},\"layout\":{\"autotypenumbers\":\"strict\",\"colorway\":[\"#636efa\",\"#EF553B\",\"#00cc96\",\"#ab63fa\",\"#FFA15A\",\"#19d3f3\",\"#FF6692\",\"#B6E880\",\"#FF97FF\",\"#FECB52\"],\"font\":{\"color\":\"#f2f5fa\"},\"hovermode\":\"closest\",\"hoverlabel\":{\"align\":\"left\"},\"paper_bgcolor\":\"rgb(17,17,17)\",\"plot_bgcolor\":\"rgb(17,17,17)\",\"polar\":{\"bgcolor\":\"rgb(17,17,17)\",\"angularaxis\":{\"gridcolor\":\"#506784\",\"linecolor\":\"#506784\",\"ticks\":\"\"},\"radialaxis\":{\"gridcolor\":\"#506784\",\"linecolor\":\"#506784\",\"ticks\":\"\"}},\"ternary\":{\"bgcolor\":\"rgb(17,17,17)\",\"aaxis\":{\"gridcolor\":\"#506784\",\"linecolor\":\"#506784\",\"ticks\":\"\"},\"baxis\":{\"gridcolor\":\"#506784\",\"linecolor\":\"#506784\",\"ticks\":\"\"},\"caxis\":{\"gridcolor\":\"#506784\",\"linecolor\":\"#506784\",\"ticks\":\"\"}},\"coloraxis\":{\"colorbar\":{\"outlinewidth\":0,\"ticks\":\"\"}},\"colorscale\":{\"sequential\":[[0.0,\"#0d0887\"],[0.1111111111111111,\"#46039f\"],[0.2222222222222222,\"#7201a8\"],[0.3333333333333333,\"#9c179e\"],[0.4444444444444444,\"#bd3786\"],[0.5555555555555556,\"#d8576b\"],[0.6666666666666666,\"#ed7953\"],[0.7777777777777778,\"#fb9f3a\"],[0.8888888888888888,\"#fdca26\"],[1.0,\"#f0f921\"]],\"sequentialminus\":[[0.0,\"#0d0887\"],[0.1111111111111111,\"#46039f\"],[0.2222222222222222,\"#7201a8\"],[0.3333333333333333,\"#9c179e\"],[0.4444444444444444,\"#bd3786\"],[0.5555555555555556,\"#d8576b\"],[0.6666666666666666,\"#ed7953\"],[0.7777777777777778,\"#fb9f3a\"],[0.8888888888888888,\"#fdca26\"],[1.0,\"#f0f921\"]],\"diverging\":[[0,\"#8e0152\"],[0.1,\"#c51b7d\"],[0.2,\"#de77ae\"],[0.3,\"#f1b6da\"],[0.4,\"#fde0ef\"],[0.5,\"#f7f7f7\"],[0.6,\"#e6f5d0\"],[0.7,\"#b8e186\"],[0.8,\"#7fbc41\"],[0.9,\"#4d9221\"],[1,\"#276419\"]]},\"xaxis\":{\"gridcolor\":\"#283442\",\"linecolor\":\"#506784\",\"ticks\":\"\",\"title\":{\"standoff\":15},\"zerolinecolor\":\"#283442\",\"automargin\":true,\"zerolinewidth\":2},\"yaxis\":{\"gridcolor\":\"#283442\",\"linecolor\":\"#506784\",\"ticks\":\"\",\"title\":{\"standoff\":15},\"zerolinecolor\":\"#283442\",\"automargin\":true,\"zerolinewidth\":2},\"scene\":{\"xaxis\":{\"backgroundcolor\":\"rgb(17,17,17)\",\"gridcolor\":\"#506784\",\"linecolor\":\"#506784\",\"showbackground\":true,\"ticks\":\"\",\"zerolinecolor\":\"#C8D4E3\",\"gridwidth\":2},\"yaxis\":{\"backgroundcolor\":\"rgb(17,17,17)\",\"gridcolor\":\"#506784\",\"linecolor\":\"#506784\",\"showbackground\":true,\"ticks\":\"\",\"zerolinecolor\":\"#C8D4E3\",\"gridwidth\":2},\"zaxis\":{\"backgroundcolor\":\"rgb(17,17,17)\",\"gridcolor\":\"#506784\",\"linecolor\":\"#506784\",\"showbackground\":true,\"ticks\":\"\",\"zerolinecolor\":\"#C8D4E3\",\"gridwidth\":2}},\"shapedefaults\":{\"line\":{\"color\":\"#f2f5fa\"}},\"annotationdefaults\":{\"arrowcolor\":\"#f2f5fa\",\"arrowhead\":0,\"arrowwidth\":1},\"geo\":{\"bgcolor\":\"rgb(17,17,17)\",\"landcolor\":\"rgb(17,17,17)\",\"subunitcolor\":\"#506784\",\"showland\":true,\"showlakes\":true,\"lakecolor\":\"rgb(17,17,17)\"},\"title\":{\"x\":0.05},\"updatemenudefaults\":{\"bgcolor\":\"#506784\",\"borderwidth\":0},\"sliderdefaults\":{\"bgcolor\":\"#C8D4E3\",\"borderwidth\":1,\"bordercolor\":\"rgb(17,17,17)\",\"tickwidth\":0},\"mapbox\":{\"style\":\"dark\"}}},\"xaxis\":{\"anchor\":\"y\",\"domain\":[0.0,1.0],\"title\":{\"text\":\"Price\"}},\"yaxis\":{\"anchor\":\"x\",\"domain\":[0.0,1.0],\"title\":{\"text\":\"Reviews\"}},\"legend\":{\"tracegroupgap\":0},\"margin\":{\"t\":60}},                        {\"responsive\": true}                    ).then(function(){\n",
       "                            \n",
       "var gd = document.getElementById('2f8ea197-e5cf-4736-b167-6a518ab18bbd');\n",
       "var x = new MutationObserver(function (mutations, observer) {{\n",
       "        var display = window.getComputedStyle(gd).display;\n",
       "        if (!display || display === 'none') {{\n",
       "            console.log([gd, 'removed!']);\n",
       "            Plotly.purge(gd);\n",
       "            observer.disconnect();\n",
       "        }}\n",
       "}});\n",
       "\n",
       "// Listen for the removal of the full notebook cells\n",
       "var notebookContainer = gd.closest('#notebook-container');\n",
       "if (notebookContainer) {{\n",
       "    x.observe(notebookContainer, {childList: true});\n",
       "}}\n",
       "\n",
       "// Listen for the clearing of the current output cell\n",
       "var outputEl = gd.closest('.output');\n",
       "if (outputEl) {{\n",
       "    x.observe(outputEl, {childList: true});\n",
       "}}\n",
       "\n",
       "                        })                };                });            </script>        </div>"
      ]
     },
     "metadata": {},
     "output_type": "display_data"
    }
   ],
   "execution_count": 35
  },
  {
   "cell_type": "markdown",
   "id": "18e21945-fad2-4e97-aa63-b87842671124",
   "metadata": {
    "tags": []
   },
   "source": [
    "### Customizing plots"
   ]
  },
  {
   "cell_type": "markdown",
   "id": "0f486309-18b3-4bc5-b151-cfd2da25d9d9",
   "metadata": {
    "tags": []
   },
   "source": [
    "#### Labels\n",
    "Okay, we have a plot that visualizes the relationship between price and the number of reviews. But would anyone know this from the chart alone?\n",
    "\n",
    "Let's improve the x and y-axis labels, and add a title to our plot!"
   ]
  },
  {
   "cell_type": "code",
   "id": "965dc699-d4b7-4702-ac97-1ea259e20857",
   "metadata": {
    "ExecuteTime": {
     "end_time": "2024-11-25T17:14:58.884433Z",
     "start_time": "2024-11-25T17:14:58.810634Z"
    }
   },
   "source": [
    "fig = px.scatter(books, x=\"Price\",\n",
    "              y=\"Reviews\",\n",
    "              title = \"Number of reviews by Book price <br><sup>Amazon Bestseller List 2009 to Present</sup>\",\n",
    "              labels = {\"Reviews\": \"# of Reviews\", \"Prices\": \"Price (USD)\"})\n",
    "\n",
    "fig.show()"
   ],
   "outputs": [
    {
     "data": {
      "application/vnd.plotly.v1+json": {
       "data": [
        {
         "hovertemplate": "Price=%{x}<br># of Reviews=%{y}<extra></extra>",
         "legendgroup": "",
         "marker": {
          "color": "#636efa",
          "symbol": "circle"
         },
         "mode": "markers",
         "name": "",
         "orientation": "v",
         "showlegend": false,
         "x": [
          8.0,
          22.0,
          15.0,
          7.48,
          6.0,
          12.0,
          11.0,
          30.0,
          15.0,
          3.0,
          8.0,
          8.0,
          2.0,
          23.0,
          32.0,
          5.0,
          17.0,
          4.0,
          6.0,
          6.0,
          8.0,
          13.0,
          14.0,
          14.0,
          13.0,
          17.0,
          12.52,
          9.0,
          13.0,
          5.0,
          9.0,
          17.78,
          12.0,
          11.98,
          14.0,
          5.0,
          11.0,
          24.0,
          21.0,
          11.0,
          11.0,
          10.0,
          15.0,
          13.0,
          13.0,
          7.49,
          18.0,
          13.0,
          8.0,
          5.0,
          5.0,
          5.0,
          5.36,
          8.0,
          6.99,
          0.0,
          13.58,
          4.0,
          18.0,
          28.0,
          19.0,
          14.34,
          11.0,
          11.0,
          11.0,
          4.0,
          16.0,
          14.0,
          14.0,
          14.0,
          8.0,
          4.0,
          5.0,
          8.99,
          11.0,
          11.0,
          10.0,
          13.0,
          4.0,
          8.0,
          4.0,
          5.0,
          5.0,
          5.0,
          5.0,
          17.0,
          15.0,
          105.0,
          105.0,
          0.0,
          15.0,
          22.0,
          5.0,
          15.0,
          15.0,
          6.0,
          6.0,
          13.0,
          12.0,
          6.0,
          8.0,
          4.0,
          4.0,
          8.0,
          8.0,
          6.0,
          6.0,
          6.62,
          20.0,
          5.0,
          16.0,
          12.01,
          1.0,
          14.0,
          9.0,
          9.0,
          7.0,
          18.0,
          15.0,
          15.0,
          11.0,
          9.0,
          8.0,
          8.0,
          15.0,
          2.0,
          7.0,
          11.0,
          14.0,
          14.0,
          32.0,
          6.0,
          4.0,
          4.0,
          4.0,
          4.0,
          4.0,
          9.0,
          0.0,
          9.0,
          5.0,
          5.0,
          5.0,
          20.0,
          16.0,
          14.0,
          4.0,
          4.0,
          4.0,
          4.0,
          4.0,
          6.0,
          12.0,
          12.0,
          12.0,
          11.0,
          19.0,
          18.0,
          9.0,
          6.0,
          10.0,
          10.0,
          9.0,
          6.0,
          14.0,
          14.0,
          14.0,
          14.0,
          5.0,
          5.0,
          5.0,
          7.0,
          7.0,
          10.0,
          18.0,
          15.98,
          14.0,
          10.62,
          7.0,
          54.0,
          11.0,
          30.0,
          12.0,
          18.0,
          30.0,
          22.0,
          9.0,
          52.0,
          4.0,
          10.0,
          10.0,
          14.0,
          14.0,
          22.0,
          13.0,
          6.0,
          6.0,
          5.0,
          11.0,
          11.0,
          11.0,
          11.0,
          11.0,
          10.58,
          16.0,
          5.0,
          15.0,
          15.0,
          17.0,
          17.0,
          7.0,
          9.0,
          6.99,
          1.0,
          4.31,
          7.0,
          4.0,
          4.0,
          4.0,
          4.14,
          9.0,
          21.0,
          14.0,
          20.0,
          13.0,
          13.0,
          10.26,
          12.0,
          8.0,
          8.0,
          8.0,
          8.0,
          8.0,
          8.0,
          0.0,
          12.0,
          17.0,
          12.0,
          25.0,
          10.0,
          10.0,
          6.0,
          5.0,
          6.0,
          8.0,
          4.0,
          4.0,
          4.0,
          13.0,
          4.0,
          4.0,
          4.0,
          4.0,
          4.0,
          13.0,
          21.0,
          6.0,
          15.0,
          18.0,
          10.0,
          0.0,
          12.0,
          10.0,
          15.0,
          7.0,
          13.0,
          5.0,
          5.0,
          17.0,
          16.0,
          20.0,
          11.0,
          27.0,
          13.0,
          8.0,
          8.0,
          8.0,
          6.0,
          10.0,
          10.0,
          10.0,
          8.0,
          8.0,
          8.0,
          21.0,
          15.0,
          4.07,
          14.4,
          16.0,
          11.0,
          10.0,
          9.0,
          14.0,
          22.0,
          8.0,
          8.0,
          8.0,
          8.0,
          8.0,
          8.0,
          8.0,
          8.0,
          8.48,
          7.0,
          12.0,
          13.0,
          13.0,
          9.0,
          13.0,
          11.0,
          20.0,
          20.0,
          5.0,
          5.0,
          9.0,
          6.0,
          8.49,
          2.0,
          14.16,
          27.0,
          27.0,
          27.0,
          9.0,
          10.0,
          10.0,
          10.0,
          26.0,
          46.0,
          46.0,
          46.0,
          46.0,
          46.0,
          46.0,
          46.0,
          46.0,
          46.0,
          46.0,
          4.0,
          20.0,
          7.0,
          9.0,
          9.0,
          15.0,
          12.0,
          12.0,
          15.49,
          12.0,
          12.0,
          20.0,
          20.0,
          10.0,
          8.0,
          4.79,
          6.0,
          6.0,
          9.0,
          9.59,
          11.0,
          16.0,
          6.0,
          25.0,
          17.0,
          20.0,
          20.0,
          6.0,
          17.0,
          17.0,
          17.0,
          17.0,
          17.0,
          17.0,
          17.0,
          17.0,
          17.0,
          18.0,
          13.0,
          18.0,
          20.0,
          20.0,
          22.0,
          21.0,
          11.6,
          28.0,
          28.0,
          28.0,
          28.0,
          28.0,
          8.0,
          8.0,
          8.0,
          8.0,
          8.0,
          8.0,
          7.57,
          12.0,
          24.0,
          24.0,
          24.0,
          24.0,
          16.0,
          16.0,
          16.0,
          39.0,
          13.99,
          9.0,
          10.0,
          10.0,
          14.0,
          9.0,
          17.0,
          11.0,
          14.0,
          12.0,
          8.0,
          11.4,
          53.0,
          6.0,
          6.0,
          8.0,
          8.0,
          15.0,
          10.35,
          12.0,
          12.0,
          12.0,
          21.0,
          6.0,
          6.0,
          13.0,
          0.0,
          11.0,
          9.0,
          9.0,
          9.0,
          7.0,
          15.0,
          11.0,
          13.0,
          13.0,
          7.0,
          13.0,
          6.0,
          6.0,
          6.0,
          6.0,
          6.0,
          9.0,
          6.0,
          7.74,
          6.0,
          6.0,
          6.0,
          6.0,
          6.0,
          6.0,
          13.79,
          0.0,
          18.0,
          7.0,
          14.0,
          14.0,
          9.0,
          16.0,
          2.0,
          2.0,
          5.0,
          5.0,
          20.0,
          20.0,
          7.0,
          7.0,
          7.0,
          14.0,
          10.0,
          7.0,
          13.0,
          11.0,
          6.0,
          6.0,
          8.0,
          7.0,
          9.58,
          14.0,
          14.0,
          8.0,
          8.0,
          30.0,
          30.0,
          13.0,
          9.0,
          9.0,
          7.0,
          7.0,
          9.0,
          7.0,
          7.0,
          13.09,
          20.0,
          13.0,
          13.0,
          11.0,
          11.0,
          11.0,
          11.0,
          18.0,
          14.0,
          19.0,
          13.0,
          5.0,
          10.0,
          9.0,
          8.0,
          8.0,
          13.29,
          12.0,
          11.0,
          11.0,
          40.0,
          40.0,
          40.0,
          40.0,
          40.0,
          36.0,
          16.0,
          17.0,
          14.0,
          21.0,
          18.0,
          17.0,
          5.0,
          5.0,
          21.0,
          18.0,
          18.0,
          19.42,
          12.0,
          14.0,
          12.0,
          12.0,
          9.42,
          8.0,
          8.0,
          0.0,
          14.0,
          15.0,
          10.0,
          10.34,
          19.0,
          17.99,
          15.0,
          15.0,
          15.0,
          14.8,
          9.0,
          7.0,
          10.0,
          6.0,
          9.0,
          10.0,
          82.0,
          12.0,
          10.0,
          16.0,
          5.0,
          5.0,
          5.0,
          5.0,
          5.0,
          5.0,
          5.0,
          7.0,
          5.06,
          16.0,
          16.0,
          16.0,
          10.0,
          10.0,
          10.0,
          10.0,
          8.55,
          4.0,
          4.0,
          5.0,
          16.0,
          8.37,
          15.0,
          19.0,
          19.0,
          9.0,
          23.0,
          11.0,
          11.0,
          23.0,
          23.0,
          23.0,
          23.0,
          12.0,
          0.0,
          0.0,
          0.0,
          0.0,
          7.0,
          17.0,
          21.0,
          21.0,
          15.0,
          9.0,
          5.0,
          16.0,
          16.0,
          16.0,
          13.0,
          16.0,
          20.0,
          11.0,
          4.0,
          9.0,
          15.0,
          14.89,
          7.0,
          42.0,
          12.0,
          5.98,
          18.0,
          17.0,
          14.0,
          13.0,
          13.0,
          9.0,
          6.0,
          6.0,
          14.0,
          15.0,
          9.0,
          13.0,
          10.0,
          12.0,
          18.0,
          15.0,
          11.0,
          9.0,
          9.0,
          9.0,
          9.0,
          9.0,
          8.0,
          8.0,
          8.0,
          8.0,
          8.0
         ],
         "xaxis": "x",
         "y": [
          17350.0,
          2052.0,
          18979.0,
          70425.0,
          21424.0,
          7665.0,
          12643.0,
          19735.0,
          19699.0,
          5983.0,
          23848.0,
          23848.0,
          460.0,
          83212.0,
          4149.0,
          5153.0,
          5013.0,
          2313.0,
          2925.0,
          2951.0,
          2426.0,
          9198.0,
          36348.0,
          36348.0,
          6310.0,
          41716.0,
          33712.0,
          15921.0,
          12159.0,
          798.0,
          9374.0,
          13893.0,
          29634.0,
          104159.0,
          491.0,
          5360.0,
          1909.0,
          1296.0,
          615.0,
          61133.0,
          61133.0,
          99498.0,
          11113.0,
          10070.0,
          10070.0,
          19470.0,
          3729.0,
          9769.0,
          471.0,
          14344.0,
          14344.0,
          25321.0,
          45919.0,
          26423.0,
          75520.0,
          4505.0,
          4153.0,
          10369.0,
          16244.0,
          2884.0,
          21967.0,
          40535.0,
          22614.0,
          22614.0,
          22614.0,
          20705.0,
          4761.0,
          1542.0,
          1542.0,
          1542.0,
          6143.0,
          4022.0,
          3871.0,
          35003.0,
          4866.0,
          4866.0,
          1329.0,
          4642.0,
          1541.0,
          1924.0,
          2094.0,
          10922.0,
          10922.0,
          10922.0,
          10922.0,
          2137.0,
          1651.0,
          6679.0,
          6679.0,
          6812.0,
          3837.0,
          6540.0,
          7955.0,
          27098.0,
          27098.0,
          17684.0,
          37.0,
          15845.0,
          3181.0,
          5062.0,
          4786.0,
          7235.0,
          7235.0,
          12619.0,
          9089.0,
          31045.0,
          5470.0,
          22196.0,
          5118.0,
          2134.0,
          2525.0,
          63421.0,
          720.0,
          956.0,
          6346.0,
          6346.0,
          5505.0,
          5505.0,
          28729.0,
          28729.0,
          45351.0,
          5413.0,
          10721.0,
          10721.0,
          4370.0,
          6042.0,
          23631.0,
          20262.0,
          47265.0,
          47265.0,
          13964.0,
          13677.0,
          17323.0,
          17323.0,
          17323.0,
          17323.0,
          17323.0,
          1555.0,
          3642.0,
          1215.0,
          5594.0,
          5594.0,
          5594.0,
          408.0,
          4799.0,
          12879.0,
          14038.0,
          14038.0,
          14038.0,
          14038.0,
          14038.0,
          23356.0,
          7660.0,
          22288.0,
          22288.0,
          1365.0,
          14982.0,
          52777.0,
          9568.0,
          1636.0,
          57271.0,
          57271.0,
          57271.0,
          10141.0,
          3457.0,
          3457.0,
          3457.0,
          3457.0,
          8837.0,
          8837.0,
          8837.0,
          7038.0,
          7038.0,
          5972.0,
          26740.0,
          58357.0,
          25624.0,
          22383.0,
          5476.0,
          5867.0,
          4148.0,
          19622.0,
          23973.0,
          7758.0,
          3146.0,
          10052.0,
          3564.0,
          13471.0,
          1930.0,
          15779.0,
          15779.0,
          15526.0,
          15526.0,
          3776.0,
          19555.0,
          17538.0,
          29121.0,
          19988.0,
          25001.0,
          25001.0,
          25001.0,
          25001.0,
          25001.0,
          70752.0,
          5272.0,
          14128.0,
          3490.0,
          3490.0,
          2812.0,
          4896.0,
          9737.0,
          20485.0,
          31640.0,
          24356.0,
          58200.0,
          1320.0,
          16643.0,
          16643.0,
          39063.0,
          68304.0,
          7153.0,
          4571.0,
          29651.0,
          5299.0,
          7396.0,
          7396.0,
          141748.0,
          7062.0,
          19576.0,
          19576.0,
          19576.0,
          19576.0,
          19576.0,
          19576.0,
          978.0,
          4748.0,
          8393.0,
          11391.0,
          8634.0,
          9342.0,
          9342.0,
          10927.0,
          5235.0,
          8916.0,
          2507.0,
          3673.0,
          3673.0,
          3673.0,
          11881.0,
          6990.0,
          6990.0,
          6990.0,
          6990.0,
          6990.0,
          6132.0,
          3014.0,
          7550.0,
          3828.0,
          2752.0,
          1467.0,
          1884.0,
          25706.0,
          43514.0,
          20153.0,
          8491.0,
          1649.0,
          18613.0,
          18613.0,
          16515.0,
          9867.0,
          1386.0,
          10199.0,
          2926.0,
          64215.0,
          17739.0,
          17739.0,
          17739.0,
          3113.0,
          5542.0,
          5542.0,
          5542.0,
          26741.0,
          26741.0,
          26741.0,
          11769.0,
          45694.0,
          75486.0,
          60070.0,
          5347.0,
          7866.0,
          5680.0,
          5178.0,
          8093.0,
          3192.0,
          21834.0,
          21834.0,
          21834.0,
          21834.0,
          21834.0,
          21834.0,
          21834.0,
          21834.0,
          41796.0,
          6169.0,
          4519.0,
          3163.0,
          3163.0,
          1831.0,
          18904.0,
          21930.0,
          10426.0,
          10426.0,
          10820.0,
          10820.0,
          12643.0,
          12852.0,
          21271.0,
          548.0,
          20037.0,
          16990.0,
          16990.0,
          16990.0,
          3503.0,
          26462.0,
          13616.0,
          13616.0,
          27726.0,
          8580.0,
          8580.0,
          8580.0,
          8580.0,
          8580.0,
          8580.0,
          8580.0,
          8580.0,
          8580.0,
          8580.0,
          4757.0,
          10009.0,
          10009.0,
          1985.0,
          1985.0,
          27788.0,
          22536.0,
          22536.0,
          90390.0,
          7150.0,
          3836.0,
          7802.0,
          7802.0,
          3619.0,
          45485.0,
          65184.0,
          23047.0,
          23047.0,
          9366.0,
          15104.0,
          1265.0,
          3923.0,
          2272.0,
          973.0,
          220.0,
          7827.0,
          7827.0,
          9382.0,
          5069.0,
          5069.0,
          5069.0,
          5069.0,
          5069.0,
          5069.0,
          5069.0,
          5069.0,
          5069.0,
          1583.0,
          1907.0,
          23114.0,
          637.0,
          637.0,
          2314.0,
          4587.0,
          49270.0,
          3477.0,
          3477.0,
          3477.0,
          3477.0,
          3477.0,
          25554.0,
          25554.0,
          25554.0,
          25554.0,
          25554.0,
          44174.0,
          68263.0,
          1680.0,
          9325.0,
          9325.0,
          9325.0,
          9325.0,
          4725.0,
          4725.0,
          4725.0,
          35799.0,
          91743.0,
          2580.0,
          11813.0,
          11813.0,
          37173.0,
          11668.0,
          3536.0,
          6600.0,
          1789.0,
          12361.0,
          24327.0,
          53535.0,
          858.0,
          23148.0,
          23148.0,
          8081.0,
          8081.0,
          53549.0,
          106658.0,
          23358.0,
          23358.0,
          9372.0,
          4633.0,
          13061.0,
          13061.0,
          3523.0,
          2774.0,
          440.0,
          8922.0,
          8922.0,
          8922.0,
          26047.0,
          2023.0,
          1859.0,
          50482.0,
          50482.0,
          50482.0,
          50482.0,
          3207.0,
          3207.0,
          3207.0,
          3207.0,
          3207.0,
          803.0,
          45368.0,
          48326.0,
          23308.0,
          23308.0,
          23308.0,
          23308.0,
          23308.0,
          23308.0,
          117146.0,
          5836.0,
          79446.0,
          79446.0,
          7747.0,
          7747.0,
          7251.0,
          7251.0,
          10559.0,
          10559.0,
          5249.0,
          5249.0,
          33844.0,
          33844.0,
          11616.0,
          11616.0,
          11616.0,
          13609.0,
          8587.0,
          29442.0,
          11098.0,
          9947.0,
          13871.0,
          13871.0,
          13871.0,
          13871.0,
          15399.0,
          6982.0,
          32122.0,
          32122.0,
          32122.0,
          16949.0,
          16949.0,
          9289.0,
          9289.0,
          9289.0,
          7368.0,
          7368.0,
          4028.0,
          4628.0,
          4628.0,
          107449.0,
          5396.0,
          4247.0,
          4247.0,
          22641.0,
          22641.0,
          22641.0,
          22641.0,
          6222.0,
          4506.0,
          8747.0,
          1655.0,
          7861.0,
          6247.0,
          39459.0,
          10101.0,
          5898.0,
          193482.0,
          2744.0,
          49288.0,
          49288.0,
          1201.0,
          1201.0,
          1201.0,
          1201.0,
          1201.0,
          807.0,
          3759.0,
          2663.0,
          3428.0,
          2876.0,
          3601.0,
          7058.0,
          9784.0,
          9784.0,
          10795.0,
          10191.0,
          14493.0,
          20153.0,
          2186.0,
          1204.0,
          44608.0,
          2091.0,
          111053.0,
          19720.0,
          19720.0,
          2122.0,
          27536.0,
          61060.0,
          4290.0,
          51448.0,
          15424.0,
          25554.0,
          26490.0,
          26490.0,
          26490.0,
          77899.0,
          5487.0,
          6377.0,
          1463.0,
          3759.0,
          3503.0,
          11550.0,
          3801.0,
          3796.0,
          9030.0,
          42235.0,
          19546.0,
          19546.0,
          19546.0,
          19546.0,
          19546.0,
          19546.0,
          19546.0,
          35965.0,
          52375.0,
          7508.0,
          7508.0,
          7508.0,
          8842.0,
          8842.0,
          8842.0,
          8842.0,
          24189.0,
          30183.0,
          30183.0,
          51255.0,
          6169.0,
          31272.0,
          7034.0,
          11034.0,
          11034.0,
          7932.0,
          1904.0,
          3319.0,
          3319.0,
          11128.0,
          11128.0,
          11128.0,
          11128.0,
          5977.0,
          26234.0,
          26234.0,
          26234.0,
          26234.0,
          26234.0,
          94196.0,
          4360.0,
          2282.0,
          438.0,
          11676.0,
          2586.0,
          29673.0,
          29673.0,
          29673.0,
          29673.0,
          29673.0,
          6740.0,
          5956.0,
          6108.0,
          4585.0,
          41567.0,
          53024.0,
          25510.0,
          3829.0,
          8958.0,
          41127.0,
          5492.0,
          9292.0,
          1873.0,
          14705.0,
          8170.0,
          3341.0,
          7497.0,
          7497.0,
          13779.0,
          87841.0,
          120727.0,
          9967.0,
          31125.0,
          6669.0,
          17044.0,
          10760.0,
          1302.0,
          21625.0,
          21625.0,
          21625.0,
          21625.0,
          21625.0,
          9413.0,
          14331.0,
          14331.0,
          14331.0,
          14331.0
         ],
         "yaxis": "y",
         "type": "scatter"
        }
       ],
       "layout": {
        "template": {
         "data": {
          "histogram2dcontour": [
           {
            "type": "histogram2dcontour",
            "colorbar": {
             "outlinewidth": 0,
             "ticks": ""
            },
            "colorscale": [
             [
              0.0,
              "#0d0887"
             ],
             [
              0.1111111111111111,
              "#46039f"
             ],
             [
              0.2222222222222222,
              "#7201a8"
             ],
             [
              0.3333333333333333,
              "#9c179e"
             ],
             [
              0.4444444444444444,
              "#bd3786"
             ],
             [
              0.5555555555555556,
              "#d8576b"
             ],
             [
              0.6666666666666666,
              "#ed7953"
             ],
             [
              0.7777777777777778,
              "#fb9f3a"
             ],
             [
              0.8888888888888888,
              "#fdca26"
             ],
             [
              1.0,
              "#f0f921"
             ]
            ]
           }
          ],
          "choropleth": [
           {
            "type": "choropleth",
            "colorbar": {
             "outlinewidth": 0,
             "ticks": ""
            }
           }
          ],
          "histogram2d": [
           {
            "type": "histogram2d",
            "colorbar": {
             "outlinewidth": 0,
             "ticks": ""
            },
            "colorscale": [
             [
              0.0,
              "#0d0887"
             ],
             [
              0.1111111111111111,
              "#46039f"
             ],
             [
              0.2222222222222222,
              "#7201a8"
             ],
             [
              0.3333333333333333,
              "#9c179e"
             ],
             [
              0.4444444444444444,
              "#bd3786"
             ],
             [
              0.5555555555555556,
              "#d8576b"
             ],
             [
              0.6666666666666666,
              "#ed7953"
             ],
             [
              0.7777777777777778,
              "#fb9f3a"
             ],
             [
              0.8888888888888888,
              "#fdca26"
             ],
             [
              1.0,
              "#f0f921"
             ]
            ]
           }
          ],
          "heatmap": [
           {
            "type": "heatmap",
            "colorbar": {
             "outlinewidth": 0,
             "ticks": ""
            },
            "colorscale": [
             [
              0.0,
              "#0d0887"
             ],
             [
              0.1111111111111111,
              "#46039f"
             ],
             [
              0.2222222222222222,
              "#7201a8"
             ],
             [
              0.3333333333333333,
              "#9c179e"
             ],
             [
              0.4444444444444444,
              "#bd3786"
             ],
             [
              0.5555555555555556,
              "#d8576b"
             ],
             [
              0.6666666666666666,
              "#ed7953"
             ],
             [
              0.7777777777777778,
              "#fb9f3a"
             ],
             [
              0.8888888888888888,
              "#fdca26"
             ],
             [
              1.0,
              "#f0f921"
             ]
            ]
           }
          ],
          "heatmapgl": [
           {
            "type": "heatmapgl",
            "colorbar": {
             "outlinewidth": 0,
             "ticks": ""
            },
            "colorscale": [
             [
              0.0,
              "#0d0887"
             ],
             [
              0.1111111111111111,
              "#46039f"
             ],
             [
              0.2222222222222222,
              "#7201a8"
             ],
             [
              0.3333333333333333,
              "#9c179e"
             ],
             [
              0.4444444444444444,
              "#bd3786"
             ],
             [
              0.5555555555555556,
              "#d8576b"
             ],
             [
              0.6666666666666666,
              "#ed7953"
             ],
             [
              0.7777777777777778,
              "#fb9f3a"
             ],
             [
              0.8888888888888888,
              "#fdca26"
             ],
             [
              1.0,
              "#f0f921"
             ]
            ]
           }
          ],
          "contourcarpet": [
           {
            "type": "contourcarpet",
            "colorbar": {
             "outlinewidth": 0,
             "ticks": ""
            }
           }
          ],
          "contour": [
           {
            "type": "contour",
            "colorbar": {
             "outlinewidth": 0,
             "ticks": ""
            },
            "colorscale": [
             [
              0.0,
              "#0d0887"
             ],
             [
              0.1111111111111111,
              "#46039f"
             ],
             [
              0.2222222222222222,
              "#7201a8"
             ],
             [
              0.3333333333333333,
              "#9c179e"
             ],
             [
              0.4444444444444444,
              "#bd3786"
             ],
             [
              0.5555555555555556,
              "#d8576b"
             ],
             [
              0.6666666666666666,
              "#ed7953"
             ],
             [
              0.7777777777777778,
              "#fb9f3a"
             ],
             [
              0.8888888888888888,
              "#fdca26"
             ],
             [
              1.0,
              "#f0f921"
             ]
            ]
           }
          ],
          "surface": [
           {
            "type": "surface",
            "colorbar": {
             "outlinewidth": 0,
             "ticks": ""
            },
            "colorscale": [
             [
              0.0,
              "#0d0887"
             ],
             [
              0.1111111111111111,
              "#46039f"
             ],
             [
              0.2222222222222222,
              "#7201a8"
             ],
             [
              0.3333333333333333,
              "#9c179e"
             ],
             [
              0.4444444444444444,
              "#bd3786"
             ],
             [
              0.5555555555555556,
              "#d8576b"
             ],
             [
              0.6666666666666666,
              "#ed7953"
             ],
             [
              0.7777777777777778,
              "#fb9f3a"
             ],
             [
              0.8888888888888888,
              "#fdca26"
             ],
             [
              1.0,
              "#f0f921"
             ]
            ]
           }
          ],
          "mesh3d": [
           {
            "type": "mesh3d",
            "colorbar": {
             "outlinewidth": 0,
             "ticks": ""
            }
           }
          ],
          "scatter": [
           {
            "marker": {
             "line": {
              "color": "#283442"
             }
            },
            "type": "scatter"
           }
          ],
          "parcoords": [
           {
            "type": "parcoords",
            "line": {
             "colorbar": {
              "outlinewidth": 0,
              "ticks": ""
             }
            }
           }
          ],
          "scatterpolargl": [
           {
            "type": "scatterpolargl",
            "marker": {
             "colorbar": {
              "outlinewidth": 0,
              "ticks": ""
             }
            }
           }
          ],
          "bar": [
           {
            "error_x": {
             "color": "#f2f5fa"
            },
            "error_y": {
             "color": "#f2f5fa"
            },
            "marker": {
             "line": {
              "color": "rgb(17,17,17)",
              "width": 0.5
             },
             "pattern": {
              "fillmode": "overlay",
              "size": 10,
              "solidity": 0.2
             }
            },
            "type": "bar"
           }
          ],
          "scattergeo": [
           {
            "type": "scattergeo",
            "marker": {
             "colorbar": {
              "outlinewidth": 0,
              "ticks": ""
             }
            }
           }
          ],
          "scatterpolar": [
           {
            "type": "scatterpolar",
            "marker": {
             "colorbar": {
              "outlinewidth": 0,
              "ticks": ""
             }
            }
           }
          ],
          "histogram": [
           {
            "marker": {
             "pattern": {
              "fillmode": "overlay",
              "size": 10,
              "solidity": 0.2
             }
            },
            "type": "histogram"
           }
          ],
          "scattergl": [
           {
            "marker": {
             "line": {
              "color": "#283442"
             }
            },
            "type": "scattergl"
           }
          ],
          "scatter3d": [
           {
            "type": "scatter3d",
            "line": {
             "colorbar": {
              "outlinewidth": 0,
              "ticks": ""
             }
            },
            "marker": {
             "colorbar": {
              "outlinewidth": 0,
              "ticks": ""
             }
            }
           }
          ],
          "scattermapbox": [
           {
            "type": "scattermapbox",
            "marker": {
             "colorbar": {
              "outlinewidth": 0,
              "ticks": ""
             }
            }
           }
          ],
          "scatterternary": [
           {
            "type": "scatterternary",
            "marker": {
             "colorbar": {
              "outlinewidth": 0,
              "ticks": ""
             }
            }
           }
          ],
          "scattercarpet": [
           {
            "type": "scattercarpet",
            "marker": {
             "colorbar": {
              "outlinewidth": 0,
              "ticks": ""
             }
            }
           }
          ],
          "carpet": [
           {
            "aaxis": {
             "endlinecolor": "#A2B1C6",
             "gridcolor": "#506784",
             "linecolor": "#506784",
             "minorgridcolor": "#506784",
             "startlinecolor": "#A2B1C6"
            },
            "baxis": {
             "endlinecolor": "#A2B1C6",
             "gridcolor": "#506784",
             "linecolor": "#506784",
             "minorgridcolor": "#506784",
             "startlinecolor": "#A2B1C6"
            },
            "type": "carpet"
           }
          ],
          "table": [
           {
            "cells": {
             "fill": {
              "color": "#506784"
             },
             "line": {
              "color": "rgb(17,17,17)"
             }
            },
            "header": {
             "fill": {
              "color": "#2a3f5f"
             },
             "line": {
              "color": "rgb(17,17,17)"
             }
            },
            "type": "table"
           }
          ],
          "barpolar": [
           {
            "marker": {
             "line": {
              "color": "rgb(17,17,17)",
              "width": 0.5
             },
             "pattern": {
              "fillmode": "overlay",
              "size": 10,
              "solidity": 0.2
             }
            },
            "type": "barpolar"
           }
          ],
          "pie": [
           {
            "automargin": true,
            "type": "pie"
           }
          ]
         },
         "layout": {
          "autotypenumbers": "strict",
          "colorway": [
           "#636efa",
           "#EF553B",
           "#00cc96",
           "#ab63fa",
           "#FFA15A",
           "#19d3f3",
           "#FF6692",
           "#B6E880",
           "#FF97FF",
           "#FECB52"
          ],
          "font": {
           "color": "#f2f5fa"
          },
          "hovermode": "closest",
          "hoverlabel": {
           "align": "left"
          },
          "paper_bgcolor": "rgb(17,17,17)",
          "plot_bgcolor": "rgb(17,17,17)",
          "polar": {
           "bgcolor": "rgb(17,17,17)",
           "angularaxis": {
            "gridcolor": "#506784",
            "linecolor": "#506784",
            "ticks": ""
           },
           "radialaxis": {
            "gridcolor": "#506784",
            "linecolor": "#506784",
            "ticks": ""
           }
          },
          "ternary": {
           "bgcolor": "rgb(17,17,17)",
           "aaxis": {
            "gridcolor": "#506784",
            "linecolor": "#506784",
            "ticks": ""
           },
           "baxis": {
            "gridcolor": "#506784",
            "linecolor": "#506784",
            "ticks": ""
           },
           "caxis": {
            "gridcolor": "#506784",
            "linecolor": "#506784",
            "ticks": ""
           }
          },
          "coloraxis": {
           "colorbar": {
            "outlinewidth": 0,
            "ticks": ""
           }
          },
          "colorscale": {
           "sequential": [
            [
             0.0,
             "#0d0887"
            ],
            [
             0.1111111111111111,
             "#46039f"
            ],
            [
             0.2222222222222222,
             "#7201a8"
            ],
            [
             0.3333333333333333,
             "#9c179e"
            ],
            [
             0.4444444444444444,
             "#bd3786"
            ],
            [
             0.5555555555555556,
             "#d8576b"
            ],
            [
             0.6666666666666666,
             "#ed7953"
            ],
            [
             0.7777777777777778,
             "#fb9f3a"
            ],
            [
             0.8888888888888888,
             "#fdca26"
            ],
            [
             1.0,
             "#f0f921"
            ]
           ],
           "sequentialminus": [
            [
             0.0,
             "#0d0887"
            ],
            [
             0.1111111111111111,
             "#46039f"
            ],
            [
             0.2222222222222222,
             "#7201a8"
            ],
            [
             0.3333333333333333,
             "#9c179e"
            ],
            [
             0.4444444444444444,
             "#bd3786"
            ],
            [
             0.5555555555555556,
             "#d8576b"
            ],
            [
             0.6666666666666666,
             "#ed7953"
            ],
            [
             0.7777777777777778,
             "#fb9f3a"
            ],
            [
             0.8888888888888888,
             "#fdca26"
            ],
            [
             1.0,
             "#f0f921"
            ]
           ],
           "diverging": [
            [
             0,
             "#8e0152"
            ],
            [
             0.1,
             "#c51b7d"
            ],
            [
             0.2,
             "#de77ae"
            ],
            [
             0.3,
             "#f1b6da"
            ],
            [
             0.4,
             "#fde0ef"
            ],
            [
             0.5,
             "#f7f7f7"
            ],
            [
             0.6,
             "#e6f5d0"
            ],
            [
             0.7,
             "#b8e186"
            ],
            [
             0.8,
             "#7fbc41"
            ],
            [
             0.9,
             "#4d9221"
            ],
            [
             1,
             "#276419"
            ]
           ]
          },
          "xaxis": {
           "gridcolor": "#283442",
           "linecolor": "#506784",
           "ticks": "",
           "title": {
            "standoff": 15
           },
           "zerolinecolor": "#283442",
           "automargin": true,
           "zerolinewidth": 2
          },
          "yaxis": {
           "gridcolor": "#283442",
           "linecolor": "#506784",
           "ticks": "",
           "title": {
            "standoff": 15
           },
           "zerolinecolor": "#283442",
           "automargin": true,
           "zerolinewidth": 2
          },
          "scene": {
           "xaxis": {
            "backgroundcolor": "rgb(17,17,17)",
            "gridcolor": "#506784",
            "linecolor": "#506784",
            "showbackground": true,
            "ticks": "",
            "zerolinecolor": "#C8D4E3",
            "gridwidth": 2
           },
           "yaxis": {
            "backgroundcolor": "rgb(17,17,17)",
            "gridcolor": "#506784",
            "linecolor": "#506784",
            "showbackground": true,
            "ticks": "",
            "zerolinecolor": "#C8D4E3",
            "gridwidth": 2
           },
           "zaxis": {
            "backgroundcolor": "rgb(17,17,17)",
            "gridcolor": "#506784",
            "linecolor": "#506784",
            "showbackground": true,
            "ticks": "",
            "zerolinecolor": "#C8D4E3",
            "gridwidth": 2
           }
          },
          "shapedefaults": {
           "line": {
            "color": "#f2f5fa"
           }
          },
          "annotationdefaults": {
           "arrowcolor": "#f2f5fa",
           "arrowhead": 0,
           "arrowwidth": 1
          },
          "geo": {
           "bgcolor": "rgb(17,17,17)",
           "landcolor": "rgb(17,17,17)",
           "subunitcolor": "#506784",
           "showland": true,
           "showlakes": true,
           "lakecolor": "rgb(17,17,17)"
          },
          "title": {
           "x": 0.05
          },
          "updatemenudefaults": {
           "bgcolor": "#506784",
           "borderwidth": 0
          },
          "sliderdefaults": {
           "bgcolor": "#C8D4E3",
           "borderwidth": 1,
           "bordercolor": "rgb(17,17,17)",
           "tickwidth": 0
          },
          "mapbox": {
           "style": "dark"
          }
         }
        },
        "xaxis": {
         "anchor": "y",
         "domain": [
          0.0,
          1.0
         ],
         "title": {
          "text": "Price"
         }
        },
        "yaxis": {
         "anchor": "x",
         "domain": [
          0.0,
          1.0
         ],
         "title": {
          "text": "# of Reviews"
         }
        },
        "legend": {
         "tracegroupgap": 0
        },
        "title": {
         "text": "Number of reviews by Book price <br><sup>Amazon Bestseller List 2009 to Present</sup>"
        }
       },
       "config": {
        "plotlyServerURL": "https://plot.ly"
       }
      },
      "text/html": [
       "<div>                            <div id=\"0da1680f-11f8-4127-9162-194cd5a135be\" class=\"plotly-graph-div\" style=\"height:525px; width:100%;\"></div>            <script type=\"text/javascript\">                require([\"plotly\"], function(Plotly) {                    window.PLOTLYENV=window.PLOTLYENV || {};                                    if (document.getElementById(\"0da1680f-11f8-4127-9162-194cd5a135be\")) {                    Plotly.newPlot(                        \"0da1680f-11f8-4127-9162-194cd5a135be\",                        [{\"hovertemplate\":\"Price=%{x}\\u003cbr\\u003e# of Reviews=%{y}\\u003cextra\\u003e\\u003c\\u002fextra\\u003e\",\"legendgroup\":\"\",\"marker\":{\"color\":\"#636efa\",\"symbol\":\"circle\"},\"mode\":\"markers\",\"name\":\"\",\"orientation\":\"v\",\"showlegend\":false,\"x\":[8.0,22.0,15.0,7.48,6.0,12.0,11.0,30.0,15.0,3.0,8.0,8.0,2.0,23.0,32.0,5.0,17.0,4.0,6.0,6.0,8.0,13.0,14.0,14.0,13.0,17.0,12.52,9.0,13.0,5.0,9.0,17.78,12.0,11.98,14.0,5.0,11.0,24.0,21.0,11.0,11.0,10.0,15.0,13.0,13.0,7.49,18.0,13.0,8.0,5.0,5.0,5.0,5.36,8.0,6.99,0.0,13.58,4.0,18.0,28.0,19.0,14.34,11.0,11.0,11.0,4.0,16.0,14.0,14.0,14.0,8.0,4.0,5.0,8.99,11.0,11.0,10.0,13.0,4.0,8.0,4.0,5.0,5.0,5.0,5.0,17.0,15.0,105.0,105.0,0.0,15.0,22.0,5.0,15.0,15.0,6.0,6.0,13.0,12.0,6.0,8.0,4.0,4.0,8.0,8.0,6.0,6.0,6.62,20.0,5.0,16.0,12.01,1.0,14.0,9.0,9.0,7.0,18.0,15.0,15.0,11.0,9.0,8.0,8.0,15.0,2.0,7.0,11.0,14.0,14.0,32.0,6.0,4.0,4.0,4.0,4.0,4.0,9.0,0.0,9.0,5.0,5.0,5.0,20.0,16.0,14.0,4.0,4.0,4.0,4.0,4.0,6.0,12.0,12.0,12.0,11.0,19.0,18.0,9.0,6.0,10.0,10.0,9.0,6.0,14.0,14.0,14.0,14.0,5.0,5.0,5.0,7.0,7.0,10.0,18.0,15.98,14.0,10.62,7.0,54.0,11.0,30.0,12.0,18.0,30.0,22.0,9.0,52.0,4.0,10.0,10.0,14.0,14.0,22.0,13.0,6.0,6.0,5.0,11.0,11.0,11.0,11.0,11.0,10.58,16.0,5.0,15.0,15.0,17.0,17.0,7.0,9.0,6.99,1.0,4.31,7.0,4.0,4.0,4.0,4.14,9.0,21.0,14.0,20.0,13.0,13.0,10.26,12.0,8.0,8.0,8.0,8.0,8.0,8.0,0.0,12.0,17.0,12.0,25.0,10.0,10.0,6.0,5.0,6.0,8.0,4.0,4.0,4.0,13.0,4.0,4.0,4.0,4.0,4.0,13.0,21.0,6.0,15.0,18.0,10.0,0.0,12.0,10.0,15.0,7.0,13.0,5.0,5.0,17.0,16.0,20.0,11.0,27.0,13.0,8.0,8.0,8.0,6.0,10.0,10.0,10.0,8.0,8.0,8.0,21.0,15.0,4.07,14.4,16.0,11.0,10.0,9.0,14.0,22.0,8.0,8.0,8.0,8.0,8.0,8.0,8.0,8.0,8.48,7.0,12.0,13.0,13.0,9.0,13.0,11.0,20.0,20.0,5.0,5.0,9.0,6.0,8.49,2.0,14.16,27.0,27.0,27.0,9.0,10.0,10.0,10.0,26.0,46.0,46.0,46.0,46.0,46.0,46.0,46.0,46.0,46.0,46.0,4.0,20.0,7.0,9.0,9.0,15.0,12.0,12.0,15.49,12.0,12.0,20.0,20.0,10.0,8.0,4.79,6.0,6.0,9.0,9.59,11.0,16.0,6.0,25.0,17.0,20.0,20.0,6.0,17.0,17.0,17.0,17.0,17.0,17.0,17.0,17.0,17.0,18.0,13.0,18.0,20.0,20.0,22.0,21.0,11.6,28.0,28.0,28.0,28.0,28.0,8.0,8.0,8.0,8.0,8.0,8.0,7.57,12.0,24.0,24.0,24.0,24.0,16.0,16.0,16.0,39.0,13.99,9.0,10.0,10.0,14.0,9.0,17.0,11.0,14.0,12.0,8.0,11.4,53.0,6.0,6.0,8.0,8.0,15.0,10.35,12.0,12.0,12.0,21.0,6.0,6.0,13.0,0.0,11.0,9.0,9.0,9.0,7.0,15.0,11.0,13.0,13.0,7.0,13.0,6.0,6.0,6.0,6.0,6.0,9.0,6.0,7.74,6.0,6.0,6.0,6.0,6.0,6.0,13.79,0.0,18.0,7.0,14.0,14.0,9.0,16.0,2.0,2.0,5.0,5.0,20.0,20.0,7.0,7.0,7.0,14.0,10.0,7.0,13.0,11.0,6.0,6.0,8.0,7.0,9.58,14.0,14.0,8.0,8.0,30.0,30.0,13.0,9.0,9.0,7.0,7.0,9.0,7.0,7.0,13.09,20.0,13.0,13.0,11.0,11.0,11.0,11.0,18.0,14.0,19.0,13.0,5.0,10.0,9.0,8.0,8.0,13.29,12.0,11.0,11.0,40.0,40.0,40.0,40.0,40.0,36.0,16.0,17.0,14.0,21.0,18.0,17.0,5.0,5.0,21.0,18.0,18.0,19.42,12.0,14.0,12.0,12.0,9.42,8.0,8.0,0.0,14.0,15.0,10.0,10.34,19.0,17.99,15.0,15.0,15.0,14.8,9.0,7.0,10.0,6.0,9.0,10.0,82.0,12.0,10.0,16.0,5.0,5.0,5.0,5.0,5.0,5.0,5.0,7.0,5.06,16.0,16.0,16.0,10.0,10.0,10.0,10.0,8.55,4.0,4.0,5.0,16.0,8.37,15.0,19.0,19.0,9.0,23.0,11.0,11.0,23.0,23.0,23.0,23.0,12.0,0.0,0.0,0.0,0.0,7.0,17.0,21.0,21.0,15.0,9.0,5.0,16.0,16.0,16.0,13.0,16.0,20.0,11.0,4.0,9.0,15.0,14.89,7.0,42.0,12.0,5.98,18.0,17.0,14.0,13.0,13.0,9.0,6.0,6.0,14.0,15.0,9.0,13.0,10.0,12.0,18.0,15.0,11.0,9.0,9.0,9.0,9.0,9.0,8.0,8.0,8.0,8.0,8.0],\"xaxis\":\"x\",\"y\":[17350.0,2052.0,18979.0,70425.0,21424.0,7665.0,12643.0,19735.0,19699.0,5983.0,23848.0,23848.0,460.0,83212.0,4149.0,5153.0,5013.0,2313.0,2925.0,2951.0,2426.0,9198.0,36348.0,36348.0,6310.0,41716.0,33712.0,15921.0,12159.0,798.0,9374.0,13893.0,29634.0,104159.0,491.0,5360.0,1909.0,1296.0,615.0,61133.0,61133.0,99498.0,11113.0,10070.0,10070.0,19470.0,3729.0,9769.0,471.0,14344.0,14344.0,25321.0,45919.0,26423.0,75520.0,4505.0,4153.0,10369.0,16244.0,2884.0,21967.0,40535.0,22614.0,22614.0,22614.0,20705.0,4761.0,1542.0,1542.0,1542.0,6143.0,4022.0,3871.0,35003.0,4866.0,4866.0,1329.0,4642.0,1541.0,1924.0,2094.0,10922.0,10922.0,10922.0,10922.0,2137.0,1651.0,6679.0,6679.0,6812.0,3837.0,6540.0,7955.0,27098.0,27098.0,17684.0,37.0,15845.0,3181.0,5062.0,4786.0,7235.0,7235.0,12619.0,9089.0,31045.0,5470.0,22196.0,5118.0,2134.0,2525.0,63421.0,720.0,956.0,6346.0,6346.0,5505.0,5505.0,28729.0,28729.0,45351.0,5413.0,10721.0,10721.0,4370.0,6042.0,23631.0,20262.0,47265.0,47265.0,13964.0,13677.0,17323.0,17323.0,17323.0,17323.0,17323.0,1555.0,3642.0,1215.0,5594.0,5594.0,5594.0,408.0,4799.0,12879.0,14038.0,14038.0,14038.0,14038.0,14038.0,23356.0,7660.0,22288.0,22288.0,1365.0,14982.0,52777.0,9568.0,1636.0,57271.0,57271.0,57271.0,10141.0,3457.0,3457.0,3457.0,3457.0,8837.0,8837.0,8837.0,7038.0,7038.0,5972.0,26740.0,58357.0,25624.0,22383.0,5476.0,5867.0,4148.0,19622.0,23973.0,7758.0,3146.0,10052.0,3564.0,13471.0,1930.0,15779.0,15779.0,15526.0,15526.0,3776.0,19555.0,17538.0,29121.0,19988.0,25001.0,25001.0,25001.0,25001.0,25001.0,70752.0,5272.0,14128.0,3490.0,3490.0,2812.0,4896.0,9737.0,20485.0,31640.0,24356.0,58200.0,1320.0,16643.0,16643.0,39063.0,68304.0,7153.0,4571.0,29651.0,5299.0,7396.0,7396.0,141748.0,7062.0,19576.0,19576.0,19576.0,19576.0,19576.0,19576.0,978.0,4748.0,8393.0,11391.0,8634.0,9342.0,9342.0,10927.0,5235.0,8916.0,2507.0,3673.0,3673.0,3673.0,11881.0,6990.0,6990.0,6990.0,6990.0,6990.0,6132.0,3014.0,7550.0,3828.0,2752.0,1467.0,1884.0,25706.0,43514.0,20153.0,8491.0,1649.0,18613.0,18613.0,16515.0,9867.0,1386.0,10199.0,2926.0,64215.0,17739.0,17739.0,17739.0,3113.0,5542.0,5542.0,5542.0,26741.0,26741.0,26741.0,11769.0,45694.0,75486.0,60070.0,5347.0,7866.0,5680.0,5178.0,8093.0,3192.0,21834.0,21834.0,21834.0,21834.0,21834.0,21834.0,21834.0,21834.0,41796.0,6169.0,4519.0,3163.0,3163.0,1831.0,18904.0,21930.0,10426.0,10426.0,10820.0,10820.0,12643.0,12852.0,21271.0,548.0,20037.0,16990.0,16990.0,16990.0,3503.0,26462.0,13616.0,13616.0,27726.0,8580.0,8580.0,8580.0,8580.0,8580.0,8580.0,8580.0,8580.0,8580.0,8580.0,4757.0,10009.0,10009.0,1985.0,1985.0,27788.0,22536.0,22536.0,90390.0,7150.0,3836.0,7802.0,7802.0,3619.0,45485.0,65184.0,23047.0,23047.0,9366.0,15104.0,1265.0,3923.0,2272.0,973.0,220.0,7827.0,7827.0,9382.0,5069.0,5069.0,5069.0,5069.0,5069.0,5069.0,5069.0,5069.0,5069.0,1583.0,1907.0,23114.0,637.0,637.0,2314.0,4587.0,49270.0,3477.0,3477.0,3477.0,3477.0,3477.0,25554.0,25554.0,25554.0,25554.0,25554.0,44174.0,68263.0,1680.0,9325.0,9325.0,9325.0,9325.0,4725.0,4725.0,4725.0,35799.0,91743.0,2580.0,11813.0,11813.0,37173.0,11668.0,3536.0,6600.0,1789.0,12361.0,24327.0,53535.0,858.0,23148.0,23148.0,8081.0,8081.0,53549.0,106658.0,23358.0,23358.0,9372.0,4633.0,13061.0,13061.0,3523.0,2774.0,440.0,8922.0,8922.0,8922.0,26047.0,2023.0,1859.0,50482.0,50482.0,50482.0,50482.0,3207.0,3207.0,3207.0,3207.0,3207.0,803.0,45368.0,48326.0,23308.0,23308.0,23308.0,23308.0,23308.0,23308.0,117146.0,5836.0,79446.0,79446.0,7747.0,7747.0,7251.0,7251.0,10559.0,10559.0,5249.0,5249.0,33844.0,33844.0,11616.0,11616.0,11616.0,13609.0,8587.0,29442.0,11098.0,9947.0,13871.0,13871.0,13871.0,13871.0,15399.0,6982.0,32122.0,32122.0,32122.0,16949.0,16949.0,9289.0,9289.0,9289.0,7368.0,7368.0,4028.0,4628.0,4628.0,107449.0,5396.0,4247.0,4247.0,22641.0,22641.0,22641.0,22641.0,6222.0,4506.0,8747.0,1655.0,7861.0,6247.0,39459.0,10101.0,5898.0,193482.0,2744.0,49288.0,49288.0,1201.0,1201.0,1201.0,1201.0,1201.0,807.0,3759.0,2663.0,3428.0,2876.0,3601.0,7058.0,9784.0,9784.0,10795.0,10191.0,14493.0,20153.0,2186.0,1204.0,44608.0,2091.0,111053.0,19720.0,19720.0,2122.0,27536.0,61060.0,4290.0,51448.0,15424.0,25554.0,26490.0,26490.0,26490.0,77899.0,5487.0,6377.0,1463.0,3759.0,3503.0,11550.0,3801.0,3796.0,9030.0,42235.0,19546.0,19546.0,19546.0,19546.0,19546.0,19546.0,19546.0,35965.0,52375.0,7508.0,7508.0,7508.0,8842.0,8842.0,8842.0,8842.0,24189.0,30183.0,30183.0,51255.0,6169.0,31272.0,7034.0,11034.0,11034.0,7932.0,1904.0,3319.0,3319.0,11128.0,11128.0,11128.0,11128.0,5977.0,26234.0,26234.0,26234.0,26234.0,26234.0,94196.0,4360.0,2282.0,438.0,11676.0,2586.0,29673.0,29673.0,29673.0,29673.0,29673.0,6740.0,5956.0,6108.0,4585.0,41567.0,53024.0,25510.0,3829.0,8958.0,41127.0,5492.0,9292.0,1873.0,14705.0,8170.0,3341.0,7497.0,7497.0,13779.0,87841.0,120727.0,9967.0,31125.0,6669.0,17044.0,10760.0,1302.0,21625.0,21625.0,21625.0,21625.0,21625.0,9413.0,14331.0,14331.0,14331.0,14331.0],\"yaxis\":\"y\",\"type\":\"scatter\"}],                        {\"template\":{\"data\":{\"histogram2dcontour\":[{\"type\":\"histogram2dcontour\",\"colorbar\":{\"outlinewidth\":0,\"ticks\":\"\"},\"colorscale\":[[0.0,\"#0d0887\"],[0.1111111111111111,\"#46039f\"],[0.2222222222222222,\"#7201a8\"],[0.3333333333333333,\"#9c179e\"],[0.4444444444444444,\"#bd3786\"],[0.5555555555555556,\"#d8576b\"],[0.6666666666666666,\"#ed7953\"],[0.7777777777777778,\"#fb9f3a\"],[0.8888888888888888,\"#fdca26\"],[1.0,\"#f0f921\"]]}],\"choropleth\":[{\"type\":\"choropleth\",\"colorbar\":{\"outlinewidth\":0,\"ticks\":\"\"}}],\"histogram2d\":[{\"type\":\"histogram2d\",\"colorbar\":{\"outlinewidth\":0,\"ticks\":\"\"},\"colorscale\":[[0.0,\"#0d0887\"],[0.1111111111111111,\"#46039f\"],[0.2222222222222222,\"#7201a8\"],[0.3333333333333333,\"#9c179e\"],[0.4444444444444444,\"#bd3786\"],[0.5555555555555556,\"#d8576b\"],[0.6666666666666666,\"#ed7953\"],[0.7777777777777778,\"#fb9f3a\"],[0.8888888888888888,\"#fdca26\"],[1.0,\"#f0f921\"]]}],\"heatmap\":[{\"type\":\"heatmap\",\"colorbar\":{\"outlinewidth\":0,\"ticks\":\"\"},\"colorscale\":[[0.0,\"#0d0887\"],[0.1111111111111111,\"#46039f\"],[0.2222222222222222,\"#7201a8\"],[0.3333333333333333,\"#9c179e\"],[0.4444444444444444,\"#bd3786\"],[0.5555555555555556,\"#d8576b\"],[0.6666666666666666,\"#ed7953\"],[0.7777777777777778,\"#fb9f3a\"],[0.8888888888888888,\"#fdca26\"],[1.0,\"#f0f921\"]]}],\"heatmapgl\":[{\"type\":\"heatmapgl\",\"colorbar\":{\"outlinewidth\":0,\"ticks\":\"\"},\"colorscale\":[[0.0,\"#0d0887\"],[0.1111111111111111,\"#46039f\"],[0.2222222222222222,\"#7201a8\"],[0.3333333333333333,\"#9c179e\"],[0.4444444444444444,\"#bd3786\"],[0.5555555555555556,\"#d8576b\"],[0.6666666666666666,\"#ed7953\"],[0.7777777777777778,\"#fb9f3a\"],[0.8888888888888888,\"#fdca26\"],[1.0,\"#f0f921\"]]}],\"contourcarpet\":[{\"type\":\"contourcarpet\",\"colorbar\":{\"outlinewidth\":0,\"ticks\":\"\"}}],\"contour\":[{\"type\":\"contour\",\"colorbar\":{\"outlinewidth\":0,\"ticks\":\"\"},\"colorscale\":[[0.0,\"#0d0887\"],[0.1111111111111111,\"#46039f\"],[0.2222222222222222,\"#7201a8\"],[0.3333333333333333,\"#9c179e\"],[0.4444444444444444,\"#bd3786\"],[0.5555555555555556,\"#d8576b\"],[0.6666666666666666,\"#ed7953\"],[0.7777777777777778,\"#fb9f3a\"],[0.8888888888888888,\"#fdca26\"],[1.0,\"#f0f921\"]]}],\"surface\":[{\"type\":\"surface\",\"colorbar\":{\"outlinewidth\":0,\"ticks\":\"\"},\"colorscale\":[[0.0,\"#0d0887\"],[0.1111111111111111,\"#46039f\"],[0.2222222222222222,\"#7201a8\"],[0.3333333333333333,\"#9c179e\"],[0.4444444444444444,\"#bd3786\"],[0.5555555555555556,\"#d8576b\"],[0.6666666666666666,\"#ed7953\"],[0.7777777777777778,\"#fb9f3a\"],[0.8888888888888888,\"#fdca26\"],[1.0,\"#f0f921\"]]}],\"mesh3d\":[{\"type\":\"mesh3d\",\"colorbar\":{\"outlinewidth\":0,\"ticks\":\"\"}}],\"scatter\":[{\"marker\":{\"line\":{\"color\":\"#283442\"}},\"type\":\"scatter\"}],\"parcoords\":[{\"type\":\"parcoords\",\"line\":{\"colorbar\":{\"outlinewidth\":0,\"ticks\":\"\"}}}],\"scatterpolargl\":[{\"type\":\"scatterpolargl\",\"marker\":{\"colorbar\":{\"outlinewidth\":0,\"ticks\":\"\"}}}],\"bar\":[{\"error_x\":{\"color\":\"#f2f5fa\"},\"error_y\":{\"color\":\"#f2f5fa\"},\"marker\":{\"line\":{\"color\":\"rgb(17,17,17)\",\"width\":0.5},\"pattern\":{\"fillmode\":\"overlay\",\"size\":10,\"solidity\":0.2}},\"type\":\"bar\"}],\"scattergeo\":[{\"type\":\"scattergeo\",\"marker\":{\"colorbar\":{\"outlinewidth\":0,\"ticks\":\"\"}}}],\"scatterpolar\":[{\"type\":\"scatterpolar\",\"marker\":{\"colorbar\":{\"outlinewidth\":0,\"ticks\":\"\"}}}],\"histogram\":[{\"marker\":{\"pattern\":{\"fillmode\":\"overlay\",\"size\":10,\"solidity\":0.2}},\"type\":\"histogram\"}],\"scattergl\":[{\"marker\":{\"line\":{\"color\":\"#283442\"}},\"type\":\"scattergl\"}],\"scatter3d\":[{\"type\":\"scatter3d\",\"line\":{\"colorbar\":{\"outlinewidth\":0,\"ticks\":\"\"}},\"marker\":{\"colorbar\":{\"outlinewidth\":0,\"ticks\":\"\"}}}],\"scattermapbox\":[{\"type\":\"scattermapbox\",\"marker\":{\"colorbar\":{\"outlinewidth\":0,\"ticks\":\"\"}}}],\"scatterternary\":[{\"type\":\"scatterternary\",\"marker\":{\"colorbar\":{\"outlinewidth\":0,\"ticks\":\"\"}}}],\"scattercarpet\":[{\"type\":\"scattercarpet\",\"marker\":{\"colorbar\":{\"outlinewidth\":0,\"ticks\":\"\"}}}],\"carpet\":[{\"aaxis\":{\"endlinecolor\":\"#A2B1C6\",\"gridcolor\":\"#506784\",\"linecolor\":\"#506784\",\"minorgridcolor\":\"#506784\",\"startlinecolor\":\"#A2B1C6\"},\"baxis\":{\"endlinecolor\":\"#A2B1C6\",\"gridcolor\":\"#506784\",\"linecolor\":\"#506784\",\"minorgridcolor\":\"#506784\",\"startlinecolor\":\"#A2B1C6\"},\"type\":\"carpet\"}],\"table\":[{\"cells\":{\"fill\":{\"color\":\"#506784\"},\"line\":{\"color\":\"rgb(17,17,17)\"}},\"header\":{\"fill\":{\"color\":\"#2a3f5f\"},\"line\":{\"color\":\"rgb(17,17,17)\"}},\"type\":\"table\"}],\"barpolar\":[{\"marker\":{\"line\":{\"color\":\"rgb(17,17,17)\",\"width\":0.5},\"pattern\":{\"fillmode\":\"overlay\",\"size\":10,\"solidity\":0.2}},\"type\":\"barpolar\"}],\"pie\":[{\"automargin\":true,\"type\":\"pie\"}]},\"layout\":{\"autotypenumbers\":\"strict\",\"colorway\":[\"#636efa\",\"#EF553B\",\"#00cc96\",\"#ab63fa\",\"#FFA15A\",\"#19d3f3\",\"#FF6692\",\"#B6E880\",\"#FF97FF\",\"#FECB52\"],\"font\":{\"color\":\"#f2f5fa\"},\"hovermode\":\"closest\",\"hoverlabel\":{\"align\":\"left\"},\"paper_bgcolor\":\"rgb(17,17,17)\",\"plot_bgcolor\":\"rgb(17,17,17)\",\"polar\":{\"bgcolor\":\"rgb(17,17,17)\",\"angularaxis\":{\"gridcolor\":\"#506784\",\"linecolor\":\"#506784\",\"ticks\":\"\"},\"radialaxis\":{\"gridcolor\":\"#506784\",\"linecolor\":\"#506784\",\"ticks\":\"\"}},\"ternary\":{\"bgcolor\":\"rgb(17,17,17)\",\"aaxis\":{\"gridcolor\":\"#506784\",\"linecolor\":\"#506784\",\"ticks\":\"\"},\"baxis\":{\"gridcolor\":\"#506784\",\"linecolor\":\"#506784\",\"ticks\":\"\"},\"caxis\":{\"gridcolor\":\"#506784\",\"linecolor\":\"#506784\",\"ticks\":\"\"}},\"coloraxis\":{\"colorbar\":{\"outlinewidth\":0,\"ticks\":\"\"}},\"colorscale\":{\"sequential\":[[0.0,\"#0d0887\"],[0.1111111111111111,\"#46039f\"],[0.2222222222222222,\"#7201a8\"],[0.3333333333333333,\"#9c179e\"],[0.4444444444444444,\"#bd3786\"],[0.5555555555555556,\"#d8576b\"],[0.6666666666666666,\"#ed7953\"],[0.7777777777777778,\"#fb9f3a\"],[0.8888888888888888,\"#fdca26\"],[1.0,\"#f0f921\"]],\"sequentialminus\":[[0.0,\"#0d0887\"],[0.1111111111111111,\"#46039f\"],[0.2222222222222222,\"#7201a8\"],[0.3333333333333333,\"#9c179e\"],[0.4444444444444444,\"#bd3786\"],[0.5555555555555556,\"#d8576b\"],[0.6666666666666666,\"#ed7953\"],[0.7777777777777778,\"#fb9f3a\"],[0.8888888888888888,\"#fdca26\"],[1.0,\"#f0f921\"]],\"diverging\":[[0,\"#8e0152\"],[0.1,\"#c51b7d\"],[0.2,\"#de77ae\"],[0.3,\"#f1b6da\"],[0.4,\"#fde0ef\"],[0.5,\"#f7f7f7\"],[0.6,\"#e6f5d0\"],[0.7,\"#b8e186\"],[0.8,\"#7fbc41\"],[0.9,\"#4d9221\"],[1,\"#276419\"]]},\"xaxis\":{\"gridcolor\":\"#283442\",\"linecolor\":\"#506784\",\"ticks\":\"\",\"title\":{\"standoff\":15},\"zerolinecolor\":\"#283442\",\"automargin\":true,\"zerolinewidth\":2},\"yaxis\":{\"gridcolor\":\"#283442\",\"linecolor\":\"#506784\",\"ticks\":\"\",\"title\":{\"standoff\":15},\"zerolinecolor\":\"#283442\",\"automargin\":true,\"zerolinewidth\":2},\"scene\":{\"xaxis\":{\"backgroundcolor\":\"rgb(17,17,17)\",\"gridcolor\":\"#506784\",\"linecolor\":\"#506784\",\"showbackground\":true,\"ticks\":\"\",\"zerolinecolor\":\"#C8D4E3\",\"gridwidth\":2},\"yaxis\":{\"backgroundcolor\":\"rgb(17,17,17)\",\"gridcolor\":\"#506784\",\"linecolor\":\"#506784\",\"showbackground\":true,\"ticks\":\"\",\"zerolinecolor\":\"#C8D4E3\",\"gridwidth\":2},\"zaxis\":{\"backgroundcolor\":\"rgb(17,17,17)\",\"gridcolor\":\"#506784\",\"linecolor\":\"#506784\",\"showbackground\":true,\"ticks\":\"\",\"zerolinecolor\":\"#C8D4E3\",\"gridwidth\":2}},\"shapedefaults\":{\"line\":{\"color\":\"#f2f5fa\"}},\"annotationdefaults\":{\"arrowcolor\":\"#f2f5fa\",\"arrowhead\":0,\"arrowwidth\":1},\"geo\":{\"bgcolor\":\"rgb(17,17,17)\",\"landcolor\":\"rgb(17,17,17)\",\"subunitcolor\":\"#506784\",\"showland\":true,\"showlakes\":true,\"lakecolor\":\"rgb(17,17,17)\"},\"title\":{\"x\":0.05},\"updatemenudefaults\":{\"bgcolor\":\"#506784\",\"borderwidth\":0},\"sliderdefaults\":{\"bgcolor\":\"#C8D4E3\",\"borderwidth\":1,\"bordercolor\":\"rgb(17,17,17)\",\"tickwidth\":0},\"mapbox\":{\"style\":\"dark\"}}},\"xaxis\":{\"anchor\":\"y\",\"domain\":[0.0,1.0],\"title\":{\"text\":\"Price\"}},\"yaxis\":{\"anchor\":\"x\",\"domain\":[0.0,1.0],\"title\":{\"text\":\"# of Reviews\"}},\"legend\":{\"tracegroupgap\":0},\"title\":{\"text\":\"Number of reviews by Book price \\u003cbr\\u003e\\u003csup\\u003eAmazon Bestseller List 2009 to Present\\u003c\\u002fsup\\u003e\"}},                        {\"responsive\": true}                    ).then(function(){\n",
       "                            \n",
       "var gd = document.getElementById('0da1680f-11f8-4127-9162-194cd5a135be');\n",
       "var x = new MutationObserver(function (mutations, observer) {{\n",
       "        var display = window.getComputedStyle(gd).display;\n",
       "        if (!display || display === 'none') {{\n",
       "            console.log([gd, 'removed!']);\n",
       "            Plotly.purge(gd);\n",
       "            observer.disconnect();\n",
       "        }}\n",
       "}});\n",
       "\n",
       "// Listen for the removal of the full notebook cells\n",
       "var notebookContainer = gd.closest('#notebook-container');\n",
       "if (notebookContainer) {{\n",
       "    x.observe(notebookContainer, {childList: true});\n",
       "}}\n",
       "\n",
       "// Listen for the clearing of the current output cell\n",
       "var outputEl = gd.closest('.output');\n",
       "if (outputEl) {{\n",
       "    x.observe(outputEl, {childList: true});\n",
       "}}\n",
       "\n",
       "                        })                };                });            </script>        </div>"
      ]
     },
     "metadata": {},
     "output_type": "display_data"
    }
   ],
   "execution_count": 36
  },
  {
   "cell_type": "markdown",
   "id": "e67d4d80-a0c8-46b9-aa8b-d23b61ebcf81",
   "metadata": {},
   "source": [
    "#### Colors\n",
    "Some plots can split the data by a categorical variable. In the case of a scatterplot, you can use the `color` parameter to differentiate points by another variable.\n",
    "\n",
    "Let's further differentiate between the \"Genre\" of book to see if there is any clear difference between the two types."
   ]
  },
  {
   "cell_type": "code",
   "id": "05a174ff-a54b-44a4-8995-bc163be6c222",
   "metadata": {
    "ExecuteTime": {
     "end_time": "2024-11-25T17:14:59.132673Z",
     "start_time": "2024-11-25T17:14:59.047474Z"
    }
   },
   "source": [
    "# Initialize a scatter plot\n",
    "fig = px.scatter(books,\n",
    "                 x=\"Price\",\n",
    "                 y=\"Reviews\",\n",
    "                 title=\"Number of Reviews by Book Price<br><sup>Amazon Bestseller List 2009 to Present</sup>\",\n",
    "                 labels={\"Reviews\": \"# of Reviews\", \"Price\": \"Price (USD)\"},\n",
    "                 color=\"Genre\"\n",
    "                )\n",
    "\n",
    "# Show the plot\n",
    "fig.show()"
   ],
   "outputs": [
    {
     "data": {
      "application/vnd.plotly.v1+json": {
       "data": [
        {
         "hovertemplate": "Genre=Non Fiction<br>Price (USD)=%{x}<br># of Reviews=%{y}<extra></extra>",
         "legendgroup": "Non Fiction",
         "marker": {
          "color": "#636efa",
          "symbol": "circle"
         },
         "mode": "markers",
         "name": "Non Fiction",
         "orientation": "v",
         "showlegend": true,
         "x": [
          8.0,
          15.0,
          12.0,
          3.0,
          2.0,
          23.0,
          32.0,
          17.0,
          4.0,
          6.0,
          6.0,
          8.0,
          13.0,
          12.52,
          9.0,
          5.0,
          9.0,
          17.78,
          12.0,
          11.98,
          14.0,
          5.0,
          11.0,
          24.0,
          21.0,
          11.0,
          11.0,
          10.0,
          15.0,
          13.0,
          13.0,
          18.0,
          8.0,
          8.0,
          6.99,
          4.0,
          18.0,
          28.0,
          19.0,
          14.34,
          16.0,
          14.0,
          14.0,
          14.0,
          4.0,
          5.0,
          8.99,
          10.0,
          13.0,
          17.0,
          15.0,
          105.0,
          105.0,
          5.0,
          6.0,
          5.0,
          16.0,
          1.0,
          14.0,
          9.0,
          9.0,
          15.0,
          15.0,
          11.0,
          9.0,
          2.0,
          6.0,
          4.0,
          4.0,
          4.0,
          4.0,
          4.0,
          9.0,
          9.0,
          20.0,
          16.0,
          14.0,
          12.0,
          12.0,
          12.0,
          11.0,
          6.0,
          6.0,
          14.0,
          14.0,
          14.0,
          14.0,
          10.0,
          18.0,
          15.98,
          7.0,
          54.0,
          11.0,
          9.0,
          4.0,
          10.0,
          10.0,
          14.0,
          14.0,
          22.0,
          13.0,
          11.0,
          11.0,
          11.0,
          11.0,
          11.0,
          10.58,
          16.0,
          5.0,
          15.0,
          15.0,
          17.0,
          17.0,
          7.0,
          9.0,
          6.99,
          21.0,
          13.0,
          13.0,
          12.0,
          8.0,
          8.0,
          8.0,
          8.0,
          8.0,
          8.0,
          17.0,
          12.0,
          25.0,
          10.0,
          10.0,
          6.0,
          5.0,
          6.0,
          8.0,
          4.0,
          4.0,
          4.0,
          4.0,
          4.0,
          4.0,
          4.0,
          4.0,
          13.0,
          21.0,
          6.0,
          15.0,
          18.0,
          15.0,
          13.0,
          17.0,
          16.0,
          20.0,
          11.0,
          27.0,
          8.0,
          8.0,
          8.0,
          6.0,
          10.0,
          10.0,
          10.0,
          21.0,
          15.0,
          4.07,
          16.0,
          11.0,
          9.0,
          14.0,
          22.0,
          13.0,
          13.0,
          9.0,
          20.0,
          20.0,
          5.0,
          5.0,
          14.16,
          10.0,
          10.0,
          10.0,
          26.0,
          46.0,
          46.0,
          46.0,
          46.0,
          46.0,
          46.0,
          46.0,
          46.0,
          46.0,
          46.0,
          20.0,
          7.0,
          9.0,
          9.0,
          15.0,
          15.49,
          20.0,
          20.0,
          4.79,
          6.0,
          6.0,
          9.0,
          9.59,
          11.0,
          16.0,
          6.0,
          17.0,
          20.0,
          20.0,
          17.0,
          17.0,
          17.0,
          17.0,
          17.0,
          17.0,
          17.0,
          17.0,
          17.0,
          18.0,
          13.0,
          20.0,
          20.0,
          22.0,
          21.0,
          11.6,
          28.0,
          28.0,
          28.0,
          28.0,
          28.0,
          8.0,
          8.0,
          8.0,
          8.0,
          8.0,
          8.0,
          7.57,
          12.0,
          24.0,
          24.0,
          24.0,
          24.0,
          16.0,
          16.0,
          16.0,
          9.0,
          17.0,
          14.0,
          12.0,
          8.0,
          11.4,
          53.0,
          15.0,
          10.35,
          12.0,
          12.0,
          21.0,
          6.0,
          6.0,
          0.0,
          11.0,
          15.0,
          6.0,
          6.0,
          6.0,
          6.0,
          6.0,
          9.0,
          6.0,
          7.74,
          6.0,
          6.0,
          6.0,
          6.0,
          6.0,
          6.0,
          13.0,
          9.0,
          9.0,
          7.0,
          7.0,
          9.0,
          13.0,
          13.0,
          11.0,
          11.0,
          11.0,
          11.0,
          13.0,
          5.0,
          12.0,
          40.0,
          40.0,
          40.0,
          40.0,
          40.0,
          36.0,
          17.0,
          14.0,
          21.0,
          18.0,
          17.0,
          21.0,
          19.42,
          14.0,
          12.0,
          10.34,
          19.0,
          17.99,
          15.0,
          15.0,
          15.0,
          14.8,
          9.0,
          9.0,
          10.0,
          10.0,
          7.0,
          5.06,
          16.0,
          16.0,
          16.0,
          16.0,
          15.0,
          19.0,
          19.0,
          23.0,
          11.0,
          11.0,
          23.0,
          23.0,
          23.0,
          23.0,
          12.0,
          17.0,
          21.0,
          15.0,
          16.0,
          16.0,
          16.0,
          13.0,
          16.0,
          11.0,
          4.0,
          9.0,
          15.0,
          14.89,
          18.0,
          17.0,
          9.0,
          6.0,
          6.0,
          14.0,
          10.0,
          12.0,
          18.0,
          11.0,
          8.0,
          8.0,
          8.0,
          8.0
         ],
         "xaxis": "x",
         "y": [
          17350.0,
          18979.0,
          7665.0,
          5983.0,
          460.0,
          83212.0,
          4149.0,
          5013.0,
          2313.0,
          2925.0,
          2951.0,
          2426.0,
          9198.0,
          33712.0,
          15921.0,
          798.0,
          9374.0,
          13893.0,
          29634.0,
          104159.0,
          491.0,
          5360.0,
          1909.0,
          1296.0,
          615.0,
          61133.0,
          61133.0,
          99498.0,
          11113.0,
          10070.0,
          10070.0,
          3729.0,
          471.0,
          26423.0,
          75520.0,
          10369.0,
          16244.0,
          2884.0,
          21967.0,
          40535.0,
          4761.0,
          1542.0,
          1542.0,
          1542.0,
          4022.0,
          3871.0,
          35003.0,
          1329.0,
          4642.0,
          2137.0,
          1651.0,
          6679.0,
          6679.0,
          7955.0,
          37.0,
          2134.0,
          2525.0,
          720.0,
          956.0,
          6346.0,
          6346.0,
          28729.0,
          28729.0,
          45351.0,
          5413.0,
          6042.0,
          13677.0,
          17323.0,
          17323.0,
          17323.0,
          17323.0,
          17323.0,
          1555.0,
          1215.0,
          408.0,
          4799.0,
          12879.0,
          7660.0,
          22288.0,
          22288.0,
          1365.0,
          1636.0,
          10141.0,
          3457.0,
          3457.0,
          3457.0,
          3457.0,
          5972.0,
          26740.0,
          58357.0,
          5476.0,
          5867.0,
          4148.0,
          3564.0,
          1930.0,
          15779.0,
          15779.0,
          15526.0,
          15526.0,
          3776.0,
          19555.0,
          25001.0,
          25001.0,
          25001.0,
          25001.0,
          25001.0,
          70752.0,
          5272.0,
          14128.0,
          3490.0,
          3490.0,
          2812.0,
          4896.0,
          9737.0,
          20485.0,
          31640.0,
          4571.0,
          7396.0,
          7396.0,
          7062.0,
          19576.0,
          19576.0,
          19576.0,
          19576.0,
          19576.0,
          19576.0,
          8393.0,
          11391.0,
          8634.0,
          9342.0,
          9342.0,
          10927.0,
          5235.0,
          8916.0,
          2507.0,
          3673.0,
          3673.0,
          3673.0,
          6990.0,
          6990.0,
          6990.0,
          6990.0,
          6990.0,
          6132.0,
          3014.0,
          7550.0,
          3828.0,
          2752.0,
          20153.0,
          1649.0,
          16515.0,
          9867.0,
          1386.0,
          10199.0,
          2926.0,
          17739.0,
          17739.0,
          17739.0,
          3113.0,
          5542.0,
          5542.0,
          5542.0,
          11769.0,
          45694.0,
          75486.0,
          5347.0,
          7866.0,
          5178.0,
          8093.0,
          3192.0,
          3163.0,
          3163.0,
          1831.0,
          10426.0,
          10426.0,
          10820.0,
          10820.0,
          20037.0,
          26462.0,
          13616.0,
          13616.0,
          27726.0,
          8580.0,
          8580.0,
          8580.0,
          8580.0,
          8580.0,
          8580.0,
          8580.0,
          8580.0,
          8580.0,
          8580.0,
          10009.0,
          10009.0,
          1985.0,
          1985.0,
          27788.0,
          90390.0,
          7802.0,
          7802.0,
          65184.0,
          23047.0,
          23047.0,
          9366.0,
          15104.0,
          1265.0,
          3923.0,
          2272.0,
          220.0,
          7827.0,
          7827.0,
          5069.0,
          5069.0,
          5069.0,
          5069.0,
          5069.0,
          5069.0,
          5069.0,
          5069.0,
          5069.0,
          1583.0,
          1907.0,
          637.0,
          637.0,
          2314.0,
          4587.0,
          49270.0,
          3477.0,
          3477.0,
          3477.0,
          3477.0,
          3477.0,
          25554.0,
          25554.0,
          25554.0,
          25554.0,
          25554.0,
          44174.0,
          68263.0,
          1680.0,
          9325.0,
          9325.0,
          9325.0,
          9325.0,
          4725.0,
          4725.0,
          4725.0,
          2580.0,
          3536.0,
          1789.0,
          12361.0,
          24327.0,
          53535.0,
          858.0,
          53549.0,
          106658.0,
          23358.0,
          23358.0,
          4633.0,
          13061.0,
          13061.0,
          2774.0,
          440.0,
          2023.0,
          3207.0,
          3207.0,
          3207.0,
          3207.0,
          3207.0,
          803.0,
          45368.0,
          48326.0,
          23308.0,
          23308.0,
          23308.0,
          23308.0,
          23308.0,
          23308.0,
          9289.0,
          9289.0,
          9289.0,
          7368.0,
          7368.0,
          4028.0,
          4247.0,
          4247.0,
          22641.0,
          22641.0,
          22641.0,
          22641.0,
          1655.0,
          7861.0,
          2744.0,
          1201.0,
          1201.0,
          1201.0,
          1201.0,
          1201.0,
          807.0,
          2663.0,
          3428.0,
          2876.0,
          3601.0,
          7058.0,
          10795.0,
          20153.0,
          1204.0,
          44608.0,
          51448.0,
          15424.0,
          25554.0,
          26490.0,
          26490.0,
          26490.0,
          77899.0,
          5487.0,
          3503.0,
          11550.0,
          9030.0,
          35965.0,
          52375.0,
          7508.0,
          7508.0,
          7508.0,
          6169.0,
          7034.0,
          11034.0,
          11034.0,
          1904.0,
          3319.0,
          3319.0,
          11128.0,
          11128.0,
          11128.0,
          11128.0,
          5977.0,
          94196.0,
          4360.0,
          438.0,
          29673.0,
          29673.0,
          29673.0,
          29673.0,
          29673.0,
          5956.0,
          6108.0,
          4585.0,
          41567.0,
          53024.0,
          5492.0,
          9292.0,
          3341.0,
          7497.0,
          7497.0,
          13779.0,
          31125.0,
          6669.0,
          17044.0,
          1302.0,
          14331.0,
          14331.0,
          14331.0,
          14331.0
         ],
         "yaxis": "y",
         "type": "scatter"
        },
        {
         "hovertemplate": "Genre=Fiction<br>Price (USD)=%{x}<br># of Reviews=%{y}<extra></extra>",
         "legendgroup": "Fiction",
         "marker": {
          "color": "#EF553B",
          "symbol": "circle"
         },
         "mode": "markers",
         "name": "Fiction",
         "orientation": "v",
         "showlegend": true,
         "x": [
          22.0,
          7.48,
          6.0,
          11.0,
          30.0,
          15.0,
          8.0,
          8.0,
          5.0,
          14.0,
          14.0,
          13.0,
          17.0,
          13.0,
          7.49,
          13.0,
          5.0,
          5.0,
          5.0,
          5.36,
          0.0,
          13.58,
          11.0,
          11.0,
          11.0,
          4.0,
          8.0,
          11.0,
          11.0,
          4.0,
          8.0,
          4.0,
          5.0,
          5.0,
          5.0,
          5.0,
          0.0,
          15.0,
          22.0,
          15.0,
          15.0,
          6.0,
          13.0,
          12.0,
          6.0,
          8.0,
          4.0,
          4.0,
          8.0,
          8.0,
          6.0,
          6.0,
          6.62,
          20.0,
          12.01,
          7.0,
          18.0,
          8.0,
          8.0,
          15.0,
          7.0,
          11.0,
          14.0,
          14.0,
          32.0,
          0.0,
          5.0,
          5.0,
          5.0,
          4.0,
          4.0,
          4.0,
          4.0,
          4.0,
          6.0,
          19.0,
          18.0,
          9.0,
          10.0,
          10.0,
          9.0,
          5.0,
          5.0,
          5.0,
          7.0,
          7.0,
          14.0,
          10.62,
          30.0,
          12.0,
          18.0,
          30.0,
          22.0,
          52.0,
          6.0,
          6.0,
          5.0,
          1.0,
          4.31,
          7.0,
          4.0,
          4.0,
          4.0,
          4.14,
          9.0,
          14.0,
          20.0,
          10.26,
          0.0,
          12.0,
          13.0,
          10.0,
          0.0,
          12.0,
          10.0,
          7.0,
          5.0,
          5.0,
          13.0,
          8.0,
          8.0,
          8.0,
          14.4,
          10.0,
          8.0,
          8.0,
          8.0,
          8.0,
          8.0,
          8.0,
          8.0,
          8.0,
          8.48,
          7.0,
          12.0,
          13.0,
          11.0,
          9.0,
          6.0,
          8.49,
          2.0,
          27.0,
          27.0,
          27.0,
          9.0,
          4.0,
          12.0,
          12.0,
          12.0,
          12.0,
          10.0,
          8.0,
          25.0,
          6.0,
          18.0,
          39.0,
          13.99,
          10.0,
          10.0,
          14.0,
          9.0,
          11.0,
          6.0,
          6.0,
          8.0,
          8.0,
          12.0,
          13.0,
          9.0,
          9.0,
          9.0,
          7.0,
          11.0,
          13.0,
          13.0,
          7.0,
          13.0,
          13.79,
          0.0,
          18.0,
          7.0,
          14.0,
          14.0,
          9.0,
          16.0,
          2.0,
          2.0,
          5.0,
          5.0,
          20.0,
          20.0,
          7.0,
          7.0,
          7.0,
          14.0,
          10.0,
          7.0,
          13.0,
          11.0,
          6.0,
          6.0,
          8.0,
          7.0,
          9.58,
          14.0,
          14.0,
          8.0,
          8.0,
          30.0,
          30.0,
          7.0,
          7.0,
          13.09,
          20.0,
          18.0,
          14.0,
          19.0,
          10.0,
          9.0,
          8.0,
          8.0,
          13.29,
          11.0,
          11.0,
          16.0,
          5.0,
          5.0,
          18.0,
          18.0,
          12.0,
          12.0,
          9.42,
          8.0,
          8.0,
          0.0,
          14.0,
          15.0,
          10.0,
          7.0,
          10.0,
          6.0,
          82.0,
          12.0,
          16.0,
          5.0,
          5.0,
          5.0,
          5.0,
          5.0,
          5.0,
          5.0,
          10.0,
          10.0,
          10.0,
          10.0,
          8.55,
          4.0,
          4.0,
          5.0,
          8.37,
          9.0,
          0.0,
          0.0,
          0.0,
          0.0,
          7.0,
          21.0,
          9.0,
          5.0,
          20.0,
          7.0,
          42.0,
          12.0,
          5.98,
          14.0,
          13.0,
          13.0,
          15.0,
          9.0,
          13.0,
          15.0,
          9.0,
          9.0,
          9.0,
          9.0,
          9.0,
          8.0
         ],
         "xaxis": "x",
         "y": [
          2052.0,
          70425.0,
          21424.0,
          12643.0,
          19735.0,
          19699.0,
          23848.0,
          23848.0,
          5153.0,
          36348.0,
          36348.0,
          6310.0,
          41716.0,
          12159.0,
          19470.0,
          9769.0,
          14344.0,
          14344.0,
          25321.0,
          45919.0,
          4505.0,
          4153.0,
          22614.0,
          22614.0,
          22614.0,
          20705.0,
          6143.0,
          4866.0,
          4866.0,
          1541.0,
          1924.0,
          2094.0,
          10922.0,
          10922.0,
          10922.0,
          10922.0,
          6812.0,
          3837.0,
          6540.0,
          27098.0,
          27098.0,
          17684.0,
          15845.0,
          3181.0,
          5062.0,
          4786.0,
          7235.0,
          7235.0,
          12619.0,
          9089.0,
          31045.0,
          5470.0,
          22196.0,
          5118.0,
          63421.0,
          5505.0,
          5505.0,
          10721.0,
          10721.0,
          4370.0,
          23631.0,
          20262.0,
          47265.0,
          47265.0,
          13964.0,
          3642.0,
          5594.0,
          5594.0,
          5594.0,
          14038.0,
          14038.0,
          14038.0,
          14038.0,
          14038.0,
          23356.0,
          14982.0,
          52777.0,
          9568.0,
          57271.0,
          57271.0,
          57271.0,
          8837.0,
          8837.0,
          8837.0,
          7038.0,
          7038.0,
          25624.0,
          22383.0,
          19622.0,
          23973.0,
          7758.0,
          3146.0,
          10052.0,
          13471.0,
          17538.0,
          29121.0,
          19988.0,
          24356.0,
          58200.0,
          1320.0,
          16643.0,
          16643.0,
          39063.0,
          68304.0,
          7153.0,
          29651.0,
          5299.0,
          141748.0,
          978.0,
          4748.0,
          11881.0,
          1467.0,
          1884.0,
          25706.0,
          43514.0,
          8491.0,
          18613.0,
          18613.0,
          64215.0,
          26741.0,
          26741.0,
          26741.0,
          60070.0,
          5680.0,
          21834.0,
          21834.0,
          21834.0,
          21834.0,
          21834.0,
          21834.0,
          21834.0,
          21834.0,
          41796.0,
          6169.0,
          4519.0,
          18904.0,
          21930.0,
          12643.0,
          12852.0,
          21271.0,
          548.0,
          16990.0,
          16990.0,
          16990.0,
          3503.0,
          4757.0,
          22536.0,
          22536.0,
          7150.0,
          3836.0,
          3619.0,
          45485.0,
          973.0,
          9382.0,
          23114.0,
          35799.0,
          91743.0,
          11813.0,
          11813.0,
          37173.0,
          11668.0,
          6600.0,
          23148.0,
          23148.0,
          8081.0,
          8081.0,
          9372.0,
          3523.0,
          8922.0,
          8922.0,
          8922.0,
          26047.0,
          1859.0,
          50482.0,
          50482.0,
          50482.0,
          50482.0,
          117146.0,
          5836.0,
          79446.0,
          79446.0,
          7747.0,
          7747.0,
          7251.0,
          7251.0,
          10559.0,
          10559.0,
          5249.0,
          5249.0,
          33844.0,
          33844.0,
          11616.0,
          11616.0,
          11616.0,
          13609.0,
          8587.0,
          29442.0,
          11098.0,
          9947.0,
          13871.0,
          13871.0,
          13871.0,
          13871.0,
          15399.0,
          6982.0,
          32122.0,
          32122.0,
          32122.0,
          16949.0,
          16949.0,
          4628.0,
          4628.0,
          107449.0,
          5396.0,
          6222.0,
          4506.0,
          8747.0,
          6247.0,
          39459.0,
          10101.0,
          5898.0,
          193482.0,
          49288.0,
          49288.0,
          3759.0,
          9784.0,
          9784.0,
          10191.0,
          14493.0,
          2186.0,
          2091.0,
          111053.0,
          19720.0,
          19720.0,
          2122.0,
          27536.0,
          61060.0,
          4290.0,
          6377.0,
          1463.0,
          3759.0,
          3801.0,
          3796.0,
          42235.0,
          19546.0,
          19546.0,
          19546.0,
          19546.0,
          19546.0,
          19546.0,
          19546.0,
          8842.0,
          8842.0,
          8842.0,
          8842.0,
          24189.0,
          30183.0,
          30183.0,
          51255.0,
          31272.0,
          7932.0,
          26234.0,
          26234.0,
          26234.0,
          26234.0,
          26234.0,
          2282.0,
          11676.0,
          2586.0,
          6740.0,
          25510.0,
          3829.0,
          8958.0,
          41127.0,
          1873.0,
          14705.0,
          8170.0,
          87841.0,
          120727.0,
          9967.0,
          10760.0,
          21625.0,
          21625.0,
          21625.0,
          21625.0,
          21625.0,
          9413.0
         ],
         "yaxis": "y",
         "type": "scatter"
        }
       ],
       "layout": {
        "template": {
         "data": {
          "histogram2dcontour": [
           {
            "type": "histogram2dcontour",
            "colorbar": {
             "outlinewidth": 0,
             "ticks": ""
            },
            "colorscale": [
             [
              0.0,
              "#0d0887"
             ],
             [
              0.1111111111111111,
              "#46039f"
             ],
             [
              0.2222222222222222,
              "#7201a8"
             ],
             [
              0.3333333333333333,
              "#9c179e"
             ],
             [
              0.4444444444444444,
              "#bd3786"
             ],
             [
              0.5555555555555556,
              "#d8576b"
             ],
             [
              0.6666666666666666,
              "#ed7953"
             ],
             [
              0.7777777777777778,
              "#fb9f3a"
             ],
             [
              0.8888888888888888,
              "#fdca26"
             ],
             [
              1.0,
              "#f0f921"
             ]
            ]
           }
          ],
          "choropleth": [
           {
            "type": "choropleth",
            "colorbar": {
             "outlinewidth": 0,
             "ticks": ""
            }
           }
          ],
          "histogram2d": [
           {
            "type": "histogram2d",
            "colorbar": {
             "outlinewidth": 0,
             "ticks": ""
            },
            "colorscale": [
             [
              0.0,
              "#0d0887"
             ],
             [
              0.1111111111111111,
              "#46039f"
             ],
             [
              0.2222222222222222,
              "#7201a8"
             ],
             [
              0.3333333333333333,
              "#9c179e"
             ],
             [
              0.4444444444444444,
              "#bd3786"
             ],
             [
              0.5555555555555556,
              "#d8576b"
             ],
             [
              0.6666666666666666,
              "#ed7953"
             ],
             [
              0.7777777777777778,
              "#fb9f3a"
             ],
             [
              0.8888888888888888,
              "#fdca26"
             ],
             [
              1.0,
              "#f0f921"
             ]
            ]
           }
          ],
          "heatmap": [
           {
            "type": "heatmap",
            "colorbar": {
             "outlinewidth": 0,
             "ticks": ""
            },
            "colorscale": [
             [
              0.0,
              "#0d0887"
             ],
             [
              0.1111111111111111,
              "#46039f"
             ],
             [
              0.2222222222222222,
              "#7201a8"
             ],
             [
              0.3333333333333333,
              "#9c179e"
             ],
             [
              0.4444444444444444,
              "#bd3786"
             ],
             [
              0.5555555555555556,
              "#d8576b"
             ],
             [
              0.6666666666666666,
              "#ed7953"
             ],
             [
              0.7777777777777778,
              "#fb9f3a"
             ],
             [
              0.8888888888888888,
              "#fdca26"
             ],
             [
              1.0,
              "#f0f921"
             ]
            ]
           }
          ],
          "heatmapgl": [
           {
            "type": "heatmapgl",
            "colorbar": {
             "outlinewidth": 0,
             "ticks": ""
            },
            "colorscale": [
             [
              0.0,
              "#0d0887"
             ],
             [
              0.1111111111111111,
              "#46039f"
             ],
             [
              0.2222222222222222,
              "#7201a8"
             ],
             [
              0.3333333333333333,
              "#9c179e"
             ],
             [
              0.4444444444444444,
              "#bd3786"
             ],
             [
              0.5555555555555556,
              "#d8576b"
             ],
             [
              0.6666666666666666,
              "#ed7953"
             ],
             [
              0.7777777777777778,
              "#fb9f3a"
             ],
             [
              0.8888888888888888,
              "#fdca26"
             ],
             [
              1.0,
              "#f0f921"
             ]
            ]
           }
          ],
          "contourcarpet": [
           {
            "type": "contourcarpet",
            "colorbar": {
             "outlinewidth": 0,
             "ticks": ""
            }
           }
          ],
          "contour": [
           {
            "type": "contour",
            "colorbar": {
             "outlinewidth": 0,
             "ticks": ""
            },
            "colorscale": [
             [
              0.0,
              "#0d0887"
             ],
             [
              0.1111111111111111,
              "#46039f"
             ],
             [
              0.2222222222222222,
              "#7201a8"
             ],
             [
              0.3333333333333333,
              "#9c179e"
             ],
             [
              0.4444444444444444,
              "#bd3786"
             ],
             [
              0.5555555555555556,
              "#d8576b"
             ],
             [
              0.6666666666666666,
              "#ed7953"
             ],
             [
              0.7777777777777778,
              "#fb9f3a"
             ],
             [
              0.8888888888888888,
              "#fdca26"
             ],
             [
              1.0,
              "#f0f921"
             ]
            ]
           }
          ],
          "surface": [
           {
            "type": "surface",
            "colorbar": {
             "outlinewidth": 0,
             "ticks": ""
            },
            "colorscale": [
             [
              0.0,
              "#0d0887"
             ],
             [
              0.1111111111111111,
              "#46039f"
             ],
             [
              0.2222222222222222,
              "#7201a8"
             ],
             [
              0.3333333333333333,
              "#9c179e"
             ],
             [
              0.4444444444444444,
              "#bd3786"
             ],
             [
              0.5555555555555556,
              "#d8576b"
             ],
             [
              0.6666666666666666,
              "#ed7953"
             ],
             [
              0.7777777777777778,
              "#fb9f3a"
             ],
             [
              0.8888888888888888,
              "#fdca26"
             ],
             [
              1.0,
              "#f0f921"
             ]
            ]
           }
          ],
          "mesh3d": [
           {
            "type": "mesh3d",
            "colorbar": {
             "outlinewidth": 0,
             "ticks": ""
            }
           }
          ],
          "scatter": [
           {
            "marker": {
             "line": {
              "color": "#283442"
             }
            },
            "type": "scatter"
           }
          ],
          "parcoords": [
           {
            "type": "parcoords",
            "line": {
             "colorbar": {
              "outlinewidth": 0,
              "ticks": ""
             }
            }
           }
          ],
          "scatterpolargl": [
           {
            "type": "scatterpolargl",
            "marker": {
             "colorbar": {
              "outlinewidth": 0,
              "ticks": ""
             }
            }
           }
          ],
          "bar": [
           {
            "error_x": {
             "color": "#f2f5fa"
            },
            "error_y": {
             "color": "#f2f5fa"
            },
            "marker": {
             "line": {
              "color": "rgb(17,17,17)",
              "width": 0.5
             },
             "pattern": {
              "fillmode": "overlay",
              "size": 10,
              "solidity": 0.2
             }
            },
            "type": "bar"
           }
          ],
          "scattergeo": [
           {
            "type": "scattergeo",
            "marker": {
             "colorbar": {
              "outlinewidth": 0,
              "ticks": ""
             }
            }
           }
          ],
          "scatterpolar": [
           {
            "type": "scatterpolar",
            "marker": {
             "colorbar": {
              "outlinewidth": 0,
              "ticks": ""
             }
            }
           }
          ],
          "histogram": [
           {
            "marker": {
             "pattern": {
              "fillmode": "overlay",
              "size": 10,
              "solidity": 0.2
             }
            },
            "type": "histogram"
           }
          ],
          "scattergl": [
           {
            "marker": {
             "line": {
              "color": "#283442"
             }
            },
            "type": "scattergl"
           }
          ],
          "scatter3d": [
           {
            "type": "scatter3d",
            "line": {
             "colorbar": {
              "outlinewidth": 0,
              "ticks": ""
             }
            },
            "marker": {
             "colorbar": {
              "outlinewidth": 0,
              "ticks": ""
             }
            }
           }
          ],
          "scattermapbox": [
           {
            "type": "scattermapbox",
            "marker": {
             "colorbar": {
              "outlinewidth": 0,
              "ticks": ""
             }
            }
           }
          ],
          "scatterternary": [
           {
            "type": "scatterternary",
            "marker": {
             "colorbar": {
              "outlinewidth": 0,
              "ticks": ""
             }
            }
           }
          ],
          "scattercarpet": [
           {
            "type": "scattercarpet",
            "marker": {
             "colorbar": {
              "outlinewidth": 0,
              "ticks": ""
             }
            }
           }
          ],
          "carpet": [
           {
            "aaxis": {
             "endlinecolor": "#A2B1C6",
             "gridcolor": "#506784",
             "linecolor": "#506784",
             "minorgridcolor": "#506784",
             "startlinecolor": "#A2B1C6"
            },
            "baxis": {
             "endlinecolor": "#A2B1C6",
             "gridcolor": "#506784",
             "linecolor": "#506784",
             "minorgridcolor": "#506784",
             "startlinecolor": "#A2B1C6"
            },
            "type": "carpet"
           }
          ],
          "table": [
           {
            "cells": {
             "fill": {
              "color": "#506784"
             },
             "line": {
              "color": "rgb(17,17,17)"
             }
            },
            "header": {
             "fill": {
              "color": "#2a3f5f"
             },
             "line": {
              "color": "rgb(17,17,17)"
             }
            },
            "type": "table"
           }
          ],
          "barpolar": [
           {
            "marker": {
             "line": {
              "color": "rgb(17,17,17)",
              "width": 0.5
             },
             "pattern": {
              "fillmode": "overlay",
              "size": 10,
              "solidity": 0.2
             }
            },
            "type": "barpolar"
           }
          ],
          "pie": [
           {
            "automargin": true,
            "type": "pie"
           }
          ]
         },
         "layout": {
          "autotypenumbers": "strict",
          "colorway": [
           "#636efa",
           "#EF553B",
           "#00cc96",
           "#ab63fa",
           "#FFA15A",
           "#19d3f3",
           "#FF6692",
           "#B6E880",
           "#FF97FF",
           "#FECB52"
          ],
          "font": {
           "color": "#f2f5fa"
          },
          "hovermode": "closest",
          "hoverlabel": {
           "align": "left"
          },
          "paper_bgcolor": "rgb(17,17,17)",
          "plot_bgcolor": "rgb(17,17,17)",
          "polar": {
           "bgcolor": "rgb(17,17,17)",
           "angularaxis": {
            "gridcolor": "#506784",
            "linecolor": "#506784",
            "ticks": ""
           },
           "radialaxis": {
            "gridcolor": "#506784",
            "linecolor": "#506784",
            "ticks": ""
           }
          },
          "ternary": {
           "bgcolor": "rgb(17,17,17)",
           "aaxis": {
            "gridcolor": "#506784",
            "linecolor": "#506784",
            "ticks": ""
           },
           "baxis": {
            "gridcolor": "#506784",
            "linecolor": "#506784",
            "ticks": ""
           },
           "caxis": {
            "gridcolor": "#506784",
            "linecolor": "#506784",
            "ticks": ""
           }
          },
          "coloraxis": {
           "colorbar": {
            "outlinewidth": 0,
            "ticks": ""
           }
          },
          "colorscale": {
           "sequential": [
            [
             0.0,
             "#0d0887"
            ],
            [
             0.1111111111111111,
             "#46039f"
            ],
            [
             0.2222222222222222,
             "#7201a8"
            ],
            [
             0.3333333333333333,
             "#9c179e"
            ],
            [
             0.4444444444444444,
             "#bd3786"
            ],
            [
             0.5555555555555556,
             "#d8576b"
            ],
            [
             0.6666666666666666,
             "#ed7953"
            ],
            [
             0.7777777777777778,
             "#fb9f3a"
            ],
            [
             0.8888888888888888,
             "#fdca26"
            ],
            [
             1.0,
             "#f0f921"
            ]
           ],
           "sequentialminus": [
            [
             0.0,
             "#0d0887"
            ],
            [
             0.1111111111111111,
             "#46039f"
            ],
            [
             0.2222222222222222,
             "#7201a8"
            ],
            [
             0.3333333333333333,
             "#9c179e"
            ],
            [
             0.4444444444444444,
             "#bd3786"
            ],
            [
             0.5555555555555556,
             "#d8576b"
            ],
            [
             0.6666666666666666,
             "#ed7953"
            ],
            [
             0.7777777777777778,
             "#fb9f3a"
            ],
            [
             0.8888888888888888,
             "#fdca26"
            ],
            [
             1.0,
             "#f0f921"
            ]
           ],
           "diverging": [
            [
             0,
             "#8e0152"
            ],
            [
             0.1,
             "#c51b7d"
            ],
            [
             0.2,
             "#de77ae"
            ],
            [
             0.3,
             "#f1b6da"
            ],
            [
             0.4,
             "#fde0ef"
            ],
            [
             0.5,
             "#f7f7f7"
            ],
            [
             0.6,
             "#e6f5d0"
            ],
            [
             0.7,
             "#b8e186"
            ],
            [
             0.8,
             "#7fbc41"
            ],
            [
             0.9,
             "#4d9221"
            ],
            [
             1,
             "#276419"
            ]
           ]
          },
          "xaxis": {
           "gridcolor": "#283442",
           "linecolor": "#506784",
           "ticks": "",
           "title": {
            "standoff": 15
           },
           "zerolinecolor": "#283442",
           "automargin": true,
           "zerolinewidth": 2
          },
          "yaxis": {
           "gridcolor": "#283442",
           "linecolor": "#506784",
           "ticks": "",
           "title": {
            "standoff": 15
           },
           "zerolinecolor": "#283442",
           "automargin": true,
           "zerolinewidth": 2
          },
          "scene": {
           "xaxis": {
            "backgroundcolor": "rgb(17,17,17)",
            "gridcolor": "#506784",
            "linecolor": "#506784",
            "showbackground": true,
            "ticks": "",
            "zerolinecolor": "#C8D4E3",
            "gridwidth": 2
           },
           "yaxis": {
            "backgroundcolor": "rgb(17,17,17)",
            "gridcolor": "#506784",
            "linecolor": "#506784",
            "showbackground": true,
            "ticks": "",
            "zerolinecolor": "#C8D4E3",
            "gridwidth": 2
           },
           "zaxis": {
            "backgroundcolor": "rgb(17,17,17)",
            "gridcolor": "#506784",
            "linecolor": "#506784",
            "showbackground": true,
            "ticks": "",
            "zerolinecolor": "#C8D4E3",
            "gridwidth": 2
           }
          },
          "shapedefaults": {
           "line": {
            "color": "#f2f5fa"
           }
          },
          "annotationdefaults": {
           "arrowcolor": "#f2f5fa",
           "arrowhead": 0,
           "arrowwidth": 1
          },
          "geo": {
           "bgcolor": "rgb(17,17,17)",
           "landcolor": "rgb(17,17,17)",
           "subunitcolor": "#506784",
           "showland": true,
           "showlakes": true,
           "lakecolor": "rgb(17,17,17)"
          },
          "title": {
           "x": 0.05
          },
          "updatemenudefaults": {
           "bgcolor": "#506784",
           "borderwidth": 0
          },
          "sliderdefaults": {
           "bgcolor": "#C8D4E3",
           "borderwidth": 1,
           "bordercolor": "rgb(17,17,17)",
           "tickwidth": 0
          },
          "mapbox": {
           "style": "dark"
          }
         }
        },
        "xaxis": {
         "anchor": "y",
         "domain": [
          0.0,
          1.0
         ],
         "title": {
          "text": "Price (USD)"
         }
        },
        "yaxis": {
         "anchor": "x",
         "domain": [
          0.0,
          1.0
         ],
         "title": {
          "text": "# of Reviews"
         }
        },
        "legend": {
         "title": {
          "text": "Genre"
         },
         "tracegroupgap": 0
        },
        "title": {
         "text": "Number of Reviews by Book Price<br><sup>Amazon Bestseller List 2009 to Present</sup>"
        }
       },
       "config": {
        "plotlyServerURL": "https://plot.ly"
       }
      },
      "text/html": [
       "<div>                            <div id=\"43c44efc-fb97-4428-9376-1e4ec44be241\" class=\"plotly-graph-div\" style=\"height:525px; width:100%;\"></div>            <script type=\"text/javascript\">                require([\"plotly\"], function(Plotly) {                    window.PLOTLYENV=window.PLOTLYENV || {};                                    if (document.getElementById(\"43c44efc-fb97-4428-9376-1e4ec44be241\")) {                    Plotly.newPlot(                        \"43c44efc-fb97-4428-9376-1e4ec44be241\",                        [{\"hovertemplate\":\"Genre=Non Fiction\\u003cbr\\u003ePrice (USD)=%{x}\\u003cbr\\u003e# of Reviews=%{y}\\u003cextra\\u003e\\u003c\\u002fextra\\u003e\",\"legendgroup\":\"Non Fiction\",\"marker\":{\"color\":\"#636efa\",\"symbol\":\"circle\"},\"mode\":\"markers\",\"name\":\"Non Fiction\",\"orientation\":\"v\",\"showlegend\":true,\"x\":[8.0,15.0,12.0,3.0,2.0,23.0,32.0,17.0,4.0,6.0,6.0,8.0,13.0,12.52,9.0,5.0,9.0,17.78,12.0,11.98,14.0,5.0,11.0,24.0,21.0,11.0,11.0,10.0,15.0,13.0,13.0,18.0,8.0,8.0,6.99,4.0,18.0,28.0,19.0,14.34,16.0,14.0,14.0,14.0,4.0,5.0,8.99,10.0,13.0,17.0,15.0,105.0,105.0,5.0,6.0,5.0,16.0,1.0,14.0,9.0,9.0,15.0,15.0,11.0,9.0,2.0,6.0,4.0,4.0,4.0,4.0,4.0,9.0,9.0,20.0,16.0,14.0,12.0,12.0,12.0,11.0,6.0,6.0,14.0,14.0,14.0,14.0,10.0,18.0,15.98,7.0,54.0,11.0,9.0,4.0,10.0,10.0,14.0,14.0,22.0,13.0,11.0,11.0,11.0,11.0,11.0,10.58,16.0,5.0,15.0,15.0,17.0,17.0,7.0,9.0,6.99,21.0,13.0,13.0,12.0,8.0,8.0,8.0,8.0,8.0,8.0,17.0,12.0,25.0,10.0,10.0,6.0,5.0,6.0,8.0,4.0,4.0,4.0,4.0,4.0,4.0,4.0,4.0,13.0,21.0,6.0,15.0,18.0,15.0,13.0,17.0,16.0,20.0,11.0,27.0,8.0,8.0,8.0,6.0,10.0,10.0,10.0,21.0,15.0,4.07,16.0,11.0,9.0,14.0,22.0,13.0,13.0,9.0,20.0,20.0,5.0,5.0,14.16,10.0,10.0,10.0,26.0,46.0,46.0,46.0,46.0,46.0,46.0,46.0,46.0,46.0,46.0,20.0,7.0,9.0,9.0,15.0,15.49,20.0,20.0,4.79,6.0,6.0,9.0,9.59,11.0,16.0,6.0,17.0,20.0,20.0,17.0,17.0,17.0,17.0,17.0,17.0,17.0,17.0,17.0,18.0,13.0,20.0,20.0,22.0,21.0,11.6,28.0,28.0,28.0,28.0,28.0,8.0,8.0,8.0,8.0,8.0,8.0,7.57,12.0,24.0,24.0,24.0,24.0,16.0,16.0,16.0,9.0,17.0,14.0,12.0,8.0,11.4,53.0,15.0,10.35,12.0,12.0,21.0,6.0,6.0,0.0,11.0,15.0,6.0,6.0,6.0,6.0,6.0,9.0,6.0,7.74,6.0,6.0,6.0,6.0,6.0,6.0,13.0,9.0,9.0,7.0,7.0,9.0,13.0,13.0,11.0,11.0,11.0,11.0,13.0,5.0,12.0,40.0,40.0,40.0,40.0,40.0,36.0,17.0,14.0,21.0,18.0,17.0,21.0,19.42,14.0,12.0,10.34,19.0,17.99,15.0,15.0,15.0,14.8,9.0,9.0,10.0,10.0,7.0,5.06,16.0,16.0,16.0,16.0,15.0,19.0,19.0,23.0,11.0,11.0,23.0,23.0,23.0,23.0,12.0,17.0,21.0,15.0,16.0,16.0,16.0,13.0,16.0,11.0,4.0,9.0,15.0,14.89,18.0,17.0,9.0,6.0,6.0,14.0,10.0,12.0,18.0,11.0,8.0,8.0,8.0,8.0],\"xaxis\":\"x\",\"y\":[17350.0,18979.0,7665.0,5983.0,460.0,83212.0,4149.0,5013.0,2313.0,2925.0,2951.0,2426.0,9198.0,33712.0,15921.0,798.0,9374.0,13893.0,29634.0,104159.0,491.0,5360.0,1909.0,1296.0,615.0,61133.0,61133.0,99498.0,11113.0,10070.0,10070.0,3729.0,471.0,26423.0,75520.0,10369.0,16244.0,2884.0,21967.0,40535.0,4761.0,1542.0,1542.0,1542.0,4022.0,3871.0,35003.0,1329.0,4642.0,2137.0,1651.0,6679.0,6679.0,7955.0,37.0,2134.0,2525.0,720.0,956.0,6346.0,6346.0,28729.0,28729.0,45351.0,5413.0,6042.0,13677.0,17323.0,17323.0,17323.0,17323.0,17323.0,1555.0,1215.0,408.0,4799.0,12879.0,7660.0,22288.0,22288.0,1365.0,1636.0,10141.0,3457.0,3457.0,3457.0,3457.0,5972.0,26740.0,58357.0,5476.0,5867.0,4148.0,3564.0,1930.0,15779.0,15779.0,15526.0,15526.0,3776.0,19555.0,25001.0,25001.0,25001.0,25001.0,25001.0,70752.0,5272.0,14128.0,3490.0,3490.0,2812.0,4896.0,9737.0,20485.0,31640.0,4571.0,7396.0,7396.0,7062.0,19576.0,19576.0,19576.0,19576.0,19576.0,19576.0,8393.0,11391.0,8634.0,9342.0,9342.0,10927.0,5235.0,8916.0,2507.0,3673.0,3673.0,3673.0,6990.0,6990.0,6990.0,6990.0,6990.0,6132.0,3014.0,7550.0,3828.0,2752.0,20153.0,1649.0,16515.0,9867.0,1386.0,10199.0,2926.0,17739.0,17739.0,17739.0,3113.0,5542.0,5542.0,5542.0,11769.0,45694.0,75486.0,5347.0,7866.0,5178.0,8093.0,3192.0,3163.0,3163.0,1831.0,10426.0,10426.0,10820.0,10820.0,20037.0,26462.0,13616.0,13616.0,27726.0,8580.0,8580.0,8580.0,8580.0,8580.0,8580.0,8580.0,8580.0,8580.0,8580.0,10009.0,10009.0,1985.0,1985.0,27788.0,90390.0,7802.0,7802.0,65184.0,23047.0,23047.0,9366.0,15104.0,1265.0,3923.0,2272.0,220.0,7827.0,7827.0,5069.0,5069.0,5069.0,5069.0,5069.0,5069.0,5069.0,5069.0,5069.0,1583.0,1907.0,637.0,637.0,2314.0,4587.0,49270.0,3477.0,3477.0,3477.0,3477.0,3477.0,25554.0,25554.0,25554.0,25554.0,25554.0,44174.0,68263.0,1680.0,9325.0,9325.0,9325.0,9325.0,4725.0,4725.0,4725.0,2580.0,3536.0,1789.0,12361.0,24327.0,53535.0,858.0,53549.0,106658.0,23358.0,23358.0,4633.0,13061.0,13061.0,2774.0,440.0,2023.0,3207.0,3207.0,3207.0,3207.0,3207.0,803.0,45368.0,48326.0,23308.0,23308.0,23308.0,23308.0,23308.0,23308.0,9289.0,9289.0,9289.0,7368.0,7368.0,4028.0,4247.0,4247.0,22641.0,22641.0,22641.0,22641.0,1655.0,7861.0,2744.0,1201.0,1201.0,1201.0,1201.0,1201.0,807.0,2663.0,3428.0,2876.0,3601.0,7058.0,10795.0,20153.0,1204.0,44608.0,51448.0,15424.0,25554.0,26490.0,26490.0,26490.0,77899.0,5487.0,3503.0,11550.0,9030.0,35965.0,52375.0,7508.0,7508.0,7508.0,6169.0,7034.0,11034.0,11034.0,1904.0,3319.0,3319.0,11128.0,11128.0,11128.0,11128.0,5977.0,94196.0,4360.0,438.0,29673.0,29673.0,29673.0,29673.0,29673.0,5956.0,6108.0,4585.0,41567.0,53024.0,5492.0,9292.0,3341.0,7497.0,7497.0,13779.0,31125.0,6669.0,17044.0,1302.0,14331.0,14331.0,14331.0,14331.0],\"yaxis\":\"y\",\"type\":\"scatter\"},{\"hovertemplate\":\"Genre=Fiction\\u003cbr\\u003ePrice (USD)=%{x}\\u003cbr\\u003e# of Reviews=%{y}\\u003cextra\\u003e\\u003c\\u002fextra\\u003e\",\"legendgroup\":\"Fiction\",\"marker\":{\"color\":\"#EF553B\",\"symbol\":\"circle\"},\"mode\":\"markers\",\"name\":\"Fiction\",\"orientation\":\"v\",\"showlegend\":true,\"x\":[22.0,7.48,6.0,11.0,30.0,15.0,8.0,8.0,5.0,14.0,14.0,13.0,17.0,13.0,7.49,13.0,5.0,5.0,5.0,5.36,0.0,13.58,11.0,11.0,11.0,4.0,8.0,11.0,11.0,4.0,8.0,4.0,5.0,5.0,5.0,5.0,0.0,15.0,22.0,15.0,15.0,6.0,13.0,12.0,6.0,8.0,4.0,4.0,8.0,8.0,6.0,6.0,6.62,20.0,12.01,7.0,18.0,8.0,8.0,15.0,7.0,11.0,14.0,14.0,32.0,0.0,5.0,5.0,5.0,4.0,4.0,4.0,4.0,4.0,6.0,19.0,18.0,9.0,10.0,10.0,9.0,5.0,5.0,5.0,7.0,7.0,14.0,10.62,30.0,12.0,18.0,30.0,22.0,52.0,6.0,6.0,5.0,1.0,4.31,7.0,4.0,4.0,4.0,4.14,9.0,14.0,20.0,10.26,0.0,12.0,13.0,10.0,0.0,12.0,10.0,7.0,5.0,5.0,13.0,8.0,8.0,8.0,14.4,10.0,8.0,8.0,8.0,8.0,8.0,8.0,8.0,8.0,8.48,7.0,12.0,13.0,11.0,9.0,6.0,8.49,2.0,27.0,27.0,27.0,9.0,4.0,12.0,12.0,12.0,12.0,10.0,8.0,25.0,6.0,18.0,39.0,13.99,10.0,10.0,14.0,9.0,11.0,6.0,6.0,8.0,8.0,12.0,13.0,9.0,9.0,9.0,7.0,11.0,13.0,13.0,7.0,13.0,13.79,0.0,18.0,7.0,14.0,14.0,9.0,16.0,2.0,2.0,5.0,5.0,20.0,20.0,7.0,7.0,7.0,14.0,10.0,7.0,13.0,11.0,6.0,6.0,8.0,7.0,9.58,14.0,14.0,8.0,8.0,30.0,30.0,7.0,7.0,13.09,20.0,18.0,14.0,19.0,10.0,9.0,8.0,8.0,13.29,11.0,11.0,16.0,5.0,5.0,18.0,18.0,12.0,12.0,9.42,8.0,8.0,0.0,14.0,15.0,10.0,7.0,10.0,6.0,82.0,12.0,16.0,5.0,5.0,5.0,5.0,5.0,5.0,5.0,10.0,10.0,10.0,10.0,8.55,4.0,4.0,5.0,8.37,9.0,0.0,0.0,0.0,0.0,7.0,21.0,9.0,5.0,20.0,7.0,42.0,12.0,5.98,14.0,13.0,13.0,15.0,9.0,13.0,15.0,9.0,9.0,9.0,9.0,9.0,8.0],\"xaxis\":\"x\",\"y\":[2052.0,70425.0,21424.0,12643.0,19735.0,19699.0,23848.0,23848.0,5153.0,36348.0,36348.0,6310.0,41716.0,12159.0,19470.0,9769.0,14344.0,14344.0,25321.0,45919.0,4505.0,4153.0,22614.0,22614.0,22614.0,20705.0,6143.0,4866.0,4866.0,1541.0,1924.0,2094.0,10922.0,10922.0,10922.0,10922.0,6812.0,3837.0,6540.0,27098.0,27098.0,17684.0,15845.0,3181.0,5062.0,4786.0,7235.0,7235.0,12619.0,9089.0,31045.0,5470.0,22196.0,5118.0,63421.0,5505.0,5505.0,10721.0,10721.0,4370.0,23631.0,20262.0,47265.0,47265.0,13964.0,3642.0,5594.0,5594.0,5594.0,14038.0,14038.0,14038.0,14038.0,14038.0,23356.0,14982.0,52777.0,9568.0,57271.0,57271.0,57271.0,8837.0,8837.0,8837.0,7038.0,7038.0,25624.0,22383.0,19622.0,23973.0,7758.0,3146.0,10052.0,13471.0,17538.0,29121.0,19988.0,24356.0,58200.0,1320.0,16643.0,16643.0,39063.0,68304.0,7153.0,29651.0,5299.0,141748.0,978.0,4748.0,11881.0,1467.0,1884.0,25706.0,43514.0,8491.0,18613.0,18613.0,64215.0,26741.0,26741.0,26741.0,60070.0,5680.0,21834.0,21834.0,21834.0,21834.0,21834.0,21834.0,21834.0,21834.0,41796.0,6169.0,4519.0,18904.0,21930.0,12643.0,12852.0,21271.0,548.0,16990.0,16990.0,16990.0,3503.0,4757.0,22536.0,22536.0,7150.0,3836.0,3619.0,45485.0,973.0,9382.0,23114.0,35799.0,91743.0,11813.0,11813.0,37173.0,11668.0,6600.0,23148.0,23148.0,8081.0,8081.0,9372.0,3523.0,8922.0,8922.0,8922.0,26047.0,1859.0,50482.0,50482.0,50482.0,50482.0,117146.0,5836.0,79446.0,79446.0,7747.0,7747.0,7251.0,7251.0,10559.0,10559.0,5249.0,5249.0,33844.0,33844.0,11616.0,11616.0,11616.0,13609.0,8587.0,29442.0,11098.0,9947.0,13871.0,13871.0,13871.0,13871.0,15399.0,6982.0,32122.0,32122.0,32122.0,16949.0,16949.0,4628.0,4628.0,107449.0,5396.0,6222.0,4506.0,8747.0,6247.0,39459.0,10101.0,5898.0,193482.0,49288.0,49288.0,3759.0,9784.0,9784.0,10191.0,14493.0,2186.0,2091.0,111053.0,19720.0,19720.0,2122.0,27536.0,61060.0,4290.0,6377.0,1463.0,3759.0,3801.0,3796.0,42235.0,19546.0,19546.0,19546.0,19546.0,19546.0,19546.0,19546.0,8842.0,8842.0,8842.0,8842.0,24189.0,30183.0,30183.0,51255.0,31272.0,7932.0,26234.0,26234.0,26234.0,26234.0,26234.0,2282.0,11676.0,2586.0,6740.0,25510.0,3829.0,8958.0,41127.0,1873.0,14705.0,8170.0,87841.0,120727.0,9967.0,10760.0,21625.0,21625.0,21625.0,21625.0,21625.0,9413.0],\"yaxis\":\"y\",\"type\":\"scatter\"}],                        {\"template\":{\"data\":{\"histogram2dcontour\":[{\"type\":\"histogram2dcontour\",\"colorbar\":{\"outlinewidth\":0,\"ticks\":\"\"},\"colorscale\":[[0.0,\"#0d0887\"],[0.1111111111111111,\"#46039f\"],[0.2222222222222222,\"#7201a8\"],[0.3333333333333333,\"#9c179e\"],[0.4444444444444444,\"#bd3786\"],[0.5555555555555556,\"#d8576b\"],[0.6666666666666666,\"#ed7953\"],[0.7777777777777778,\"#fb9f3a\"],[0.8888888888888888,\"#fdca26\"],[1.0,\"#f0f921\"]]}],\"choropleth\":[{\"type\":\"choropleth\",\"colorbar\":{\"outlinewidth\":0,\"ticks\":\"\"}}],\"histogram2d\":[{\"type\":\"histogram2d\",\"colorbar\":{\"outlinewidth\":0,\"ticks\":\"\"},\"colorscale\":[[0.0,\"#0d0887\"],[0.1111111111111111,\"#46039f\"],[0.2222222222222222,\"#7201a8\"],[0.3333333333333333,\"#9c179e\"],[0.4444444444444444,\"#bd3786\"],[0.5555555555555556,\"#d8576b\"],[0.6666666666666666,\"#ed7953\"],[0.7777777777777778,\"#fb9f3a\"],[0.8888888888888888,\"#fdca26\"],[1.0,\"#f0f921\"]]}],\"heatmap\":[{\"type\":\"heatmap\",\"colorbar\":{\"outlinewidth\":0,\"ticks\":\"\"},\"colorscale\":[[0.0,\"#0d0887\"],[0.1111111111111111,\"#46039f\"],[0.2222222222222222,\"#7201a8\"],[0.3333333333333333,\"#9c179e\"],[0.4444444444444444,\"#bd3786\"],[0.5555555555555556,\"#d8576b\"],[0.6666666666666666,\"#ed7953\"],[0.7777777777777778,\"#fb9f3a\"],[0.8888888888888888,\"#fdca26\"],[1.0,\"#f0f921\"]]}],\"heatmapgl\":[{\"type\":\"heatmapgl\",\"colorbar\":{\"outlinewidth\":0,\"ticks\":\"\"},\"colorscale\":[[0.0,\"#0d0887\"],[0.1111111111111111,\"#46039f\"],[0.2222222222222222,\"#7201a8\"],[0.3333333333333333,\"#9c179e\"],[0.4444444444444444,\"#bd3786\"],[0.5555555555555556,\"#d8576b\"],[0.6666666666666666,\"#ed7953\"],[0.7777777777777778,\"#fb9f3a\"],[0.8888888888888888,\"#fdca26\"],[1.0,\"#f0f921\"]]}],\"contourcarpet\":[{\"type\":\"contourcarpet\",\"colorbar\":{\"outlinewidth\":0,\"ticks\":\"\"}}],\"contour\":[{\"type\":\"contour\",\"colorbar\":{\"outlinewidth\":0,\"ticks\":\"\"},\"colorscale\":[[0.0,\"#0d0887\"],[0.1111111111111111,\"#46039f\"],[0.2222222222222222,\"#7201a8\"],[0.3333333333333333,\"#9c179e\"],[0.4444444444444444,\"#bd3786\"],[0.5555555555555556,\"#d8576b\"],[0.6666666666666666,\"#ed7953\"],[0.7777777777777778,\"#fb9f3a\"],[0.8888888888888888,\"#fdca26\"],[1.0,\"#f0f921\"]]}],\"surface\":[{\"type\":\"surface\",\"colorbar\":{\"outlinewidth\":0,\"ticks\":\"\"},\"colorscale\":[[0.0,\"#0d0887\"],[0.1111111111111111,\"#46039f\"],[0.2222222222222222,\"#7201a8\"],[0.3333333333333333,\"#9c179e\"],[0.4444444444444444,\"#bd3786\"],[0.5555555555555556,\"#d8576b\"],[0.6666666666666666,\"#ed7953\"],[0.7777777777777778,\"#fb9f3a\"],[0.8888888888888888,\"#fdca26\"],[1.0,\"#f0f921\"]]}],\"mesh3d\":[{\"type\":\"mesh3d\",\"colorbar\":{\"outlinewidth\":0,\"ticks\":\"\"}}],\"scatter\":[{\"marker\":{\"line\":{\"color\":\"#283442\"}},\"type\":\"scatter\"}],\"parcoords\":[{\"type\":\"parcoords\",\"line\":{\"colorbar\":{\"outlinewidth\":0,\"ticks\":\"\"}}}],\"scatterpolargl\":[{\"type\":\"scatterpolargl\",\"marker\":{\"colorbar\":{\"outlinewidth\":0,\"ticks\":\"\"}}}],\"bar\":[{\"error_x\":{\"color\":\"#f2f5fa\"},\"error_y\":{\"color\":\"#f2f5fa\"},\"marker\":{\"line\":{\"color\":\"rgb(17,17,17)\",\"width\":0.5},\"pattern\":{\"fillmode\":\"overlay\",\"size\":10,\"solidity\":0.2}},\"type\":\"bar\"}],\"scattergeo\":[{\"type\":\"scattergeo\",\"marker\":{\"colorbar\":{\"outlinewidth\":0,\"ticks\":\"\"}}}],\"scatterpolar\":[{\"type\":\"scatterpolar\",\"marker\":{\"colorbar\":{\"outlinewidth\":0,\"ticks\":\"\"}}}],\"histogram\":[{\"marker\":{\"pattern\":{\"fillmode\":\"overlay\",\"size\":10,\"solidity\":0.2}},\"type\":\"histogram\"}],\"scattergl\":[{\"marker\":{\"line\":{\"color\":\"#283442\"}},\"type\":\"scattergl\"}],\"scatter3d\":[{\"type\":\"scatter3d\",\"line\":{\"colorbar\":{\"outlinewidth\":0,\"ticks\":\"\"}},\"marker\":{\"colorbar\":{\"outlinewidth\":0,\"ticks\":\"\"}}}],\"scattermapbox\":[{\"type\":\"scattermapbox\",\"marker\":{\"colorbar\":{\"outlinewidth\":0,\"ticks\":\"\"}}}],\"scatterternary\":[{\"type\":\"scatterternary\",\"marker\":{\"colorbar\":{\"outlinewidth\":0,\"ticks\":\"\"}}}],\"scattercarpet\":[{\"type\":\"scattercarpet\",\"marker\":{\"colorbar\":{\"outlinewidth\":0,\"ticks\":\"\"}}}],\"carpet\":[{\"aaxis\":{\"endlinecolor\":\"#A2B1C6\",\"gridcolor\":\"#506784\",\"linecolor\":\"#506784\",\"minorgridcolor\":\"#506784\",\"startlinecolor\":\"#A2B1C6\"},\"baxis\":{\"endlinecolor\":\"#A2B1C6\",\"gridcolor\":\"#506784\",\"linecolor\":\"#506784\",\"minorgridcolor\":\"#506784\",\"startlinecolor\":\"#A2B1C6\"},\"type\":\"carpet\"}],\"table\":[{\"cells\":{\"fill\":{\"color\":\"#506784\"},\"line\":{\"color\":\"rgb(17,17,17)\"}},\"header\":{\"fill\":{\"color\":\"#2a3f5f\"},\"line\":{\"color\":\"rgb(17,17,17)\"}},\"type\":\"table\"}],\"barpolar\":[{\"marker\":{\"line\":{\"color\":\"rgb(17,17,17)\",\"width\":0.5},\"pattern\":{\"fillmode\":\"overlay\",\"size\":10,\"solidity\":0.2}},\"type\":\"barpolar\"}],\"pie\":[{\"automargin\":true,\"type\":\"pie\"}]},\"layout\":{\"autotypenumbers\":\"strict\",\"colorway\":[\"#636efa\",\"#EF553B\",\"#00cc96\",\"#ab63fa\",\"#FFA15A\",\"#19d3f3\",\"#FF6692\",\"#B6E880\",\"#FF97FF\",\"#FECB52\"],\"font\":{\"color\":\"#f2f5fa\"},\"hovermode\":\"closest\",\"hoverlabel\":{\"align\":\"left\"},\"paper_bgcolor\":\"rgb(17,17,17)\",\"plot_bgcolor\":\"rgb(17,17,17)\",\"polar\":{\"bgcolor\":\"rgb(17,17,17)\",\"angularaxis\":{\"gridcolor\":\"#506784\",\"linecolor\":\"#506784\",\"ticks\":\"\"},\"radialaxis\":{\"gridcolor\":\"#506784\",\"linecolor\":\"#506784\",\"ticks\":\"\"}},\"ternary\":{\"bgcolor\":\"rgb(17,17,17)\",\"aaxis\":{\"gridcolor\":\"#506784\",\"linecolor\":\"#506784\",\"ticks\":\"\"},\"baxis\":{\"gridcolor\":\"#506784\",\"linecolor\":\"#506784\",\"ticks\":\"\"},\"caxis\":{\"gridcolor\":\"#506784\",\"linecolor\":\"#506784\",\"ticks\":\"\"}},\"coloraxis\":{\"colorbar\":{\"outlinewidth\":0,\"ticks\":\"\"}},\"colorscale\":{\"sequential\":[[0.0,\"#0d0887\"],[0.1111111111111111,\"#46039f\"],[0.2222222222222222,\"#7201a8\"],[0.3333333333333333,\"#9c179e\"],[0.4444444444444444,\"#bd3786\"],[0.5555555555555556,\"#d8576b\"],[0.6666666666666666,\"#ed7953\"],[0.7777777777777778,\"#fb9f3a\"],[0.8888888888888888,\"#fdca26\"],[1.0,\"#f0f921\"]],\"sequentialminus\":[[0.0,\"#0d0887\"],[0.1111111111111111,\"#46039f\"],[0.2222222222222222,\"#7201a8\"],[0.3333333333333333,\"#9c179e\"],[0.4444444444444444,\"#bd3786\"],[0.5555555555555556,\"#d8576b\"],[0.6666666666666666,\"#ed7953\"],[0.7777777777777778,\"#fb9f3a\"],[0.8888888888888888,\"#fdca26\"],[1.0,\"#f0f921\"]],\"diverging\":[[0,\"#8e0152\"],[0.1,\"#c51b7d\"],[0.2,\"#de77ae\"],[0.3,\"#f1b6da\"],[0.4,\"#fde0ef\"],[0.5,\"#f7f7f7\"],[0.6,\"#e6f5d0\"],[0.7,\"#b8e186\"],[0.8,\"#7fbc41\"],[0.9,\"#4d9221\"],[1,\"#276419\"]]},\"xaxis\":{\"gridcolor\":\"#283442\",\"linecolor\":\"#506784\",\"ticks\":\"\",\"title\":{\"standoff\":15},\"zerolinecolor\":\"#283442\",\"automargin\":true,\"zerolinewidth\":2},\"yaxis\":{\"gridcolor\":\"#283442\",\"linecolor\":\"#506784\",\"ticks\":\"\",\"title\":{\"standoff\":15},\"zerolinecolor\":\"#283442\",\"automargin\":true,\"zerolinewidth\":2},\"scene\":{\"xaxis\":{\"backgroundcolor\":\"rgb(17,17,17)\",\"gridcolor\":\"#506784\",\"linecolor\":\"#506784\",\"showbackground\":true,\"ticks\":\"\",\"zerolinecolor\":\"#C8D4E3\",\"gridwidth\":2},\"yaxis\":{\"backgroundcolor\":\"rgb(17,17,17)\",\"gridcolor\":\"#506784\",\"linecolor\":\"#506784\",\"showbackground\":true,\"ticks\":\"\",\"zerolinecolor\":\"#C8D4E3\",\"gridwidth\":2},\"zaxis\":{\"backgroundcolor\":\"rgb(17,17,17)\",\"gridcolor\":\"#506784\",\"linecolor\":\"#506784\",\"showbackground\":true,\"ticks\":\"\",\"zerolinecolor\":\"#C8D4E3\",\"gridwidth\":2}},\"shapedefaults\":{\"line\":{\"color\":\"#f2f5fa\"}},\"annotationdefaults\":{\"arrowcolor\":\"#f2f5fa\",\"arrowhead\":0,\"arrowwidth\":1},\"geo\":{\"bgcolor\":\"rgb(17,17,17)\",\"landcolor\":\"rgb(17,17,17)\",\"subunitcolor\":\"#506784\",\"showland\":true,\"showlakes\":true,\"lakecolor\":\"rgb(17,17,17)\"},\"title\":{\"x\":0.05},\"updatemenudefaults\":{\"bgcolor\":\"#506784\",\"borderwidth\":0},\"sliderdefaults\":{\"bgcolor\":\"#C8D4E3\",\"borderwidth\":1,\"bordercolor\":\"rgb(17,17,17)\",\"tickwidth\":0},\"mapbox\":{\"style\":\"dark\"}}},\"xaxis\":{\"anchor\":\"y\",\"domain\":[0.0,1.0],\"title\":{\"text\":\"Price (USD)\"}},\"yaxis\":{\"anchor\":\"x\",\"domain\":[0.0,1.0],\"title\":{\"text\":\"# of Reviews\"}},\"legend\":{\"title\":{\"text\":\"Genre\"},\"tracegroupgap\":0},\"title\":{\"text\":\"Number of Reviews by Book Price\\u003cbr\\u003e\\u003csup\\u003eAmazon Bestseller List 2009 to Present\\u003c\\u002fsup\\u003e\"}},                        {\"responsive\": true}                    ).then(function(){\n",
       "                            \n",
       "var gd = document.getElementById('43c44efc-fb97-4428-9376-1e4ec44be241');\n",
       "var x = new MutationObserver(function (mutations, observer) {{\n",
       "        var display = window.getComputedStyle(gd).display;\n",
       "        if (!display || display === 'none') {{\n",
       "            console.log([gd, 'removed!']);\n",
       "            Plotly.purge(gd);\n",
       "            observer.disconnect();\n",
       "        }}\n",
       "}});\n",
       "\n",
       "// Listen for the removal of the full notebook cells\n",
       "var notebookContainer = gd.closest('#notebook-container');\n",
       "if (notebookContainer) {{\n",
       "    x.observe(notebookContainer, {childList: true});\n",
       "}}\n",
       "\n",
       "// Listen for the clearing of the current output cell\n",
       "var outputEl = gd.closest('.output');\n",
       "if (outputEl) {{\n",
       "    x.observe(outputEl, {childList: true});\n",
       "}}\n",
       "\n",
       "                        })                };                });            </script>        </div>"
      ]
     },
     "metadata": {},
     "output_type": "display_data"
    }
   ],
   "execution_count": 37
  },
  {
   "cell_type": "markdown",
   "id": "db68b37d-efe4-4a64-bf19-24173e9cc6f8",
   "metadata": {},
   "source": [
    "#### Changing templates\n",
    "\n",
    "Another fun way to customize your plots is to change the `template`. Here, we pass in \"simple_white\" as an argument to the parameter.\n",
    "\n",
    "Plotly has several built-in templates that you can use:\n",
    "- 'ggplot2' \n",
    "- 'seaborn'\n",
    "- 'simple_white'\n",
    "- 'plotly'\n",
    "- 'plotly_white'\n",
    "- 'plotly_dark'\n",
    "- 'presentation'\n",
    "- 'xgridoff'\n",
    "- 'ygridoff'\n",
    "- 'gridon'\n",
    "- 'none'"
   ]
  },
  {
   "cell_type": "code",
   "id": "8cb784f4-3129-4d74-9ccb-49edd7683060",
   "metadata": {
    "ExecuteTime": {
     "end_time": "2024-11-25T17:14:59.469356Z",
     "start_time": "2024-11-25T17:14:59.198091Z"
    }
   },
   "source": [
    "# Initialize a scatter plot\n",
    "fig = px.scatter(books,\n",
    "                 x=\"Price\",\n",
    "                 y=\"Reviews\",\n",
    "                 title=\"Number of Reviews by Book Price<br><sup>Amazon Bestseller List 2009 to Present</sup>\",\n",
    "                 labels={\"Reviews\": \"# of Reviews\", \"Price\": \"Price (USD)\"},\n",
    "                 color=\"Genre\",\n",
    "                 template=\"seaborn\"\n",
    "                )\n",
    "\n",
    "# Show the plot\n",
    "fig.show()"
   ],
   "outputs": [
    {
     "data": {
      "application/vnd.plotly.v1+json": {
       "data": [
        {
         "hovertemplate": "Genre=Non Fiction<br>Price (USD)=%{x}<br># of Reviews=%{y}<extra></extra>",
         "legendgroup": "Non Fiction",
         "marker": {
          "color": "rgb(76,114,176)",
          "symbol": "circle"
         },
         "mode": "markers",
         "name": "Non Fiction",
         "orientation": "v",
         "showlegend": true,
         "x": [
          8.0,
          15.0,
          12.0,
          3.0,
          2.0,
          23.0,
          32.0,
          17.0,
          4.0,
          6.0,
          6.0,
          8.0,
          13.0,
          12.52,
          9.0,
          5.0,
          9.0,
          17.78,
          12.0,
          11.98,
          14.0,
          5.0,
          11.0,
          24.0,
          21.0,
          11.0,
          11.0,
          10.0,
          15.0,
          13.0,
          13.0,
          18.0,
          8.0,
          8.0,
          6.99,
          4.0,
          18.0,
          28.0,
          19.0,
          14.34,
          16.0,
          14.0,
          14.0,
          14.0,
          4.0,
          5.0,
          8.99,
          10.0,
          13.0,
          17.0,
          15.0,
          105.0,
          105.0,
          5.0,
          6.0,
          5.0,
          16.0,
          1.0,
          14.0,
          9.0,
          9.0,
          15.0,
          15.0,
          11.0,
          9.0,
          2.0,
          6.0,
          4.0,
          4.0,
          4.0,
          4.0,
          4.0,
          9.0,
          9.0,
          20.0,
          16.0,
          14.0,
          12.0,
          12.0,
          12.0,
          11.0,
          6.0,
          6.0,
          14.0,
          14.0,
          14.0,
          14.0,
          10.0,
          18.0,
          15.98,
          7.0,
          54.0,
          11.0,
          9.0,
          4.0,
          10.0,
          10.0,
          14.0,
          14.0,
          22.0,
          13.0,
          11.0,
          11.0,
          11.0,
          11.0,
          11.0,
          10.58,
          16.0,
          5.0,
          15.0,
          15.0,
          17.0,
          17.0,
          7.0,
          9.0,
          6.99,
          21.0,
          13.0,
          13.0,
          12.0,
          8.0,
          8.0,
          8.0,
          8.0,
          8.0,
          8.0,
          17.0,
          12.0,
          25.0,
          10.0,
          10.0,
          6.0,
          5.0,
          6.0,
          8.0,
          4.0,
          4.0,
          4.0,
          4.0,
          4.0,
          4.0,
          4.0,
          4.0,
          13.0,
          21.0,
          6.0,
          15.0,
          18.0,
          15.0,
          13.0,
          17.0,
          16.0,
          20.0,
          11.0,
          27.0,
          8.0,
          8.0,
          8.0,
          6.0,
          10.0,
          10.0,
          10.0,
          21.0,
          15.0,
          4.07,
          16.0,
          11.0,
          9.0,
          14.0,
          22.0,
          13.0,
          13.0,
          9.0,
          20.0,
          20.0,
          5.0,
          5.0,
          14.16,
          10.0,
          10.0,
          10.0,
          26.0,
          46.0,
          46.0,
          46.0,
          46.0,
          46.0,
          46.0,
          46.0,
          46.0,
          46.0,
          46.0,
          20.0,
          7.0,
          9.0,
          9.0,
          15.0,
          15.49,
          20.0,
          20.0,
          4.79,
          6.0,
          6.0,
          9.0,
          9.59,
          11.0,
          16.0,
          6.0,
          17.0,
          20.0,
          20.0,
          17.0,
          17.0,
          17.0,
          17.0,
          17.0,
          17.0,
          17.0,
          17.0,
          17.0,
          18.0,
          13.0,
          20.0,
          20.0,
          22.0,
          21.0,
          11.6,
          28.0,
          28.0,
          28.0,
          28.0,
          28.0,
          8.0,
          8.0,
          8.0,
          8.0,
          8.0,
          8.0,
          7.57,
          12.0,
          24.0,
          24.0,
          24.0,
          24.0,
          16.0,
          16.0,
          16.0,
          9.0,
          17.0,
          14.0,
          12.0,
          8.0,
          11.4,
          53.0,
          15.0,
          10.35,
          12.0,
          12.0,
          21.0,
          6.0,
          6.0,
          0.0,
          11.0,
          15.0,
          6.0,
          6.0,
          6.0,
          6.0,
          6.0,
          9.0,
          6.0,
          7.74,
          6.0,
          6.0,
          6.0,
          6.0,
          6.0,
          6.0,
          13.0,
          9.0,
          9.0,
          7.0,
          7.0,
          9.0,
          13.0,
          13.0,
          11.0,
          11.0,
          11.0,
          11.0,
          13.0,
          5.0,
          12.0,
          40.0,
          40.0,
          40.0,
          40.0,
          40.0,
          36.0,
          17.0,
          14.0,
          21.0,
          18.0,
          17.0,
          21.0,
          19.42,
          14.0,
          12.0,
          10.34,
          19.0,
          17.99,
          15.0,
          15.0,
          15.0,
          14.8,
          9.0,
          9.0,
          10.0,
          10.0,
          7.0,
          5.06,
          16.0,
          16.0,
          16.0,
          16.0,
          15.0,
          19.0,
          19.0,
          23.0,
          11.0,
          11.0,
          23.0,
          23.0,
          23.0,
          23.0,
          12.0,
          17.0,
          21.0,
          15.0,
          16.0,
          16.0,
          16.0,
          13.0,
          16.0,
          11.0,
          4.0,
          9.0,
          15.0,
          14.89,
          18.0,
          17.0,
          9.0,
          6.0,
          6.0,
          14.0,
          10.0,
          12.0,
          18.0,
          11.0,
          8.0,
          8.0,
          8.0,
          8.0
         ],
         "xaxis": "x",
         "y": [
          17350.0,
          18979.0,
          7665.0,
          5983.0,
          460.0,
          83212.0,
          4149.0,
          5013.0,
          2313.0,
          2925.0,
          2951.0,
          2426.0,
          9198.0,
          33712.0,
          15921.0,
          798.0,
          9374.0,
          13893.0,
          29634.0,
          104159.0,
          491.0,
          5360.0,
          1909.0,
          1296.0,
          615.0,
          61133.0,
          61133.0,
          99498.0,
          11113.0,
          10070.0,
          10070.0,
          3729.0,
          471.0,
          26423.0,
          75520.0,
          10369.0,
          16244.0,
          2884.0,
          21967.0,
          40535.0,
          4761.0,
          1542.0,
          1542.0,
          1542.0,
          4022.0,
          3871.0,
          35003.0,
          1329.0,
          4642.0,
          2137.0,
          1651.0,
          6679.0,
          6679.0,
          7955.0,
          37.0,
          2134.0,
          2525.0,
          720.0,
          956.0,
          6346.0,
          6346.0,
          28729.0,
          28729.0,
          45351.0,
          5413.0,
          6042.0,
          13677.0,
          17323.0,
          17323.0,
          17323.0,
          17323.0,
          17323.0,
          1555.0,
          1215.0,
          408.0,
          4799.0,
          12879.0,
          7660.0,
          22288.0,
          22288.0,
          1365.0,
          1636.0,
          10141.0,
          3457.0,
          3457.0,
          3457.0,
          3457.0,
          5972.0,
          26740.0,
          58357.0,
          5476.0,
          5867.0,
          4148.0,
          3564.0,
          1930.0,
          15779.0,
          15779.0,
          15526.0,
          15526.0,
          3776.0,
          19555.0,
          25001.0,
          25001.0,
          25001.0,
          25001.0,
          25001.0,
          70752.0,
          5272.0,
          14128.0,
          3490.0,
          3490.0,
          2812.0,
          4896.0,
          9737.0,
          20485.0,
          31640.0,
          4571.0,
          7396.0,
          7396.0,
          7062.0,
          19576.0,
          19576.0,
          19576.0,
          19576.0,
          19576.0,
          19576.0,
          8393.0,
          11391.0,
          8634.0,
          9342.0,
          9342.0,
          10927.0,
          5235.0,
          8916.0,
          2507.0,
          3673.0,
          3673.0,
          3673.0,
          6990.0,
          6990.0,
          6990.0,
          6990.0,
          6990.0,
          6132.0,
          3014.0,
          7550.0,
          3828.0,
          2752.0,
          20153.0,
          1649.0,
          16515.0,
          9867.0,
          1386.0,
          10199.0,
          2926.0,
          17739.0,
          17739.0,
          17739.0,
          3113.0,
          5542.0,
          5542.0,
          5542.0,
          11769.0,
          45694.0,
          75486.0,
          5347.0,
          7866.0,
          5178.0,
          8093.0,
          3192.0,
          3163.0,
          3163.0,
          1831.0,
          10426.0,
          10426.0,
          10820.0,
          10820.0,
          20037.0,
          26462.0,
          13616.0,
          13616.0,
          27726.0,
          8580.0,
          8580.0,
          8580.0,
          8580.0,
          8580.0,
          8580.0,
          8580.0,
          8580.0,
          8580.0,
          8580.0,
          10009.0,
          10009.0,
          1985.0,
          1985.0,
          27788.0,
          90390.0,
          7802.0,
          7802.0,
          65184.0,
          23047.0,
          23047.0,
          9366.0,
          15104.0,
          1265.0,
          3923.0,
          2272.0,
          220.0,
          7827.0,
          7827.0,
          5069.0,
          5069.0,
          5069.0,
          5069.0,
          5069.0,
          5069.0,
          5069.0,
          5069.0,
          5069.0,
          1583.0,
          1907.0,
          637.0,
          637.0,
          2314.0,
          4587.0,
          49270.0,
          3477.0,
          3477.0,
          3477.0,
          3477.0,
          3477.0,
          25554.0,
          25554.0,
          25554.0,
          25554.0,
          25554.0,
          44174.0,
          68263.0,
          1680.0,
          9325.0,
          9325.0,
          9325.0,
          9325.0,
          4725.0,
          4725.0,
          4725.0,
          2580.0,
          3536.0,
          1789.0,
          12361.0,
          24327.0,
          53535.0,
          858.0,
          53549.0,
          106658.0,
          23358.0,
          23358.0,
          4633.0,
          13061.0,
          13061.0,
          2774.0,
          440.0,
          2023.0,
          3207.0,
          3207.0,
          3207.0,
          3207.0,
          3207.0,
          803.0,
          45368.0,
          48326.0,
          23308.0,
          23308.0,
          23308.0,
          23308.0,
          23308.0,
          23308.0,
          9289.0,
          9289.0,
          9289.0,
          7368.0,
          7368.0,
          4028.0,
          4247.0,
          4247.0,
          22641.0,
          22641.0,
          22641.0,
          22641.0,
          1655.0,
          7861.0,
          2744.0,
          1201.0,
          1201.0,
          1201.0,
          1201.0,
          1201.0,
          807.0,
          2663.0,
          3428.0,
          2876.0,
          3601.0,
          7058.0,
          10795.0,
          20153.0,
          1204.0,
          44608.0,
          51448.0,
          15424.0,
          25554.0,
          26490.0,
          26490.0,
          26490.0,
          77899.0,
          5487.0,
          3503.0,
          11550.0,
          9030.0,
          35965.0,
          52375.0,
          7508.0,
          7508.0,
          7508.0,
          6169.0,
          7034.0,
          11034.0,
          11034.0,
          1904.0,
          3319.0,
          3319.0,
          11128.0,
          11128.0,
          11128.0,
          11128.0,
          5977.0,
          94196.0,
          4360.0,
          438.0,
          29673.0,
          29673.0,
          29673.0,
          29673.0,
          29673.0,
          5956.0,
          6108.0,
          4585.0,
          41567.0,
          53024.0,
          5492.0,
          9292.0,
          3341.0,
          7497.0,
          7497.0,
          13779.0,
          31125.0,
          6669.0,
          17044.0,
          1302.0,
          14331.0,
          14331.0,
          14331.0,
          14331.0
         ],
         "yaxis": "y",
         "type": "scatter"
        },
        {
         "hovertemplate": "Genre=Fiction<br>Price (USD)=%{x}<br># of Reviews=%{y}<extra></extra>",
         "legendgroup": "Fiction",
         "marker": {
          "color": "rgb(221,132,82)",
          "symbol": "circle"
         },
         "mode": "markers",
         "name": "Fiction",
         "orientation": "v",
         "showlegend": true,
         "x": [
          22.0,
          7.48,
          6.0,
          11.0,
          30.0,
          15.0,
          8.0,
          8.0,
          5.0,
          14.0,
          14.0,
          13.0,
          17.0,
          13.0,
          7.49,
          13.0,
          5.0,
          5.0,
          5.0,
          5.36,
          0.0,
          13.58,
          11.0,
          11.0,
          11.0,
          4.0,
          8.0,
          11.0,
          11.0,
          4.0,
          8.0,
          4.0,
          5.0,
          5.0,
          5.0,
          5.0,
          0.0,
          15.0,
          22.0,
          15.0,
          15.0,
          6.0,
          13.0,
          12.0,
          6.0,
          8.0,
          4.0,
          4.0,
          8.0,
          8.0,
          6.0,
          6.0,
          6.62,
          20.0,
          12.01,
          7.0,
          18.0,
          8.0,
          8.0,
          15.0,
          7.0,
          11.0,
          14.0,
          14.0,
          32.0,
          0.0,
          5.0,
          5.0,
          5.0,
          4.0,
          4.0,
          4.0,
          4.0,
          4.0,
          6.0,
          19.0,
          18.0,
          9.0,
          10.0,
          10.0,
          9.0,
          5.0,
          5.0,
          5.0,
          7.0,
          7.0,
          14.0,
          10.62,
          30.0,
          12.0,
          18.0,
          30.0,
          22.0,
          52.0,
          6.0,
          6.0,
          5.0,
          1.0,
          4.31,
          7.0,
          4.0,
          4.0,
          4.0,
          4.14,
          9.0,
          14.0,
          20.0,
          10.26,
          0.0,
          12.0,
          13.0,
          10.0,
          0.0,
          12.0,
          10.0,
          7.0,
          5.0,
          5.0,
          13.0,
          8.0,
          8.0,
          8.0,
          14.4,
          10.0,
          8.0,
          8.0,
          8.0,
          8.0,
          8.0,
          8.0,
          8.0,
          8.0,
          8.48,
          7.0,
          12.0,
          13.0,
          11.0,
          9.0,
          6.0,
          8.49,
          2.0,
          27.0,
          27.0,
          27.0,
          9.0,
          4.0,
          12.0,
          12.0,
          12.0,
          12.0,
          10.0,
          8.0,
          25.0,
          6.0,
          18.0,
          39.0,
          13.99,
          10.0,
          10.0,
          14.0,
          9.0,
          11.0,
          6.0,
          6.0,
          8.0,
          8.0,
          12.0,
          13.0,
          9.0,
          9.0,
          9.0,
          7.0,
          11.0,
          13.0,
          13.0,
          7.0,
          13.0,
          13.79,
          0.0,
          18.0,
          7.0,
          14.0,
          14.0,
          9.0,
          16.0,
          2.0,
          2.0,
          5.0,
          5.0,
          20.0,
          20.0,
          7.0,
          7.0,
          7.0,
          14.0,
          10.0,
          7.0,
          13.0,
          11.0,
          6.0,
          6.0,
          8.0,
          7.0,
          9.58,
          14.0,
          14.0,
          8.0,
          8.0,
          30.0,
          30.0,
          7.0,
          7.0,
          13.09,
          20.0,
          18.0,
          14.0,
          19.0,
          10.0,
          9.0,
          8.0,
          8.0,
          13.29,
          11.0,
          11.0,
          16.0,
          5.0,
          5.0,
          18.0,
          18.0,
          12.0,
          12.0,
          9.42,
          8.0,
          8.0,
          0.0,
          14.0,
          15.0,
          10.0,
          7.0,
          10.0,
          6.0,
          82.0,
          12.0,
          16.0,
          5.0,
          5.0,
          5.0,
          5.0,
          5.0,
          5.0,
          5.0,
          10.0,
          10.0,
          10.0,
          10.0,
          8.55,
          4.0,
          4.0,
          5.0,
          8.37,
          9.0,
          0.0,
          0.0,
          0.0,
          0.0,
          7.0,
          21.0,
          9.0,
          5.0,
          20.0,
          7.0,
          42.0,
          12.0,
          5.98,
          14.0,
          13.0,
          13.0,
          15.0,
          9.0,
          13.0,
          15.0,
          9.0,
          9.0,
          9.0,
          9.0,
          9.0,
          8.0
         ],
         "xaxis": "x",
         "y": [
          2052.0,
          70425.0,
          21424.0,
          12643.0,
          19735.0,
          19699.0,
          23848.0,
          23848.0,
          5153.0,
          36348.0,
          36348.0,
          6310.0,
          41716.0,
          12159.0,
          19470.0,
          9769.0,
          14344.0,
          14344.0,
          25321.0,
          45919.0,
          4505.0,
          4153.0,
          22614.0,
          22614.0,
          22614.0,
          20705.0,
          6143.0,
          4866.0,
          4866.0,
          1541.0,
          1924.0,
          2094.0,
          10922.0,
          10922.0,
          10922.0,
          10922.0,
          6812.0,
          3837.0,
          6540.0,
          27098.0,
          27098.0,
          17684.0,
          15845.0,
          3181.0,
          5062.0,
          4786.0,
          7235.0,
          7235.0,
          12619.0,
          9089.0,
          31045.0,
          5470.0,
          22196.0,
          5118.0,
          63421.0,
          5505.0,
          5505.0,
          10721.0,
          10721.0,
          4370.0,
          23631.0,
          20262.0,
          47265.0,
          47265.0,
          13964.0,
          3642.0,
          5594.0,
          5594.0,
          5594.0,
          14038.0,
          14038.0,
          14038.0,
          14038.0,
          14038.0,
          23356.0,
          14982.0,
          52777.0,
          9568.0,
          57271.0,
          57271.0,
          57271.0,
          8837.0,
          8837.0,
          8837.0,
          7038.0,
          7038.0,
          25624.0,
          22383.0,
          19622.0,
          23973.0,
          7758.0,
          3146.0,
          10052.0,
          13471.0,
          17538.0,
          29121.0,
          19988.0,
          24356.0,
          58200.0,
          1320.0,
          16643.0,
          16643.0,
          39063.0,
          68304.0,
          7153.0,
          29651.0,
          5299.0,
          141748.0,
          978.0,
          4748.0,
          11881.0,
          1467.0,
          1884.0,
          25706.0,
          43514.0,
          8491.0,
          18613.0,
          18613.0,
          64215.0,
          26741.0,
          26741.0,
          26741.0,
          60070.0,
          5680.0,
          21834.0,
          21834.0,
          21834.0,
          21834.0,
          21834.0,
          21834.0,
          21834.0,
          21834.0,
          41796.0,
          6169.0,
          4519.0,
          18904.0,
          21930.0,
          12643.0,
          12852.0,
          21271.0,
          548.0,
          16990.0,
          16990.0,
          16990.0,
          3503.0,
          4757.0,
          22536.0,
          22536.0,
          7150.0,
          3836.0,
          3619.0,
          45485.0,
          973.0,
          9382.0,
          23114.0,
          35799.0,
          91743.0,
          11813.0,
          11813.0,
          37173.0,
          11668.0,
          6600.0,
          23148.0,
          23148.0,
          8081.0,
          8081.0,
          9372.0,
          3523.0,
          8922.0,
          8922.0,
          8922.0,
          26047.0,
          1859.0,
          50482.0,
          50482.0,
          50482.0,
          50482.0,
          117146.0,
          5836.0,
          79446.0,
          79446.0,
          7747.0,
          7747.0,
          7251.0,
          7251.0,
          10559.0,
          10559.0,
          5249.0,
          5249.0,
          33844.0,
          33844.0,
          11616.0,
          11616.0,
          11616.0,
          13609.0,
          8587.0,
          29442.0,
          11098.0,
          9947.0,
          13871.0,
          13871.0,
          13871.0,
          13871.0,
          15399.0,
          6982.0,
          32122.0,
          32122.0,
          32122.0,
          16949.0,
          16949.0,
          4628.0,
          4628.0,
          107449.0,
          5396.0,
          6222.0,
          4506.0,
          8747.0,
          6247.0,
          39459.0,
          10101.0,
          5898.0,
          193482.0,
          49288.0,
          49288.0,
          3759.0,
          9784.0,
          9784.0,
          10191.0,
          14493.0,
          2186.0,
          2091.0,
          111053.0,
          19720.0,
          19720.0,
          2122.0,
          27536.0,
          61060.0,
          4290.0,
          6377.0,
          1463.0,
          3759.0,
          3801.0,
          3796.0,
          42235.0,
          19546.0,
          19546.0,
          19546.0,
          19546.0,
          19546.0,
          19546.0,
          19546.0,
          8842.0,
          8842.0,
          8842.0,
          8842.0,
          24189.0,
          30183.0,
          30183.0,
          51255.0,
          31272.0,
          7932.0,
          26234.0,
          26234.0,
          26234.0,
          26234.0,
          26234.0,
          2282.0,
          11676.0,
          2586.0,
          6740.0,
          25510.0,
          3829.0,
          8958.0,
          41127.0,
          1873.0,
          14705.0,
          8170.0,
          87841.0,
          120727.0,
          9967.0,
          10760.0,
          21625.0,
          21625.0,
          21625.0,
          21625.0,
          21625.0,
          9413.0
         ],
         "yaxis": "y",
         "type": "scatter"
        }
       ],
       "layout": {
        "template": {
         "data": {
          "barpolar": [
           {
            "marker": {
             "line": {
              "color": "rgb(234,234,242)",
              "width": 0.5
             },
             "pattern": {
              "fillmode": "overlay",
              "size": 10,
              "solidity": 0.2
             }
            },
            "type": "barpolar"
           }
          ],
          "bar": [
           {
            "error_x": {
             "color": "rgb(36,36,36)"
            },
            "error_y": {
             "color": "rgb(36,36,36)"
            },
            "marker": {
             "line": {
              "color": "rgb(234,234,242)",
              "width": 0.5
             },
             "pattern": {
              "fillmode": "overlay",
              "size": 10,
              "solidity": 0.2
             }
            },
            "type": "bar"
           }
          ],
          "carpet": [
           {
            "aaxis": {
             "endlinecolor": "rgb(36,36,36)",
             "gridcolor": "white",
             "linecolor": "white",
             "minorgridcolor": "white",
             "startlinecolor": "rgb(36,36,36)"
            },
            "baxis": {
             "endlinecolor": "rgb(36,36,36)",
             "gridcolor": "white",
             "linecolor": "white",
             "minorgridcolor": "white",
             "startlinecolor": "rgb(36,36,36)"
            },
            "type": "carpet"
           }
          ],
          "choropleth": [
           {
            "colorbar": {
             "outlinewidth": 0,
             "tickcolor": "rgb(36,36,36)",
             "ticklen": 8,
             "ticks": "outside",
             "tickwidth": 2
            },
            "type": "choropleth"
           }
          ],
          "contourcarpet": [
           {
            "colorbar": {
             "outlinewidth": 0,
             "tickcolor": "rgb(36,36,36)",
             "ticklen": 8,
             "ticks": "outside",
             "tickwidth": 2
            },
            "type": "contourcarpet"
           }
          ],
          "contour": [
           {
            "colorbar": {
             "outlinewidth": 0,
             "tickcolor": "rgb(36,36,36)",
             "ticklen": 8,
             "ticks": "outside",
             "tickwidth": 2
            },
            "colorscale": [
             [
              0.0,
              "rgb(2,4,25)"
             ],
             [
              0.06274509803921569,
              "rgb(24,15,41)"
             ],
             [
              0.12549019607843137,
              "rgb(47,23,57)"
             ],
             [
              0.18823529411764706,
              "rgb(71,28,72)"
             ],
             [
              0.25098039215686274,
              "rgb(97,30,82)"
             ],
             [
              0.3137254901960784,
              "rgb(123,30,89)"
             ],
             [
              0.3764705882352941,
              "rgb(150,27,91)"
             ],
             [
              0.4392156862745098,
              "rgb(177,22,88)"
             ],
             [
              0.5019607843137255,
              "rgb(203,26,79)"
             ],
             [
              0.5647058823529412,
              "rgb(223,47,67)"
             ],
             [
              0.6274509803921569,
              "rgb(236,76,61)"
             ],
             [
              0.6901960784313725,
              "rgb(242,107,73)"
             ],
             [
              0.7529411764705882,
              "rgb(244,135,95)"
             ],
             [
              0.8156862745098039,
              "rgb(245,162,122)"
             ],
             [
              0.8784313725490196,
              "rgb(246,188,153)"
             ],
             [
              0.9411764705882353,
              "rgb(247,212,187)"
             ],
             [
              1.0,
              "rgb(250,234,220)"
             ]
            ],
            "type": "contour"
           }
          ],
          "heatmapgl": [
           {
            "colorbar": {
             "outlinewidth": 0,
             "tickcolor": "rgb(36,36,36)",
             "ticklen": 8,
             "ticks": "outside",
             "tickwidth": 2
            },
            "colorscale": [
             [
              0.0,
              "rgb(2,4,25)"
             ],
             [
              0.06274509803921569,
              "rgb(24,15,41)"
             ],
             [
              0.12549019607843137,
              "rgb(47,23,57)"
             ],
             [
              0.18823529411764706,
              "rgb(71,28,72)"
             ],
             [
              0.25098039215686274,
              "rgb(97,30,82)"
             ],
             [
              0.3137254901960784,
              "rgb(123,30,89)"
             ],
             [
              0.3764705882352941,
              "rgb(150,27,91)"
             ],
             [
              0.4392156862745098,
              "rgb(177,22,88)"
             ],
             [
              0.5019607843137255,
              "rgb(203,26,79)"
             ],
             [
              0.5647058823529412,
              "rgb(223,47,67)"
             ],
             [
              0.6274509803921569,
              "rgb(236,76,61)"
             ],
             [
              0.6901960784313725,
              "rgb(242,107,73)"
             ],
             [
              0.7529411764705882,
              "rgb(244,135,95)"
             ],
             [
              0.8156862745098039,
              "rgb(245,162,122)"
             ],
             [
              0.8784313725490196,
              "rgb(246,188,153)"
             ],
             [
              0.9411764705882353,
              "rgb(247,212,187)"
             ],
             [
              1.0,
              "rgb(250,234,220)"
             ]
            ],
            "type": "heatmapgl"
           }
          ],
          "heatmap": [
           {
            "colorbar": {
             "outlinewidth": 0,
             "tickcolor": "rgb(36,36,36)",
             "ticklen": 8,
             "ticks": "outside",
             "tickwidth": 2
            },
            "colorscale": [
             [
              0.0,
              "rgb(2,4,25)"
             ],
             [
              0.06274509803921569,
              "rgb(24,15,41)"
             ],
             [
              0.12549019607843137,
              "rgb(47,23,57)"
             ],
             [
              0.18823529411764706,
              "rgb(71,28,72)"
             ],
             [
              0.25098039215686274,
              "rgb(97,30,82)"
             ],
             [
              0.3137254901960784,
              "rgb(123,30,89)"
             ],
             [
              0.3764705882352941,
              "rgb(150,27,91)"
             ],
             [
              0.4392156862745098,
              "rgb(177,22,88)"
             ],
             [
              0.5019607843137255,
              "rgb(203,26,79)"
             ],
             [
              0.5647058823529412,
              "rgb(223,47,67)"
             ],
             [
              0.6274509803921569,
              "rgb(236,76,61)"
             ],
             [
              0.6901960784313725,
              "rgb(242,107,73)"
             ],
             [
              0.7529411764705882,
              "rgb(244,135,95)"
             ],
             [
              0.8156862745098039,
              "rgb(245,162,122)"
             ],
             [
              0.8784313725490196,
              "rgb(246,188,153)"
             ],
             [
              0.9411764705882353,
              "rgb(247,212,187)"
             ],
             [
              1.0,
              "rgb(250,234,220)"
             ]
            ],
            "type": "heatmap"
           }
          ],
          "histogram2dcontour": [
           {
            "colorbar": {
             "outlinewidth": 0,
             "tickcolor": "rgb(36,36,36)",
             "ticklen": 8,
             "ticks": "outside",
             "tickwidth": 2
            },
            "colorscale": [
             [
              0.0,
              "rgb(2,4,25)"
             ],
             [
              0.06274509803921569,
              "rgb(24,15,41)"
             ],
             [
              0.12549019607843137,
              "rgb(47,23,57)"
             ],
             [
              0.18823529411764706,
              "rgb(71,28,72)"
             ],
             [
              0.25098039215686274,
              "rgb(97,30,82)"
             ],
             [
              0.3137254901960784,
              "rgb(123,30,89)"
             ],
             [
              0.3764705882352941,
              "rgb(150,27,91)"
             ],
             [
              0.4392156862745098,
              "rgb(177,22,88)"
             ],
             [
              0.5019607843137255,
              "rgb(203,26,79)"
             ],
             [
              0.5647058823529412,
              "rgb(223,47,67)"
             ],
             [
              0.6274509803921569,
              "rgb(236,76,61)"
             ],
             [
              0.6901960784313725,
              "rgb(242,107,73)"
             ],
             [
              0.7529411764705882,
              "rgb(244,135,95)"
             ],
             [
              0.8156862745098039,
              "rgb(245,162,122)"
             ],
             [
              0.8784313725490196,
              "rgb(246,188,153)"
             ],
             [
              0.9411764705882353,
              "rgb(247,212,187)"
             ],
             [
              1.0,
              "rgb(250,234,220)"
             ]
            ],
            "type": "histogram2dcontour"
           }
          ],
          "histogram2d": [
           {
            "colorbar": {
             "outlinewidth": 0,
             "tickcolor": "rgb(36,36,36)",
             "ticklen": 8,
             "ticks": "outside",
             "tickwidth": 2
            },
            "colorscale": [
             [
              0.0,
              "rgb(2,4,25)"
             ],
             [
              0.06274509803921569,
              "rgb(24,15,41)"
             ],
             [
              0.12549019607843137,
              "rgb(47,23,57)"
             ],
             [
              0.18823529411764706,
              "rgb(71,28,72)"
             ],
             [
              0.25098039215686274,
              "rgb(97,30,82)"
             ],
             [
              0.3137254901960784,
              "rgb(123,30,89)"
             ],
             [
              0.3764705882352941,
              "rgb(150,27,91)"
             ],
             [
              0.4392156862745098,
              "rgb(177,22,88)"
             ],
             [
              0.5019607843137255,
              "rgb(203,26,79)"
             ],
             [
              0.5647058823529412,
              "rgb(223,47,67)"
             ],
             [
              0.6274509803921569,
              "rgb(236,76,61)"
             ],
             [
              0.6901960784313725,
              "rgb(242,107,73)"
             ],
             [
              0.7529411764705882,
              "rgb(244,135,95)"
             ],
             [
              0.8156862745098039,
              "rgb(245,162,122)"
             ],
             [
              0.8784313725490196,
              "rgb(246,188,153)"
             ],
             [
              0.9411764705882353,
              "rgb(247,212,187)"
             ],
             [
              1.0,
              "rgb(250,234,220)"
             ]
            ],
            "type": "histogram2d"
           }
          ],
          "histogram": [
           {
            "marker": {
             "pattern": {
              "fillmode": "overlay",
              "size": 10,
              "solidity": 0.2
             }
            },
            "type": "histogram"
           }
          ],
          "mesh3d": [
           {
            "colorbar": {
             "outlinewidth": 0,
             "tickcolor": "rgb(36,36,36)",
             "ticklen": 8,
             "ticks": "outside",
             "tickwidth": 2
            },
            "type": "mesh3d"
           }
          ],
          "parcoords": [
           {
            "line": {
             "colorbar": {
              "outlinewidth": 0,
              "tickcolor": "rgb(36,36,36)",
              "ticklen": 8,
              "ticks": "outside",
              "tickwidth": 2
             }
            },
            "type": "parcoords"
           }
          ],
          "pie": [
           {
            "automargin": true,
            "type": "pie"
           }
          ],
          "scatter3d": [
           {
            "line": {
             "colorbar": {
              "outlinewidth": 0,
              "tickcolor": "rgb(36,36,36)",
              "ticklen": 8,
              "ticks": "outside",
              "tickwidth": 2
             }
            },
            "marker": {
             "colorbar": {
              "outlinewidth": 0,
              "tickcolor": "rgb(36,36,36)",
              "ticklen": 8,
              "ticks": "outside",
              "tickwidth": 2
             }
            },
            "type": "scatter3d"
           }
          ],
          "scattercarpet": [
           {
            "marker": {
             "colorbar": {
              "outlinewidth": 0,
              "tickcolor": "rgb(36,36,36)",
              "ticklen": 8,
              "ticks": "outside",
              "tickwidth": 2
             }
            },
            "type": "scattercarpet"
           }
          ],
          "scattergeo": [
           {
            "marker": {
             "colorbar": {
              "outlinewidth": 0,
              "tickcolor": "rgb(36,36,36)",
              "ticklen": 8,
              "ticks": "outside",
              "tickwidth": 2
             }
            },
            "type": "scattergeo"
           }
          ],
          "scattergl": [
           {
            "marker": {
             "colorbar": {
              "outlinewidth": 0,
              "tickcolor": "rgb(36,36,36)",
              "ticklen": 8,
              "ticks": "outside",
              "tickwidth": 2
             }
            },
            "type": "scattergl"
           }
          ],
          "scattermapbox": [
           {
            "marker": {
             "colorbar": {
              "outlinewidth": 0,
              "tickcolor": "rgb(36,36,36)",
              "ticklen": 8,
              "ticks": "outside",
              "tickwidth": 2
             }
            },
            "type": "scattermapbox"
           }
          ],
          "scatterpolargl": [
           {
            "marker": {
             "colorbar": {
              "outlinewidth": 0,
              "tickcolor": "rgb(36,36,36)",
              "ticklen": 8,
              "ticks": "outside",
              "tickwidth": 2
             }
            },
            "type": "scatterpolargl"
           }
          ],
          "scatterpolar": [
           {
            "marker": {
             "colorbar": {
              "outlinewidth": 0,
              "tickcolor": "rgb(36,36,36)",
              "ticklen": 8,
              "ticks": "outside",
              "tickwidth": 2
             }
            },
            "type": "scatterpolar"
           }
          ],
          "scatter": [
           {
            "fillpattern": {
             "fillmode": "overlay",
             "size": 10,
             "solidity": 0.2
            },
            "type": "scatter"
           }
          ],
          "scatterternary": [
           {
            "marker": {
             "colorbar": {
              "outlinewidth": 0,
              "tickcolor": "rgb(36,36,36)",
              "ticklen": 8,
              "ticks": "outside",
              "tickwidth": 2
             }
            },
            "type": "scatterternary"
           }
          ],
          "surface": [
           {
            "colorbar": {
             "outlinewidth": 0,
             "tickcolor": "rgb(36,36,36)",
             "ticklen": 8,
             "ticks": "outside",
             "tickwidth": 2
            },
            "colorscale": [
             [
              0.0,
              "rgb(2,4,25)"
             ],
             [
              0.06274509803921569,
              "rgb(24,15,41)"
             ],
             [
              0.12549019607843137,
              "rgb(47,23,57)"
             ],
             [
              0.18823529411764706,
              "rgb(71,28,72)"
             ],
             [
              0.25098039215686274,
              "rgb(97,30,82)"
             ],
             [
              0.3137254901960784,
              "rgb(123,30,89)"
             ],
             [
              0.3764705882352941,
              "rgb(150,27,91)"
             ],
             [
              0.4392156862745098,
              "rgb(177,22,88)"
             ],
             [
              0.5019607843137255,
              "rgb(203,26,79)"
             ],
             [
              0.5647058823529412,
              "rgb(223,47,67)"
             ],
             [
              0.6274509803921569,
              "rgb(236,76,61)"
             ],
             [
              0.6901960784313725,
              "rgb(242,107,73)"
             ],
             [
              0.7529411764705882,
              "rgb(244,135,95)"
             ],
             [
              0.8156862745098039,
              "rgb(245,162,122)"
             ],
             [
              0.8784313725490196,
              "rgb(246,188,153)"
             ],
             [
              0.9411764705882353,
              "rgb(247,212,187)"
             ],
             [
              1.0,
              "rgb(250,234,220)"
             ]
            ],
            "type": "surface"
           }
          ],
          "table": [
           {
            "cells": {
             "fill": {
              "color": "rgb(231,231,240)"
             },
             "line": {
              "color": "white"
             }
            },
            "header": {
             "fill": {
              "color": "rgb(183,183,191)"
             },
             "line": {
              "color": "white"
             }
            },
            "type": "table"
           }
          ]
         },
         "layout": {
          "annotationdefaults": {
           "arrowcolor": "rgb(67,103,167)"
          },
          "autotypenumbers": "strict",
          "coloraxis": {
           "colorbar": {
            "outlinewidth": 0,
            "tickcolor": "rgb(36,36,36)",
            "ticklen": 8,
            "ticks": "outside",
            "tickwidth": 2
           }
          },
          "colorscale": {
           "sequential": [
            [
             0.0,
             "rgb(2,4,25)"
            ],
            [
             0.06274509803921569,
             "rgb(24,15,41)"
            ],
            [
             0.12549019607843137,
             "rgb(47,23,57)"
            ],
            [
             0.18823529411764706,
             "rgb(71,28,72)"
            ],
            [
             0.25098039215686274,
             "rgb(97,30,82)"
            ],
            [
             0.3137254901960784,
             "rgb(123,30,89)"
            ],
            [
             0.3764705882352941,
             "rgb(150,27,91)"
            ],
            [
             0.4392156862745098,
             "rgb(177,22,88)"
            ],
            [
             0.5019607843137255,
             "rgb(203,26,79)"
            ],
            [
             0.5647058823529412,
             "rgb(223,47,67)"
            ],
            [
             0.6274509803921569,
             "rgb(236,76,61)"
            ],
            [
             0.6901960784313725,
             "rgb(242,107,73)"
            ],
            [
             0.7529411764705882,
             "rgb(244,135,95)"
            ],
            [
             0.8156862745098039,
             "rgb(245,162,122)"
            ],
            [
             0.8784313725490196,
             "rgb(246,188,153)"
            ],
            [
             0.9411764705882353,
             "rgb(247,212,187)"
            ],
            [
             1.0,
             "rgb(250,234,220)"
            ]
           ],
           "sequentialminus": [
            [
             0.0,
             "rgb(2,4,25)"
            ],
            [
             0.06274509803921569,
             "rgb(24,15,41)"
            ],
            [
             0.12549019607843137,
             "rgb(47,23,57)"
            ],
            [
             0.18823529411764706,
             "rgb(71,28,72)"
            ],
            [
             0.25098039215686274,
             "rgb(97,30,82)"
            ],
            [
             0.3137254901960784,
             "rgb(123,30,89)"
            ],
            [
             0.3764705882352941,
             "rgb(150,27,91)"
            ],
            [
             0.4392156862745098,
             "rgb(177,22,88)"
            ],
            [
             0.5019607843137255,
             "rgb(203,26,79)"
            ],
            [
             0.5647058823529412,
             "rgb(223,47,67)"
            ],
            [
             0.6274509803921569,
             "rgb(236,76,61)"
            ],
            [
             0.6901960784313725,
             "rgb(242,107,73)"
            ],
            [
             0.7529411764705882,
             "rgb(244,135,95)"
            ],
            [
             0.8156862745098039,
             "rgb(245,162,122)"
            ],
            [
             0.8784313725490196,
             "rgb(246,188,153)"
            ],
            [
             0.9411764705882353,
             "rgb(247,212,187)"
            ],
            [
             1.0,
             "rgb(250,234,220)"
            ]
           ]
          },
          "colorway": [
           "rgb(76,114,176)",
           "rgb(221,132,82)",
           "rgb(85,168,104)",
           "rgb(196,78,82)",
           "rgb(129,114,179)",
           "rgb(147,120,96)",
           "rgb(218,139,195)",
           "rgb(140,140,140)",
           "rgb(204,185,116)",
           "rgb(100,181,205)"
          ],
          "font": {
           "color": "rgb(36,36,36)"
          },
          "geo": {
           "bgcolor": "white",
           "lakecolor": "white",
           "landcolor": "rgb(234,234,242)",
           "showlakes": true,
           "showland": true,
           "subunitcolor": "white"
          },
          "hoverlabel": {
           "align": "left"
          },
          "hovermode": "closest",
          "paper_bgcolor": "white",
          "plot_bgcolor": "rgb(234,234,242)",
          "polar": {
           "angularaxis": {
            "gridcolor": "white",
            "linecolor": "white",
            "showgrid": true,
            "ticks": ""
           },
           "bgcolor": "rgb(234,234,242)",
           "radialaxis": {
            "gridcolor": "white",
            "linecolor": "white",
            "showgrid": true,
            "ticks": ""
           }
          },
          "scene": {
           "xaxis": {
            "backgroundcolor": "rgb(234,234,242)",
            "gridcolor": "white",
            "gridwidth": 2,
            "linecolor": "white",
            "showbackground": true,
            "showgrid": true,
            "ticks": "",
            "zerolinecolor": "white"
           },
           "yaxis": {
            "backgroundcolor": "rgb(234,234,242)",
            "gridcolor": "white",
            "gridwidth": 2,
            "linecolor": "white",
            "showbackground": true,
            "showgrid": true,
            "ticks": "",
            "zerolinecolor": "white"
           },
           "zaxis": {
            "backgroundcolor": "rgb(234,234,242)",
            "gridcolor": "white",
            "gridwidth": 2,
            "linecolor": "white",
            "showbackground": true,
            "showgrid": true,
            "ticks": "",
            "zerolinecolor": "white"
           }
          },
          "shapedefaults": {
           "fillcolor": "rgb(67,103,167)",
           "line": {
            "width": 0
           },
           "opacity": 0.5
          },
          "ternary": {
           "aaxis": {
            "gridcolor": "white",
            "linecolor": "white",
            "showgrid": true,
            "ticks": ""
           },
           "baxis": {
            "gridcolor": "white",
            "linecolor": "white",
            "showgrid": true,
            "ticks": ""
           },
           "bgcolor": "rgb(234,234,242)",
           "caxis": {
            "gridcolor": "white",
            "linecolor": "white",
            "showgrid": true,
            "ticks": ""
           }
          },
          "xaxis": {
           "automargin": true,
           "gridcolor": "white",
           "linecolor": "white",
           "showgrid": true,
           "ticks": "",
           "title": {
            "standoff": 15
           },
           "zerolinecolor": "white"
          },
          "yaxis": {
           "automargin": true,
           "gridcolor": "white",
           "linecolor": "white",
           "showgrid": true,
           "ticks": "",
           "title": {
            "standoff": 15
           },
           "zerolinecolor": "white"
          }
         }
        },
        "xaxis": {
         "anchor": "y",
         "domain": [
          0.0,
          1.0
         ],
         "title": {
          "text": "Price (USD)"
         }
        },
        "yaxis": {
         "anchor": "x",
         "domain": [
          0.0,
          1.0
         ],
         "title": {
          "text": "# of Reviews"
         }
        },
        "legend": {
         "title": {
          "text": "Genre"
         },
         "tracegroupgap": 0
        },
        "title": {
         "text": "Number of Reviews by Book Price<br><sup>Amazon Bestseller List 2009 to Present</sup>"
        }
       },
       "config": {
        "plotlyServerURL": "https://plot.ly"
       }
      },
      "text/html": [
       "<div>                            <div id=\"b2773928-91c9-499b-9a2b-164bc6a48b32\" class=\"plotly-graph-div\" style=\"height:525px; width:100%;\"></div>            <script type=\"text/javascript\">                require([\"plotly\"], function(Plotly) {                    window.PLOTLYENV=window.PLOTLYENV || {};                                    if (document.getElementById(\"b2773928-91c9-499b-9a2b-164bc6a48b32\")) {                    Plotly.newPlot(                        \"b2773928-91c9-499b-9a2b-164bc6a48b32\",                        [{\"hovertemplate\":\"Genre=Non Fiction\\u003cbr\\u003ePrice (USD)=%{x}\\u003cbr\\u003e# of Reviews=%{y}\\u003cextra\\u003e\\u003c\\u002fextra\\u003e\",\"legendgroup\":\"Non Fiction\",\"marker\":{\"color\":\"rgb(76,114,176)\",\"symbol\":\"circle\"},\"mode\":\"markers\",\"name\":\"Non Fiction\",\"orientation\":\"v\",\"showlegend\":true,\"x\":[8.0,15.0,12.0,3.0,2.0,23.0,32.0,17.0,4.0,6.0,6.0,8.0,13.0,12.52,9.0,5.0,9.0,17.78,12.0,11.98,14.0,5.0,11.0,24.0,21.0,11.0,11.0,10.0,15.0,13.0,13.0,18.0,8.0,8.0,6.99,4.0,18.0,28.0,19.0,14.34,16.0,14.0,14.0,14.0,4.0,5.0,8.99,10.0,13.0,17.0,15.0,105.0,105.0,5.0,6.0,5.0,16.0,1.0,14.0,9.0,9.0,15.0,15.0,11.0,9.0,2.0,6.0,4.0,4.0,4.0,4.0,4.0,9.0,9.0,20.0,16.0,14.0,12.0,12.0,12.0,11.0,6.0,6.0,14.0,14.0,14.0,14.0,10.0,18.0,15.98,7.0,54.0,11.0,9.0,4.0,10.0,10.0,14.0,14.0,22.0,13.0,11.0,11.0,11.0,11.0,11.0,10.58,16.0,5.0,15.0,15.0,17.0,17.0,7.0,9.0,6.99,21.0,13.0,13.0,12.0,8.0,8.0,8.0,8.0,8.0,8.0,17.0,12.0,25.0,10.0,10.0,6.0,5.0,6.0,8.0,4.0,4.0,4.0,4.0,4.0,4.0,4.0,4.0,13.0,21.0,6.0,15.0,18.0,15.0,13.0,17.0,16.0,20.0,11.0,27.0,8.0,8.0,8.0,6.0,10.0,10.0,10.0,21.0,15.0,4.07,16.0,11.0,9.0,14.0,22.0,13.0,13.0,9.0,20.0,20.0,5.0,5.0,14.16,10.0,10.0,10.0,26.0,46.0,46.0,46.0,46.0,46.0,46.0,46.0,46.0,46.0,46.0,20.0,7.0,9.0,9.0,15.0,15.49,20.0,20.0,4.79,6.0,6.0,9.0,9.59,11.0,16.0,6.0,17.0,20.0,20.0,17.0,17.0,17.0,17.0,17.0,17.0,17.0,17.0,17.0,18.0,13.0,20.0,20.0,22.0,21.0,11.6,28.0,28.0,28.0,28.0,28.0,8.0,8.0,8.0,8.0,8.0,8.0,7.57,12.0,24.0,24.0,24.0,24.0,16.0,16.0,16.0,9.0,17.0,14.0,12.0,8.0,11.4,53.0,15.0,10.35,12.0,12.0,21.0,6.0,6.0,0.0,11.0,15.0,6.0,6.0,6.0,6.0,6.0,9.0,6.0,7.74,6.0,6.0,6.0,6.0,6.0,6.0,13.0,9.0,9.0,7.0,7.0,9.0,13.0,13.0,11.0,11.0,11.0,11.0,13.0,5.0,12.0,40.0,40.0,40.0,40.0,40.0,36.0,17.0,14.0,21.0,18.0,17.0,21.0,19.42,14.0,12.0,10.34,19.0,17.99,15.0,15.0,15.0,14.8,9.0,9.0,10.0,10.0,7.0,5.06,16.0,16.0,16.0,16.0,15.0,19.0,19.0,23.0,11.0,11.0,23.0,23.0,23.0,23.0,12.0,17.0,21.0,15.0,16.0,16.0,16.0,13.0,16.0,11.0,4.0,9.0,15.0,14.89,18.0,17.0,9.0,6.0,6.0,14.0,10.0,12.0,18.0,11.0,8.0,8.0,8.0,8.0],\"xaxis\":\"x\",\"y\":[17350.0,18979.0,7665.0,5983.0,460.0,83212.0,4149.0,5013.0,2313.0,2925.0,2951.0,2426.0,9198.0,33712.0,15921.0,798.0,9374.0,13893.0,29634.0,104159.0,491.0,5360.0,1909.0,1296.0,615.0,61133.0,61133.0,99498.0,11113.0,10070.0,10070.0,3729.0,471.0,26423.0,75520.0,10369.0,16244.0,2884.0,21967.0,40535.0,4761.0,1542.0,1542.0,1542.0,4022.0,3871.0,35003.0,1329.0,4642.0,2137.0,1651.0,6679.0,6679.0,7955.0,37.0,2134.0,2525.0,720.0,956.0,6346.0,6346.0,28729.0,28729.0,45351.0,5413.0,6042.0,13677.0,17323.0,17323.0,17323.0,17323.0,17323.0,1555.0,1215.0,408.0,4799.0,12879.0,7660.0,22288.0,22288.0,1365.0,1636.0,10141.0,3457.0,3457.0,3457.0,3457.0,5972.0,26740.0,58357.0,5476.0,5867.0,4148.0,3564.0,1930.0,15779.0,15779.0,15526.0,15526.0,3776.0,19555.0,25001.0,25001.0,25001.0,25001.0,25001.0,70752.0,5272.0,14128.0,3490.0,3490.0,2812.0,4896.0,9737.0,20485.0,31640.0,4571.0,7396.0,7396.0,7062.0,19576.0,19576.0,19576.0,19576.0,19576.0,19576.0,8393.0,11391.0,8634.0,9342.0,9342.0,10927.0,5235.0,8916.0,2507.0,3673.0,3673.0,3673.0,6990.0,6990.0,6990.0,6990.0,6990.0,6132.0,3014.0,7550.0,3828.0,2752.0,20153.0,1649.0,16515.0,9867.0,1386.0,10199.0,2926.0,17739.0,17739.0,17739.0,3113.0,5542.0,5542.0,5542.0,11769.0,45694.0,75486.0,5347.0,7866.0,5178.0,8093.0,3192.0,3163.0,3163.0,1831.0,10426.0,10426.0,10820.0,10820.0,20037.0,26462.0,13616.0,13616.0,27726.0,8580.0,8580.0,8580.0,8580.0,8580.0,8580.0,8580.0,8580.0,8580.0,8580.0,10009.0,10009.0,1985.0,1985.0,27788.0,90390.0,7802.0,7802.0,65184.0,23047.0,23047.0,9366.0,15104.0,1265.0,3923.0,2272.0,220.0,7827.0,7827.0,5069.0,5069.0,5069.0,5069.0,5069.0,5069.0,5069.0,5069.0,5069.0,1583.0,1907.0,637.0,637.0,2314.0,4587.0,49270.0,3477.0,3477.0,3477.0,3477.0,3477.0,25554.0,25554.0,25554.0,25554.0,25554.0,44174.0,68263.0,1680.0,9325.0,9325.0,9325.0,9325.0,4725.0,4725.0,4725.0,2580.0,3536.0,1789.0,12361.0,24327.0,53535.0,858.0,53549.0,106658.0,23358.0,23358.0,4633.0,13061.0,13061.0,2774.0,440.0,2023.0,3207.0,3207.0,3207.0,3207.0,3207.0,803.0,45368.0,48326.0,23308.0,23308.0,23308.0,23308.0,23308.0,23308.0,9289.0,9289.0,9289.0,7368.0,7368.0,4028.0,4247.0,4247.0,22641.0,22641.0,22641.0,22641.0,1655.0,7861.0,2744.0,1201.0,1201.0,1201.0,1201.0,1201.0,807.0,2663.0,3428.0,2876.0,3601.0,7058.0,10795.0,20153.0,1204.0,44608.0,51448.0,15424.0,25554.0,26490.0,26490.0,26490.0,77899.0,5487.0,3503.0,11550.0,9030.0,35965.0,52375.0,7508.0,7508.0,7508.0,6169.0,7034.0,11034.0,11034.0,1904.0,3319.0,3319.0,11128.0,11128.0,11128.0,11128.0,5977.0,94196.0,4360.0,438.0,29673.0,29673.0,29673.0,29673.0,29673.0,5956.0,6108.0,4585.0,41567.0,53024.0,5492.0,9292.0,3341.0,7497.0,7497.0,13779.0,31125.0,6669.0,17044.0,1302.0,14331.0,14331.0,14331.0,14331.0],\"yaxis\":\"y\",\"type\":\"scatter\"},{\"hovertemplate\":\"Genre=Fiction\\u003cbr\\u003ePrice (USD)=%{x}\\u003cbr\\u003e# of Reviews=%{y}\\u003cextra\\u003e\\u003c\\u002fextra\\u003e\",\"legendgroup\":\"Fiction\",\"marker\":{\"color\":\"rgb(221,132,82)\",\"symbol\":\"circle\"},\"mode\":\"markers\",\"name\":\"Fiction\",\"orientation\":\"v\",\"showlegend\":true,\"x\":[22.0,7.48,6.0,11.0,30.0,15.0,8.0,8.0,5.0,14.0,14.0,13.0,17.0,13.0,7.49,13.0,5.0,5.0,5.0,5.36,0.0,13.58,11.0,11.0,11.0,4.0,8.0,11.0,11.0,4.0,8.0,4.0,5.0,5.0,5.0,5.0,0.0,15.0,22.0,15.0,15.0,6.0,13.0,12.0,6.0,8.0,4.0,4.0,8.0,8.0,6.0,6.0,6.62,20.0,12.01,7.0,18.0,8.0,8.0,15.0,7.0,11.0,14.0,14.0,32.0,0.0,5.0,5.0,5.0,4.0,4.0,4.0,4.0,4.0,6.0,19.0,18.0,9.0,10.0,10.0,9.0,5.0,5.0,5.0,7.0,7.0,14.0,10.62,30.0,12.0,18.0,30.0,22.0,52.0,6.0,6.0,5.0,1.0,4.31,7.0,4.0,4.0,4.0,4.14,9.0,14.0,20.0,10.26,0.0,12.0,13.0,10.0,0.0,12.0,10.0,7.0,5.0,5.0,13.0,8.0,8.0,8.0,14.4,10.0,8.0,8.0,8.0,8.0,8.0,8.0,8.0,8.0,8.48,7.0,12.0,13.0,11.0,9.0,6.0,8.49,2.0,27.0,27.0,27.0,9.0,4.0,12.0,12.0,12.0,12.0,10.0,8.0,25.0,6.0,18.0,39.0,13.99,10.0,10.0,14.0,9.0,11.0,6.0,6.0,8.0,8.0,12.0,13.0,9.0,9.0,9.0,7.0,11.0,13.0,13.0,7.0,13.0,13.79,0.0,18.0,7.0,14.0,14.0,9.0,16.0,2.0,2.0,5.0,5.0,20.0,20.0,7.0,7.0,7.0,14.0,10.0,7.0,13.0,11.0,6.0,6.0,8.0,7.0,9.58,14.0,14.0,8.0,8.0,30.0,30.0,7.0,7.0,13.09,20.0,18.0,14.0,19.0,10.0,9.0,8.0,8.0,13.29,11.0,11.0,16.0,5.0,5.0,18.0,18.0,12.0,12.0,9.42,8.0,8.0,0.0,14.0,15.0,10.0,7.0,10.0,6.0,82.0,12.0,16.0,5.0,5.0,5.0,5.0,5.0,5.0,5.0,10.0,10.0,10.0,10.0,8.55,4.0,4.0,5.0,8.37,9.0,0.0,0.0,0.0,0.0,7.0,21.0,9.0,5.0,20.0,7.0,42.0,12.0,5.98,14.0,13.0,13.0,15.0,9.0,13.0,15.0,9.0,9.0,9.0,9.0,9.0,8.0],\"xaxis\":\"x\",\"y\":[2052.0,70425.0,21424.0,12643.0,19735.0,19699.0,23848.0,23848.0,5153.0,36348.0,36348.0,6310.0,41716.0,12159.0,19470.0,9769.0,14344.0,14344.0,25321.0,45919.0,4505.0,4153.0,22614.0,22614.0,22614.0,20705.0,6143.0,4866.0,4866.0,1541.0,1924.0,2094.0,10922.0,10922.0,10922.0,10922.0,6812.0,3837.0,6540.0,27098.0,27098.0,17684.0,15845.0,3181.0,5062.0,4786.0,7235.0,7235.0,12619.0,9089.0,31045.0,5470.0,22196.0,5118.0,63421.0,5505.0,5505.0,10721.0,10721.0,4370.0,23631.0,20262.0,47265.0,47265.0,13964.0,3642.0,5594.0,5594.0,5594.0,14038.0,14038.0,14038.0,14038.0,14038.0,23356.0,14982.0,52777.0,9568.0,57271.0,57271.0,57271.0,8837.0,8837.0,8837.0,7038.0,7038.0,25624.0,22383.0,19622.0,23973.0,7758.0,3146.0,10052.0,13471.0,17538.0,29121.0,19988.0,24356.0,58200.0,1320.0,16643.0,16643.0,39063.0,68304.0,7153.0,29651.0,5299.0,141748.0,978.0,4748.0,11881.0,1467.0,1884.0,25706.0,43514.0,8491.0,18613.0,18613.0,64215.0,26741.0,26741.0,26741.0,60070.0,5680.0,21834.0,21834.0,21834.0,21834.0,21834.0,21834.0,21834.0,21834.0,41796.0,6169.0,4519.0,18904.0,21930.0,12643.0,12852.0,21271.0,548.0,16990.0,16990.0,16990.0,3503.0,4757.0,22536.0,22536.0,7150.0,3836.0,3619.0,45485.0,973.0,9382.0,23114.0,35799.0,91743.0,11813.0,11813.0,37173.0,11668.0,6600.0,23148.0,23148.0,8081.0,8081.0,9372.0,3523.0,8922.0,8922.0,8922.0,26047.0,1859.0,50482.0,50482.0,50482.0,50482.0,117146.0,5836.0,79446.0,79446.0,7747.0,7747.0,7251.0,7251.0,10559.0,10559.0,5249.0,5249.0,33844.0,33844.0,11616.0,11616.0,11616.0,13609.0,8587.0,29442.0,11098.0,9947.0,13871.0,13871.0,13871.0,13871.0,15399.0,6982.0,32122.0,32122.0,32122.0,16949.0,16949.0,4628.0,4628.0,107449.0,5396.0,6222.0,4506.0,8747.0,6247.0,39459.0,10101.0,5898.0,193482.0,49288.0,49288.0,3759.0,9784.0,9784.0,10191.0,14493.0,2186.0,2091.0,111053.0,19720.0,19720.0,2122.0,27536.0,61060.0,4290.0,6377.0,1463.0,3759.0,3801.0,3796.0,42235.0,19546.0,19546.0,19546.0,19546.0,19546.0,19546.0,19546.0,8842.0,8842.0,8842.0,8842.0,24189.0,30183.0,30183.0,51255.0,31272.0,7932.0,26234.0,26234.0,26234.0,26234.0,26234.0,2282.0,11676.0,2586.0,6740.0,25510.0,3829.0,8958.0,41127.0,1873.0,14705.0,8170.0,87841.0,120727.0,9967.0,10760.0,21625.0,21625.0,21625.0,21625.0,21625.0,9413.0],\"yaxis\":\"y\",\"type\":\"scatter\"}],                        {\"template\":{\"data\":{\"barpolar\":[{\"marker\":{\"line\":{\"color\":\"rgb(234,234,242)\",\"width\":0.5},\"pattern\":{\"fillmode\":\"overlay\",\"size\":10,\"solidity\":0.2}},\"type\":\"barpolar\"}],\"bar\":[{\"error_x\":{\"color\":\"rgb(36,36,36)\"},\"error_y\":{\"color\":\"rgb(36,36,36)\"},\"marker\":{\"line\":{\"color\":\"rgb(234,234,242)\",\"width\":0.5},\"pattern\":{\"fillmode\":\"overlay\",\"size\":10,\"solidity\":0.2}},\"type\":\"bar\"}],\"carpet\":[{\"aaxis\":{\"endlinecolor\":\"rgb(36,36,36)\",\"gridcolor\":\"white\",\"linecolor\":\"white\",\"minorgridcolor\":\"white\",\"startlinecolor\":\"rgb(36,36,36)\"},\"baxis\":{\"endlinecolor\":\"rgb(36,36,36)\",\"gridcolor\":\"white\",\"linecolor\":\"white\",\"minorgridcolor\":\"white\",\"startlinecolor\":\"rgb(36,36,36)\"},\"type\":\"carpet\"}],\"choropleth\":[{\"colorbar\":{\"outlinewidth\":0,\"tickcolor\":\"rgb(36,36,36)\",\"ticklen\":8,\"ticks\":\"outside\",\"tickwidth\":2},\"type\":\"choropleth\"}],\"contourcarpet\":[{\"colorbar\":{\"outlinewidth\":0,\"tickcolor\":\"rgb(36,36,36)\",\"ticklen\":8,\"ticks\":\"outside\",\"tickwidth\":2},\"type\":\"contourcarpet\"}],\"contour\":[{\"colorbar\":{\"outlinewidth\":0,\"tickcolor\":\"rgb(36,36,36)\",\"ticklen\":8,\"ticks\":\"outside\",\"tickwidth\":2},\"colorscale\":[[0.0,\"rgb(2,4,25)\"],[0.06274509803921569,\"rgb(24,15,41)\"],[0.12549019607843137,\"rgb(47,23,57)\"],[0.18823529411764706,\"rgb(71,28,72)\"],[0.25098039215686274,\"rgb(97,30,82)\"],[0.3137254901960784,\"rgb(123,30,89)\"],[0.3764705882352941,\"rgb(150,27,91)\"],[0.4392156862745098,\"rgb(177,22,88)\"],[0.5019607843137255,\"rgb(203,26,79)\"],[0.5647058823529412,\"rgb(223,47,67)\"],[0.6274509803921569,\"rgb(236,76,61)\"],[0.6901960784313725,\"rgb(242,107,73)\"],[0.7529411764705882,\"rgb(244,135,95)\"],[0.8156862745098039,\"rgb(245,162,122)\"],[0.8784313725490196,\"rgb(246,188,153)\"],[0.9411764705882353,\"rgb(247,212,187)\"],[1.0,\"rgb(250,234,220)\"]],\"type\":\"contour\"}],\"heatmapgl\":[{\"colorbar\":{\"outlinewidth\":0,\"tickcolor\":\"rgb(36,36,36)\",\"ticklen\":8,\"ticks\":\"outside\",\"tickwidth\":2},\"colorscale\":[[0.0,\"rgb(2,4,25)\"],[0.06274509803921569,\"rgb(24,15,41)\"],[0.12549019607843137,\"rgb(47,23,57)\"],[0.18823529411764706,\"rgb(71,28,72)\"],[0.25098039215686274,\"rgb(97,30,82)\"],[0.3137254901960784,\"rgb(123,30,89)\"],[0.3764705882352941,\"rgb(150,27,91)\"],[0.4392156862745098,\"rgb(177,22,88)\"],[0.5019607843137255,\"rgb(203,26,79)\"],[0.5647058823529412,\"rgb(223,47,67)\"],[0.6274509803921569,\"rgb(236,76,61)\"],[0.6901960784313725,\"rgb(242,107,73)\"],[0.7529411764705882,\"rgb(244,135,95)\"],[0.8156862745098039,\"rgb(245,162,122)\"],[0.8784313725490196,\"rgb(246,188,153)\"],[0.9411764705882353,\"rgb(247,212,187)\"],[1.0,\"rgb(250,234,220)\"]],\"type\":\"heatmapgl\"}],\"heatmap\":[{\"colorbar\":{\"outlinewidth\":0,\"tickcolor\":\"rgb(36,36,36)\",\"ticklen\":8,\"ticks\":\"outside\",\"tickwidth\":2},\"colorscale\":[[0.0,\"rgb(2,4,25)\"],[0.06274509803921569,\"rgb(24,15,41)\"],[0.12549019607843137,\"rgb(47,23,57)\"],[0.18823529411764706,\"rgb(71,28,72)\"],[0.25098039215686274,\"rgb(97,30,82)\"],[0.3137254901960784,\"rgb(123,30,89)\"],[0.3764705882352941,\"rgb(150,27,91)\"],[0.4392156862745098,\"rgb(177,22,88)\"],[0.5019607843137255,\"rgb(203,26,79)\"],[0.5647058823529412,\"rgb(223,47,67)\"],[0.6274509803921569,\"rgb(236,76,61)\"],[0.6901960784313725,\"rgb(242,107,73)\"],[0.7529411764705882,\"rgb(244,135,95)\"],[0.8156862745098039,\"rgb(245,162,122)\"],[0.8784313725490196,\"rgb(246,188,153)\"],[0.9411764705882353,\"rgb(247,212,187)\"],[1.0,\"rgb(250,234,220)\"]],\"type\":\"heatmap\"}],\"histogram2dcontour\":[{\"colorbar\":{\"outlinewidth\":0,\"tickcolor\":\"rgb(36,36,36)\",\"ticklen\":8,\"ticks\":\"outside\",\"tickwidth\":2},\"colorscale\":[[0.0,\"rgb(2,4,25)\"],[0.06274509803921569,\"rgb(24,15,41)\"],[0.12549019607843137,\"rgb(47,23,57)\"],[0.18823529411764706,\"rgb(71,28,72)\"],[0.25098039215686274,\"rgb(97,30,82)\"],[0.3137254901960784,\"rgb(123,30,89)\"],[0.3764705882352941,\"rgb(150,27,91)\"],[0.4392156862745098,\"rgb(177,22,88)\"],[0.5019607843137255,\"rgb(203,26,79)\"],[0.5647058823529412,\"rgb(223,47,67)\"],[0.6274509803921569,\"rgb(236,76,61)\"],[0.6901960784313725,\"rgb(242,107,73)\"],[0.7529411764705882,\"rgb(244,135,95)\"],[0.8156862745098039,\"rgb(245,162,122)\"],[0.8784313725490196,\"rgb(246,188,153)\"],[0.9411764705882353,\"rgb(247,212,187)\"],[1.0,\"rgb(250,234,220)\"]],\"type\":\"histogram2dcontour\"}],\"histogram2d\":[{\"colorbar\":{\"outlinewidth\":0,\"tickcolor\":\"rgb(36,36,36)\",\"ticklen\":8,\"ticks\":\"outside\",\"tickwidth\":2},\"colorscale\":[[0.0,\"rgb(2,4,25)\"],[0.06274509803921569,\"rgb(24,15,41)\"],[0.12549019607843137,\"rgb(47,23,57)\"],[0.18823529411764706,\"rgb(71,28,72)\"],[0.25098039215686274,\"rgb(97,30,82)\"],[0.3137254901960784,\"rgb(123,30,89)\"],[0.3764705882352941,\"rgb(150,27,91)\"],[0.4392156862745098,\"rgb(177,22,88)\"],[0.5019607843137255,\"rgb(203,26,79)\"],[0.5647058823529412,\"rgb(223,47,67)\"],[0.6274509803921569,\"rgb(236,76,61)\"],[0.6901960784313725,\"rgb(242,107,73)\"],[0.7529411764705882,\"rgb(244,135,95)\"],[0.8156862745098039,\"rgb(245,162,122)\"],[0.8784313725490196,\"rgb(246,188,153)\"],[0.9411764705882353,\"rgb(247,212,187)\"],[1.0,\"rgb(250,234,220)\"]],\"type\":\"histogram2d\"}],\"histogram\":[{\"marker\":{\"pattern\":{\"fillmode\":\"overlay\",\"size\":10,\"solidity\":0.2}},\"type\":\"histogram\"}],\"mesh3d\":[{\"colorbar\":{\"outlinewidth\":0,\"tickcolor\":\"rgb(36,36,36)\",\"ticklen\":8,\"ticks\":\"outside\",\"tickwidth\":2},\"type\":\"mesh3d\"}],\"parcoords\":[{\"line\":{\"colorbar\":{\"outlinewidth\":0,\"tickcolor\":\"rgb(36,36,36)\",\"ticklen\":8,\"ticks\":\"outside\",\"tickwidth\":2}},\"type\":\"parcoords\"}],\"pie\":[{\"automargin\":true,\"type\":\"pie\"}],\"scatter3d\":[{\"line\":{\"colorbar\":{\"outlinewidth\":0,\"tickcolor\":\"rgb(36,36,36)\",\"ticklen\":8,\"ticks\":\"outside\",\"tickwidth\":2}},\"marker\":{\"colorbar\":{\"outlinewidth\":0,\"tickcolor\":\"rgb(36,36,36)\",\"ticklen\":8,\"ticks\":\"outside\",\"tickwidth\":2}},\"type\":\"scatter3d\"}],\"scattercarpet\":[{\"marker\":{\"colorbar\":{\"outlinewidth\":0,\"tickcolor\":\"rgb(36,36,36)\",\"ticklen\":8,\"ticks\":\"outside\",\"tickwidth\":2}},\"type\":\"scattercarpet\"}],\"scattergeo\":[{\"marker\":{\"colorbar\":{\"outlinewidth\":0,\"tickcolor\":\"rgb(36,36,36)\",\"ticklen\":8,\"ticks\":\"outside\",\"tickwidth\":2}},\"type\":\"scattergeo\"}],\"scattergl\":[{\"marker\":{\"colorbar\":{\"outlinewidth\":0,\"tickcolor\":\"rgb(36,36,36)\",\"ticklen\":8,\"ticks\":\"outside\",\"tickwidth\":2}},\"type\":\"scattergl\"}],\"scattermapbox\":[{\"marker\":{\"colorbar\":{\"outlinewidth\":0,\"tickcolor\":\"rgb(36,36,36)\",\"ticklen\":8,\"ticks\":\"outside\",\"tickwidth\":2}},\"type\":\"scattermapbox\"}],\"scatterpolargl\":[{\"marker\":{\"colorbar\":{\"outlinewidth\":0,\"tickcolor\":\"rgb(36,36,36)\",\"ticklen\":8,\"ticks\":\"outside\",\"tickwidth\":2}},\"type\":\"scatterpolargl\"}],\"scatterpolar\":[{\"marker\":{\"colorbar\":{\"outlinewidth\":0,\"tickcolor\":\"rgb(36,36,36)\",\"ticklen\":8,\"ticks\":\"outside\",\"tickwidth\":2}},\"type\":\"scatterpolar\"}],\"scatter\":[{\"fillpattern\":{\"fillmode\":\"overlay\",\"size\":10,\"solidity\":0.2},\"type\":\"scatter\"}],\"scatterternary\":[{\"marker\":{\"colorbar\":{\"outlinewidth\":0,\"tickcolor\":\"rgb(36,36,36)\",\"ticklen\":8,\"ticks\":\"outside\",\"tickwidth\":2}},\"type\":\"scatterternary\"}],\"surface\":[{\"colorbar\":{\"outlinewidth\":0,\"tickcolor\":\"rgb(36,36,36)\",\"ticklen\":8,\"ticks\":\"outside\",\"tickwidth\":2},\"colorscale\":[[0.0,\"rgb(2,4,25)\"],[0.06274509803921569,\"rgb(24,15,41)\"],[0.12549019607843137,\"rgb(47,23,57)\"],[0.18823529411764706,\"rgb(71,28,72)\"],[0.25098039215686274,\"rgb(97,30,82)\"],[0.3137254901960784,\"rgb(123,30,89)\"],[0.3764705882352941,\"rgb(150,27,91)\"],[0.4392156862745098,\"rgb(177,22,88)\"],[0.5019607843137255,\"rgb(203,26,79)\"],[0.5647058823529412,\"rgb(223,47,67)\"],[0.6274509803921569,\"rgb(236,76,61)\"],[0.6901960784313725,\"rgb(242,107,73)\"],[0.7529411764705882,\"rgb(244,135,95)\"],[0.8156862745098039,\"rgb(245,162,122)\"],[0.8784313725490196,\"rgb(246,188,153)\"],[0.9411764705882353,\"rgb(247,212,187)\"],[1.0,\"rgb(250,234,220)\"]],\"type\":\"surface\"}],\"table\":[{\"cells\":{\"fill\":{\"color\":\"rgb(231,231,240)\"},\"line\":{\"color\":\"white\"}},\"header\":{\"fill\":{\"color\":\"rgb(183,183,191)\"},\"line\":{\"color\":\"white\"}},\"type\":\"table\"}]},\"layout\":{\"annotationdefaults\":{\"arrowcolor\":\"rgb(67,103,167)\"},\"autotypenumbers\":\"strict\",\"coloraxis\":{\"colorbar\":{\"outlinewidth\":0,\"tickcolor\":\"rgb(36,36,36)\",\"ticklen\":8,\"ticks\":\"outside\",\"tickwidth\":2}},\"colorscale\":{\"sequential\":[[0.0,\"rgb(2,4,25)\"],[0.06274509803921569,\"rgb(24,15,41)\"],[0.12549019607843137,\"rgb(47,23,57)\"],[0.18823529411764706,\"rgb(71,28,72)\"],[0.25098039215686274,\"rgb(97,30,82)\"],[0.3137254901960784,\"rgb(123,30,89)\"],[0.3764705882352941,\"rgb(150,27,91)\"],[0.4392156862745098,\"rgb(177,22,88)\"],[0.5019607843137255,\"rgb(203,26,79)\"],[0.5647058823529412,\"rgb(223,47,67)\"],[0.6274509803921569,\"rgb(236,76,61)\"],[0.6901960784313725,\"rgb(242,107,73)\"],[0.7529411764705882,\"rgb(244,135,95)\"],[0.8156862745098039,\"rgb(245,162,122)\"],[0.8784313725490196,\"rgb(246,188,153)\"],[0.9411764705882353,\"rgb(247,212,187)\"],[1.0,\"rgb(250,234,220)\"]],\"sequentialminus\":[[0.0,\"rgb(2,4,25)\"],[0.06274509803921569,\"rgb(24,15,41)\"],[0.12549019607843137,\"rgb(47,23,57)\"],[0.18823529411764706,\"rgb(71,28,72)\"],[0.25098039215686274,\"rgb(97,30,82)\"],[0.3137254901960784,\"rgb(123,30,89)\"],[0.3764705882352941,\"rgb(150,27,91)\"],[0.4392156862745098,\"rgb(177,22,88)\"],[0.5019607843137255,\"rgb(203,26,79)\"],[0.5647058823529412,\"rgb(223,47,67)\"],[0.6274509803921569,\"rgb(236,76,61)\"],[0.6901960784313725,\"rgb(242,107,73)\"],[0.7529411764705882,\"rgb(244,135,95)\"],[0.8156862745098039,\"rgb(245,162,122)\"],[0.8784313725490196,\"rgb(246,188,153)\"],[0.9411764705882353,\"rgb(247,212,187)\"],[1.0,\"rgb(250,234,220)\"]]},\"colorway\":[\"rgb(76,114,176)\",\"rgb(221,132,82)\",\"rgb(85,168,104)\",\"rgb(196,78,82)\",\"rgb(129,114,179)\",\"rgb(147,120,96)\",\"rgb(218,139,195)\",\"rgb(140,140,140)\",\"rgb(204,185,116)\",\"rgb(100,181,205)\"],\"font\":{\"color\":\"rgb(36,36,36)\"},\"geo\":{\"bgcolor\":\"white\",\"lakecolor\":\"white\",\"landcolor\":\"rgb(234,234,242)\",\"showlakes\":true,\"showland\":true,\"subunitcolor\":\"white\"},\"hoverlabel\":{\"align\":\"left\"},\"hovermode\":\"closest\",\"paper_bgcolor\":\"white\",\"plot_bgcolor\":\"rgb(234,234,242)\",\"polar\":{\"angularaxis\":{\"gridcolor\":\"white\",\"linecolor\":\"white\",\"showgrid\":true,\"ticks\":\"\"},\"bgcolor\":\"rgb(234,234,242)\",\"radialaxis\":{\"gridcolor\":\"white\",\"linecolor\":\"white\",\"showgrid\":true,\"ticks\":\"\"}},\"scene\":{\"xaxis\":{\"backgroundcolor\":\"rgb(234,234,242)\",\"gridcolor\":\"white\",\"gridwidth\":2,\"linecolor\":\"white\",\"showbackground\":true,\"showgrid\":true,\"ticks\":\"\",\"zerolinecolor\":\"white\"},\"yaxis\":{\"backgroundcolor\":\"rgb(234,234,242)\",\"gridcolor\":\"white\",\"gridwidth\":2,\"linecolor\":\"white\",\"showbackground\":true,\"showgrid\":true,\"ticks\":\"\",\"zerolinecolor\":\"white\"},\"zaxis\":{\"backgroundcolor\":\"rgb(234,234,242)\",\"gridcolor\":\"white\",\"gridwidth\":2,\"linecolor\":\"white\",\"showbackground\":true,\"showgrid\":true,\"ticks\":\"\",\"zerolinecolor\":\"white\"}},\"shapedefaults\":{\"fillcolor\":\"rgb(67,103,167)\",\"line\":{\"width\":0},\"opacity\":0.5},\"ternary\":{\"aaxis\":{\"gridcolor\":\"white\",\"linecolor\":\"white\",\"showgrid\":true,\"ticks\":\"\"},\"baxis\":{\"gridcolor\":\"white\",\"linecolor\":\"white\",\"showgrid\":true,\"ticks\":\"\"},\"bgcolor\":\"rgb(234,234,242)\",\"caxis\":{\"gridcolor\":\"white\",\"linecolor\":\"white\",\"showgrid\":true,\"ticks\":\"\"}},\"xaxis\":{\"automargin\":true,\"gridcolor\":\"white\",\"linecolor\":\"white\",\"showgrid\":true,\"ticks\":\"\",\"title\":{\"standoff\":15},\"zerolinecolor\":\"white\"},\"yaxis\":{\"automargin\":true,\"gridcolor\":\"white\",\"linecolor\":\"white\",\"showgrid\":true,\"ticks\":\"\",\"title\":{\"standoff\":15},\"zerolinecolor\":\"white\"}}},\"xaxis\":{\"anchor\":\"y\",\"domain\":[0.0,1.0],\"title\":{\"text\":\"Price (USD)\"}},\"yaxis\":{\"anchor\":\"x\",\"domain\":[0.0,1.0],\"title\":{\"text\":\"# of Reviews\"}},\"legend\":{\"title\":{\"text\":\"Genre\"},\"tracegroupgap\":0},\"title\":{\"text\":\"Number of Reviews by Book Price\\u003cbr\\u003e\\u003csup\\u003eAmazon Bestseller List 2009 to Present\\u003c\\u002fsup\\u003e\"}},                        {\"responsive\": true}                    ).then(function(){\n",
       "                            \n",
       "var gd = document.getElementById('b2773928-91c9-499b-9a2b-164bc6a48b32');\n",
       "var x = new MutationObserver(function (mutations, observer) {{\n",
       "        var display = window.getComputedStyle(gd).display;\n",
       "        if (!display || display === 'none') {{\n",
       "            console.log([gd, 'removed!']);\n",
       "            Plotly.purge(gd);\n",
       "            observer.disconnect();\n",
       "        }}\n",
       "}});\n",
       "\n",
       "// Listen for the removal of the full notebook cells\n",
       "var notebookContainer = gd.closest('#notebook-container');\n",
       "if (notebookContainer) {{\n",
       "    x.observe(notebookContainer, {childList: true});\n",
       "}}\n",
       "\n",
       "// Listen for the clearing of the current output cell\n",
       "var outputEl = gd.closest('.output');\n",
       "if (outputEl) {{\n",
       "    x.observe(outputEl, {childList: true});\n",
       "}}\n",
       "\n",
       "                        })                };                });            </script>        </div>"
      ]
     },
     "metadata": {},
     "output_type": "display_data"
    }
   ],
   "execution_count": 38
  },
  {
   "cell_type": "markdown",
   "id": "28a2a91d-3f61-4d52-b053-5d3cbf6c4d7a",
   "metadata": {},
   "source": [
    "## Geographical scatter plot\n",
    "For our final plot, let's create a [geographical scatter plot](https://plotly.com/python/scatter-plots-on-maps/) by visualizing meteorite landings by size.\n",
    "\n",
    "The data we will use is adapted from [this dataset](https://www.kaggle.com/datasets/nasa/meteorite-landings), filtered to only include meteorites that were 100 kg or heavier."
   ]
  },
  {
   "cell_type": "code",
   "id": "179c3bc8-789b-4284-b31b-97d87ea1ceba",
   "metadata": {
    "ExecuteTime": {
     "end_time": "2024-11-25T17:14:59.567273Z",
     "start_time": "2024-11-25T17:14:59.540865Z"
    }
   },
   "source": [
    "heavy = pd.read_csv(\"heavy_meteorites.csv\")\n",
    "\n",
    "heavy"
   ],
   "outputs": [
    {
     "data": {
      "text/plain": [
       "           name     id nametype             recclass     mass   fall    year  \\\n",
       "0          Abee      6    Valid                  EH4   107000   Fell  1952.0   \n",
       "1    Alfianello    466    Valid                   L6   228000   Fell  1883.0   \n",
       "2       Allende   2278    Valid                  CV3  2000000   Fell  1969.0   \n",
       "3      Bjurböle   5064    Valid                L/LL4   330000   Fell  1899.0   \n",
       "4    Boguslavka   5098    Valid         \"Iron, IIAB\"   256000   Fell  1916.0   \n",
       "..          ...    ...      ...                  ...      ...    ...     ...   \n",
       "420    Zaragoza  48916    Valid       \"Iron, IVA-an\"   162000  Found     NaN   \n",
       "421    Zerhamra  30403    Valid     \"Iron, IIIAB-an\"   630000  Found  1967.0   \n",
       "422    Zhaoping  54609    Valid  \"Iron, IAB complex\"  2000000  Found  1983.0   \n",
       "423    Zhigansk  30405    Valid        \"Iron, IIIAB\"   900000  Found  1966.0   \n",
       "424  Zhongxiang  30406    Valid                 Iron   100000  Found  1981.0   \n",
       "\n",
       "       reclat    reclong                 GeoLocation  \n",
       "0    54.21667 -113.00000  \"(54.216670, -113.000000)\"  \n",
       "1    45.26667   10.15000    \"(45.266670, 10.150000)\"  \n",
       "2    26.96667 -105.31667  \"(26.966670, -105.316670)\"  \n",
       "3    60.40000   25.80000    \"(60.400000, 25.800000)\"  \n",
       "4    44.55000  131.63333   \"(44.550000, 131.633330)\"  \n",
       "..        ...        ...                         ...  \n",
       "420  41.65000   -0.86667    \"(41.650000, -0.866670)\"  \n",
       "421  29.85861   -2.64500    \"(29.858610, -2.645000)\"  \n",
       "422  24.23333  111.18333   \"(24.233330, 111.183330)\"  \n",
       "423  68.00000  128.30000   \"(68.000000, 128.300000)\"  \n",
       "424  31.20000  112.50000   \"(31.200000, 112.500000)\"  \n",
       "\n",
       "[425 rows x 10 columns]"
      ],
      "text/html": [
       "<div>\n",
       "<style scoped>\n",
       "    .dataframe tbody tr th:only-of-type {\n",
       "        vertical-align: middle;\n",
       "    }\n",
       "\n",
       "    .dataframe tbody tr th {\n",
       "        vertical-align: top;\n",
       "    }\n",
       "\n",
       "    .dataframe thead th {\n",
       "        text-align: right;\n",
       "    }\n",
       "</style>\n",
       "<table border=\"1\" class=\"dataframe\">\n",
       "  <thead>\n",
       "    <tr style=\"text-align: right;\">\n",
       "      <th></th>\n",
       "      <th>name</th>\n",
       "      <th>id</th>\n",
       "      <th>nametype</th>\n",
       "      <th>recclass</th>\n",
       "      <th>mass</th>\n",
       "      <th>fall</th>\n",
       "      <th>year</th>\n",
       "      <th>reclat</th>\n",
       "      <th>reclong</th>\n",
       "      <th>GeoLocation</th>\n",
       "    </tr>\n",
       "  </thead>\n",
       "  <tbody>\n",
       "    <tr>\n",
       "      <th>0</th>\n",
       "      <td>Abee</td>\n",
       "      <td>6</td>\n",
       "      <td>Valid</td>\n",
       "      <td>EH4</td>\n",
       "      <td>107000</td>\n",
       "      <td>Fell</td>\n",
       "      <td>1952.0</td>\n",
       "      <td>54.21667</td>\n",
       "      <td>-113.00000</td>\n",
       "      <td>\"(54.216670, -113.000000)\"</td>\n",
       "    </tr>\n",
       "    <tr>\n",
       "      <th>1</th>\n",
       "      <td>Alfianello</td>\n",
       "      <td>466</td>\n",
       "      <td>Valid</td>\n",
       "      <td>L6</td>\n",
       "      <td>228000</td>\n",
       "      <td>Fell</td>\n",
       "      <td>1883.0</td>\n",
       "      <td>45.26667</td>\n",
       "      <td>10.15000</td>\n",
       "      <td>\"(45.266670, 10.150000)\"</td>\n",
       "    </tr>\n",
       "    <tr>\n",
       "      <th>2</th>\n",
       "      <td>Allende</td>\n",
       "      <td>2278</td>\n",
       "      <td>Valid</td>\n",
       "      <td>CV3</td>\n",
       "      <td>2000000</td>\n",
       "      <td>Fell</td>\n",
       "      <td>1969.0</td>\n",
       "      <td>26.96667</td>\n",
       "      <td>-105.31667</td>\n",
       "      <td>\"(26.966670, -105.316670)\"</td>\n",
       "    </tr>\n",
       "    <tr>\n",
       "      <th>3</th>\n",
       "      <td>Bjurböle</td>\n",
       "      <td>5064</td>\n",
       "      <td>Valid</td>\n",
       "      <td>L/LL4</td>\n",
       "      <td>330000</td>\n",
       "      <td>Fell</td>\n",
       "      <td>1899.0</td>\n",
       "      <td>60.40000</td>\n",
       "      <td>25.80000</td>\n",
       "      <td>\"(60.400000, 25.800000)\"</td>\n",
       "    </tr>\n",
       "    <tr>\n",
       "      <th>4</th>\n",
       "      <td>Boguslavka</td>\n",
       "      <td>5098</td>\n",
       "      <td>Valid</td>\n",
       "      <td>\"Iron, IIAB\"</td>\n",
       "      <td>256000</td>\n",
       "      <td>Fell</td>\n",
       "      <td>1916.0</td>\n",
       "      <td>44.55000</td>\n",
       "      <td>131.63333</td>\n",
       "      <td>\"(44.550000, 131.633330)\"</td>\n",
       "    </tr>\n",
       "    <tr>\n",
       "      <th>...</th>\n",
       "      <td>...</td>\n",
       "      <td>...</td>\n",
       "      <td>...</td>\n",
       "      <td>...</td>\n",
       "      <td>...</td>\n",
       "      <td>...</td>\n",
       "      <td>...</td>\n",
       "      <td>...</td>\n",
       "      <td>...</td>\n",
       "      <td>...</td>\n",
       "    </tr>\n",
       "    <tr>\n",
       "      <th>420</th>\n",
       "      <td>Zaragoza</td>\n",
       "      <td>48916</td>\n",
       "      <td>Valid</td>\n",
       "      <td>\"Iron, IVA-an\"</td>\n",
       "      <td>162000</td>\n",
       "      <td>Found</td>\n",
       "      <td>NaN</td>\n",
       "      <td>41.65000</td>\n",
       "      <td>-0.86667</td>\n",
       "      <td>\"(41.650000, -0.866670)\"</td>\n",
       "    </tr>\n",
       "    <tr>\n",
       "      <th>421</th>\n",
       "      <td>Zerhamra</td>\n",
       "      <td>30403</td>\n",
       "      <td>Valid</td>\n",
       "      <td>\"Iron, IIIAB-an\"</td>\n",
       "      <td>630000</td>\n",
       "      <td>Found</td>\n",
       "      <td>1967.0</td>\n",
       "      <td>29.85861</td>\n",
       "      <td>-2.64500</td>\n",
       "      <td>\"(29.858610, -2.645000)\"</td>\n",
       "    </tr>\n",
       "    <tr>\n",
       "      <th>422</th>\n",
       "      <td>Zhaoping</td>\n",
       "      <td>54609</td>\n",
       "      <td>Valid</td>\n",
       "      <td>\"Iron, IAB complex\"</td>\n",
       "      <td>2000000</td>\n",
       "      <td>Found</td>\n",
       "      <td>1983.0</td>\n",
       "      <td>24.23333</td>\n",
       "      <td>111.18333</td>\n",
       "      <td>\"(24.233330, 111.183330)\"</td>\n",
       "    </tr>\n",
       "    <tr>\n",
       "      <th>423</th>\n",
       "      <td>Zhigansk</td>\n",
       "      <td>30405</td>\n",
       "      <td>Valid</td>\n",
       "      <td>\"Iron, IIIAB\"</td>\n",
       "      <td>900000</td>\n",
       "      <td>Found</td>\n",
       "      <td>1966.0</td>\n",
       "      <td>68.00000</td>\n",
       "      <td>128.30000</td>\n",
       "      <td>\"(68.000000, 128.300000)\"</td>\n",
       "    </tr>\n",
       "    <tr>\n",
       "      <th>424</th>\n",
       "      <td>Zhongxiang</td>\n",
       "      <td>30406</td>\n",
       "      <td>Valid</td>\n",
       "      <td>Iron</td>\n",
       "      <td>100000</td>\n",
       "      <td>Found</td>\n",
       "      <td>1981.0</td>\n",
       "      <td>31.20000</td>\n",
       "      <td>112.50000</td>\n",
       "      <td>\"(31.200000, 112.500000)\"</td>\n",
       "    </tr>\n",
       "  </tbody>\n",
       "</table>\n",
       "<p>425 rows × 10 columns</p>\n",
       "</div>"
      ]
     },
     "execution_count": 39,
     "metadata": {},
     "output_type": "execute_result"
    }
   ],
   "execution_count": 39
  },
  {
   "cell_type": "markdown",
   "id": "36bcea95-24ae-4881-8c58-9ae41971a99b",
   "metadata": {},
   "source": [
    "We create the plot in the same way as other plots, but this time we use some different parameters:\n",
    "- `lat` and `lon` specify the columns that contain the latitude and longitude of each landing."
   ]
  },
  {
   "cell_type": "code",
   "id": "262de6ef-21d0-43e7-ae77-2f9d0964f1bd",
   "metadata": {
    "ExecuteTime": {
     "end_time": "2024-11-25T17:14:59.761329Z",
     "start_time": "2024-11-25T17:14:59.698631Z"
    }
   },
   "source": [
    "# Initialize a geographical scatter plot\n",
    "fig = px.scatter_geo(heavy,\n",
    "                     lat=\"reclat\",\n",
    "                     lon=\"reclong\",\n",
    "                     title=\"Meteorite Landings\"\n",
    "                    )\n",
    "\n",
    "# Show the plot\n",
    "fig.show()"
   ],
   "outputs": [
    {
     "data": {
      "application/vnd.plotly.v1+json": {
       "data": [
        {
         "geo": "geo",
         "hovertemplate": "reclat=%{lat}<br>reclong=%{lon}<extra></extra>",
         "lat": [
          54.21667,
          45.26667,
          26.96667,
          60.4,
          44.55,
          53.9,
          5.0,
          54.81667,
          23.69639,
          44.9,
          -7.5,
          45.5,
          50.18333,
          47.86667,
          43.41667,
          43.25,
          57.35,
          11.49167,
          34.9,
          41.8,
          30.80833,
          44.05,
          35.5,
          55.43333,
          38.98333,
          14.0,
          48.9,
          55.78333,
          42.25,
          1.06667,
          -26.45,
          46.8,
          38.11667,
          43.39056,
          18.7,
          -36.61667,
          40.0,
          39.68333,
          57.78333,
          38.71667,
          64.02,
          36.06667,
          -19.13333,
          52.76667,
          -29.03333,
          45.3,
          52.55,
          50.61667,
          46.16,
          53.66667,
          31.61667,
          12.66667,
          31.16333,
          -25.73333,
          7.95,
          41.266667,
          -26.59278,
          38.93333,
          27.33333,
          47.58333,
          29.31667,
          38.7,
          44.86667,
          31.98457,
          27.5,
          20.6,
          -76.71667,
          66.9,
          55.14167,
          30.33333,
          47.0,
          48.06667,
          36.3,
          26.2,
          -35.3,
          39.6,
          -30.75,
          -10.11667,
          67.3,
          49.96667,
          29.87861,
          13.51667,
          31.15643,
          -22.61667,
          52.5,
          41.15333,
          37.5825,
          50.56667,
          29.8,
          3.98333,
          29.7725,
          -14.258,
          -27.46667,
          35.05,
          -33.5,
          76.13333,
          -45.28333,
          29.66667,
          35.16667,
          36.26667,
          30.4,
          23.08333,
          53.66667,
          36.5,
          51.05833,
          27.0,
          34.88333,
          34.3,
          28.7,
          37.43333,
          -30.33333,
          -30.61667,
          35.78333,
          -38.1,
          -25.33333,
          30.75,
          -80.06667,
          18.16667,
          19.03333,
          43.04639,
          34.58333,
          39.5,
          -27.5,
          null,
          23.28333,
          -44.53333,
          -33.11667,
          44.5,
          49.33333,
          44.33333,
          -9.11667,
          33.18333,
          -27.83333,
          -33.28333,
          49.55,
          52.46667,
          27.05,
          39.33333,
          -30.1,
          -29.45,
          -22.5,
          39.78333,
          -25.66667,
          36.93333,
          -30.78333,
          67.8,
          -29.58333,
          25.1,
          35.33333,
          54.23333,
          -23.0,
          null,
          null,
          null,
          null,
          null,
          null,
          0.0,
          null,
          null,
          null,
          0.0,
          0.0,
          null,
          -29.43333,
          42.33333,
          31.71667,
          34.46667,
          -30.0,
          41.2,
          37.46667,
          30.73333,
          49.86667,
          null,
          -19.86667,
          -18.58333,
          34.7,
          37.86667,
          34.11667,
          -30.03306,
          41.23333,
          -7.56667,
          43.75,
          -42.9,
          33.9,
          -18.5,
          35.98333,
          45.33333,
          39.61667,
          32.5225,
          34.71637,
          44.43333,
          -28.86667,
          22.01833,
          19.22778,
          -25.5,
          -30.38333,
          -23.9,
          35.6,
          41.98,
          35.16667,
          53.23333,
          32.4,
          38.76667,
          28.28333,
          -33.3,
          -31.38333,
          -24.56667,
          -19.58333,
          -22.36667,
          37.2,
          28.9,
          34.68333,
          -24.20333,
          53.0,
          -15.58333,
          27.95833,
          -6.6,
          19.65167,
          19.7,
          19.69362,
          -26.0,
          57.78117,
          38.81667,
          36.71667,
          30.41667,
          36.9,
          -30.55,
          -25.2,
          -33.61667,
          54.9,
          43.73333,
          34.1,
          49.0,
          -84.26223,
          40.5,
          39.93333,
          29.3,
          27.35,
          -29.41667,
          -27.0,
          38.08333,
          -28.83333,
          32.0,
          39.45889,
          38.51667,
          -39.85,
          32.91667,
          null,
          48.48333,
          -16.21667,
          19.21667,
          -26.21667,
          -16.26667,
          5.91667,
          24.5,
          41.76611,
          32.94889,
          20.51667,
          32.5,
          52.26667,
          32.4,
          62.9,
          42.5,
          22.56667,
          58.61667,
          37.96667,
          20.76333,
          -20.8,
          -14.66667,
          27.71667,
          47.45,
          34.91667,
          24.3,
          28.11667,
          34.25,
          19.56667,
          30.3,
          43.36667,
          29.47,
          null,
          48.7,
          31.85,
          3.81667,
          -25.75,
          21.49972,
          35.8,
          34.06667,
          -28.23333,
          45.36667,
          -19.3,
          36.3,
          17.53333,
          -14.25,
          24.2,
          -29.5,
          -32.1,
          26.06,
          31.65,
          22.81667,
          41.65,
          29.85861,
          24.23333,
          68.0,
          31.2,
          44.5,
          49.33333,
          44.33333,
          -9.11667,
          33.18333,
          -27.83333,
          -33.28333,
          49.55,
          52.46667,
          27.05,
          39.33333,
          -30.1,
          -29.45,
          -22.5,
          39.78333,
          -25.66667,
          36.93333,
          -30.78333,
          67.8,
          -29.58333,
          25.1,
          35.33333,
          54.23333,
          -23.0,
          null,
          null,
          null,
          null,
          null,
          null,
          0.0,
          null,
          null,
          null,
          0.0,
          0.0,
          null,
          -29.43333,
          42.33333,
          31.71667,
          34.46667,
          -30.0,
          41.2,
          37.46667,
          30.73333,
          49.86667,
          null,
          -19.86667,
          -18.58333,
          34.7,
          37.86667,
          34.11667,
          -30.03306,
          41.23333,
          -7.56667,
          43.75,
          38.08333,
          -28.83333,
          32.0,
          39.45889,
          38.51667,
          -39.85,
          32.91667,
          null,
          48.48333,
          -16.21667,
          19.21667,
          -26.21667,
          -16.26667,
          5.91667,
          24.5,
          41.76611,
          32.94889,
          20.51667,
          32.5,
          52.26667,
          32.4,
          62.9,
          42.5,
          22.56667,
          58.61667,
          37.96667,
          20.76333,
          -20.8,
          -14.66667,
          27.71667,
          47.45,
          34.91667,
          24.3,
          28.11667,
          34.25,
          19.56667,
          30.3,
          43.36667,
          29.47,
          null,
          48.7,
          31.85,
          3.81667,
          -25.75,
          21.49972,
          35.8,
          34.06667,
          -28.23333,
          45.36667,
          -19.3,
          36.3,
          17.53333,
          -14.25,
          24.2,
          -29.5,
          -32.1,
          26.06,
          31.65,
          22.81667,
          41.65,
          29.85861,
          24.23333,
          68.0,
          31.2
         ],
         "legendgroup": "",
         "lon": [
          -113.0,
          10.15,
          -105.31667,
          25.8,
          131.63333,
          -112.88333,
          48.0,
          61.11667,
          -5.01472,
          -90.28333,
          111.5,
          119.03333,
          12.73333,
          7.35,
          -94.83333,
          -93.66667,
          37.61667,
          11.65833,
          -110.18333,
          -91.86667,
          109.5,
          126.16667,
          115.41667,
          53.25,
          141.61667,
          28.0,
          22.4,
          61.36667,
          59.2,
          34.16667,
          120.36667,
          24.03333,
          -1.16667,
          1.9625,
          4.8,
          145.2,
          -81.76667,
          -99.86667,
          55.26667,
          -7.06667,
          161.80833,
          -90.5,
          -51.66667,
          21.26667,
          -53.05,
          0.23333,
          46.55,
          36.6,
          134.65333,
          55.98333,
          113.46667,
          78.03333,
          -7.015,
          142.95,
          8.08333,
          -73.266667,
          120.32833,
          48.25,
          -9.33333,
          37.25,
          -100.96667,
          -96.1,
          95.41667,
          -5.51528,
          -12.5,
          44.88333,
          159.66667,
          164.2,
          48.2,
          -109.98333,
          88.0,
          35.08333,
          -82.88333,
          -107.83333,
          144.56667,
          -105.3,
          117.78333,
          -39.2,
          160.8,
          6.53333,
          -96.87222,
          122.45,
          -5.15262,
          135.2,
          30.33333,
          -96.955,
          -99.16361,
          114.9,
          -107.55,
          41.65,
          -99.875,
          -49.15917,
          -60.58333,
          -111.03333,
          26.0,
          -64.93333,
          -70.48333,
          -111.5,
          -98.64389,
          -85.98333,
          -107.8,
          -101.01667,
          88.0,
          -104.2,
          94.4,
          -105.1,
          -84.78333,
          -103.13472,
          -102.73333,
          -3.65,
          130.53333,
          130.41667,
          -83.25,
          145.3,
          116.18333,
          -104.25,
          156.38333,
          54.16667,
          54.51667,
          22.86389,
          -102.16667,
          -112.9,
          122.36667,
          null,
          -10.81667,
          -70.36667,
          -60.96667,
          -77.46667,
          19.48333,
          106.5,
          33.06667,
          -96.71667,
          150.33333,
          148.88333,
          4.86667,
          16.9,
          -105.43333,
          -100.06667,
          28.71667,
          119.71667,
          116.16667,
          -77.21667,
          118.1,
          -87.4,
          127.55,
          23.1,
          139.9,
          107.7,
          -109.5,
          35.15,
          -69.0,
          null,
          null,
          null,
          null,
          null,
          null,
          0.0,
          null,
          null,
          null,
          0.0,
          0.0,
          null,
          -50.91667,
          -113.7,
          -102.4,
          -115.23333,
          25.0,
          -103.68333,
          -118.0,
          -101.3,
          46.61167,
          null,
          -44.61667,
          -46.53333,
          117.0,
          -100.66667,
          -101.78333,
          -51.23,
          -103.3,
          110.83333,
          92.91667,
          -71.33333,
          -101.75,
          16.0,
          -101.9,
          -102.08333,
          -94.86667,
          -102.705,
          -114.22197,
          87.63333,
          -60.2,
          26.08778,
          56.14278,
          18.0,
          147.2,
          151.3,
          -105.8,
          -120.54167,
          -107.88333,
          27.33333,
          111.7,
          -105.51667,
          117.18333,
          117.66667,
          125.63333,
          133.16667,
          17.91667,
          135.76667,
          -101.35,
          -108.56667,
          -85.65,
          -68.80667,
          -112.0,
          -50.15,
          21.68333,
          110.73333,
          55.69,
          55.73333,
          56.65432,
          -69.25,
          47.67967,
          -84.6,
          -102.5,
          -99.4,
          -100.21667,
          29.41667,
          18.08333,
          24.0,
          91.8,
          6.78333,
          -97.0,
          21.0,
          161.41628,
          112.5,
          -99.6,
          105.3,
          108.5,
          -66.85,
          -70.0,
          -115.53333,
          21.13333,
          -95.0,
          -4.3775,
          -107.83333,
          -69.48333,
          -104.66667,
          null,
          3.58333,
          -50.3,
          -98.3,
          -48.6,
          -47.95,
          -73.0,
          -106.0,
          -8.58361,
          -81.865,
          56.66667,
          -101.0,
          15.55,
          -87.0,
          152.43333,
          114.0,
          48.3,
          98.93333,
          -90.31667,
          10.44167,
          -69.66667,
          -74.5,
          -0.25,
          101.47917,
          135.96667,
          106.1,
          0.53333,
          -96.68333,
          -99.56667,
          -97.7,
          -88.13333,
          -105.8,
          null,
          45.7,
          -110.96667,
          43.33333,
          -70.5,
          50.47222,
          -113.7,
          -98.91667,
          120.85,
          -122.58333,
          127.76667,
          120.48333,
          -97.35,
          132.01667,
          113.4,
          118.75,
          117.71667,
          118.01,
          -106.18333,
          -102.56667,
          -0.86667,
          -2.645,
          111.18333,
          128.3,
          112.5,
          -77.46667,
          19.48333,
          106.5,
          33.06667,
          -96.71667,
          150.33333,
          148.88333,
          4.86667,
          16.9,
          -105.43333,
          -100.06667,
          28.71667,
          119.71667,
          116.16667,
          -77.21667,
          118.1,
          -87.4,
          127.55,
          23.1,
          139.9,
          107.7,
          -109.5,
          35.15,
          -69.0,
          null,
          null,
          null,
          null,
          null,
          null,
          0.0,
          null,
          null,
          null,
          0.0,
          0.0,
          null,
          -50.91667,
          -113.7,
          -102.4,
          -115.23333,
          25.0,
          -103.68333,
          -118.0,
          -101.3,
          46.61167,
          null,
          -44.61667,
          -46.53333,
          117.0,
          -100.66667,
          -101.78333,
          -51.23,
          -103.3,
          110.83333,
          92.91667,
          -115.53333,
          21.13333,
          -95.0,
          -4.3775,
          -107.83333,
          -69.48333,
          -104.66667,
          null,
          3.58333,
          -50.3,
          -98.3,
          -48.6,
          -47.95,
          -73.0,
          -106.0,
          -8.58361,
          -81.865,
          56.66667,
          -101.0,
          15.55,
          -87.0,
          152.43333,
          114.0,
          48.3,
          98.93333,
          -90.31667,
          10.44167,
          -69.66667,
          -74.5,
          -0.25,
          101.47917,
          135.96667,
          106.1,
          0.53333,
          -96.68333,
          -99.56667,
          -97.7,
          -88.13333,
          -105.8,
          null,
          45.7,
          -110.96667,
          43.33333,
          -70.5,
          50.47222,
          -113.7,
          -98.91667,
          120.85,
          -122.58333,
          127.76667,
          120.48333,
          -97.35,
          132.01667,
          113.4,
          118.75,
          117.71667,
          118.01,
          -106.18333,
          -102.56667,
          -0.86667,
          -2.645,
          111.18333,
          128.3,
          112.5
         ],
         "marker": {
          "color": "#636efa",
          "symbol": "circle"
         },
         "mode": "markers",
         "name": "",
         "showlegend": false,
         "type": "scattergeo"
        }
       ],
       "layout": {
        "template": {
         "data": {
          "histogram2dcontour": [
           {
            "type": "histogram2dcontour",
            "colorbar": {
             "outlinewidth": 0,
             "ticks": ""
            },
            "colorscale": [
             [
              0.0,
              "#0d0887"
             ],
             [
              0.1111111111111111,
              "#46039f"
             ],
             [
              0.2222222222222222,
              "#7201a8"
             ],
             [
              0.3333333333333333,
              "#9c179e"
             ],
             [
              0.4444444444444444,
              "#bd3786"
             ],
             [
              0.5555555555555556,
              "#d8576b"
             ],
             [
              0.6666666666666666,
              "#ed7953"
             ],
             [
              0.7777777777777778,
              "#fb9f3a"
             ],
             [
              0.8888888888888888,
              "#fdca26"
             ],
             [
              1.0,
              "#f0f921"
             ]
            ]
           }
          ],
          "choropleth": [
           {
            "type": "choropleth",
            "colorbar": {
             "outlinewidth": 0,
             "ticks": ""
            }
           }
          ],
          "histogram2d": [
           {
            "type": "histogram2d",
            "colorbar": {
             "outlinewidth": 0,
             "ticks": ""
            },
            "colorscale": [
             [
              0.0,
              "#0d0887"
             ],
             [
              0.1111111111111111,
              "#46039f"
             ],
             [
              0.2222222222222222,
              "#7201a8"
             ],
             [
              0.3333333333333333,
              "#9c179e"
             ],
             [
              0.4444444444444444,
              "#bd3786"
             ],
             [
              0.5555555555555556,
              "#d8576b"
             ],
             [
              0.6666666666666666,
              "#ed7953"
             ],
             [
              0.7777777777777778,
              "#fb9f3a"
             ],
             [
              0.8888888888888888,
              "#fdca26"
             ],
             [
              1.0,
              "#f0f921"
             ]
            ]
           }
          ],
          "heatmap": [
           {
            "type": "heatmap",
            "colorbar": {
             "outlinewidth": 0,
             "ticks": ""
            },
            "colorscale": [
             [
              0.0,
              "#0d0887"
             ],
             [
              0.1111111111111111,
              "#46039f"
             ],
             [
              0.2222222222222222,
              "#7201a8"
             ],
             [
              0.3333333333333333,
              "#9c179e"
             ],
             [
              0.4444444444444444,
              "#bd3786"
             ],
             [
              0.5555555555555556,
              "#d8576b"
             ],
             [
              0.6666666666666666,
              "#ed7953"
             ],
             [
              0.7777777777777778,
              "#fb9f3a"
             ],
             [
              0.8888888888888888,
              "#fdca26"
             ],
             [
              1.0,
              "#f0f921"
             ]
            ]
           }
          ],
          "heatmapgl": [
           {
            "type": "heatmapgl",
            "colorbar": {
             "outlinewidth": 0,
             "ticks": ""
            },
            "colorscale": [
             [
              0.0,
              "#0d0887"
             ],
             [
              0.1111111111111111,
              "#46039f"
             ],
             [
              0.2222222222222222,
              "#7201a8"
             ],
             [
              0.3333333333333333,
              "#9c179e"
             ],
             [
              0.4444444444444444,
              "#bd3786"
             ],
             [
              0.5555555555555556,
              "#d8576b"
             ],
             [
              0.6666666666666666,
              "#ed7953"
             ],
             [
              0.7777777777777778,
              "#fb9f3a"
             ],
             [
              0.8888888888888888,
              "#fdca26"
             ],
             [
              1.0,
              "#f0f921"
             ]
            ]
           }
          ],
          "contourcarpet": [
           {
            "type": "contourcarpet",
            "colorbar": {
             "outlinewidth": 0,
             "ticks": ""
            }
           }
          ],
          "contour": [
           {
            "type": "contour",
            "colorbar": {
             "outlinewidth": 0,
             "ticks": ""
            },
            "colorscale": [
             [
              0.0,
              "#0d0887"
             ],
             [
              0.1111111111111111,
              "#46039f"
             ],
             [
              0.2222222222222222,
              "#7201a8"
             ],
             [
              0.3333333333333333,
              "#9c179e"
             ],
             [
              0.4444444444444444,
              "#bd3786"
             ],
             [
              0.5555555555555556,
              "#d8576b"
             ],
             [
              0.6666666666666666,
              "#ed7953"
             ],
             [
              0.7777777777777778,
              "#fb9f3a"
             ],
             [
              0.8888888888888888,
              "#fdca26"
             ],
             [
              1.0,
              "#f0f921"
             ]
            ]
           }
          ],
          "surface": [
           {
            "type": "surface",
            "colorbar": {
             "outlinewidth": 0,
             "ticks": ""
            },
            "colorscale": [
             [
              0.0,
              "#0d0887"
             ],
             [
              0.1111111111111111,
              "#46039f"
             ],
             [
              0.2222222222222222,
              "#7201a8"
             ],
             [
              0.3333333333333333,
              "#9c179e"
             ],
             [
              0.4444444444444444,
              "#bd3786"
             ],
             [
              0.5555555555555556,
              "#d8576b"
             ],
             [
              0.6666666666666666,
              "#ed7953"
             ],
             [
              0.7777777777777778,
              "#fb9f3a"
             ],
             [
              0.8888888888888888,
              "#fdca26"
             ],
             [
              1.0,
              "#f0f921"
             ]
            ]
           }
          ],
          "mesh3d": [
           {
            "type": "mesh3d",
            "colorbar": {
             "outlinewidth": 0,
             "ticks": ""
            }
           }
          ],
          "scatter": [
           {
            "marker": {
             "line": {
              "color": "#283442"
             }
            },
            "type": "scatter"
           }
          ],
          "parcoords": [
           {
            "type": "parcoords",
            "line": {
             "colorbar": {
              "outlinewidth": 0,
              "ticks": ""
             }
            }
           }
          ],
          "scatterpolargl": [
           {
            "type": "scatterpolargl",
            "marker": {
             "colorbar": {
              "outlinewidth": 0,
              "ticks": ""
             }
            }
           }
          ],
          "bar": [
           {
            "error_x": {
             "color": "#f2f5fa"
            },
            "error_y": {
             "color": "#f2f5fa"
            },
            "marker": {
             "line": {
              "color": "rgb(17,17,17)",
              "width": 0.5
             },
             "pattern": {
              "fillmode": "overlay",
              "size": 10,
              "solidity": 0.2
             }
            },
            "type": "bar"
           }
          ],
          "scattergeo": [
           {
            "type": "scattergeo",
            "marker": {
             "colorbar": {
              "outlinewidth": 0,
              "ticks": ""
             }
            }
           }
          ],
          "scatterpolar": [
           {
            "type": "scatterpolar",
            "marker": {
             "colorbar": {
              "outlinewidth": 0,
              "ticks": ""
             }
            }
           }
          ],
          "histogram": [
           {
            "marker": {
             "pattern": {
              "fillmode": "overlay",
              "size": 10,
              "solidity": 0.2
             }
            },
            "type": "histogram"
           }
          ],
          "scattergl": [
           {
            "marker": {
             "line": {
              "color": "#283442"
             }
            },
            "type": "scattergl"
           }
          ],
          "scatter3d": [
           {
            "type": "scatter3d",
            "line": {
             "colorbar": {
              "outlinewidth": 0,
              "ticks": ""
             }
            },
            "marker": {
             "colorbar": {
              "outlinewidth": 0,
              "ticks": ""
             }
            }
           }
          ],
          "scattermapbox": [
           {
            "type": "scattermapbox",
            "marker": {
             "colorbar": {
              "outlinewidth": 0,
              "ticks": ""
             }
            }
           }
          ],
          "scatterternary": [
           {
            "type": "scatterternary",
            "marker": {
             "colorbar": {
              "outlinewidth": 0,
              "ticks": ""
             }
            }
           }
          ],
          "scattercarpet": [
           {
            "type": "scattercarpet",
            "marker": {
             "colorbar": {
              "outlinewidth": 0,
              "ticks": ""
             }
            }
           }
          ],
          "carpet": [
           {
            "aaxis": {
             "endlinecolor": "#A2B1C6",
             "gridcolor": "#506784",
             "linecolor": "#506784",
             "minorgridcolor": "#506784",
             "startlinecolor": "#A2B1C6"
            },
            "baxis": {
             "endlinecolor": "#A2B1C6",
             "gridcolor": "#506784",
             "linecolor": "#506784",
             "minorgridcolor": "#506784",
             "startlinecolor": "#A2B1C6"
            },
            "type": "carpet"
           }
          ],
          "table": [
           {
            "cells": {
             "fill": {
              "color": "#506784"
             },
             "line": {
              "color": "rgb(17,17,17)"
             }
            },
            "header": {
             "fill": {
              "color": "#2a3f5f"
             },
             "line": {
              "color": "rgb(17,17,17)"
             }
            },
            "type": "table"
           }
          ],
          "barpolar": [
           {
            "marker": {
             "line": {
              "color": "rgb(17,17,17)",
              "width": 0.5
             },
             "pattern": {
              "fillmode": "overlay",
              "size": 10,
              "solidity": 0.2
             }
            },
            "type": "barpolar"
           }
          ],
          "pie": [
           {
            "automargin": true,
            "type": "pie"
           }
          ]
         },
         "layout": {
          "autotypenumbers": "strict",
          "colorway": [
           "#636efa",
           "#EF553B",
           "#00cc96",
           "#ab63fa",
           "#FFA15A",
           "#19d3f3",
           "#FF6692",
           "#B6E880",
           "#FF97FF",
           "#FECB52"
          ],
          "font": {
           "color": "#f2f5fa"
          },
          "hovermode": "closest",
          "hoverlabel": {
           "align": "left"
          },
          "paper_bgcolor": "rgb(17,17,17)",
          "plot_bgcolor": "rgb(17,17,17)",
          "polar": {
           "bgcolor": "rgb(17,17,17)",
           "angularaxis": {
            "gridcolor": "#506784",
            "linecolor": "#506784",
            "ticks": ""
           },
           "radialaxis": {
            "gridcolor": "#506784",
            "linecolor": "#506784",
            "ticks": ""
           }
          },
          "ternary": {
           "bgcolor": "rgb(17,17,17)",
           "aaxis": {
            "gridcolor": "#506784",
            "linecolor": "#506784",
            "ticks": ""
           },
           "baxis": {
            "gridcolor": "#506784",
            "linecolor": "#506784",
            "ticks": ""
           },
           "caxis": {
            "gridcolor": "#506784",
            "linecolor": "#506784",
            "ticks": ""
           }
          },
          "coloraxis": {
           "colorbar": {
            "outlinewidth": 0,
            "ticks": ""
           }
          },
          "colorscale": {
           "sequential": [
            [
             0.0,
             "#0d0887"
            ],
            [
             0.1111111111111111,
             "#46039f"
            ],
            [
             0.2222222222222222,
             "#7201a8"
            ],
            [
             0.3333333333333333,
             "#9c179e"
            ],
            [
             0.4444444444444444,
             "#bd3786"
            ],
            [
             0.5555555555555556,
             "#d8576b"
            ],
            [
             0.6666666666666666,
             "#ed7953"
            ],
            [
             0.7777777777777778,
             "#fb9f3a"
            ],
            [
             0.8888888888888888,
             "#fdca26"
            ],
            [
             1.0,
             "#f0f921"
            ]
           ],
           "sequentialminus": [
            [
             0.0,
             "#0d0887"
            ],
            [
             0.1111111111111111,
             "#46039f"
            ],
            [
             0.2222222222222222,
             "#7201a8"
            ],
            [
             0.3333333333333333,
             "#9c179e"
            ],
            [
             0.4444444444444444,
             "#bd3786"
            ],
            [
             0.5555555555555556,
             "#d8576b"
            ],
            [
             0.6666666666666666,
             "#ed7953"
            ],
            [
             0.7777777777777778,
             "#fb9f3a"
            ],
            [
             0.8888888888888888,
             "#fdca26"
            ],
            [
             1.0,
             "#f0f921"
            ]
           ],
           "diverging": [
            [
             0,
             "#8e0152"
            ],
            [
             0.1,
             "#c51b7d"
            ],
            [
             0.2,
             "#de77ae"
            ],
            [
             0.3,
             "#f1b6da"
            ],
            [
             0.4,
             "#fde0ef"
            ],
            [
             0.5,
             "#f7f7f7"
            ],
            [
             0.6,
             "#e6f5d0"
            ],
            [
             0.7,
             "#b8e186"
            ],
            [
             0.8,
             "#7fbc41"
            ],
            [
             0.9,
             "#4d9221"
            ],
            [
             1,
             "#276419"
            ]
           ]
          },
          "xaxis": {
           "gridcolor": "#283442",
           "linecolor": "#506784",
           "ticks": "",
           "title": {
            "standoff": 15
           },
           "zerolinecolor": "#283442",
           "automargin": true,
           "zerolinewidth": 2
          },
          "yaxis": {
           "gridcolor": "#283442",
           "linecolor": "#506784",
           "ticks": "",
           "title": {
            "standoff": 15
           },
           "zerolinecolor": "#283442",
           "automargin": true,
           "zerolinewidth": 2
          },
          "scene": {
           "xaxis": {
            "backgroundcolor": "rgb(17,17,17)",
            "gridcolor": "#506784",
            "linecolor": "#506784",
            "showbackground": true,
            "ticks": "",
            "zerolinecolor": "#C8D4E3",
            "gridwidth": 2
           },
           "yaxis": {
            "backgroundcolor": "rgb(17,17,17)",
            "gridcolor": "#506784",
            "linecolor": "#506784",
            "showbackground": true,
            "ticks": "",
            "zerolinecolor": "#C8D4E3",
            "gridwidth": 2
           },
           "zaxis": {
            "backgroundcolor": "rgb(17,17,17)",
            "gridcolor": "#506784",
            "linecolor": "#506784",
            "showbackground": true,
            "ticks": "",
            "zerolinecolor": "#C8D4E3",
            "gridwidth": 2
           }
          },
          "shapedefaults": {
           "line": {
            "color": "#f2f5fa"
           }
          },
          "annotationdefaults": {
           "arrowcolor": "#f2f5fa",
           "arrowhead": 0,
           "arrowwidth": 1
          },
          "geo": {
           "bgcolor": "rgb(17,17,17)",
           "landcolor": "rgb(17,17,17)",
           "subunitcolor": "#506784",
           "showland": true,
           "showlakes": true,
           "lakecolor": "rgb(17,17,17)"
          },
          "title": {
           "x": 0.05
          },
          "updatemenudefaults": {
           "bgcolor": "#506784",
           "borderwidth": 0
          },
          "sliderdefaults": {
           "bgcolor": "#C8D4E3",
           "borderwidth": 1,
           "bordercolor": "rgb(17,17,17)",
           "tickwidth": 0
          },
          "mapbox": {
           "style": "dark"
          }
         }
        },
        "geo": {
         "domain": {
          "x": [
           0.0,
           1.0
          ],
          "y": [
           0.0,
           1.0
          ]
         },
         "center": {}
        },
        "legend": {
         "tracegroupgap": 0
        },
        "title": {
         "text": "Meteorite Landings"
        }
       },
       "config": {
        "plotlyServerURL": "https://plot.ly"
       }
      },
      "text/html": [
       "<div>                            <div id=\"b1eaa1e6-7e8f-4bf9-8e90-ad7b13f5afea\" class=\"plotly-graph-div\" style=\"height:525px; width:100%;\"></div>            <script type=\"text/javascript\">                require([\"plotly\"], function(Plotly) {                    window.PLOTLYENV=window.PLOTLYENV || {};                                    if (document.getElementById(\"b1eaa1e6-7e8f-4bf9-8e90-ad7b13f5afea\")) {                    Plotly.newPlot(                        \"b1eaa1e6-7e8f-4bf9-8e90-ad7b13f5afea\",                        [{\"geo\":\"geo\",\"hovertemplate\":\"reclat=%{lat}\\u003cbr\\u003ereclong=%{lon}\\u003cextra\\u003e\\u003c\\u002fextra\\u003e\",\"lat\":[54.21667,45.26667,26.96667,60.4,44.55,53.9,5.0,54.81667,23.69639,44.9,-7.5,45.5,50.18333,47.86667,43.41667,43.25,57.35,11.49167,34.9,41.8,30.80833,44.05,35.5,55.43333,38.98333,14.0,48.9,55.78333,42.25,1.06667,-26.45,46.8,38.11667,43.39056,18.7,-36.61667,40.0,39.68333,57.78333,38.71667,64.02,36.06667,-19.13333,52.76667,-29.03333,45.3,52.55,50.61667,46.16,53.66667,31.61667,12.66667,31.16333,-25.73333,7.95,41.266667,-26.59278,38.93333,27.33333,47.58333,29.31667,38.7,44.86667,31.98457,27.5,20.6,-76.71667,66.9,55.14167,30.33333,47.0,48.06667,36.3,26.2,-35.3,39.6,-30.75,-10.11667,67.3,49.96667,29.87861,13.51667,31.15643,-22.61667,52.5,41.15333,37.5825,50.56667,29.8,3.98333,29.7725,-14.258,-27.46667,35.05,-33.5,76.13333,-45.28333,29.66667,35.16667,36.26667,30.4,23.08333,53.66667,36.5,51.05833,27.0,34.88333,34.3,28.7,37.43333,-30.33333,-30.61667,35.78333,-38.1,-25.33333,30.75,-80.06667,18.16667,19.03333,43.04639,34.58333,39.5,-27.5,null,23.28333,-44.53333,-33.11667,44.5,49.33333,44.33333,-9.11667,33.18333,-27.83333,-33.28333,49.55,52.46667,27.05,39.33333,-30.1,-29.45,-22.5,39.78333,-25.66667,36.93333,-30.78333,67.8,-29.58333,25.1,35.33333,54.23333,-23.0,null,null,null,null,null,null,0.0,null,null,null,0.0,0.0,null,-29.43333,42.33333,31.71667,34.46667,-30.0,41.2,37.46667,30.73333,49.86667,null,-19.86667,-18.58333,34.7,37.86667,34.11667,-30.03306,41.23333,-7.56667,43.75,-42.9,33.9,-18.5,35.98333,45.33333,39.61667,32.5225,34.71637,44.43333,-28.86667,22.01833,19.22778,-25.5,-30.38333,-23.9,35.6,41.98,35.16667,53.23333,32.4,38.76667,28.28333,-33.3,-31.38333,-24.56667,-19.58333,-22.36667,37.2,28.9,34.68333,-24.20333,53.0,-15.58333,27.95833,-6.6,19.65167,19.7,19.69362,-26.0,57.78117,38.81667,36.71667,30.41667,36.9,-30.55,-25.2,-33.61667,54.9,43.73333,34.1,49.0,-84.26223,40.5,39.93333,29.3,27.35,-29.41667,-27.0,38.08333,-28.83333,32.0,39.45889,38.51667,-39.85,32.91667,null,48.48333,-16.21667,19.21667,-26.21667,-16.26667,5.91667,24.5,41.76611,32.94889,20.51667,32.5,52.26667,32.4,62.9,42.5,22.56667,58.61667,37.96667,20.76333,-20.8,-14.66667,27.71667,47.45,34.91667,24.3,28.11667,34.25,19.56667,30.3,43.36667,29.47,null,48.7,31.85,3.81667,-25.75,21.49972,35.8,34.06667,-28.23333,45.36667,-19.3,36.3,17.53333,-14.25,24.2,-29.5,-32.1,26.06,31.65,22.81667,41.65,29.85861,24.23333,68.0,31.2,44.5,49.33333,44.33333,-9.11667,33.18333,-27.83333,-33.28333,49.55,52.46667,27.05,39.33333,-30.1,-29.45,-22.5,39.78333,-25.66667,36.93333,-30.78333,67.8,-29.58333,25.1,35.33333,54.23333,-23.0,null,null,null,null,null,null,0.0,null,null,null,0.0,0.0,null,-29.43333,42.33333,31.71667,34.46667,-30.0,41.2,37.46667,30.73333,49.86667,null,-19.86667,-18.58333,34.7,37.86667,34.11667,-30.03306,41.23333,-7.56667,43.75,38.08333,-28.83333,32.0,39.45889,38.51667,-39.85,32.91667,null,48.48333,-16.21667,19.21667,-26.21667,-16.26667,5.91667,24.5,41.76611,32.94889,20.51667,32.5,52.26667,32.4,62.9,42.5,22.56667,58.61667,37.96667,20.76333,-20.8,-14.66667,27.71667,47.45,34.91667,24.3,28.11667,34.25,19.56667,30.3,43.36667,29.47,null,48.7,31.85,3.81667,-25.75,21.49972,35.8,34.06667,-28.23333,45.36667,-19.3,36.3,17.53333,-14.25,24.2,-29.5,-32.1,26.06,31.65,22.81667,41.65,29.85861,24.23333,68.0,31.2],\"legendgroup\":\"\",\"lon\":[-113.0,10.15,-105.31667,25.8,131.63333,-112.88333,48.0,61.11667,-5.01472,-90.28333,111.5,119.03333,12.73333,7.35,-94.83333,-93.66667,37.61667,11.65833,-110.18333,-91.86667,109.5,126.16667,115.41667,53.25,141.61667,28.0,22.4,61.36667,59.2,34.16667,120.36667,24.03333,-1.16667,1.9625,4.8,145.2,-81.76667,-99.86667,55.26667,-7.06667,161.80833,-90.5,-51.66667,21.26667,-53.05,0.23333,46.55,36.6,134.65333,55.98333,113.46667,78.03333,-7.015,142.95,8.08333,-73.266667,120.32833,48.25,-9.33333,37.25,-100.96667,-96.1,95.41667,-5.51528,-12.5,44.88333,159.66667,164.2,48.2,-109.98333,88.0,35.08333,-82.88333,-107.83333,144.56667,-105.3,117.78333,-39.2,160.8,6.53333,-96.87222,122.45,-5.15262,135.2,30.33333,-96.955,-99.16361,114.9,-107.55,41.65,-99.875,-49.15917,-60.58333,-111.03333,26.0,-64.93333,-70.48333,-111.5,-98.64389,-85.98333,-107.8,-101.01667,88.0,-104.2,94.4,-105.1,-84.78333,-103.13472,-102.73333,-3.65,130.53333,130.41667,-83.25,145.3,116.18333,-104.25,156.38333,54.16667,54.51667,22.86389,-102.16667,-112.9,122.36667,null,-10.81667,-70.36667,-60.96667,-77.46667,19.48333,106.5,33.06667,-96.71667,150.33333,148.88333,4.86667,16.9,-105.43333,-100.06667,28.71667,119.71667,116.16667,-77.21667,118.1,-87.4,127.55,23.1,139.9,107.7,-109.5,35.15,-69.0,null,null,null,null,null,null,0.0,null,null,null,0.0,0.0,null,-50.91667,-113.7,-102.4,-115.23333,25.0,-103.68333,-118.0,-101.3,46.61167,null,-44.61667,-46.53333,117.0,-100.66667,-101.78333,-51.23,-103.3,110.83333,92.91667,-71.33333,-101.75,16.0,-101.9,-102.08333,-94.86667,-102.705,-114.22197,87.63333,-60.2,26.08778,56.14278,18.0,147.2,151.3,-105.8,-120.54167,-107.88333,27.33333,111.7,-105.51667,117.18333,117.66667,125.63333,133.16667,17.91667,135.76667,-101.35,-108.56667,-85.65,-68.80667,-112.0,-50.15,21.68333,110.73333,55.69,55.73333,56.65432,-69.25,47.67967,-84.6,-102.5,-99.4,-100.21667,29.41667,18.08333,24.0,91.8,6.78333,-97.0,21.0,161.41628,112.5,-99.6,105.3,108.5,-66.85,-70.0,-115.53333,21.13333,-95.0,-4.3775,-107.83333,-69.48333,-104.66667,null,3.58333,-50.3,-98.3,-48.6,-47.95,-73.0,-106.0,-8.58361,-81.865,56.66667,-101.0,15.55,-87.0,152.43333,114.0,48.3,98.93333,-90.31667,10.44167,-69.66667,-74.5,-0.25,101.47917,135.96667,106.1,0.53333,-96.68333,-99.56667,-97.7,-88.13333,-105.8,null,45.7,-110.96667,43.33333,-70.5,50.47222,-113.7,-98.91667,120.85,-122.58333,127.76667,120.48333,-97.35,132.01667,113.4,118.75,117.71667,118.01,-106.18333,-102.56667,-0.86667,-2.645,111.18333,128.3,112.5,-77.46667,19.48333,106.5,33.06667,-96.71667,150.33333,148.88333,4.86667,16.9,-105.43333,-100.06667,28.71667,119.71667,116.16667,-77.21667,118.1,-87.4,127.55,23.1,139.9,107.7,-109.5,35.15,-69.0,null,null,null,null,null,null,0.0,null,null,null,0.0,0.0,null,-50.91667,-113.7,-102.4,-115.23333,25.0,-103.68333,-118.0,-101.3,46.61167,null,-44.61667,-46.53333,117.0,-100.66667,-101.78333,-51.23,-103.3,110.83333,92.91667,-115.53333,21.13333,-95.0,-4.3775,-107.83333,-69.48333,-104.66667,null,3.58333,-50.3,-98.3,-48.6,-47.95,-73.0,-106.0,-8.58361,-81.865,56.66667,-101.0,15.55,-87.0,152.43333,114.0,48.3,98.93333,-90.31667,10.44167,-69.66667,-74.5,-0.25,101.47917,135.96667,106.1,0.53333,-96.68333,-99.56667,-97.7,-88.13333,-105.8,null,45.7,-110.96667,43.33333,-70.5,50.47222,-113.7,-98.91667,120.85,-122.58333,127.76667,120.48333,-97.35,132.01667,113.4,118.75,117.71667,118.01,-106.18333,-102.56667,-0.86667,-2.645,111.18333,128.3,112.5],\"marker\":{\"color\":\"#636efa\",\"symbol\":\"circle\"},\"mode\":\"markers\",\"name\":\"\",\"showlegend\":false,\"type\":\"scattergeo\"}],                        {\"template\":{\"data\":{\"histogram2dcontour\":[{\"type\":\"histogram2dcontour\",\"colorbar\":{\"outlinewidth\":0,\"ticks\":\"\"},\"colorscale\":[[0.0,\"#0d0887\"],[0.1111111111111111,\"#46039f\"],[0.2222222222222222,\"#7201a8\"],[0.3333333333333333,\"#9c179e\"],[0.4444444444444444,\"#bd3786\"],[0.5555555555555556,\"#d8576b\"],[0.6666666666666666,\"#ed7953\"],[0.7777777777777778,\"#fb9f3a\"],[0.8888888888888888,\"#fdca26\"],[1.0,\"#f0f921\"]]}],\"choropleth\":[{\"type\":\"choropleth\",\"colorbar\":{\"outlinewidth\":0,\"ticks\":\"\"}}],\"histogram2d\":[{\"type\":\"histogram2d\",\"colorbar\":{\"outlinewidth\":0,\"ticks\":\"\"},\"colorscale\":[[0.0,\"#0d0887\"],[0.1111111111111111,\"#46039f\"],[0.2222222222222222,\"#7201a8\"],[0.3333333333333333,\"#9c179e\"],[0.4444444444444444,\"#bd3786\"],[0.5555555555555556,\"#d8576b\"],[0.6666666666666666,\"#ed7953\"],[0.7777777777777778,\"#fb9f3a\"],[0.8888888888888888,\"#fdca26\"],[1.0,\"#f0f921\"]]}],\"heatmap\":[{\"type\":\"heatmap\",\"colorbar\":{\"outlinewidth\":0,\"ticks\":\"\"},\"colorscale\":[[0.0,\"#0d0887\"],[0.1111111111111111,\"#46039f\"],[0.2222222222222222,\"#7201a8\"],[0.3333333333333333,\"#9c179e\"],[0.4444444444444444,\"#bd3786\"],[0.5555555555555556,\"#d8576b\"],[0.6666666666666666,\"#ed7953\"],[0.7777777777777778,\"#fb9f3a\"],[0.8888888888888888,\"#fdca26\"],[1.0,\"#f0f921\"]]}],\"heatmapgl\":[{\"type\":\"heatmapgl\",\"colorbar\":{\"outlinewidth\":0,\"ticks\":\"\"},\"colorscale\":[[0.0,\"#0d0887\"],[0.1111111111111111,\"#46039f\"],[0.2222222222222222,\"#7201a8\"],[0.3333333333333333,\"#9c179e\"],[0.4444444444444444,\"#bd3786\"],[0.5555555555555556,\"#d8576b\"],[0.6666666666666666,\"#ed7953\"],[0.7777777777777778,\"#fb9f3a\"],[0.8888888888888888,\"#fdca26\"],[1.0,\"#f0f921\"]]}],\"contourcarpet\":[{\"type\":\"contourcarpet\",\"colorbar\":{\"outlinewidth\":0,\"ticks\":\"\"}}],\"contour\":[{\"type\":\"contour\",\"colorbar\":{\"outlinewidth\":0,\"ticks\":\"\"},\"colorscale\":[[0.0,\"#0d0887\"],[0.1111111111111111,\"#46039f\"],[0.2222222222222222,\"#7201a8\"],[0.3333333333333333,\"#9c179e\"],[0.4444444444444444,\"#bd3786\"],[0.5555555555555556,\"#d8576b\"],[0.6666666666666666,\"#ed7953\"],[0.7777777777777778,\"#fb9f3a\"],[0.8888888888888888,\"#fdca26\"],[1.0,\"#f0f921\"]]}],\"surface\":[{\"type\":\"surface\",\"colorbar\":{\"outlinewidth\":0,\"ticks\":\"\"},\"colorscale\":[[0.0,\"#0d0887\"],[0.1111111111111111,\"#46039f\"],[0.2222222222222222,\"#7201a8\"],[0.3333333333333333,\"#9c179e\"],[0.4444444444444444,\"#bd3786\"],[0.5555555555555556,\"#d8576b\"],[0.6666666666666666,\"#ed7953\"],[0.7777777777777778,\"#fb9f3a\"],[0.8888888888888888,\"#fdca26\"],[1.0,\"#f0f921\"]]}],\"mesh3d\":[{\"type\":\"mesh3d\",\"colorbar\":{\"outlinewidth\":0,\"ticks\":\"\"}}],\"scatter\":[{\"marker\":{\"line\":{\"color\":\"#283442\"}},\"type\":\"scatter\"}],\"parcoords\":[{\"type\":\"parcoords\",\"line\":{\"colorbar\":{\"outlinewidth\":0,\"ticks\":\"\"}}}],\"scatterpolargl\":[{\"type\":\"scatterpolargl\",\"marker\":{\"colorbar\":{\"outlinewidth\":0,\"ticks\":\"\"}}}],\"bar\":[{\"error_x\":{\"color\":\"#f2f5fa\"},\"error_y\":{\"color\":\"#f2f5fa\"},\"marker\":{\"line\":{\"color\":\"rgb(17,17,17)\",\"width\":0.5},\"pattern\":{\"fillmode\":\"overlay\",\"size\":10,\"solidity\":0.2}},\"type\":\"bar\"}],\"scattergeo\":[{\"type\":\"scattergeo\",\"marker\":{\"colorbar\":{\"outlinewidth\":0,\"ticks\":\"\"}}}],\"scatterpolar\":[{\"type\":\"scatterpolar\",\"marker\":{\"colorbar\":{\"outlinewidth\":0,\"ticks\":\"\"}}}],\"histogram\":[{\"marker\":{\"pattern\":{\"fillmode\":\"overlay\",\"size\":10,\"solidity\":0.2}},\"type\":\"histogram\"}],\"scattergl\":[{\"marker\":{\"line\":{\"color\":\"#283442\"}},\"type\":\"scattergl\"}],\"scatter3d\":[{\"type\":\"scatter3d\",\"line\":{\"colorbar\":{\"outlinewidth\":0,\"ticks\":\"\"}},\"marker\":{\"colorbar\":{\"outlinewidth\":0,\"ticks\":\"\"}}}],\"scattermapbox\":[{\"type\":\"scattermapbox\",\"marker\":{\"colorbar\":{\"outlinewidth\":0,\"ticks\":\"\"}}}],\"scatterternary\":[{\"type\":\"scatterternary\",\"marker\":{\"colorbar\":{\"outlinewidth\":0,\"ticks\":\"\"}}}],\"scattercarpet\":[{\"type\":\"scattercarpet\",\"marker\":{\"colorbar\":{\"outlinewidth\":0,\"ticks\":\"\"}}}],\"carpet\":[{\"aaxis\":{\"endlinecolor\":\"#A2B1C6\",\"gridcolor\":\"#506784\",\"linecolor\":\"#506784\",\"minorgridcolor\":\"#506784\",\"startlinecolor\":\"#A2B1C6\"},\"baxis\":{\"endlinecolor\":\"#A2B1C6\",\"gridcolor\":\"#506784\",\"linecolor\":\"#506784\",\"minorgridcolor\":\"#506784\",\"startlinecolor\":\"#A2B1C6\"},\"type\":\"carpet\"}],\"table\":[{\"cells\":{\"fill\":{\"color\":\"#506784\"},\"line\":{\"color\":\"rgb(17,17,17)\"}},\"header\":{\"fill\":{\"color\":\"#2a3f5f\"},\"line\":{\"color\":\"rgb(17,17,17)\"}},\"type\":\"table\"}],\"barpolar\":[{\"marker\":{\"line\":{\"color\":\"rgb(17,17,17)\",\"width\":0.5},\"pattern\":{\"fillmode\":\"overlay\",\"size\":10,\"solidity\":0.2}},\"type\":\"barpolar\"}],\"pie\":[{\"automargin\":true,\"type\":\"pie\"}]},\"layout\":{\"autotypenumbers\":\"strict\",\"colorway\":[\"#636efa\",\"#EF553B\",\"#00cc96\",\"#ab63fa\",\"#FFA15A\",\"#19d3f3\",\"#FF6692\",\"#B6E880\",\"#FF97FF\",\"#FECB52\"],\"font\":{\"color\":\"#f2f5fa\"},\"hovermode\":\"closest\",\"hoverlabel\":{\"align\":\"left\"},\"paper_bgcolor\":\"rgb(17,17,17)\",\"plot_bgcolor\":\"rgb(17,17,17)\",\"polar\":{\"bgcolor\":\"rgb(17,17,17)\",\"angularaxis\":{\"gridcolor\":\"#506784\",\"linecolor\":\"#506784\",\"ticks\":\"\"},\"radialaxis\":{\"gridcolor\":\"#506784\",\"linecolor\":\"#506784\",\"ticks\":\"\"}},\"ternary\":{\"bgcolor\":\"rgb(17,17,17)\",\"aaxis\":{\"gridcolor\":\"#506784\",\"linecolor\":\"#506784\",\"ticks\":\"\"},\"baxis\":{\"gridcolor\":\"#506784\",\"linecolor\":\"#506784\",\"ticks\":\"\"},\"caxis\":{\"gridcolor\":\"#506784\",\"linecolor\":\"#506784\",\"ticks\":\"\"}},\"coloraxis\":{\"colorbar\":{\"outlinewidth\":0,\"ticks\":\"\"}},\"colorscale\":{\"sequential\":[[0.0,\"#0d0887\"],[0.1111111111111111,\"#46039f\"],[0.2222222222222222,\"#7201a8\"],[0.3333333333333333,\"#9c179e\"],[0.4444444444444444,\"#bd3786\"],[0.5555555555555556,\"#d8576b\"],[0.6666666666666666,\"#ed7953\"],[0.7777777777777778,\"#fb9f3a\"],[0.8888888888888888,\"#fdca26\"],[1.0,\"#f0f921\"]],\"sequentialminus\":[[0.0,\"#0d0887\"],[0.1111111111111111,\"#46039f\"],[0.2222222222222222,\"#7201a8\"],[0.3333333333333333,\"#9c179e\"],[0.4444444444444444,\"#bd3786\"],[0.5555555555555556,\"#d8576b\"],[0.6666666666666666,\"#ed7953\"],[0.7777777777777778,\"#fb9f3a\"],[0.8888888888888888,\"#fdca26\"],[1.0,\"#f0f921\"]],\"diverging\":[[0,\"#8e0152\"],[0.1,\"#c51b7d\"],[0.2,\"#de77ae\"],[0.3,\"#f1b6da\"],[0.4,\"#fde0ef\"],[0.5,\"#f7f7f7\"],[0.6,\"#e6f5d0\"],[0.7,\"#b8e186\"],[0.8,\"#7fbc41\"],[0.9,\"#4d9221\"],[1,\"#276419\"]]},\"xaxis\":{\"gridcolor\":\"#283442\",\"linecolor\":\"#506784\",\"ticks\":\"\",\"title\":{\"standoff\":15},\"zerolinecolor\":\"#283442\",\"automargin\":true,\"zerolinewidth\":2},\"yaxis\":{\"gridcolor\":\"#283442\",\"linecolor\":\"#506784\",\"ticks\":\"\",\"title\":{\"standoff\":15},\"zerolinecolor\":\"#283442\",\"automargin\":true,\"zerolinewidth\":2},\"scene\":{\"xaxis\":{\"backgroundcolor\":\"rgb(17,17,17)\",\"gridcolor\":\"#506784\",\"linecolor\":\"#506784\",\"showbackground\":true,\"ticks\":\"\",\"zerolinecolor\":\"#C8D4E3\",\"gridwidth\":2},\"yaxis\":{\"backgroundcolor\":\"rgb(17,17,17)\",\"gridcolor\":\"#506784\",\"linecolor\":\"#506784\",\"showbackground\":true,\"ticks\":\"\",\"zerolinecolor\":\"#C8D4E3\",\"gridwidth\":2},\"zaxis\":{\"backgroundcolor\":\"rgb(17,17,17)\",\"gridcolor\":\"#506784\",\"linecolor\":\"#506784\",\"showbackground\":true,\"ticks\":\"\",\"zerolinecolor\":\"#C8D4E3\",\"gridwidth\":2}},\"shapedefaults\":{\"line\":{\"color\":\"#f2f5fa\"}},\"annotationdefaults\":{\"arrowcolor\":\"#f2f5fa\",\"arrowhead\":0,\"arrowwidth\":1},\"geo\":{\"bgcolor\":\"rgb(17,17,17)\",\"landcolor\":\"rgb(17,17,17)\",\"subunitcolor\":\"#506784\",\"showland\":true,\"showlakes\":true,\"lakecolor\":\"rgb(17,17,17)\"},\"title\":{\"x\":0.05},\"updatemenudefaults\":{\"bgcolor\":\"#506784\",\"borderwidth\":0},\"sliderdefaults\":{\"bgcolor\":\"#C8D4E3\",\"borderwidth\":1,\"bordercolor\":\"rgb(17,17,17)\",\"tickwidth\":0},\"mapbox\":{\"style\":\"dark\"}}},\"geo\":{\"domain\":{\"x\":[0.0,1.0],\"y\":[0.0,1.0]},\"center\":{}},\"legend\":{\"tracegroupgap\":0},\"title\":{\"text\":\"Meteorite Landings\"}},                        {\"responsive\": true}                    ).then(function(){\n",
       "                            \n",
       "var gd = document.getElementById('b1eaa1e6-7e8f-4bf9-8e90-ad7b13f5afea');\n",
       "var x = new MutationObserver(function (mutations, observer) {{\n",
       "        var display = window.getComputedStyle(gd).display;\n",
       "        if (!display || display === 'none') {{\n",
       "            console.log([gd, 'removed!']);\n",
       "            Plotly.purge(gd);\n",
       "            observer.disconnect();\n",
       "        }}\n",
       "}});\n",
       "\n",
       "// Listen for the removal of the full notebook cells\n",
       "var notebookContainer = gd.closest('#notebook-container');\n",
       "if (notebookContainer) {{\n",
       "    x.observe(notebookContainer, {childList: true});\n",
       "}}\n",
       "\n",
       "// Listen for the clearing of the current output cell\n",
       "var outputEl = gd.closest('.output');\n",
       "if (outputEl) {{\n",
       "    x.observe(outputEl, {childList: true});\n",
       "}}\n",
       "\n",
       "                        })                };                });            </script>        </div>"
      ]
     },
     "metadata": {},
     "output_type": "display_data"
    }
   ],
   "execution_count": 40
  },
  {
   "cell_type": "markdown",
   "id": "7b954379-a25d-4fa3-b92e-df9d339467af",
   "metadata": {},
   "source": [
    "Let's improve by adding a template and coloring by the \"fall\" observation. We can also include the following:\n",
    "\n",
    "- `size` to scale the points by the mass of the meteorite.\n",
    "- `hover_data` to provide additional information on the meteorite upon hover."
   ]
  },
  {
   "cell_type": "code",
   "id": "bf7a1cb2-8214-45a8-ac89-61c1ed1b3a72",
   "metadata": {
    "ExecuteTime": {
     "end_time": "2024-11-25T17:14:59.934098Z",
     "start_time": "2024-11-25T17:14:59.847114Z"
    }
   },
   "source": [
    "# Initialize a geographical scatter plot\n",
    "fig = px.scatter_geo(heavy,\n",
    "                     lat=\"reclat\",\n",
    "                     lon=\"reclong\",\n",
    "                     title=\"Meteorite Landings\",\n",
    "                     color=\"fall\",\n",
    "                     template=\"plotly_dark\",\n",
    "                     size=\"mass\",\n",
    "                     hover_data=[\"name\", \"year\"]\n",
    "                    )\n",
    "\n",
    "# Show the plot\n",
    "fig.show()"
   ],
   "outputs": [
    {
     "data": {
      "application/vnd.plotly.v1+json": {
       "data": [
        {
         "customdata": [
          [
           "Abee",
           1952.0
          ],
          [
           "Alfianello",
           1883.0
          ],
          [
           "Allende",
           1969.0
          ],
          [
           "Bjurböle",
           1899.0
          ],
          [
           "Boguslavka",
           1916.0
          ],
          [
           "Bruderheim",
           1960.0
          ],
          [
           "Bur-Gheluai",
           1919.0
          ],
          [
           "Chelyabinsk",
           2013.0
          ],
          [
           "Chergach ",
           2007.0
          ],
          [
           "Colby (Wisconsin)",
           1917.0
          ],
          [
           "Djati-Pengilon",
           1884.0
          ],
          [
           "Dong Ujimqin Qi",
           1995.0
          ],
          [
           "Elbogen",
           1399.0
          ],
          [
           "Ensisheim",
           1491.0
          ],
          [
           "Estherville",
           1879.0
          ],
          [
           "Forest City",
           1890.0
          ],
          [
           "Glasatovo",
           1918.0
          ],
          [
           "Gujba",
           1984.0
          ],
          [
           "Holbrook",
           1912.0
          ],
          [
           "Homestead",
           1875.0
          ],
          [
           "Jianshi",
           1890.0
          ],
          [
           "Jilin",
           1976.0
          ],
          [
           "Juancheng",
           1997.0
          ],
          [
           "Kainsaz",
           1937.0
          ],
          [
           "Kesen",
           1850.0
          ],
          [
           "Kidairat",
           1983.0
          ],
          [
           "Knyahinya",
           1866.0
          ],
          [
           "Kunashak",
           1949.0
          ],
          [
           "Kunya-Urgench",
           1998.0
          ],
          [
           "Mbale",
           1992.0
          ],
          [
           "Millbillillie",
           1960.0
          ],
          [
           "Mocs",
           1882.0
          ],
          [
           "Molina",
           1858.0
          ],
          [
           "Montferré",
           1923.0
          ],
          [
           "Mount Tazerzait",
           1991.0
          ],
          [
           "Murchison",
           1969.0
          ],
          [
           "New Concord",
           1860.0
          ],
          [
           "Norton County",
           1948.0
          ],
          [
           "Ochansk",
           1887.0
          ],
          [
           "Olivenza",
           1924.0
          ],
          [
           "Omolon",
           1981.0
          ],
          [
           "Paragould",
           1930.0
          ],
          [
           "Paranaiba",
           1956.0
          ],
          [
           "Pultusk",
           1868.0
          ],
          [
           "Putinga",
           1937.0
          ],
          [
           "Saint-Séverin",
           1966.0
          ],
          [
           "Saratov",
           1918.0
          ],
          [
           "Sevrukovo",
           1874.0
          ],
          [
           "Sikhote-Alin",
           1947.0
          ],
          [
           "Sterlitamak",
           1990.0
          ],
          [
           "Suizhou",
           1986.0
          ],
          [
           "Sulagiri",
           2008.0
          ],
          [
           "Tamdakht",
           2008.0
          ],
          [
           "Tenham",
           1879.0
          ],
          [
           "Udei Station",
           1927.0
          ],
          [
           "Weston",
           1807.0
          ],
          [
           "Wiluna",
           1967.0
          ],
          [
           "Yardymly",
           1959.0
          ],
          [
           "Zag",
           1998.0
          ],
          [
           "Zhovtnevyi",
           1938.0
          ]
         ],
         "geo": "geo",
         "hovertemplate": "fall=Fell<br>mass=%{marker.size}<br>reclat=%{lat}<br>reclong=%{lon}<br>name=%{customdata[0]}<br>year=%{customdata[1]}<extra></extra>",
         "lat": [
          54.21667,
          45.26667,
          26.96667,
          60.4,
          44.55,
          53.9,
          5.0,
          54.81667,
          23.69639,
          44.9,
          -7.5,
          45.5,
          50.18333,
          47.86667,
          43.41667,
          43.25,
          57.35,
          11.49167,
          34.9,
          41.8,
          30.80833,
          44.05,
          35.5,
          55.43333,
          38.98333,
          14.0,
          48.9,
          55.78333,
          42.25,
          1.06667,
          -26.45,
          46.8,
          38.11667,
          43.39056,
          18.7,
          -36.61667,
          40.0,
          39.68333,
          57.78333,
          38.71667,
          64.02,
          36.06667,
          -19.13333,
          52.76667,
          -29.03333,
          45.3,
          52.55,
          50.61667,
          46.16,
          53.66667,
          31.61667,
          12.66667,
          31.16333,
          -25.73333,
          7.95,
          41.266667,
          -26.59278,
          38.93333,
          27.33333,
          47.58333
         ],
         "legendgroup": "Fell",
         "lon": [
          -113.0,
          10.15,
          -105.31667,
          25.8,
          131.63333,
          -112.88333,
          48.0,
          61.11667,
          -5.01472,
          -90.28333,
          111.5,
          119.03333,
          12.73333,
          7.35,
          -94.83333,
          -93.66667,
          37.61667,
          11.65833,
          -110.18333,
          -91.86667,
          109.5,
          126.16667,
          115.41667,
          53.25,
          141.61667,
          28.0,
          22.4,
          61.36667,
          59.2,
          34.16667,
          120.36667,
          24.03333,
          -1.16667,
          1.9625,
          4.8,
          145.2,
          -81.76667,
          -99.86667,
          55.26667,
          -7.06667,
          161.80833,
          -90.5,
          -51.66667,
          21.26667,
          -53.05,
          0.23333,
          46.55,
          36.6,
          134.65333,
          55.98333,
          113.46667,
          78.03333,
          -7.015,
          142.95,
          8.08333,
          -73.266667,
          120.32833,
          48.25,
          -9.33333,
          37.25
         ],
         "marker": {
          "color": "#636efa",
          "size": [
           107000,
           228000,
           2000000,
           330000,
           256000,
           303000,
           120000,
           100000,
           100000,
           104000,
           166000,
           128800,
           107000,
           127000,
           320000,
           152000,
           152000,
           100000,
           220000,
           230000,
           600000,
           4000000,
           100000,
           200000,
           135000,
           100000,
           500000,
           200000,
           1100000,
           150000,
           330000,
           300000,
           144000,
           149000,
           110000,
           100000,
           230000,
           1100000,
           500000,
           150000,
           250000,
           408000,
           100000,
           250000,
           300000,
           271000,
           200000,
           101000,
           23000000,
           325000,
           260000,
           110000,
           100000,
           160000,
           103000,
           150000,
           150000,
           150200,
           175000,
           107000
          ],
          "sizemode": "area",
          "sizeref": 150000.0,
          "symbol": "circle"
         },
         "mode": "markers",
         "name": "Fell",
         "showlegend": true,
         "type": "scattergeo"
        },
        {
         "customdata": [
          [
           "Acuña",
           1981.0
          ],
          [
           "Admire",
           1881.0
          ],
          [
           "Adzhi-Bogdo (iron)",
           1952.0
          ],
          [
           "Agoudal",
           2000.0
          ],
          [
           "Al Haggounia 001",
           2006.0
          ],
          [
           "Alkhamasin",
           1973.0
          ],
          [
           "Allan Hills A76009",
           1976.0
          ],
          [
           "Anyujskij",
           1981.0
          ],
          [
           "Araslanovo",
           1973.0
          ],
          [
           "Arispe",
           1896.0
          ],
          [
           "Armanty",
           1898.0
          ],
          [
           "Augustinovka",
           1890.0
          ],
          [
           "Babb's Mill (Blake's Iron)",
           1876.0
          ],
          [
           "Bacubirito",
           1863.0
          ],
          [
           "Barratta",
           1845.0
          ],
          [
           "Bear Creek",
           1866.0
          ],
          [
           "Bencubbin",
           1930.0
          ],
          [
           "Bendegó",
           1784.0
          ],
          [
           "Bilibino",
           1981.0
          ],
          [
           "Bitburg",
           1805.0
          ],
          [
           "Bluff (a)",
           1878.0
          ],
          [
           "Bondoc",
           1956.0
          ],
          [
           "Bou Azarif",
           2010.0
          ],
          [
           "Boxhole",
           1937.0
          ],
          [
           "Brahin",
           1810.0
          ],
          [
           "Brainard",
           1978.0
          ],
          [
           "Brenham",
           1882.0
          ],
          [
           "Budulan",
           1962.0
          ],
          [
           "Buenaventura",
           1969.0
          ],
          [
           "Bur-Abor",
           1997.0
          ],
          [
           "Camp Wood",
           null
          ],
          [
           "Campinorte",
           1992.0
          ],
          [
           "Campo del Cielo",
           1575.0
          ],
          [
           "Canyon Diablo",
           1891.0
          ],
          [
           "Cape of Good Hope",
           1793.0
          ],
          [
           "Cape York",
           1818.0
          ],
          [
           "Caperr",
           1869.0
          ],
          [
           "Carbo",
           1923.0
          ],
          [
           "Carnegie",
           1963.0
          ],
          [
           "Carthage",
           1840.0
          ],
          [
           "Casas Grandes",
           1867.0
          ],
          [
           "Charcas",
           1804.0
          ],
          [
           "Chebankol",
           1938.0
          ],
          [
           "Chico",
           1954.0
          ],
          [
           "Chinga",
           1913.0
          ],
          [
           "Chupaderos",
           1852.0
          ],
          [
           "Cleveland",
           1860.0
          ],
          [
           "Clovis (no. 1)",
           1961.0
          ],
          [
           "Coahuila",
           1837.0
          ],
          [
           "Colomera",
           1912.0
          ],
          [
           "Cook 001",
           1989.0
          ],
          [
           "Cook 007",
           1989.0
          ],
          [
           "Cosby's Creek",
           1837.0
          ],
          [
           "Cranbourne",
           1854.0
          ],
          [
           "Dalgety Downs",
           1941.0
          ],
          [
           "Davis Mountains",
           1903.0
          ],
          [
           "Derrick Peak A78009",
           1978.0
          ],
          [
           "Dhofar 005",
           2000.0
          ],
          [
           "Dhofar 020",
           2000.0
          ],
          [
           "Dimitrovgrad",
           1949.0
          ],
          [
           "Dimmitt",
           1942.0
          ],
          [
           "Drum Mountains",
           1944.0
          ],
          [
           "Duketon",
           1948.0
          ],
          [
           "Durango",
           1804.0
          ],
          [
           "El Hammami",
           1997.0
          ],
          [
           "El Sampal",
           1973.0
          ],
          [
           "El Timbu",
           1942.0
          ],
          [
           "Madoc",
           1854.0
          ],
          [
           "Magura",
           1840.0
          ],
          [
           "Manlai",
           1954.0
          ],
          [
           "Mbosi",
           1930.0
          ],
          [
           "McKinney",
           1870.0
          ],
          [
           "Miles",
           1992.0
          ],
          [
           "Molong",
           1912.0
          ],
          [
           "Mont Dieu",
           1994.0
          ],
          [
           "Morasko",
           1914.0
          ],
          [
           "Morito",
           1600.0
          ],
          [
           "Morland",
           1890.0
          ],
          [
           "Moshesh",
           null
          ],
          [
           "Mount Dooling",
           1909.0
          ],
          [
           "Mount Edith",
           1913.0
          ],
          [
           "Mount Joy",
           1887.0
          ],
          [
           "Mount Padbury",
           1964.0
          ],
          [
           "Mount Vernon",
           1868.0
          ],
          [
           "Mundrabilla",
           1911.0
          ],
          [
           "Muonionalusta",
           1906.0
          ],
          [
           "Murnpeowie",
           1909.0
          ],
          [
           "Nantan",
           1958.0
          ],
          [
           "Navajo",
           1921.0
          ],
          [
           "Netschaëvo",
           1846.0
          ],
          [
           "North Chile",
           1875.0
          ],
          [
           "Northwest Africa 1172",
           2000.0
          ],
          [
           "Northwest Africa 1430",
           2001.0
          ],
          [
           "Northwest Africa 2239",
           2002.0
          ],
          [
           "Northwest Africa 2924",
           2005.0
          ],
          [
           "Northwest Africa 2965",
           2005.0
          ],
          [
           "Northwest Africa 4037",
           2005.0
          ],
          [
           "Northwest Africa 4502",
           2005.0
          ],
          [
           "Northwest Africa 4528",
           2006.0
          ],
          [
           "Northwest Africa 4544",
           2006.0
          ],
          [
           "Northwest Africa 4561",
           2006.0
          ],
          [
           "Northwest Africa 5940",
           2009.0
          ],
          [
           "Northwest Africa 6947",
           2011.0
          ],
          [
           "Northwest Africa 869",
           2000.0
          ],
          [
           "Nova Petropolis",
           1967.0
          ],
          [
           "Oakley (iron)",
           1926.0
          ],
          [
           "Odessa (iron)",
           1922.0
          ],
          [
           "Old Woman",
           1976.0
          ],
          [
           "Orange River (iron)",
           1855.0
          ],
          [
           "Owasco",
           1984.0
          ],
          [
           "Owens Valley",
           1913.0
          ],
          [
           "Ozona",
           1929.0
          ],
          [
           "Pallasovka",
           1990.0
          ],
          [
           "Paneth's Iron",
           1873.0
          ],
          [
           "Para de Minas",
           1934.0
          ],
          [
           "Patos de Minas (octahedrite)",
           1925.0
          ],
          [
           "Pei Xian",
           1917.0
          ],
          [
           "Pierceville (iron)",
           1917.0
          ],
          [
           "Plainview (1917)",
           1917.0
          ],
          [
           "Porto Alegre",
           2005.0
          ],
          [
           "Potter",
           1941.0
          ],
          [
           "Prambanan",
           1797.0
          ],
          [
           "Qijiaojing",
           2003.0
          ],
          [
           "Esquel",
           1951.0
          ],
          [
           "Estacado",
           1883.0
          ],
          [
           "Etosha",
           1970.0
          ],
          [
           "Etter",
           1965.0
          ],
          [
           "Faith",
           1952.0
          ],
          [
           "Faucett",
           1966.0
          ],
          [
           "Florey",
           1978.0
          ],
          [
           "Franconia",
           2002.0
          ],
          [
           "Fukang",
           2000.0
          ],
          [
           "Garabato",
           1995.0
          ],
          [
           "Gebel Kamil",
           2009.0
          ],
          [
           "Ghubara",
           1954.0
          ],
          [
           "Gibeon",
           1836.0
          ],
          [
           "Gilgoin",
           1889.0
          ],
          [
           "Gladstone (iron)",
           1915.0
          ],
          [
           "Glorieta Mountain",
           1884.0
          ],
          [
           "Goose Lake",
           1938.0
          ],
          [
           "Grant",
           1929.0
          ],
          [
           "Gressk",
           1955.0
          ],
          [
           "Guanghua",
           1932.0
          ],
          [
           "Guffey",
           1907.0
          ],
          [
           "Guixi",
           null
          ],
          [
           "Gundaring",
           1937.0
          ],
          [
           "Haig",
           1951.0
          ],
          [
           "Henbury",
           1931.0
          ],
          [
           "Hoba",
           1920.0
          ],
          [
           "Huckitta",
           1924.0
          ],
          [
           "Hugoton",
           1927.0
          ],
          [
           "Huizopa",
           1907.0
          ],
          [
           "Ider",
           1957.0
          ],
          [
           "Imilac",
           1822.0
          ],
          [
           "Iron Creek",
           1869.0
          ],
          [
           "Itapuranga",
           null
          ],
          [
           "Jalu",
           2000.0
          ],
          [
           "Jepara",
           2008.0
          ],
          [
           "Jiddat al Harasis 055",
           2004.0
          ],
          [
           "Jiddat al Harasis 073",
           2002.0
          ],
          [
           "Jiddat al Harasis 091",
           2002.0
          ],
          [
           "Juncal",
           1866.0
          ],
          [
           "Karavannoe",
           null
          ],
          [
           "Kenton County",
           1889.0
          ],
          [
           "Keyes",
           1939.0
          ],
          [
           "Kimble County",
           1918.0
          ],
          [
           "Knowles",
           1903.0
          ],
          [
           "Kokstad",
           1884.0
          ],
          [
           "Korra Korrabes",
           1996.0
          ],
          [
           "Kouga Mountains",
           1903.0
          ],
          [
           "Krasnojarsk",
           1749.0
          ],
          [
           "La Caille",
           1828.0
          ],
          [
           "Lake Murray",
           1933.0
          ],
          [
           "Lenarto",
           1814.0
          ],
          [
           "Lewis Cliff 85320",
           1985.0
          ],
          [
           "Liangcheng",
           1959.0
          ],
          [
           "Long Island",
           1891.0
          ],
          [
           "Longchang",
           1781.0
          ],
          [
           "Longtian",
           1991.0
          ],
          [
           "Los Sauces",
           1937.0
          ],
          [
           "Lutschaunig's Stone",
           1861.0
          ],
          [
           "Quinn Canyon",
           1908.0
          ],
          [
           "Rateldraai",
           1909.0
          ],
          [
           "Red River",
           1808.0
          ],
          [
           "Retuerta del Bullaque",
           1980.0
          ],
          [
           "Rifle",
           1948.0
          ],
          [
           "Rio Limay",
           1995.0
          ],
          [
           "Sacramento Mountains",
           1890.0
          ],
          [
           "Sahara 02500",
           2001.0
          ],
          [
           "Saint-Aubin",
           1968.0
          ],
          [
           "Sanclerlandia",
           1971.0
          ],
          [
           "Santa Apolonia",
           1872.0
          ],
          [
           "Santa Catharina",
           1875.0
          ],
          [
           "Santa Luzia",
           1921.0
          ],
          [
           "Santa Rosa",
           1810.0
          ],
          [
           "Santiago Papasquiero",
           1958.0
          ],
          [
           "São Julião de Moreira",
           1883.0
          ],
          [
           "Sardis",
           1940.0
          ],
          [
           "Sayh al Uhaymir 001",
           2000.0
          ],
          [
           "Scurry",
           1937.0
          ],
          [
           "Seeläsgen",
           1847.0
          ],
          [
           "Selma",
           1906.0
          ],
          [
           "Seymchan",
           1967.0
          ],
          [
           "Shangdu",
           1957.0
          ],
          [
           "South Dahna",
           1957.0
          ],
          [
           "Ssyromolotovo",
           1873.0
          ],
          [
           "St. Genevieve County",
           1888.0
          ],
          [
           "Tafassasset",
           2000.0
          ],
          [
           "Tamarugal",
           1903.0
          ],
          [
           "Tambo Quemado",
           1950.0
          ],
          [
           "Tamentit",
           1864.0
          ],
          [
           "Tamir-Tsetserleg",
           1956.0
          ],
          [
           "Tanokami Mountain",
           1885.0
          ],
          [
           "Tianlin",
           1956.0
          ],
          [
           "Tiberrhamine",
           1967.0
          ],
          [
           "Tishomingo",
           1965.0
          ],
          [
           "Toluca",
           1776.0
          ],
          [
           "Travis County (a)",
           1889.0
          ],
          [
           "Trenton",
           1858.0
          ],
          [
           "Tres Castillos",
           1992.0
          ],
          [
           "Tres Estacas",
           1968.0
          ],
          [
           "Tsarev",
           1968.0
          ],
          [
           "Tucson",
           1850.0
          ],
          [
           "Uegit",
           1921.0
          ],
          [
           "Vaca Muerta",
           1861.0
          ],
          [
           "Wabar",
           1863.0
          ],
          [
           "Wallapai",
           1927.0
          ],
          [
           "Wichita County",
           1836.0
          ],
          [
           "Wildara",
           1968.0
          ],
          [
           "Willamette",
           1902.0
          ],
          [
           "Wolf Creek",
           1947.0
          ],
          [
           "Xifu",
           2004.0
          ],
          [
           "Yanhuitlan",
           1825.0
          ],
          [
           "Yenberrie",
           1918.0
          ],
          [
           "Yingde",
           1964.0
          ],
          [
           "Youanmi",
           1917.0
          ],
          [
           "Youndegin",
           1884.0
          ],
          [
           "Youxi",
           2006.0
          ],
          [
           "Ysleta",
           1914.0
          ],
          [
           "Zacatecas (1792)",
           1792.0
          ],
          [
           "Zaragoza",
           null
          ],
          [
           "Zerhamra",
           1967.0
          ],
          [
           "Zhaoping",
           1983.0
          ],
          [
           "Zhigansk",
           1966.0
          ],
          [
           "Zhongxiang",
           1981.0
          ],
          [
           "Madoc",
           1854.0
          ],
          [
           "Magura",
           1840.0
          ],
          [
           "Manlai",
           1954.0
          ],
          [
           "Mbosi",
           1930.0
          ],
          [
           "McKinney",
           1870.0
          ],
          [
           "Miles",
           1992.0
          ],
          [
           "Molong",
           1912.0
          ],
          [
           "Mont Dieu",
           1994.0
          ],
          [
           "Morasko",
           1914.0
          ],
          [
           "Morito",
           1600.0
          ],
          [
           "Morland",
           1890.0
          ],
          [
           "Moshesh",
           null
          ],
          [
           "Mount Dooling",
           1909.0
          ],
          [
           "Mount Edith",
           1913.0
          ],
          [
           "Mount Joy",
           1887.0
          ],
          [
           "Mount Padbury",
           1964.0
          ],
          [
           "Mount Vernon",
           1868.0
          ],
          [
           "Mundrabilla",
           1911.0
          ],
          [
           "Muonionalusta",
           1906.0
          ],
          [
           "Murnpeowie",
           1909.0
          ],
          [
           "Nantan",
           1958.0
          ],
          [
           "Navajo",
           1921.0
          ],
          [
           "Netschaëvo",
           1846.0
          ],
          [
           "North Chile",
           1875.0
          ],
          [
           "Northwest Africa 1172",
           2000.0
          ],
          [
           "Northwest Africa 1430",
           2001.0
          ],
          [
           "Northwest Africa 2239",
           2002.0
          ],
          [
           "Northwest Africa 2924",
           2005.0
          ],
          [
           "Northwest Africa 2965",
           2005.0
          ],
          [
           "Northwest Africa 4037",
           2005.0
          ],
          [
           "Northwest Africa 4502",
           2005.0
          ],
          [
           "Northwest Africa 4528",
           2006.0
          ],
          [
           "Northwest Africa 4544",
           2006.0
          ],
          [
           "Northwest Africa 4561",
           2006.0
          ],
          [
           "Northwest Africa 5940",
           2009.0
          ],
          [
           "Northwest Africa 6947",
           2011.0
          ],
          [
           "Northwest Africa 869",
           2000.0
          ],
          [
           "Nova Petropolis",
           1967.0
          ],
          [
           "Oakley (iron)",
           1926.0
          ],
          [
           "Odessa (iron)",
           1922.0
          ],
          [
           "Old Woman",
           1976.0
          ],
          [
           "Orange River (iron)",
           1855.0
          ],
          [
           "Owasco",
           1984.0
          ],
          [
           "Owens Valley",
           1913.0
          ],
          [
           "Ozona",
           1929.0
          ],
          [
           "Pallasovka",
           1990.0
          ],
          [
           "Paneth's Iron",
           1873.0
          ],
          [
           "Para de Minas",
           1934.0
          ],
          [
           "Patos de Minas (octahedrite)",
           1925.0
          ],
          [
           "Pei Xian",
           1917.0
          ],
          [
           "Pierceville (iron)",
           1917.0
          ],
          [
           "Plainview (1917)",
           1917.0
          ],
          [
           "Porto Alegre",
           2005.0
          ],
          [
           "Potter",
           1941.0
          ],
          [
           "Prambanan",
           1797.0
          ],
          [
           "Qijiaojing",
           2003.0
          ],
          [
           "Quinn Canyon",
           1908.0
          ],
          [
           "Rateldraai",
           1909.0
          ],
          [
           "Red River",
           1808.0
          ],
          [
           "Retuerta del Bullaque",
           1980.0
          ],
          [
           "Rifle",
           1948.0
          ],
          [
           "Rio Limay",
           1995.0
          ],
          [
           "Sacramento Mountains",
           1890.0
          ],
          [
           "Sahara 02500",
           2001.0
          ],
          [
           "Saint-Aubin",
           1968.0
          ],
          [
           "Sanclerlandia",
           1971.0
          ],
          [
           "Santa Apolonia",
           1872.0
          ],
          [
           "Santa Catharina",
           1875.0
          ],
          [
           "Santa Luzia",
           1921.0
          ],
          [
           "Santa Rosa",
           1810.0
          ],
          [
           "Santiago Papasquiero",
           1958.0
          ],
          [
           "São Julião de Moreira",
           1883.0
          ],
          [
           "Sardis",
           1940.0
          ],
          [
           "Sayh al Uhaymir 001",
           2000.0
          ],
          [
           "Scurry",
           1937.0
          ],
          [
           "Seeläsgen",
           1847.0
          ],
          [
           "Selma",
           1906.0
          ],
          [
           "Seymchan",
           1967.0
          ],
          [
           "Shangdu",
           1957.0
          ],
          [
           "South Dahna",
           1957.0
          ],
          [
           "Ssyromolotovo",
           1873.0
          ],
          [
           "St. Genevieve County",
           1888.0
          ],
          [
           "Tafassasset",
           2000.0
          ],
          [
           "Tamarugal",
           1903.0
          ],
          [
           "Tambo Quemado",
           1950.0
          ],
          [
           "Tamentit",
           1864.0
          ],
          [
           "Tamir-Tsetserleg",
           1956.0
          ],
          [
           "Tanokami Mountain",
           1885.0
          ],
          [
           "Tianlin",
           1956.0
          ],
          [
           "Tiberrhamine",
           1967.0
          ],
          [
           "Tishomingo",
           1965.0
          ],
          [
           "Toluca",
           1776.0
          ],
          [
           "Travis County (a)",
           1889.0
          ],
          [
           "Trenton",
           1858.0
          ],
          [
           "Tres Castillos",
           1992.0
          ],
          [
           "Tres Estacas",
           1968.0
          ],
          [
           "Tsarev",
           1968.0
          ],
          [
           "Tucson",
           1850.0
          ],
          [
           "Uegit",
           1921.0
          ],
          [
           "Vaca Muerta",
           1861.0
          ],
          [
           "Wabar",
           1863.0
          ],
          [
           "Wallapai",
           1927.0
          ],
          [
           "Wichita County",
           1836.0
          ],
          [
           "Wildara",
           1968.0
          ],
          [
           "Willamette",
           1902.0
          ],
          [
           "Wolf Creek",
           1947.0
          ],
          [
           "Xifu",
           2004.0
          ],
          [
           "Yanhuitlan",
           1825.0
          ],
          [
           "Yenberrie",
           1918.0
          ],
          [
           "Yingde",
           1964.0
          ],
          [
           "Youanmi",
           1917.0
          ],
          [
           "Youndegin",
           1884.0
          ],
          [
           "Youxi",
           2006.0
          ],
          [
           "Ysleta",
           1914.0
          ],
          [
           "Zacatecas (1792)",
           1792.0
          ],
          [
           "Zaragoza",
           null
          ],
          [
           "Zerhamra",
           1967.0
          ],
          [
           "Zhaoping",
           1983.0
          ],
          [
           "Zhigansk",
           1966.0
          ],
          [
           "Zhongxiang",
           1981.0
          ]
         ],
         "geo": "geo",
         "hovertemplate": "fall=Found<br>mass=%{marker.size}<br>reclat=%{lat}<br>reclong=%{lon}<br>name=%{customdata[0]}<br>year=%{customdata[1]}<extra></extra>",
         "lat": [
          29.31667,
          38.7,
          44.86667,
          31.98457,
          27.5,
          20.6,
          -76.71667,
          66.9,
          55.14167,
          30.33333,
          47.0,
          48.06667,
          36.3,
          26.2,
          -35.3,
          39.6,
          -30.75,
          -10.11667,
          67.3,
          49.96667,
          29.87861,
          13.51667,
          31.15643,
          -22.61667,
          52.5,
          41.15333,
          37.5825,
          50.56667,
          29.8,
          3.98333,
          29.7725,
          -14.258,
          -27.46667,
          35.05,
          -33.5,
          76.13333,
          -45.28333,
          29.66667,
          35.16667,
          36.26667,
          30.4,
          23.08333,
          53.66667,
          36.5,
          51.05833,
          27.0,
          34.88333,
          34.3,
          28.7,
          37.43333,
          -30.33333,
          -30.61667,
          35.78333,
          -38.1,
          -25.33333,
          30.75,
          -80.06667,
          18.16667,
          19.03333,
          43.04639,
          34.58333,
          39.5,
          -27.5,
          null,
          23.28333,
          -44.53333,
          -33.11667,
          44.5,
          49.33333,
          44.33333,
          -9.11667,
          33.18333,
          -27.83333,
          -33.28333,
          49.55,
          52.46667,
          27.05,
          39.33333,
          -30.1,
          -29.45,
          -22.5,
          39.78333,
          -25.66667,
          36.93333,
          -30.78333,
          67.8,
          -29.58333,
          25.1,
          35.33333,
          54.23333,
          -23.0,
          null,
          null,
          null,
          null,
          null,
          null,
          0.0,
          null,
          null,
          null,
          0.0,
          0.0,
          null,
          -29.43333,
          42.33333,
          31.71667,
          34.46667,
          -30.0,
          41.2,
          37.46667,
          30.73333,
          49.86667,
          null,
          -19.86667,
          -18.58333,
          34.7,
          37.86667,
          34.11667,
          -30.03306,
          41.23333,
          -7.56667,
          43.75,
          -42.9,
          33.9,
          -18.5,
          35.98333,
          45.33333,
          39.61667,
          32.5225,
          34.71637,
          44.43333,
          -28.86667,
          22.01833,
          19.22778,
          -25.5,
          -30.38333,
          -23.9,
          35.6,
          41.98,
          35.16667,
          53.23333,
          32.4,
          38.76667,
          28.28333,
          -33.3,
          -31.38333,
          -24.56667,
          -19.58333,
          -22.36667,
          37.2,
          28.9,
          34.68333,
          -24.20333,
          53.0,
          -15.58333,
          27.95833,
          -6.6,
          19.65167,
          19.7,
          19.69362,
          -26.0,
          57.78117,
          38.81667,
          36.71667,
          30.41667,
          36.9,
          -30.55,
          -25.2,
          -33.61667,
          54.9,
          43.73333,
          34.1,
          49.0,
          -84.26223,
          40.5,
          39.93333,
          29.3,
          27.35,
          -29.41667,
          -27.0,
          38.08333,
          -28.83333,
          32.0,
          39.45889,
          38.51667,
          -39.85,
          32.91667,
          null,
          48.48333,
          -16.21667,
          19.21667,
          -26.21667,
          -16.26667,
          5.91667,
          24.5,
          41.76611,
          32.94889,
          20.51667,
          32.5,
          52.26667,
          32.4,
          62.9,
          42.5,
          22.56667,
          58.61667,
          37.96667,
          20.76333,
          -20.8,
          -14.66667,
          27.71667,
          47.45,
          34.91667,
          24.3,
          28.11667,
          34.25,
          19.56667,
          30.3,
          43.36667,
          29.47,
          null,
          48.7,
          31.85,
          3.81667,
          -25.75,
          21.49972,
          35.8,
          34.06667,
          -28.23333,
          45.36667,
          -19.3,
          36.3,
          17.53333,
          -14.25,
          24.2,
          -29.5,
          -32.1,
          26.06,
          31.65,
          22.81667,
          41.65,
          29.85861,
          24.23333,
          68.0,
          31.2,
          44.5,
          49.33333,
          44.33333,
          -9.11667,
          33.18333,
          -27.83333,
          -33.28333,
          49.55,
          52.46667,
          27.05,
          39.33333,
          -30.1,
          -29.45,
          -22.5,
          39.78333,
          -25.66667,
          36.93333,
          -30.78333,
          67.8,
          -29.58333,
          25.1,
          35.33333,
          54.23333,
          -23.0,
          null,
          null,
          null,
          null,
          null,
          null,
          0.0,
          null,
          null,
          null,
          0.0,
          0.0,
          null,
          -29.43333,
          42.33333,
          31.71667,
          34.46667,
          -30.0,
          41.2,
          37.46667,
          30.73333,
          49.86667,
          null,
          -19.86667,
          -18.58333,
          34.7,
          37.86667,
          34.11667,
          -30.03306,
          41.23333,
          -7.56667,
          43.75,
          38.08333,
          -28.83333,
          32.0,
          39.45889,
          38.51667,
          -39.85,
          32.91667,
          null,
          48.48333,
          -16.21667,
          19.21667,
          -26.21667,
          -16.26667,
          5.91667,
          24.5,
          41.76611,
          32.94889,
          20.51667,
          32.5,
          52.26667,
          32.4,
          62.9,
          42.5,
          22.56667,
          58.61667,
          37.96667,
          20.76333,
          -20.8,
          -14.66667,
          27.71667,
          47.45,
          34.91667,
          24.3,
          28.11667,
          34.25,
          19.56667,
          30.3,
          43.36667,
          29.47,
          null,
          48.7,
          31.85,
          3.81667,
          -25.75,
          21.49972,
          35.8,
          34.06667,
          -28.23333,
          45.36667,
          -19.3,
          36.3,
          17.53333,
          -14.25,
          24.2,
          -29.5,
          -32.1,
          26.06,
          31.65,
          22.81667,
          41.65,
          29.85861,
          24.23333,
          68.0,
          31.2
         ],
         "legendgroup": "Found",
         "lon": [
          -100.96667,
          -96.1,
          95.41667,
          -5.51528,
          -12.5,
          44.88333,
          159.66667,
          164.2,
          48.2,
          -109.98333,
          88.0,
          35.08333,
          -82.88333,
          -107.83333,
          144.56667,
          -105.3,
          117.78333,
          -39.2,
          160.8,
          6.53333,
          -96.87222,
          122.45,
          -5.15262,
          135.2,
          30.33333,
          -96.955,
          -99.16361,
          114.9,
          -107.55,
          41.65,
          -99.875,
          -49.15917,
          -60.58333,
          -111.03333,
          26.0,
          -64.93333,
          -70.48333,
          -111.5,
          -98.64389,
          -85.98333,
          -107.8,
          -101.01667,
          88.0,
          -104.2,
          94.4,
          -105.1,
          -84.78333,
          -103.13472,
          -102.73333,
          -3.65,
          130.53333,
          130.41667,
          -83.25,
          145.3,
          116.18333,
          -104.25,
          156.38333,
          54.16667,
          54.51667,
          22.86389,
          -102.16667,
          -112.9,
          122.36667,
          null,
          -10.81667,
          -70.36667,
          -60.96667,
          -77.46667,
          19.48333,
          106.5,
          33.06667,
          -96.71667,
          150.33333,
          148.88333,
          4.86667,
          16.9,
          -105.43333,
          -100.06667,
          28.71667,
          119.71667,
          116.16667,
          -77.21667,
          118.1,
          -87.4,
          127.55,
          23.1,
          139.9,
          107.7,
          -109.5,
          35.15,
          -69.0,
          null,
          null,
          null,
          null,
          null,
          null,
          0.0,
          null,
          null,
          null,
          0.0,
          0.0,
          null,
          -50.91667,
          -113.7,
          -102.4,
          -115.23333,
          25.0,
          -103.68333,
          -118.0,
          -101.3,
          46.61167,
          null,
          -44.61667,
          -46.53333,
          117.0,
          -100.66667,
          -101.78333,
          -51.23,
          -103.3,
          110.83333,
          92.91667,
          -71.33333,
          -101.75,
          16.0,
          -101.9,
          -102.08333,
          -94.86667,
          -102.705,
          -114.22197,
          87.63333,
          -60.2,
          26.08778,
          56.14278,
          18.0,
          147.2,
          151.3,
          -105.8,
          -120.54167,
          -107.88333,
          27.33333,
          111.7,
          -105.51667,
          117.18333,
          117.66667,
          125.63333,
          133.16667,
          17.91667,
          135.76667,
          -101.35,
          -108.56667,
          -85.65,
          -68.80667,
          -112.0,
          -50.15,
          21.68333,
          110.73333,
          55.69,
          55.73333,
          56.65432,
          -69.25,
          47.67967,
          -84.6,
          -102.5,
          -99.4,
          -100.21667,
          29.41667,
          18.08333,
          24.0,
          91.8,
          6.78333,
          -97.0,
          21.0,
          161.41628,
          112.5,
          -99.6,
          105.3,
          108.5,
          -66.85,
          -70.0,
          -115.53333,
          21.13333,
          -95.0,
          -4.3775,
          -107.83333,
          -69.48333,
          -104.66667,
          null,
          3.58333,
          -50.3,
          -98.3,
          -48.6,
          -47.95,
          -73.0,
          -106.0,
          -8.58361,
          -81.865,
          56.66667,
          -101.0,
          15.55,
          -87.0,
          152.43333,
          114.0,
          48.3,
          98.93333,
          -90.31667,
          10.44167,
          -69.66667,
          -74.5,
          -0.25,
          101.47917,
          135.96667,
          106.1,
          0.53333,
          -96.68333,
          -99.56667,
          -97.7,
          -88.13333,
          -105.8,
          null,
          45.7,
          -110.96667,
          43.33333,
          -70.5,
          50.47222,
          -113.7,
          -98.91667,
          120.85,
          -122.58333,
          127.76667,
          120.48333,
          -97.35,
          132.01667,
          113.4,
          118.75,
          117.71667,
          118.01,
          -106.18333,
          -102.56667,
          -0.86667,
          -2.645,
          111.18333,
          128.3,
          112.5,
          -77.46667,
          19.48333,
          106.5,
          33.06667,
          -96.71667,
          150.33333,
          148.88333,
          4.86667,
          16.9,
          -105.43333,
          -100.06667,
          28.71667,
          119.71667,
          116.16667,
          -77.21667,
          118.1,
          -87.4,
          127.55,
          23.1,
          139.9,
          107.7,
          -109.5,
          35.15,
          -69.0,
          null,
          null,
          null,
          null,
          null,
          null,
          0.0,
          null,
          null,
          null,
          0.0,
          0.0,
          null,
          -50.91667,
          -113.7,
          -102.4,
          -115.23333,
          25.0,
          -103.68333,
          -118.0,
          -101.3,
          46.61167,
          null,
          -44.61667,
          -46.53333,
          117.0,
          -100.66667,
          -101.78333,
          -51.23,
          -103.3,
          110.83333,
          92.91667,
          -115.53333,
          21.13333,
          -95.0,
          -4.3775,
          -107.83333,
          -69.48333,
          -104.66667,
          null,
          3.58333,
          -50.3,
          -98.3,
          -48.6,
          -47.95,
          -73.0,
          -106.0,
          -8.58361,
          -81.865,
          56.66667,
          -101.0,
          15.55,
          -87.0,
          152.43333,
          114.0,
          48.3,
          98.93333,
          -90.31667,
          10.44167,
          -69.66667,
          -74.5,
          -0.25,
          101.47917,
          135.96667,
          106.1,
          0.53333,
          -96.68333,
          -99.56667,
          -97.7,
          -88.13333,
          -105.8,
          null,
          45.7,
          -110.96667,
          43.33333,
          -70.5,
          50.47222,
          -113.7,
          -98.91667,
          120.85,
          -122.58333,
          127.76667,
          120.48333,
          -97.35,
          132.01667,
          113.4,
          118.75,
          117.71667,
          118.01,
          -106.18333,
          -102.56667,
          -0.86667,
          -2.645,
          111.18333,
          128.3,
          112.5
         ],
         "marker": {
          "color": "#EF553B",
          "size": [
           217700,
           180000,
           582000,
           100000,
           3000000,
           1200000,
           407000,
           100000,
           132000,
           683000,
           28000000,
           400000,
           136000,
           22000000,
           200000,
           227000,
           118000,
           5360000,
           1000000,
           1500000,
           153300,
           888600,
           100000,
           500000,
           823000,
           138300,
           4300000,
           100000,
           113600,
           290000,
           148000,
           2000000,
           50000000,
           30000000,
           136000,
           58200000,
           113900,
           454000,
           132700,
           127000,
           1545000,
           1400000,
           127760,
           104800,
           209400,
           24300000,
           115000,
           283000,
           2100000,
           134000,
           105000,
           100000,
           960000,
           8600000,
           257000,
           689000,
           138100,
           125500,
           256000,
           100000,
           200000,
           529000,
           118300,
           164000,
           240000,
           142000,
           500000,
           168000,
           150000,
           166800,
           16000000,
           150000,
           265000,
           104000,
           360000,
           290000,
           10100000,
           295000,
           200000,
           734000,
           326000,
           384000,
           272000,
           159000,
           24000000,
           230000,
           1143000,
           9500000,
           2184000,
           250000,
           300000,
           120000,
           113000,
           100000,
           180000,
           100000,
           300000,
           100000,
           239976,
           200000,
           200000,
           151000,
           115777,
           2000000,
           305000,
           111000,
           1600000,
           2753000,
           148800,
           168400,
           192800,
           127500,
           198000,
           150000,
           116300,
           200000,
           400000,
           100000,
           700000,
           200000,
           261000,
           500000,
           160000,
           755000,
           290000,
           110700,
           450000,
           105000,
           100000,
           110800,
           100000,
           1003000,
           160000,
           1600000,
           1750000,
           26000000,
           147000,
           736600,
           148000,
           1169500,
           525000,
           303000,
           190000,
           309000,
           220000,
           112500,
           503000,
           2000000,
           60000000,
           2300000,
           350000,
           140000,
           140000,
           920000,
           175000,
           628000,
           150000,
           499500,
           200000,
           550000,
           123374,
           104000,
           132000,
           194000,
           142000,
           153800,
           161000,
           341000,
           140000,
           1173000,
           700000,
           626000,
           270000,
           108500,
           110224,
           200000,
           564000,
           158500,
           350000,
           997000,
           100000,
           1450000,
           549000,
           800000,
           100000,
           102700,
           280000,
           237200,
           410850,
           472000,
           279000,
           1316000,
           7000000,
           1918000,
           825000,
           119500,
           162000,
           800000,
           450000,
           118000,
           102000,
           140600,
           323300,
           247000,
           275000,
           217000,
           244500,
           114000,
           320000,
           141000,
           510000,
           173000,
           174000,
           300000,
           107000,
           260000,
           3000000,
           175400,
           505000,
           150000,
           150000,
           1225300,
           975000,
           252000,
           3828000,
           2550000,
           430000,
           145000,
           500000,
           15500000,
           760000,
           3000000,
           421000,
           132000,
           3000000,
           118400,
           3800000,
           218000,
           140700,
           1000000,
           162000,
           630000,
           2000000,
           900000,
           100000,
           168000,
           150000,
           166800,
           16000000,
           150000,
           265000,
           104000,
           360000,
           290000,
           10100000,
           295000,
           200000,
           734000,
           326000,
           384000,
           272000,
           159000,
           24000000,
           230000,
           1143000,
           9500000,
           2184000,
           250000,
           300000,
           120000,
           113000,
           100000,
           180000,
           100000,
           300000,
           100000,
           239976,
           200000,
           200000,
           151000,
           115777,
           2000000,
           305000,
           111000,
           1600000,
           2753000,
           148800,
           168400,
           192800,
           127500,
           198000,
           150000,
           116300,
           200000,
           400000,
           100000,
           700000,
           200000,
           261000,
           500000,
           160000,
           1450000,
           549000,
           800000,
           100000,
           102700,
           280000,
           237200,
           410850,
           472000,
           279000,
           1316000,
           7000000,
           1918000,
           825000,
           119500,
           162000,
           800000,
           450000,
           118000,
           102000,
           140600,
           323300,
           247000,
           275000,
           217000,
           244500,
           114000,
           320000,
           141000,
           510000,
           173000,
           174000,
           300000,
           107000,
           260000,
           3000000,
           175400,
           505000,
           150000,
           150000,
           1225300,
           975000,
           252000,
           3828000,
           2550000,
           430000,
           145000,
           500000,
           15500000,
           760000,
           3000000,
           421000,
           132000,
           3000000,
           118400,
           3800000,
           218000,
           140700,
           1000000,
           162000,
           630000,
           2000000,
           900000,
           100000
          ],
          "sizemode": "area",
          "sizeref": 150000.0,
          "symbol": "circle"
         },
         "mode": "markers",
         "name": "Found",
         "showlegend": true,
         "type": "scattergeo"
        }
       ],
       "layout": {
        "template": {
         "data": {
          "histogram2dcontour": [
           {
            "type": "histogram2dcontour",
            "colorbar": {
             "outlinewidth": 0,
             "ticks": ""
            },
            "colorscale": [
             [
              0.0,
              "#0d0887"
             ],
             [
              0.1111111111111111,
              "#46039f"
             ],
             [
              0.2222222222222222,
              "#7201a8"
             ],
             [
              0.3333333333333333,
              "#9c179e"
             ],
             [
              0.4444444444444444,
              "#bd3786"
             ],
             [
              0.5555555555555556,
              "#d8576b"
             ],
             [
              0.6666666666666666,
              "#ed7953"
             ],
             [
              0.7777777777777778,
              "#fb9f3a"
             ],
             [
              0.8888888888888888,
              "#fdca26"
             ],
             [
              1.0,
              "#f0f921"
             ]
            ]
           }
          ],
          "choropleth": [
           {
            "type": "choropleth",
            "colorbar": {
             "outlinewidth": 0,
             "ticks": ""
            }
           }
          ],
          "histogram2d": [
           {
            "type": "histogram2d",
            "colorbar": {
             "outlinewidth": 0,
             "ticks": ""
            },
            "colorscale": [
             [
              0.0,
              "#0d0887"
             ],
             [
              0.1111111111111111,
              "#46039f"
             ],
             [
              0.2222222222222222,
              "#7201a8"
             ],
             [
              0.3333333333333333,
              "#9c179e"
             ],
             [
              0.4444444444444444,
              "#bd3786"
             ],
             [
              0.5555555555555556,
              "#d8576b"
             ],
             [
              0.6666666666666666,
              "#ed7953"
             ],
             [
              0.7777777777777778,
              "#fb9f3a"
             ],
             [
              0.8888888888888888,
              "#fdca26"
             ],
             [
              1.0,
              "#f0f921"
             ]
            ]
           }
          ],
          "heatmap": [
           {
            "type": "heatmap",
            "colorbar": {
             "outlinewidth": 0,
             "ticks": ""
            },
            "colorscale": [
             [
              0.0,
              "#0d0887"
             ],
             [
              0.1111111111111111,
              "#46039f"
             ],
             [
              0.2222222222222222,
              "#7201a8"
             ],
             [
              0.3333333333333333,
              "#9c179e"
             ],
             [
              0.4444444444444444,
              "#bd3786"
             ],
             [
              0.5555555555555556,
              "#d8576b"
             ],
             [
              0.6666666666666666,
              "#ed7953"
             ],
             [
              0.7777777777777778,
              "#fb9f3a"
             ],
             [
              0.8888888888888888,
              "#fdca26"
             ],
             [
              1.0,
              "#f0f921"
             ]
            ]
           }
          ],
          "heatmapgl": [
           {
            "type": "heatmapgl",
            "colorbar": {
             "outlinewidth": 0,
             "ticks": ""
            },
            "colorscale": [
             [
              0.0,
              "#0d0887"
             ],
             [
              0.1111111111111111,
              "#46039f"
             ],
             [
              0.2222222222222222,
              "#7201a8"
             ],
             [
              0.3333333333333333,
              "#9c179e"
             ],
             [
              0.4444444444444444,
              "#bd3786"
             ],
             [
              0.5555555555555556,
              "#d8576b"
             ],
             [
              0.6666666666666666,
              "#ed7953"
             ],
             [
              0.7777777777777778,
              "#fb9f3a"
             ],
             [
              0.8888888888888888,
              "#fdca26"
             ],
             [
              1.0,
              "#f0f921"
             ]
            ]
           }
          ],
          "contourcarpet": [
           {
            "type": "contourcarpet",
            "colorbar": {
             "outlinewidth": 0,
             "ticks": ""
            }
           }
          ],
          "contour": [
           {
            "type": "contour",
            "colorbar": {
             "outlinewidth": 0,
             "ticks": ""
            },
            "colorscale": [
             [
              0.0,
              "#0d0887"
             ],
             [
              0.1111111111111111,
              "#46039f"
             ],
             [
              0.2222222222222222,
              "#7201a8"
             ],
             [
              0.3333333333333333,
              "#9c179e"
             ],
             [
              0.4444444444444444,
              "#bd3786"
             ],
             [
              0.5555555555555556,
              "#d8576b"
             ],
             [
              0.6666666666666666,
              "#ed7953"
             ],
             [
              0.7777777777777778,
              "#fb9f3a"
             ],
             [
              0.8888888888888888,
              "#fdca26"
             ],
             [
              1.0,
              "#f0f921"
             ]
            ]
           }
          ],
          "surface": [
           {
            "type": "surface",
            "colorbar": {
             "outlinewidth": 0,
             "ticks": ""
            },
            "colorscale": [
             [
              0.0,
              "#0d0887"
             ],
             [
              0.1111111111111111,
              "#46039f"
             ],
             [
              0.2222222222222222,
              "#7201a8"
             ],
             [
              0.3333333333333333,
              "#9c179e"
             ],
             [
              0.4444444444444444,
              "#bd3786"
             ],
             [
              0.5555555555555556,
              "#d8576b"
             ],
             [
              0.6666666666666666,
              "#ed7953"
             ],
             [
              0.7777777777777778,
              "#fb9f3a"
             ],
             [
              0.8888888888888888,
              "#fdca26"
             ],
             [
              1.0,
              "#f0f921"
             ]
            ]
           }
          ],
          "mesh3d": [
           {
            "type": "mesh3d",
            "colorbar": {
             "outlinewidth": 0,
             "ticks": ""
            }
           }
          ],
          "scatter": [
           {
            "marker": {
             "line": {
              "color": "#283442"
             }
            },
            "type": "scatter"
           }
          ],
          "parcoords": [
           {
            "type": "parcoords",
            "line": {
             "colorbar": {
              "outlinewidth": 0,
              "ticks": ""
             }
            }
           }
          ],
          "scatterpolargl": [
           {
            "type": "scatterpolargl",
            "marker": {
             "colorbar": {
              "outlinewidth": 0,
              "ticks": ""
             }
            }
           }
          ],
          "bar": [
           {
            "error_x": {
             "color": "#f2f5fa"
            },
            "error_y": {
             "color": "#f2f5fa"
            },
            "marker": {
             "line": {
              "color": "rgb(17,17,17)",
              "width": 0.5
             },
             "pattern": {
              "fillmode": "overlay",
              "size": 10,
              "solidity": 0.2
             }
            },
            "type": "bar"
           }
          ],
          "scattergeo": [
           {
            "type": "scattergeo",
            "marker": {
             "colorbar": {
              "outlinewidth": 0,
              "ticks": ""
             }
            }
           }
          ],
          "scatterpolar": [
           {
            "type": "scatterpolar",
            "marker": {
             "colorbar": {
              "outlinewidth": 0,
              "ticks": ""
             }
            }
           }
          ],
          "histogram": [
           {
            "marker": {
             "pattern": {
              "fillmode": "overlay",
              "size": 10,
              "solidity": 0.2
             }
            },
            "type": "histogram"
           }
          ],
          "scattergl": [
           {
            "marker": {
             "line": {
              "color": "#283442"
             }
            },
            "type": "scattergl"
           }
          ],
          "scatter3d": [
           {
            "type": "scatter3d",
            "line": {
             "colorbar": {
              "outlinewidth": 0,
              "ticks": ""
             }
            },
            "marker": {
             "colorbar": {
              "outlinewidth": 0,
              "ticks": ""
             }
            }
           }
          ],
          "scattermapbox": [
           {
            "type": "scattermapbox",
            "marker": {
             "colorbar": {
              "outlinewidth": 0,
              "ticks": ""
             }
            }
           }
          ],
          "scatterternary": [
           {
            "type": "scatterternary",
            "marker": {
             "colorbar": {
              "outlinewidth": 0,
              "ticks": ""
             }
            }
           }
          ],
          "scattercarpet": [
           {
            "type": "scattercarpet",
            "marker": {
             "colorbar": {
              "outlinewidth": 0,
              "ticks": ""
             }
            }
           }
          ],
          "carpet": [
           {
            "aaxis": {
             "endlinecolor": "#A2B1C6",
             "gridcolor": "#506784",
             "linecolor": "#506784",
             "minorgridcolor": "#506784",
             "startlinecolor": "#A2B1C6"
            },
            "baxis": {
             "endlinecolor": "#A2B1C6",
             "gridcolor": "#506784",
             "linecolor": "#506784",
             "minorgridcolor": "#506784",
             "startlinecolor": "#A2B1C6"
            },
            "type": "carpet"
           }
          ],
          "table": [
           {
            "cells": {
             "fill": {
              "color": "#506784"
             },
             "line": {
              "color": "rgb(17,17,17)"
             }
            },
            "header": {
             "fill": {
              "color": "#2a3f5f"
             },
             "line": {
              "color": "rgb(17,17,17)"
             }
            },
            "type": "table"
           }
          ],
          "barpolar": [
           {
            "marker": {
             "line": {
              "color": "rgb(17,17,17)",
              "width": 0.5
             },
             "pattern": {
              "fillmode": "overlay",
              "size": 10,
              "solidity": 0.2
             }
            },
            "type": "barpolar"
           }
          ],
          "pie": [
           {
            "automargin": true,
            "type": "pie"
           }
          ]
         },
         "layout": {
          "autotypenumbers": "strict",
          "colorway": [
           "#636efa",
           "#EF553B",
           "#00cc96",
           "#ab63fa",
           "#FFA15A",
           "#19d3f3",
           "#FF6692",
           "#B6E880",
           "#FF97FF",
           "#FECB52"
          ],
          "font": {
           "color": "#f2f5fa"
          },
          "hovermode": "closest",
          "hoverlabel": {
           "align": "left"
          },
          "paper_bgcolor": "rgb(17,17,17)",
          "plot_bgcolor": "rgb(17,17,17)",
          "polar": {
           "bgcolor": "rgb(17,17,17)",
           "angularaxis": {
            "gridcolor": "#506784",
            "linecolor": "#506784",
            "ticks": ""
           },
           "radialaxis": {
            "gridcolor": "#506784",
            "linecolor": "#506784",
            "ticks": ""
           }
          },
          "ternary": {
           "bgcolor": "rgb(17,17,17)",
           "aaxis": {
            "gridcolor": "#506784",
            "linecolor": "#506784",
            "ticks": ""
           },
           "baxis": {
            "gridcolor": "#506784",
            "linecolor": "#506784",
            "ticks": ""
           },
           "caxis": {
            "gridcolor": "#506784",
            "linecolor": "#506784",
            "ticks": ""
           }
          },
          "coloraxis": {
           "colorbar": {
            "outlinewidth": 0,
            "ticks": ""
           }
          },
          "colorscale": {
           "sequential": [
            [
             0.0,
             "#0d0887"
            ],
            [
             0.1111111111111111,
             "#46039f"
            ],
            [
             0.2222222222222222,
             "#7201a8"
            ],
            [
             0.3333333333333333,
             "#9c179e"
            ],
            [
             0.4444444444444444,
             "#bd3786"
            ],
            [
             0.5555555555555556,
             "#d8576b"
            ],
            [
             0.6666666666666666,
             "#ed7953"
            ],
            [
             0.7777777777777778,
             "#fb9f3a"
            ],
            [
             0.8888888888888888,
             "#fdca26"
            ],
            [
             1.0,
             "#f0f921"
            ]
           ],
           "sequentialminus": [
            [
             0.0,
             "#0d0887"
            ],
            [
             0.1111111111111111,
             "#46039f"
            ],
            [
             0.2222222222222222,
             "#7201a8"
            ],
            [
             0.3333333333333333,
             "#9c179e"
            ],
            [
             0.4444444444444444,
             "#bd3786"
            ],
            [
             0.5555555555555556,
             "#d8576b"
            ],
            [
             0.6666666666666666,
             "#ed7953"
            ],
            [
             0.7777777777777778,
             "#fb9f3a"
            ],
            [
             0.8888888888888888,
             "#fdca26"
            ],
            [
             1.0,
             "#f0f921"
            ]
           ],
           "diverging": [
            [
             0,
             "#8e0152"
            ],
            [
             0.1,
             "#c51b7d"
            ],
            [
             0.2,
             "#de77ae"
            ],
            [
             0.3,
             "#f1b6da"
            ],
            [
             0.4,
             "#fde0ef"
            ],
            [
             0.5,
             "#f7f7f7"
            ],
            [
             0.6,
             "#e6f5d0"
            ],
            [
             0.7,
             "#b8e186"
            ],
            [
             0.8,
             "#7fbc41"
            ],
            [
             0.9,
             "#4d9221"
            ],
            [
             1,
             "#276419"
            ]
           ]
          },
          "xaxis": {
           "gridcolor": "#283442",
           "linecolor": "#506784",
           "ticks": "",
           "title": {
            "standoff": 15
           },
           "zerolinecolor": "#283442",
           "automargin": true,
           "zerolinewidth": 2
          },
          "yaxis": {
           "gridcolor": "#283442",
           "linecolor": "#506784",
           "ticks": "",
           "title": {
            "standoff": 15
           },
           "zerolinecolor": "#283442",
           "automargin": true,
           "zerolinewidth": 2
          },
          "scene": {
           "xaxis": {
            "backgroundcolor": "rgb(17,17,17)",
            "gridcolor": "#506784",
            "linecolor": "#506784",
            "showbackground": true,
            "ticks": "",
            "zerolinecolor": "#C8D4E3",
            "gridwidth": 2
           },
           "yaxis": {
            "backgroundcolor": "rgb(17,17,17)",
            "gridcolor": "#506784",
            "linecolor": "#506784",
            "showbackground": true,
            "ticks": "",
            "zerolinecolor": "#C8D4E3",
            "gridwidth": 2
           },
           "zaxis": {
            "backgroundcolor": "rgb(17,17,17)",
            "gridcolor": "#506784",
            "linecolor": "#506784",
            "showbackground": true,
            "ticks": "",
            "zerolinecolor": "#C8D4E3",
            "gridwidth": 2
           }
          },
          "shapedefaults": {
           "line": {
            "color": "#f2f5fa"
           }
          },
          "annotationdefaults": {
           "arrowcolor": "#f2f5fa",
           "arrowhead": 0,
           "arrowwidth": 1
          },
          "geo": {
           "bgcolor": "rgb(17,17,17)",
           "landcolor": "rgb(17,17,17)",
           "subunitcolor": "#506784",
           "showland": true,
           "showlakes": true,
           "lakecolor": "rgb(17,17,17)"
          },
          "title": {
           "x": 0.05
          },
          "updatemenudefaults": {
           "bgcolor": "#506784",
           "borderwidth": 0
          },
          "sliderdefaults": {
           "bgcolor": "#C8D4E3",
           "borderwidth": 1,
           "bordercolor": "rgb(17,17,17)",
           "tickwidth": 0
          },
          "mapbox": {
           "style": "dark"
          }
         }
        },
        "geo": {
         "domain": {
          "x": [
           0.0,
           1.0
          ],
          "y": [
           0.0,
           1.0
          ]
         },
         "center": {}
        },
        "legend": {
         "title": {
          "text": "fall"
         },
         "tracegroupgap": 0,
         "itemsizing": "constant"
        },
        "title": {
         "text": "Meteorite Landings"
        }
       },
       "config": {
        "plotlyServerURL": "https://plot.ly"
       }
      },
      "text/html": [
       "<div>                            <div id=\"63a5576c-2ce1-4383-984c-cfb8a45b802b\" class=\"plotly-graph-div\" style=\"height:525px; width:100%;\"></div>            <script type=\"text/javascript\">                require([\"plotly\"], function(Plotly) {                    window.PLOTLYENV=window.PLOTLYENV || {};                                    if (document.getElementById(\"63a5576c-2ce1-4383-984c-cfb8a45b802b\")) {                    Plotly.newPlot(                        \"63a5576c-2ce1-4383-984c-cfb8a45b802b\",                        [{\"customdata\":[[\"Abee\",1952.0],[\"Alfianello\",1883.0],[\"Allende\",1969.0],[\"Bjurb\\u00f6le\",1899.0],[\"Boguslavka\",1916.0],[\"Bruderheim\",1960.0],[\"Bur-Gheluai\",1919.0],[\"Chelyabinsk\",2013.0],[\"Chergach \",2007.0],[\"Colby (Wisconsin)\",1917.0],[\"Djati-Pengilon\",1884.0],[\"Dong Ujimqin Qi\",1995.0],[\"Elbogen\",1399.0],[\"Ensisheim\",1491.0],[\"Estherville\",1879.0],[\"Forest City\",1890.0],[\"Glasatovo\",1918.0],[\"Gujba\",1984.0],[\"Holbrook\",1912.0],[\"Homestead\",1875.0],[\"Jianshi\",1890.0],[\"Jilin\",1976.0],[\"Juancheng\",1997.0],[\"Kainsaz\",1937.0],[\"Kesen\",1850.0],[\"Kidairat\",1983.0],[\"Knyahinya\",1866.0],[\"Kunashak\",1949.0],[\"Kunya-Urgench\",1998.0],[\"Mbale\",1992.0],[\"Millbillillie\",1960.0],[\"Mocs\",1882.0],[\"Molina\",1858.0],[\"Montferr\\u00e9\",1923.0],[\"Mount Tazerzait\",1991.0],[\"Murchison\",1969.0],[\"New Concord\",1860.0],[\"Norton County\",1948.0],[\"Ochansk\",1887.0],[\"Olivenza\",1924.0],[\"Omolon\",1981.0],[\"Paragould\",1930.0],[\"Paranaiba\",1956.0],[\"Pultusk\",1868.0],[\"Putinga\",1937.0],[\"Saint-S\\u00e9verin\",1966.0],[\"Saratov\",1918.0],[\"Sevrukovo\",1874.0],[\"Sikhote-Alin\",1947.0],[\"Sterlitamak\",1990.0],[\"Suizhou\",1986.0],[\"Sulagiri\",2008.0],[\"Tamdakht\",2008.0],[\"Tenham\",1879.0],[\"Udei Station\",1927.0],[\"Weston\",1807.0],[\"Wiluna\",1967.0],[\"Yardymly\",1959.0],[\"Zag\",1998.0],[\"Zhovtnevyi\",1938.0]],\"geo\":\"geo\",\"hovertemplate\":\"fall=Fell\\u003cbr\\u003emass=%{marker.size}\\u003cbr\\u003ereclat=%{lat}\\u003cbr\\u003ereclong=%{lon}\\u003cbr\\u003ename=%{customdata[0]}\\u003cbr\\u003eyear=%{customdata[1]}\\u003cextra\\u003e\\u003c\\u002fextra\\u003e\",\"lat\":[54.21667,45.26667,26.96667,60.4,44.55,53.9,5.0,54.81667,23.69639,44.9,-7.5,45.5,50.18333,47.86667,43.41667,43.25,57.35,11.49167,34.9,41.8,30.80833,44.05,35.5,55.43333,38.98333,14.0,48.9,55.78333,42.25,1.06667,-26.45,46.8,38.11667,43.39056,18.7,-36.61667,40.0,39.68333,57.78333,38.71667,64.02,36.06667,-19.13333,52.76667,-29.03333,45.3,52.55,50.61667,46.16,53.66667,31.61667,12.66667,31.16333,-25.73333,7.95,41.266667,-26.59278,38.93333,27.33333,47.58333],\"legendgroup\":\"Fell\",\"lon\":[-113.0,10.15,-105.31667,25.8,131.63333,-112.88333,48.0,61.11667,-5.01472,-90.28333,111.5,119.03333,12.73333,7.35,-94.83333,-93.66667,37.61667,11.65833,-110.18333,-91.86667,109.5,126.16667,115.41667,53.25,141.61667,28.0,22.4,61.36667,59.2,34.16667,120.36667,24.03333,-1.16667,1.9625,4.8,145.2,-81.76667,-99.86667,55.26667,-7.06667,161.80833,-90.5,-51.66667,21.26667,-53.05,0.23333,46.55,36.6,134.65333,55.98333,113.46667,78.03333,-7.015,142.95,8.08333,-73.266667,120.32833,48.25,-9.33333,37.25],\"marker\":{\"color\":\"#636efa\",\"size\":[107000,228000,2000000,330000,256000,303000,120000,100000,100000,104000,166000,128800,107000,127000,320000,152000,152000,100000,220000,230000,600000,4000000,100000,200000,135000,100000,500000,200000,1100000,150000,330000,300000,144000,149000,110000,100000,230000,1100000,500000,150000,250000,408000,100000,250000,300000,271000,200000,101000,23000000,325000,260000,110000,100000,160000,103000,150000,150000,150200,175000,107000],\"sizemode\":\"area\",\"sizeref\":150000.0,\"symbol\":\"circle\"},\"mode\":\"markers\",\"name\":\"Fell\",\"showlegend\":true,\"type\":\"scattergeo\"},{\"customdata\":[[\"Acu\\u00f1a\",1981.0],[\"Admire\",1881.0],[\"Adzhi-Bogdo (iron)\",1952.0],[\"Agoudal\",2000.0],[\"Al Haggounia 001\",2006.0],[\"Alkhamasin\",1973.0],[\"Allan Hills A76009\",1976.0],[\"Anyujskij\",1981.0],[\"Araslanovo\",1973.0],[\"Arispe\",1896.0],[\"Armanty\",1898.0],[\"Augustinovka\",1890.0],[\"Babb's Mill (Blake's Iron)\",1876.0],[\"Bacubirito\",1863.0],[\"Barratta\",1845.0],[\"Bear Creek\",1866.0],[\"Bencubbin\",1930.0],[\"Bendeg\\u00f3\",1784.0],[\"Bilibino\",1981.0],[\"Bitburg\",1805.0],[\"Bluff (a)\",1878.0],[\"Bondoc\",1956.0],[\"Bou Azarif\",2010.0],[\"Boxhole\",1937.0],[\"Brahin\",1810.0],[\"Brainard\",1978.0],[\"Brenham\",1882.0],[\"Budulan\",1962.0],[\"Buenaventura\",1969.0],[\"Bur-Abor\",1997.0],[\"Camp Wood\",null],[\"Campinorte\",1992.0],[\"Campo del Cielo\",1575.0],[\"Canyon Diablo\",1891.0],[\"Cape of Good Hope\",1793.0],[\"Cape York\",1818.0],[\"Caperr\",1869.0],[\"Carbo\",1923.0],[\"Carnegie\",1963.0],[\"Carthage\",1840.0],[\"Casas Grandes\",1867.0],[\"Charcas\",1804.0],[\"Chebankol\",1938.0],[\"Chico\",1954.0],[\"Chinga\",1913.0],[\"Chupaderos\",1852.0],[\"Cleveland\",1860.0],[\"Clovis (no. 1)\",1961.0],[\"Coahuila\",1837.0],[\"Colomera\",1912.0],[\"Cook 001\",1989.0],[\"Cook 007\",1989.0],[\"Cosby's Creek\",1837.0],[\"Cranbourne\",1854.0],[\"Dalgety Downs\",1941.0],[\"Davis Mountains\",1903.0],[\"Derrick Peak A78009\",1978.0],[\"Dhofar 005\",2000.0],[\"Dhofar 020\",2000.0],[\"Dimitrovgrad\",1949.0],[\"Dimmitt\",1942.0],[\"Drum Mountains\",1944.0],[\"Duketon\",1948.0],[\"Durango\",1804.0],[\"El Hammami\",1997.0],[\"El Sampal\",1973.0],[\"El Timbu\",1942.0],[\"Madoc\",1854.0],[\"Magura\",1840.0],[\"Manlai\",1954.0],[\"Mbosi\",1930.0],[\"McKinney\",1870.0],[\"Miles\",1992.0],[\"Molong\",1912.0],[\"Mont Dieu\",1994.0],[\"Morasko\",1914.0],[\"Morito\",1600.0],[\"Morland\",1890.0],[\"Moshesh\",null],[\"Mount Dooling\",1909.0],[\"Mount Edith\",1913.0],[\"Mount Joy\",1887.0],[\"Mount Padbury\",1964.0],[\"Mount Vernon\",1868.0],[\"Mundrabilla\",1911.0],[\"Muonionalusta\",1906.0],[\"Murnpeowie\",1909.0],[\"Nantan\",1958.0],[\"Navajo\",1921.0],[\"Netscha\\u00ebvo\",1846.0],[\"North Chile\",1875.0],[\"Northwest Africa 1172\",2000.0],[\"Northwest Africa 1430\",2001.0],[\"Northwest Africa 2239\",2002.0],[\"Northwest Africa 2924\",2005.0],[\"Northwest Africa 2965\",2005.0],[\"Northwest Africa 4037\",2005.0],[\"Northwest Africa 4502\",2005.0],[\"Northwest Africa 4528\",2006.0],[\"Northwest Africa 4544\",2006.0],[\"Northwest Africa 4561\",2006.0],[\"Northwest Africa 5940\",2009.0],[\"Northwest Africa 6947\",2011.0],[\"Northwest Africa 869\",2000.0],[\"Nova Petropolis\",1967.0],[\"Oakley (iron)\",1926.0],[\"Odessa (iron)\",1922.0],[\"Old Woman\",1976.0],[\"Orange River (iron)\",1855.0],[\"Owasco\",1984.0],[\"Owens Valley\",1913.0],[\"Ozona\",1929.0],[\"Pallasovka\",1990.0],[\"Paneth's Iron\",1873.0],[\"Para de Minas\",1934.0],[\"Patos de Minas (octahedrite)\",1925.0],[\"Pei Xian\",1917.0],[\"Pierceville (iron)\",1917.0],[\"Plainview (1917)\",1917.0],[\"Porto Alegre\",2005.0],[\"Potter\",1941.0],[\"Prambanan\",1797.0],[\"Qijiaojing\",2003.0],[\"Esquel\",1951.0],[\"Estacado\",1883.0],[\"Etosha\",1970.0],[\"Etter\",1965.0],[\"Faith\",1952.0],[\"Faucett\",1966.0],[\"Florey\",1978.0],[\"Franconia\",2002.0],[\"Fukang\",2000.0],[\"Garabato\",1995.0],[\"Gebel Kamil\",2009.0],[\"Ghubara\",1954.0],[\"Gibeon\",1836.0],[\"Gilgoin\",1889.0],[\"Gladstone (iron)\",1915.0],[\"Glorieta Mountain\",1884.0],[\"Goose Lake\",1938.0],[\"Grant\",1929.0],[\"Gressk\",1955.0],[\"Guanghua\",1932.0],[\"Guffey\",1907.0],[\"Guixi\",null],[\"Gundaring\",1937.0],[\"Haig\",1951.0],[\"Henbury\",1931.0],[\"Hoba\",1920.0],[\"Huckitta\",1924.0],[\"Hugoton\",1927.0],[\"Huizopa\",1907.0],[\"Ider\",1957.0],[\"Imilac\",1822.0],[\"Iron Creek\",1869.0],[\"Itapuranga\",null],[\"Jalu\",2000.0],[\"Jepara\",2008.0],[\"Jiddat al Harasis 055\",2004.0],[\"Jiddat al Harasis 073\",2002.0],[\"Jiddat al Harasis 091\",2002.0],[\"Juncal\",1866.0],[\"Karavannoe\",null],[\"Kenton County\",1889.0],[\"Keyes\",1939.0],[\"Kimble County\",1918.0],[\"Knowles\",1903.0],[\"Kokstad\",1884.0],[\"Korra Korrabes\",1996.0],[\"Kouga Mountains\",1903.0],[\"Krasnojarsk\",1749.0],[\"La Caille\",1828.0],[\"Lake Murray\",1933.0],[\"Lenarto\",1814.0],[\"Lewis Cliff 85320\",1985.0],[\"Liangcheng\",1959.0],[\"Long Island\",1891.0],[\"Longchang\",1781.0],[\"Longtian\",1991.0],[\"Los Sauces\",1937.0],[\"Lutschaunig's Stone\",1861.0],[\"Quinn Canyon\",1908.0],[\"Rateldraai\",1909.0],[\"Red River\",1808.0],[\"Retuerta del Bullaque\",1980.0],[\"Rifle\",1948.0],[\"Rio Limay\",1995.0],[\"Sacramento Mountains\",1890.0],[\"Sahara 02500\",2001.0],[\"Saint-Aubin\",1968.0],[\"Sanclerlandia\",1971.0],[\"Santa Apolonia\",1872.0],[\"Santa Catharina\",1875.0],[\"Santa Luzia\",1921.0],[\"Santa Rosa\",1810.0],[\"Santiago Papasquiero\",1958.0],[\"S\\u00e3o Juli\\u00e3o de Moreira\",1883.0],[\"Sardis\",1940.0],[\"Sayh al Uhaymir 001\",2000.0],[\"Scurry\",1937.0],[\"Seel\\u00e4sgen\",1847.0],[\"Selma\",1906.0],[\"Seymchan\",1967.0],[\"Shangdu\",1957.0],[\"South Dahna\",1957.0],[\"Ssyromolotovo\",1873.0],[\"St. Genevieve County\",1888.0],[\"Tafassasset\",2000.0],[\"Tamarugal\",1903.0],[\"Tambo Quemado\",1950.0],[\"Tamentit\",1864.0],[\"Tamir-Tsetserleg\",1956.0],[\"Tanokami Mountain\",1885.0],[\"Tianlin\",1956.0],[\"Tiberrhamine\",1967.0],[\"Tishomingo\",1965.0],[\"Toluca\",1776.0],[\"Travis County (a)\",1889.0],[\"Trenton\",1858.0],[\"Tres Castillos\",1992.0],[\"Tres Estacas\",1968.0],[\"Tsarev\",1968.0],[\"Tucson\",1850.0],[\"Uegit\",1921.0],[\"Vaca Muerta\",1861.0],[\"Wabar\",1863.0],[\"Wallapai\",1927.0],[\"Wichita County\",1836.0],[\"Wildara\",1968.0],[\"Willamette\",1902.0],[\"Wolf Creek\",1947.0],[\"Xifu\",2004.0],[\"Yanhuitlan\",1825.0],[\"Yenberrie\",1918.0],[\"Yingde\",1964.0],[\"Youanmi\",1917.0],[\"Youndegin\",1884.0],[\"Youxi\",2006.0],[\"Ysleta\",1914.0],[\"Zacatecas (1792)\",1792.0],[\"Zaragoza\",null],[\"Zerhamra\",1967.0],[\"Zhaoping\",1983.0],[\"Zhigansk\",1966.0],[\"Zhongxiang\",1981.0],[\"Madoc\",1854.0],[\"Magura\",1840.0],[\"Manlai\",1954.0],[\"Mbosi\",1930.0],[\"McKinney\",1870.0],[\"Miles\",1992.0],[\"Molong\",1912.0],[\"Mont Dieu\",1994.0],[\"Morasko\",1914.0],[\"Morito\",1600.0],[\"Morland\",1890.0],[\"Moshesh\",null],[\"Mount Dooling\",1909.0],[\"Mount Edith\",1913.0],[\"Mount Joy\",1887.0],[\"Mount Padbury\",1964.0],[\"Mount Vernon\",1868.0],[\"Mundrabilla\",1911.0],[\"Muonionalusta\",1906.0],[\"Murnpeowie\",1909.0],[\"Nantan\",1958.0],[\"Navajo\",1921.0],[\"Netscha\\u00ebvo\",1846.0],[\"North Chile\",1875.0],[\"Northwest Africa 1172\",2000.0],[\"Northwest Africa 1430\",2001.0],[\"Northwest Africa 2239\",2002.0],[\"Northwest Africa 2924\",2005.0],[\"Northwest Africa 2965\",2005.0],[\"Northwest Africa 4037\",2005.0],[\"Northwest Africa 4502\",2005.0],[\"Northwest Africa 4528\",2006.0],[\"Northwest Africa 4544\",2006.0],[\"Northwest Africa 4561\",2006.0],[\"Northwest Africa 5940\",2009.0],[\"Northwest Africa 6947\",2011.0],[\"Northwest Africa 869\",2000.0],[\"Nova Petropolis\",1967.0],[\"Oakley (iron)\",1926.0],[\"Odessa (iron)\",1922.0],[\"Old Woman\",1976.0],[\"Orange River (iron)\",1855.0],[\"Owasco\",1984.0],[\"Owens Valley\",1913.0],[\"Ozona\",1929.0],[\"Pallasovka\",1990.0],[\"Paneth's Iron\",1873.0],[\"Para de Minas\",1934.0],[\"Patos de Minas (octahedrite)\",1925.0],[\"Pei Xian\",1917.0],[\"Pierceville (iron)\",1917.0],[\"Plainview (1917)\",1917.0],[\"Porto Alegre\",2005.0],[\"Potter\",1941.0],[\"Prambanan\",1797.0],[\"Qijiaojing\",2003.0],[\"Quinn Canyon\",1908.0],[\"Rateldraai\",1909.0],[\"Red River\",1808.0],[\"Retuerta del Bullaque\",1980.0],[\"Rifle\",1948.0],[\"Rio Limay\",1995.0],[\"Sacramento Mountains\",1890.0],[\"Sahara 02500\",2001.0],[\"Saint-Aubin\",1968.0],[\"Sanclerlandia\",1971.0],[\"Santa Apolonia\",1872.0],[\"Santa Catharina\",1875.0],[\"Santa Luzia\",1921.0],[\"Santa Rosa\",1810.0],[\"Santiago Papasquiero\",1958.0],[\"S\\u00e3o Juli\\u00e3o de Moreira\",1883.0],[\"Sardis\",1940.0],[\"Sayh al Uhaymir 001\",2000.0],[\"Scurry\",1937.0],[\"Seel\\u00e4sgen\",1847.0],[\"Selma\",1906.0],[\"Seymchan\",1967.0],[\"Shangdu\",1957.0],[\"South Dahna\",1957.0],[\"Ssyromolotovo\",1873.0],[\"St. Genevieve County\",1888.0],[\"Tafassasset\",2000.0],[\"Tamarugal\",1903.0],[\"Tambo Quemado\",1950.0],[\"Tamentit\",1864.0],[\"Tamir-Tsetserleg\",1956.0],[\"Tanokami Mountain\",1885.0],[\"Tianlin\",1956.0],[\"Tiberrhamine\",1967.0],[\"Tishomingo\",1965.0],[\"Toluca\",1776.0],[\"Travis County (a)\",1889.0],[\"Trenton\",1858.0],[\"Tres Castillos\",1992.0],[\"Tres Estacas\",1968.0],[\"Tsarev\",1968.0],[\"Tucson\",1850.0],[\"Uegit\",1921.0],[\"Vaca Muerta\",1861.0],[\"Wabar\",1863.0],[\"Wallapai\",1927.0],[\"Wichita County\",1836.0],[\"Wildara\",1968.0],[\"Willamette\",1902.0],[\"Wolf Creek\",1947.0],[\"Xifu\",2004.0],[\"Yanhuitlan\",1825.0],[\"Yenberrie\",1918.0],[\"Yingde\",1964.0],[\"Youanmi\",1917.0],[\"Youndegin\",1884.0],[\"Youxi\",2006.0],[\"Ysleta\",1914.0],[\"Zacatecas (1792)\",1792.0],[\"Zaragoza\",null],[\"Zerhamra\",1967.0],[\"Zhaoping\",1983.0],[\"Zhigansk\",1966.0],[\"Zhongxiang\",1981.0]],\"geo\":\"geo\",\"hovertemplate\":\"fall=Found\\u003cbr\\u003emass=%{marker.size}\\u003cbr\\u003ereclat=%{lat}\\u003cbr\\u003ereclong=%{lon}\\u003cbr\\u003ename=%{customdata[0]}\\u003cbr\\u003eyear=%{customdata[1]}\\u003cextra\\u003e\\u003c\\u002fextra\\u003e\",\"lat\":[29.31667,38.7,44.86667,31.98457,27.5,20.6,-76.71667,66.9,55.14167,30.33333,47.0,48.06667,36.3,26.2,-35.3,39.6,-30.75,-10.11667,67.3,49.96667,29.87861,13.51667,31.15643,-22.61667,52.5,41.15333,37.5825,50.56667,29.8,3.98333,29.7725,-14.258,-27.46667,35.05,-33.5,76.13333,-45.28333,29.66667,35.16667,36.26667,30.4,23.08333,53.66667,36.5,51.05833,27.0,34.88333,34.3,28.7,37.43333,-30.33333,-30.61667,35.78333,-38.1,-25.33333,30.75,-80.06667,18.16667,19.03333,43.04639,34.58333,39.5,-27.5,null,23.28333,-44.53333,-33.11667,44.5,49.33333,44.33333,-9.11667,33.18333,-27.83333,-33.28333,49.55,52.46667,27.05,39.33333,-30.1,-29.45,-22.5,39.78333,-25.66667,36.93333,-30.78333,67.8,-29.58333,25.1,35.33333,54.23333,-23.0,null,null,null,null,null,null,0.0,null,null,null,0.0,0.0,null,-29.43333,42.33333,31.71667,34.46667,-30.0,41.2,37.46667,30.73333,49.86667,null,-19.86667,-18.58333,34.7,37.86667,34.11667,-30.03306,41.23333,-7.56667,43.75,-42.9,33.9,-18.5,35.98333,45.33333,39.61667,32.5225,34.71637,44.43333,-28.86667,22.01833,19.22778,-25.5,-30.38333,-23.9,35.6,41.98,35.16667,53.23333,32.4,38.76667,28.28333,-33.3,-31.38333,-24.56667,-19.58333,-22.36667,37.2,28.9,34.68333,-24.20333,53.0,-15.58333,27.95833,-6.6,19.65167,19.7,19.69362,-26.0,57.78117,38.81667,36.71667,30.41667,36.9,-30.55,-25.2,-33.61667,54.9,43.73333,34.1,49.0,-84.26223,40.5,39.93333,29.3,27.35,-29.41667,-27.0,38.08333,-28.83333,32.0,39.45889,38.51667,-39.85,32.91667,null,48.48333,-16.21667,19.21667,-26.21667,-16.26667,5.91667,24.5,41.76611,32.94889,20.51667,32.5,52.26667,32.4,62.9,42.5,22.56667,58.61667,37.96667,20.76333,-20.8,-14.66667,27.71667,47.45,34.91667,24.3,28.11667,34.25,19.56667,30.3,43.36667,29.47,null,48.7,31.85,3.81667,-25.75,21.49972,35.8,34.06667,-28.23333,45.36667,-19.3,36.3,17.53333,-14.25,24.2,-29.5,-32.1,26.06,31.65,22.81667,41.65,29.85861,24.23333,68.0,31.2,44.5,49.33333,44.33333,-9.11667,33.18333,-27.83333,-33.28333,49.55,52.46667,27.05,39.33333,-30.1,-29.45,-22.5,39.78333,-25.66667,36.93333,-30.78333,67.8,-29.58333,25.1,35.33333,54.23333,-23.0,null,null,null,null,null,null,0.0,null,null,null,0.0,0.0,null,-29.43333,42.33333,31.71667,34.46667,-30.0,41.2,37.46667,30.73333,49.86667,null,-19.86667,-18.58333,34.7,37.86667,34.11667,-30.03306,41.23333,-7.56667,43.75,38.08333,-28.83333,32.0,39.45889,38.51667,-39.85,32.91667,null,48.48333,-16.21667,19.21667,-26.21667,-16.26667,5.91667,24.5,41.76611,32.94889,20.51667,32.5,52.26667,32.4,62.9,42.5,22.56667,58.61667,37.96667,20.76333,-20.8,-14.66667,27.71667,47.45,34.91667,24.3,28.11667,34.25,19.56667,30.3,43.36667,29.47,null,48.7,31.85,3.81667,-25.75,21.49972,35.8,34.06667,-28.23333,45.36667,-19.3,36.3,17.53333,-14.25,24.2,-29.5,-32.1,26.06,31.65,22.81667,41.65,29.85861,24.23333,68.0,31.2],\"legendgroup\":\"Found\",\"lon\":[-100.96667,-96.1,95.41667,-5.51528,-12.5,44.88333,159.66667,164.2,48.2,-109.98333,88.0,35.08333,-82.88333,-107.83333,144.56667,-105.3,117.78333,-39.2,160.8,6.53333,-96.87222,122.45,-5.15262,135.2,30.33333,-96.955,-99.16361,114.9,-107.55,41.65,-99.875,-49.15917,-60.58333,-111.03333,26.0,-64.93333,-70.48333,-111.5,-98.64389,-85.98333,-107.8,-101.01667,88.0,-104.2,94.4,-105.1,-84.78333,-103.13472,-102.73333,-3.65,130.53333,130.41667,-83.25,145.3,116.18333,-104.25,156.38333,54.16667,54.51667,22.86389,-102.16667,-112.9,122.36667,null,-10.81667,-70.36667,-60.96667,-77.46667,19.48333,106.5,33.06667,-96.71667,150.33333,148.88333,4.86667,16.9,-105.43333,-100.06667,28.71667,119.71667,116.16667,-77.21667,118.1,-87.4,127.55,23.1,139.9,107.7,-109.5,35.15,-69.0,null,null,null,null,null,null,0.0,null,null,null,0.0,0.0,null,-50.91667,-113.7,-102.4,-115.23333,25.0,-103.68333,-118.0,-101.3,46.61167,null,-44.61667,-46.53333,117.0,-100.66667,-101.78333,-51.23,-103.3,110.83333,92.91667,-71.33333,-101.75,16.0,-101.9,-102.08333,-94.86667,-102.705,-114.22197,87.63333,-60.2,26.08778,56.14278,18.0,147.2,151.3,-105.8,-120.54167,-107.88333,27.33333,111.7,-105.51667,117.18333,117.66667,125.63333,133.16667,17.91667,135.76667,-101.35,-108.56667,-85.65,-68.80667,-112.0,-50.15,21.68333,110.73333,55.69,55.73333,56.65432,-69.25,47.67967,-84.6,-102.5,-99.4,-100.21667,29.41667,18.08333,24.0,91.8,6.78333,-97.0,21.0,161.41628,112.5,-99.6,105.3,108.5,-66.85,-70.0,-115.53333,21.13333,-95.0,-4.3775,-107.83333,-69.48333,-104.66667,null,3.58333,-50.3,-98.3,-48.6,-47.95,-73.0,-106.0,-8.58361,-81.865,56.66667,-101.0,15.55,-87.0,152.43333,114.0,48.3,98.93333,-90.31667,10.44167,-69.66667,-74.5,-0.25,101.47917,135.96667,106.1,0.53333,-96.68333,-99.56667,-97.7,-88.13333,-105.8,null,45.7,-110.96667,43.33333,-70.5,50.47222,-113.7,-98.91667,120.85,-122.58333,127.76667,120.48333,-97.35,132.01667,113.4,118.75,117.71667,118.01,-106.18333,-102.56667,-0.86667,-2.645,111.18333,128.3,112.5,-77.46667,19.48333,106.5,33.06667,-96.71667,150.33333,148.88333,4.86667,16.9,-105.43333,-100.06667,28.71667,119.71667,116.16667,-77.21667,118.1,-87.4,127.55,23.1,139.9,107.7,-109.5,35.15,-69.0,null,null,null,null,null,null,0.0,null,null,null,0.0,0.0,null,-50.91667,-113.7,-102.4,-115.23333,25.0,-103.68333,-118.0,-101.3,46.61167,null,-44.61667,-46.53333,117.0,-100.66667,-101.78333,-51.23,-103.3,110.83333,92.91667,-115.53333,21.13333,-95.0,-4.3775,-107.83333,-69.48333,-104.66667,null,3.58333,-50.3,-98.3,-48.6,-47.95,-73.0,-106.0,-8.58361,-81.865,56.66667,-101.0,15.55,-87.0,152.43333,114.0,48.3,98.93333,-90.31667,10.44167,-69.66667,-74.5,-0.25,101.47917,135.96667,106.1,0.53333,-96.68333,-99.56667,-97.7,-88.13333,-105.8,null,45.7,-110.96667,43.33333,-70.5,50.47222,-113.7,-98.91667,120.85,-122.58333,127.76667,120.48333,-97.35,132.01667,113.4,118.75,117.71667,118.01,-106.18333,-102.56667,-0.86667,-2.645,111.18333,128.3,112.5],\"marker\":{\"color\":\"#EF553B\",\"size\":[217700,180000,582000,100000,3000000,1200000,407000,100000,132000,683000,28000000,400000,136000,22000000,200000,227000,118000,5360000,1000000,1500000,153300,888600,100000,500000,823000,138300,4300000,100000,113600,290000,148000,2000000,50000000,30000000,136000,58200000,113900,454000,132700,127000,1545000,1400000,127760,104800,209400,24300000,115000,283000,2100000,134000,105000,100000,960000,8600000,257000,689000,138100,125500,256000,100000,200000,529000,118300,164000,240000,142000,500000,168000,150000,166800,16000000,150000,265000,104000,360000,290000,10100000,295000,200000,734000,326000,384000,272000,159000,24000000,230000,1143000,9500000,2184000,250000,300000,120000,113000,100000,180000,100000,300000,100000,239976,200000,200000,151000,115777,2000000,305000,111000,1600000,2753000,148800,168400,192800,127500,198000,150000,116300,200000,400000,100000,700000,200000,261000,500000,160000,755000,290000,110700,450000,105000,100000,110800,100000,1003000,160000,1600000,1750000,26000000,147000,736600,148000,1169500,525000,303000,190000,309000,220000,112500,503000,2000000,60000000,2300000,350000,140000,140000,920000,175000,628000,150000,499500,200000,550000,123374,104000,132000,194000,142000,153800,161000,341000,140000,1173000,700000,626000,270000,108500,110224,200000,564000,158500,350000,997000,100000,1450000,549000,800000,100000,102700,280000,237200,410850,472000,279000,1316000,7000000,1918000,825000,119500,162000,800000,450000,118000,102000,140600,323300,247000,275000,217000,244500,114000,320000,141000,510000,173000,174000,300000,107000,260000,3000000,175400,505000,150000,150000,1225300,975000,252000,3828000,2550000,430000,145000,500000,15500000,760000,3000000,421000,132000,3000000,118400,3800000,218000,140700,1000000,162000,630000,2000000,900000,100000,168000,150000,166800,16000000,150000,265000,104000,360000,290000,10100000,295000,200000,734000,326000,384000,272000,159000,24000000,230000,1143000,9500000,2184000,250000,300000,120000,113000,100000,180000,100000,300000,100000,239976,200000,200000,151000,115777,2000000,305000,111000,1600000,2753000,148800,168400,192800,127500,198000,150000,116300,200000,400000,100000,700000,200000,261000,500000,160000,1450000,549000,800000,100000,102700,280000,237200,410850,472000,279000,1316000,7000000,1918000,825000,119500,162000,800000,450000,118000,102000,140600,323300,247000,275000,217000,244500,114000,320000,141000,510000,173000,174000,300000,107000,260000,3000000,175400,505000,150000,150000,1225300,975000,252000,3828000,2550000,430000,145000,500000,15500000,760000,3000000,421000,132000,3000000,118400,3800000,218000,140700,1000000,162000,630000,2000000,900000,100000],\"sizemode\":\"area\",\"sizeref\":150000.0,\"symbol\":\"circle\"},\"mode\":\"markers\",\"name\":\"Found\",\"showlegend\":true,\"type\":\"scattergeo\"}],                        {\"template\":{\"data\":{\"histogram2dcontour\":[{\"type\":\"histogram2dcontour\",\"colorbar\":{\"outlinewidth\":0,\"ticks\":\"\"},\"colorscale\":[[0.0,\"#0d0887\"],[0.1111111111111111,\"#46039f\"],[0.2222222222222222,\"#7201a8\"],[0.3333333333333333,\"#9c179e\"],[0.4444444444444444,\"#bd3786\"],[0.5555555555555556,\"#d8576b\"],[0.6666666666666666,\"#ed7953\"],[0.7777777777777778,\"#fb9f3a\"],[0.8888888888888888,\"#fdca26\"],[1.0,\"#f0f921\"]]}],\"choropleth\":[{\"type\":\"choropleth\",\"colorbar\":{\"outlinewidth\":0,\"ticks\":\"\"}}],\"histogram2d\":[{\"type\":\"histogram2d\",\"colorbar\":{\"outlinewidth\":0,\"ticks\":\"\"},\"colorscale\":[[0.0,\"#0d0887\"],[0.1111111111111111,\"#46039f\"],[0.2222222222222222,\"#7201a8\"],[0.3333333333333333,\"#9c179e\"],[0.4444444444444444,\"#bd3786\"],[0.5555555555555556,\"#d8576b\"],[0.6666666666666666,\"#ed7953\"],[0.7777777777777778,\"#fb9f3a\"],[0.8888888888888888,\"#fdca26\"],[1.0,\"#f0f921\"]]}],\"heatmap\":[{\"type\":\"heatmap\",\"colorbar\":{\"outlinewidth\":0,\"ticks\":\"\"},\"colorscale\":[[0.0,\"#0d0887\"],[0.1111111111111111,\"#46039f\"],[0.2222222222222222,\"#7201a8\"],[0.3333333333333333,\"#9c179e\"],[0.4444444444444444,\"#bd3786\"],[0.5555555555555556,\"#d8576b\"],[0.6666666666666666,\"#ed7953\"],[0.7777777777777778,\"#fb9f3a\"],[0.8888888888888888,\"#fdca26\"],[1.0,\"#f0f921\"]]}],\"heatmapgl\":[{\"type\":\"heatmapgl\",\"colorbar\":{\"outlinewidth\":0,\"ticks\":\"\"},\"colorscale\":[[0.0,\"#0d0887\"],[0.1111111111111111,\"#46039f\"],[0.2222222222222222,\"#7201a8\"],[0.3333333333333333,\"#9c179e\"],[0.4444444444444444,\"#bd3786\"],[0.5555555555555556,\"#d8576b\"],[0.6666666666666666,\"#ed7953\"],[0.7777777777777778,\"#fb9f3a\"],[0.8888888888888888,\"#fdca26\"],[1.0,\"#f0f921\"]]}],\"contourcarpet\":[{\"type\":\"contourcarpet\",\"colorbar\":{\"outlinewidth\":0,\"ticks\":\"\"}}],\"contour\":[{\"type\":\"contour\",\"colorbar\":{\"outlinewidth\":0,\"ticks\":\"\"},\"colorscale\":[[0.0,\"#0d0887\"],[0.1111111111111111,\"#46039f\"],[0.2222222222222222,\"#7201a8\"],[0.3333333333333333,\"#9c179e\"],[0.4444444444444444,\"#bd3786\"],[0.5555555555555556,\"#d8576b\"],[0.6666666666666666,\"#ed7953\"],[0.7777777777777778,\"#fb9f3a\"],[0.8888888888888888,\"#fdca26\"],[1.0,\"#f0f921\"]]}],\"surface\":[{\"type\":\"surface\",\"colorbar\":{\"outlinewidth\":0,\"ticks\":\"\"},\"colorscale\":[[0.0,\"#0d0887\"],[0.1111111111111111,\"#46039f\"],[0.2222222222222222,\"#7201a8\"],[0.3333333333333333,\"#9c179e\"],[0.4444444444444444,\"#bd3786\"],[0.5555555555555556,\"#d8576b\"],[0.6666666666666666,\"#ed7953\"],[0.7777777777777778,\"#fb9f3a\"],[0.8888888888888888,\"#fdca26\"],[1.0,\"#f0f921\"]]}],\"mesh3d\":[{\"type\":\"mesh3d\",\"colorbar\":{\"outlinewidth\":0,\"ticks\":\"\"}}],\"scatter\":[{\"marker\":{\"line\":{\"color\":\"#283442\"}},\"type\":\"scatter\"}],\"parcoords\":[{\"type\":\"parcoords\",\"line\":{\"colorbar\":{\"outlinewidth\":0,\"ticks\":\"\"}}}],\"scatterpolargl\":[{\"type\":\"scatterpolargl\",\"marker\":{\"colorbar\":{\"outlinewidth\":0,\"ticks\":\"\"}}}],\"bar\":[{\"error_x\":{\"color\":\"#f2f5fa\"},\"error_y\":{\"color\":\"#f2f5fa\"},\"marker\":{\"line\":{\"color\":\"rgb(17,17,17)\",\"width\":0.5},\"pattern\":{\"fillmode\":\"overlay\",\"size\":10,\"solidity\":0.2}},\"type\":\"bar\"}],\"scattergeo\":[{\"type\":\"scattergeo\",\"marker\":{\"colorbar\":{\"outlinewidth\":0,\"ticks\":\"\"}}}],\"scatterpolar\":[{\"type\":\"scatterpolar\",\"marker\":{\"colorbar\":{\"outlinewidth\":0,\"ticks\":\"\"}}}],\"histogram\":[{\"marker\":{\"pattern\":{\"fillmode\":\"overlay\",\"size\":10,\"solidity\":0.2}},\"type\":\"histogram\"}],\"scattergl\":[{\"marker\":{\"line\":{\"color\":\"#283442\"}},\"type\":\"scattergl\"}],\"scatter3d\":[{\"type\":\"scatter3d\",\"line\":{\"colorbar\":{\"outlinewidth\":0,\"ticks\":\"\"}},\"marker\":{\"colorbar\":{\"outlinewidth\":0,\"ticks\":\"\"}}}],\"scattermapbox\":[{\"type\":\"scattermapbox\",\"marker\":{\"colorbar\":{\"outlinewidth\":0,\"ticks\":\"\"}}}],\"scatterternary\":[{\"type\":\"scatterternary\",\"marker\":{\"colorbar\":{\"outlinewidth\":0,\"ticks\":\"\"}}}],\"scattercarpet\":[{\"type\":\"scattercarpet\",\"marker\":{\"colorbar\":{\"outlinewidth\":0,\"ticks\":\"\"}}}],\"carpet\":[{\"aaxis\":{\"endlinecolor\":\"#A2B1C6\",\"gridcolor\":\"#506784\",\"linecolor\":\"#506784\",\"minorgridcolor\":\"#506784\",\"startlinecolor\":\"#A2B1C6\"},\"baxis\":{\"endlinecolor\":\"#A2B1C6\",\"gridcolor\":\"#506784\",\"linecolor\":\"#506784\",\"minorgridcolor\":\"#506784\",\"startlinecolor\":\"#A2B1C6\"},\"type\":\"carpet\"}],\"table\":[{\"cells\":{\"fill\":{\"color\":\"#506784\"},\"line\":{\"color\":\"rgb(17,17,17)\"}},\"header\":{\"fill\":{\"color\":\"#2a3f5f\"},\"line\":{\"color\":\"rgb(17,17,17)\"}},\"type\":\"table\"}],\"barpolar\":[{\"marker\":{\"line\":{\"color\":\"rgb(17,17,17)\",\"width\":0.5},\"pattern\":{\"fillmode\":\"overlay\",\"size\":10,\"solidity\":0.2}},\"type\":\"barpolar\"}],\"pie\":[{\"automargin\":true,\"type\":\"pie\"}]},\"layout\":{\"autotypenumbers\":\"strict\",\"colorway\":[\"#636efa\",\"#EF553B\",\"#00cc96\",\"#ab63fa\",\"#FFA15A\",\"#19d3f3\",\"#FF6692\",\"#B6E880\",\"#FF97FF\",\"#FECB52\"],\"font\":{\"color\":\"#f2f5fa\"},\"hovermode\":\"closest\",\"hoverlabel\":{\"align\":\"left\"},\"paper_bgcolor\":\"rgb(17,17,17)\",\"plot_bgcolor\":\"rgb(17,17,17)\",\"polar\":{\"bgcolor\":\"rgb(17,17,17)\",\"angularaxis\":{\"gridcolor\":\"#506784\",\"linecolor\":\"#506784\",\"ticks\":\"\"},\"radialaxis\":{\"gridcolor\":\"#506784\",\"linecolor\":\"#506784\",\"ticks\":\"\"}},\"ternary\":{\"bgcolor\":\"rgb(17,17,17)\",\"aaxis\":{\"gridcolor\":\"#506784\",\"linecolor\":\"#506784\",\"ticks\":\"\"},\"baxis\":{\"gridcolor\":\"#506784\",\"linecolor\":\"#506784\",\"ticks\":\"\"},\"caxis\":{\"gridcolor\":\"#506784\",\"linecolor\":\"#506784\",\"ticks\":\"\"}},\"coloraxis\":{\"colorbar\":{\"outlinewidth\":0,\"ticks\":\"\"}},\"colorscale\":{\"sequential\":[[0.0,\"#0d0887\"],[0.1111111111111111,\"#46039f\"],[0.2222222222222222,\"#7201a8\"],[0.3333333333333333,\"#9c179e\"],[0.4444444444444444,\"#bd3786\"],[0.5555555555555556,\"#d8576b\"],[0.6666666666666666,\"#ed7953\"],[0.7777777777777778,\"#fb9f3a\"],[0.8888888888888888,\"#fdca26\"],[1.0,\"#f0f921\"]],\"sequentialminus\":[[0.0,\"#0d0887\"],[0.1111111111111111,\"#46039f\"],[0.2222222222222222,\"#7201a8\"],[0.3333333333333333,\"#9c179e\"],[0.4444444444444444,\"#bd3786\"],[0.5555555555555556,\"#d8576b\"],[0.6666666666666666,\"#ed7953\"],[0.7777777777777778,\"#fb9f3a\"],[0.8888888888888888,\"#fdca26\"],[1.0,\"#f0f921\"]],\"diverging\":[[0,\"#8e0152\"],[0.1,\"#c51b7d\"],[0.2,\"#de77ae\"],[0.3,\"#f1b6da\"],[0.4,\"#fde0ef\"],[0.5,\"#f7f7f7\"],[0.6,\"#e6f5d0\"],[0.7,\"#b8e186\"],[0.8,\"#7fbc41\"],[0.9,\"#4d9221\"],[1,\"#276419\"]]},\"xaxis\":{\"gridcolor\":\"#283442\",\"linecolor\":\"#506784\",\"ticks\":\"\",\"title\":{\"standoff\":15},\"zerolinecolor\":\"#283442\",\"automargin\":true,\"zerolinewidth\":2},\"yaxis\":{\"gridcolor\":\"#283442\",\"linecolor\":\"#506784\",\"ticks\":\"\",\"title\":{\"standoff\":15},\"zerolinecolor\":\"#283442\",\"automargin\":true,\"zerolinewidth\":2},\"scene\":{\"xaxis\":{\"backgroundcolor\":\"rgb(17,17,17)\",\"gridcolor\":\"#506784\",\"linecolor\":\"#506784\",\"showbackground\":true,\"ticks\":\"\",\"zerolinecolor\":\"#C8D4E3\",\"gridwidth\":2},\"yaxis\":{\"backgroundcolor\":\"rgb(17,17,17)\",\"gridcolor\":\"#506784\",\"linecolor\":\"#506784\",\"showbackground\":true,\"ticks\":\"\",\"zerolinecolor\":\"#C8D4E3\",\"gridwidth\":2},\"zaxis\":{\"backgroundcolor\":\"rgb(17,17,17)\",\"gridcolor\":\"#506784\",\"linecolor\":\"#506784\",\"showbackground\":true,\"ticks\":\"\",\"zerolinecolor\":\"#C8D4E3\",\"gridwidth\":2}},\"shapedefaults\":{\"line\":{\"color\":\"#f2f5fa\"}},\"annotationdefaults\":{\"arrowcolor\":\"#f2f5fa\",\"arrowhead\":0,\"arrowwidth\":1},\"geo\":{\"bgcolor\":\"rgb(17,17,17)\",\"landcolor\":\"rgb(17,17,17)\",\"subunitcolor\":\"#506784\",\"showland\":true,\"showlakes\":true,\"lakecolor\":\"rgb(17,17,17)\"},\"title\":{\"x\":0.05},\"updatemenudefaults\":{\"bgcolor\":\"#506784\",\"borderwidth\":0},\"sliderdefaults\":{\"bgcolor\":\"#C8D4E3\",\"borderwidth\":1,\"bordercolor\":\"rgb(17,17,17)\",\"tickwidth\":0},\"mapbox\":{\"style\":\"dark\"}}},\"geo\":{\"domain\":{\"x\":[0.0,1.0],\"y\":[0.0,1.0]},\"center\":{}},\"legend\":{\"title\":{\"text\":\"fall\"},\"tracegroupgap\":0,\"itemsizing\":\"constant\"},\"title\":{\"text\":\"Meteorite Landings\"}},                        {\"responsive\": true}                    ).then(function(){\n",
       "                            \n",
       "var gd = document.getElementById('63a5576c-2ce1-4383-984c-cfb8a45b802b');\n",
       "var x = new MutationObserver(function (mutations, observer) {{\n",
       "        var display = window.getComputedStyle(gd).display;\n",
       "        if (!display || display === 'none') {{\n",
       "            console.log([gd, 'removed!']);\n",
       "            Plotly.purge(gd);\n",
       "            observer.disconnect();\n",
       "        }}\n",
       "}});\n",
       "\n",
       "// Listen for the removal of the full notebook cells\n",
       "var notebookContainer = gd.closest('#notebook-container');\n",
       "if (notebookContainer) {{\n",
       "    x.observe(notebookContainer, {childList: true});\n",
       "}}\n",
       "\n",
       "// Listen for the clearing of the current output cell\n",
       "var outputEl = gd.closest('.output');\n",
       "if (outputEl) {{\n",
       "    x.observe(outputEl, {childList: true});\n",
       "}}\n",
       "\n",
       "                        })                };                });            </script>        </div>"
      ]
     },
     "metadata": {},
     "output_type": "display_data"
    }
   ],
   "execution_count": 41
  },
  {
   "cell_type": "markdown",
   "id": "3f35c5b9-7388-43af-8c1d-e349629c4982",
   "metadata": {},
   "source": [
    "## Bonus: No-code visualizations\n",
    "Workspace now has no-code visualizations! Let's try out a line plot using some pre-processed meteorite data.\n",
    "\n",
    "After loading it in, we can click \"Visualize\" on the DataFrame output and customize our plot!"
   ]
  },
  {
   "cell_type": "code",
   "id": "13488b73-3e5a-4b33-8ce7-74c848e7cbaa",
   "metadata": {
    "ExecuteTime": {
     "end_time": "2024-11-25T17:15:00.136314Z",
     "start_time": "2024-11-25T17:15:00.116117Z"
    }
   },
   "source": [
    "# Read in the csv as a DataFrame\n",
    "mass = pd.read_csv(\"average_meteorite_mass.csv\")\n",
    "\n",
    "# Preview the DataFrame\n",
    "mass"
   ],
   "outputs": [
    {
     "data": {
      "text/plain": [
       "          year   fall           mass\n",
       "0   1990-01-01   Fell   44276.325000\n",
       "1   1990-01-01  Found     508.334716\n",
       "2   1991-01-01   Fell   27186.140000\n",
       "3   1991-01-01  Found     708.811344\n",
       "4   1992-01-01   Fell   56316.666667\n",
       "5   1992-01-01  Found    7191.786377\n",
       "6   1993-01-01   Fell   14866.500000\n",
       "7   1993-01-01  Found     100.885063\n",
       "8   1994-01-01   Fell   15751.500000\n",
       "9   1994-01-01  Found     837.276032\n",
       "10  1995-01-01   Fell   22923.333333\n",
       "11  1995-01-01  Found    2622.111298\n",
       "12  1996-01-01   Fell   11199.860000\n",
       "13  1996-01-01  Found     605.017684\n",
       "14  1997-01-01   Fell   34284.933333\n",
       "15  1997-01-01  Found     450.130419\n",
       "16  1998-01-01   Fell  153396.677778\n",
       "17  1998-01-01  Found     204.701481\n",
       "18  1999-01-01   Fell    5345.057143\n",
       "19  1999-01-01  Found     439.551518\n",
       "20  2000-01-01   Fell    5444.333333\n",
       "21  2000-01-01  Found    3102.472150\n",
       "22  2001-01-01   Fell    9900.000000\n",
       "23  2001-01-01  Found    1145.000331\n",
       "24  2002-01-01   Fell   15332.000000\n",
       "25  2002-01-01  Found    1121.862487\n",
       "26  2003-01-01   Fell    9217.433333\n",
       "27  2003-01-01  Found     569.529541\n",
       "28  2004-01-01   Fell    5978.166667\n",
       "29  2004-01-01  Found    2664.456096\n",
       "30  2005-01-01  Found    2172.607052\n",
       "31  2006-01-01   Fell    8844.600000\n",
       "32  2006-01-01  Found    2254.657648\n",
       "33  2007-01-01   Fell   21944.801250\n",
       "34  2007-01-01  Found     455.864494\n",
       "35  2008-01-01   Fell   30941.444444\n",
       "36  2008-01-01  Found    1318.879697\n",
       "37  2009-01-01   Fell    3109.310000\n",
       "38  2009-01-01  Found     981.739115\n",
       "39  2010-01-01   Fell    2056.373333\n",
       "40  2010-01-01  Found     613.864229\n",
       "41  2011-01-01   Fell    6466.250000\n",
       "42  2011-01-01  Found    1107.750283\n",
       "43  2012-01-01   Fell    1946.250000\n",
       "44  2012-01-01  Found     970.307352"
      ],
      "text/html": [
       "<div>\n",
       "<style scoped>\n",
       "    .dataframe tbody tr th:only-of-type {\n",
       "        vertical-align: middle;\n",
       "    }\n",
       "\n",
       "    .dataframe tbody tr th {\n",
       "        vertical-align: top;\n",
       "    }\n",
       "\n",
       "    .dataframe thead th {\n",
       "        text-align: right;\n",
       "    }\n",
       "</style>\n",
       "<table border=\"1\" class=\"dataframe\">\n",
       "  <thead>\n",
       "    <tr style=\"text-align: right;\">\n",
       "      <th></th>\n",
       "      <th>year</th>\n",
       "      <th>fall</th>\n",
       "      <th>mass</th>\n",
       "    </tr>\n",
       "  </thead>\n",
       "  <tbody>\n",
       "    <tr>\n",
       "      <th>0</th>\n",
       "      <td>1990-01-01</td>\n",
       "      <td>Fell</td>\n",
       "      <td>44276.325000</td>\n",
       "    </tr>\n",
       "    <tr>\n",
       "      <th>1</th>\n",
       "      <td>1990-01-01</td>\n",
       "      <td>Found</td>\n",
       "      <td>508.334716</td>\n",
       "    </tr>\n",
       "    <tr>\n",
       "      <th>2</th>\n",
       "      <td>1991-01-01</td>\n",
       "      <td>Fell</td>\n",
       "      <td>27186.140000</td>\n",
       "    </tr>\n",
       "    <tr>\n",
       "      <th>3</th>\n",
       "      <td>1991-01-01</td>\n",
       "      <td>Found</td>\n",
       "      <td>708.811344</td>\n",
       "    </tr>\n",
       "    <tr>\n",
       "      <th>4</th>\n",
       "      <td>1992-01-01</td>\n",
       "      <td>Fell</td>\n",
       "      <td>56316.666667</td>\n",
       "    </tr>\n",
       "    <tr>\n",
       "      <th>5</th>\n",
       "      <td>1992-01-01</td>\n",
       "      <td>Found</td>\n",
       "      <td>7191.786377</td>\n",
       "    </tr>\n",
       "    <tr>\n",
       "      <th>6</th>\n",
       "      <td>1993-01-01</td>\n",
       "      <td>Fell</td>\n",
       "      <td>14866.500000</td>\n",
       "    </tr>\n",
       "    <tr>\n",
       "      <th>7</th>\n",
       "      <td>1993-01-01</td>\n",
       "      <td>Found</td>\n",
       "      <td>100.885063</td>\n",
       "    </tr>\n",
       "    <tr>\n",
       "      <th>8</th>\n",
       "      <td>1994-01-01</td>\n",
       "      <td>Fell</td>\n",
       "      <td>15751.500000</td>\n",
       "    </tr>\n",
       "    <tr>\n",
       "      <th>9</th>\n",
       "      <td>1994-01-01</td>\n",
       "      <td>Found</td>\n",
       "      <td>837.276032</td>\n",
       "    </tr>\n",
       "    <tr>\n",
       "      <th>10</th>\n",
       "      <td>1995-01-01</td>\n",
       "      <td>Fell</td>\n",
       "      <td>22923.333333</td>\n",
       "    </tr>\n",
       "    <tr>\n",
       "      <th>11</th>\n",
       "      <td>1995-01-01</td>\n",
       "      <td>Found</td>\n",
       "      <td>2622.111298</td>\n",
       "    </tr>\n",
       "    <tr>\n",
       "      <th>12</th>\n",
       "      <td>1996-01-01</td>\n",
       "      <td>Fell</td>\n",
       "      <td>11199.860000</td>\n",
       "    </tr>\n",
       "    <tr>\n",
       "      <th>13</th>\n",
       "      <td>1996-01-01</td>\n",
       "      <td>Found</td>\n",
       "      <td>605.017684</td>\n",
       "    </tr>\n",
       "    <tr>\n",
       "      <th>14</th>\n",
       "      <td>1997-01-01</td>\n",
       "      <td>Fell</td>\n",
       "      <td>34284.933333</td>\n",
       "    </tr>\n",
       "    <tr>\n",
       "      <th>15</th>\n",
       "      <td>1997-01-01</td>\n",
       "      <td>Found</td>\n",
       "      <td>450.130419</td>\n",
       "    </tr>\n",
       "    <tr>\n",
       "      <th>16</th>\n",
       "      <td>1998-01-01</td>\n",
       "      <td>Fell</td>\n",
       "      <td>153396.677778</td>\n",
       "    </tr>\n",
       "    <tr>\n",
       "      <th>17</th>\n",
       "      <td>1998-01-01</td>\n",
       "      <td>Found</td>\n",
       "      <td>204.701481</td>\n",
       "    </tr>\n",
       "    <tr>\n",
       "      <th>18</th>\n",
       "      <td>1999-01-01</td>\n",
       "      <td>Fell</td>\n",
       "      <td>5345.057143</td>\n",
       "    </tr>\n",
       "    <tr>\n",
       "      <th>19</th>\n",
       "      <td>1999-01-01</td>\n",
       "      <td>Found</td>\n",
       "      <td>439.551518</td>\n",
       "    </tr>\n",
       "    <tr>\n",
       "      <th>20</th>\n",
       "      <td>2000-01-01</td>\n",
       "      <td>Fell</td>\n",
       "      <td>5444.333333</td>\n",
       "    </tr>\n",
       "    <tr>\n",
       "      <th>21</th>\n",
       "      <td>2000-01-01</td>\n",
       "      <td>Found</td>\n",
       "      <td>3102.472150</td>\n",
       "    </tr>\n",
       "    <tr>\n",
       "      <th>22</th>\n",
       "      <td>2001-01-01</td>\n",
       "      <td>Fell</td>\n",
       "      <td>9900.000000</td>\n",
       "    </tr>\n",
       "    <tr>\n",
       "      <th>23</th>\n",
       "      <td>2001-01-01</td>\n",
       "      <td>Found</td>\n",
       "      <td>1145.000331</td>\n",
       "    </tr>\n",
       "    <tr>\n",
       "      <th>24</th>\n",
       "      <td>2002-01-01</td>\n",
       "      <td>Fell</td>\n",
       "      <td>15332.000000</td>\n",
       "    </tr>\n",
       "    <tr>\n",
       "      <th>25</th>\n",
       "      <td>2002-01-01</td>\n",
       "      <td>Found</td>\n",
       "      <td>1121.862487</td>\n",
       "    </tr>\n",
       "    <tr>\n",
       "      <th>26</th>\n",
       "      <td>2003-01-01</td>\n",
       "      <td>Fell</td>\n",
       "      <td>9217.433333</td>\n",
       "    </tr>\n",
       "    <tr>\n",
       "      <th>27</th>\n",
       "      <td>2003-01-01</td>\n",
       "      <td>Found</td>\n",
       "      <td>569.529541</td>\n",
       "    </tr>\n",
       "    <tr>\n",
       "      <th>28</th>\n",
       "      <td>2004-01-01</td>\n",
       "      <td>Fell</td>\n",
       "      <td>5978.166667</td>\n",
       "    </tr>\n",
       "    <tr>\n",
       "      <th>29</th>\n",
       "      <td>2004-01-01</td>\n",
       "      <td>Found</td>\n",
       "      <td>2664.456096</td>\n",
       "    </tr>\n",
       "    <tr>\n",
       "      <th>30</th>\n",
       "      <td>2005-01-01</td>\n",
       "      <td>Found</td>\n",
       "      <td>2172.607052</td>\n",
       "    </tr>\n",
       "    <tr>\n",
       "      <th>31</th>\n",
       "      <td>2006-01-01</td>\n",
       "      <td>Fell</td>\n",
       "      <td>8844.600000</td>\n",
       "    </tr>\n",
       "    <tr>\n",
       "      <th>32</th>\n",
       "      <td>2006-01-01</td>\n",
       "      <td>Found</td>\n",
       "      <td>2254.657648</td>\n",
       "    </tr>\n",
       "    <tr>\n",
       "      <th>33</th>\n",
       "      <td>2007-01-01</td>\n",
       "      <td>Fell</td>\n",
       "      <td>21944.801250</td>\n",
       "    </tr>\n",
       "    <tr>\n",
       "      <th>34</th>\n",
       "      <td>2007-01-01</td>\n",
       "      <td>Found</td>\n",
       "      <td>455.864494</td>\n",
       "    </tr>\n",
       "    <tr>\n",
       "      <th>35</th>\n",
       "      <td>2008-01-01</td>\n",
       "      <td>Fell</td>\n",
       "      <td>30941.444444</td>\n",
       "    </tr>\n",
       "    <tr>\n",
       "      <th>36</th>\n",
       "      <td>2008-01-01</td>\n",
       "      <td>Found</td>\n",
       "      <td>1318.879697</td>\n",
       "    </tr>\n",
       "    <tr>\n",
       "      <th>37</th>\n",
       "      <td>2009-01-01</td>\n",
       "      <td>Fell</td>\n",
       "      <td>3109.310000</td>\n",
       "    </tr>\n",
       "    <tr>\n",
       "      <th>38</th>\n",
       "      <td>2009-01-01</td>\n",
       "      <td>Found</td>\n",
       "      <td>981.739115</td>\n",
       "    </tr>\n",
       "    <tr>\n",
       "      <th>39</th>\n",
       "      <td>2010-01-01</td>\n",
       "      <td>Fell</td>\n",
       "      <td>2056.373333</td>\n",
       "    </tr>\n",
       "    <tr>\n",
       "      <th>40</th>\n",
       "      <td>2010-01-01</td>\n",
       "      <td>Found</td>\n",
       "      <td>613.864229</td>\n",
       "    </tr>\n",
       "    <tr>\n",
       "      <th>41</th>\n",
       "      <td>2011-01-01</td>\n",
       "      <td>Fell</td>\n",
       "      <td>6466.250000</td>\n",
       "    </tr>\n",
       "    <tr>\n",
       "      <th>42</th>\n",
       "      <td>2011-01-01</td>\n",
       "      <td>Found</td>\n",
       "      <td>1107.750283</td>\n",
       "    </tr>\n",
       "    <tr>\n",
       "      <th>43</th>\n",
       "      <td>2012-01-01</td>\n",
       "      <td>Fell</td>\n",
       "      <td>1946.250000</td>\n",
       "    </tr>\n",
       "    <tr>\n",
       "      <th>44</th>\n",
       "      <td>2012-01-01</td>\n",
       "      <td>Found</td>\n",
       "      <td>970.307352</td>\n",
       "    </tr>\n",
       "  </tbody>\n",
       "</table>\n",
       "</div>"
      ]
     },
     "execution_count": 42,
     "metadata": {},
     "output_type": "execute_result"
    }
   ],
   "execution_count": 42
  }
 ],
 "metadata": {
  "kernelspec": {
   "display_name": "Python 3 (ipykernel)",
   "language": "python",
   "name": "python3"
  },
  "language_info": {
   "codemirror_mode": {
    "name": "ipython",
    "version": 3
   },
   "file_extension": ".py",
   "mimetype": "text/x-python",
   "name": "python",
   "nbconvert_exporter": "python",
   "pygments_lexer": "ipython3",
   "version": "3.10.9"
  }
 },
 "nbformat": 4,
 "nbformat_minor": 5
}
